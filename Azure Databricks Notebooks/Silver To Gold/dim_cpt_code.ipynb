{
 "cells": [
  {
   "cell_type": "code",
   "execution_count": 0,
   "metadata": {
    "application/vnd.databricks.v1+cell": {
     "cellMetadata": {
      "byteLimit": 2048000,
      "implicitDf": true,
      "rowLimit": 10000
     },
     "inputWidgets": {},
     "nuid": "bd72330f-b9f1-4a8d-bb9d-80e950f45341",
     "showTitle": false,
     "tableResultSettingsMap": {},
     "title": ""
    }
   },
   "outputs": [
    {
     "output_type": "display_data",
     "data": {
      "text/html": [
       "<style scoped>\n",
       "  .table-result-container {\n",
       "    max-height: 300px;\n",
       "    overflow: auto;\n",
       "  }\n",
       "  table, th, td {\n",
       "    border: 1px solid black;\n",
       "    border-collapse: collapse;\n",
       "  }\n",
       "  th, td {\n",
       "    padding: 5px;\n",
       "  }\n",
       "  th {\n",
       "    text-align: left;\n",
       "  }\n",
       "</style><div class='table-result-container'><table class='table-result'><thead style='background-color: white'><tr></tr></thead><tbody></tbody></table></div>"
      ]
     },
     "metadata": {
      "application/vnd.databricks.v1+output": {
       "addedWidgets": {},
       "aggData": [],
       "aggError": "",
       "aggOverflow": false,
       "aggSchema": [],
       "aggSeriesLimitReached": false,
       "aggType": "",
       "arguments": {},
       "columnCustomDisplayInfos": {},
       "data": [],
       "datasetInfos": [],
       "dbfsResultPath": null,
       "isJsonSchema": true,
       "metadata": {
        "dataframeName": null
       },
       "overflow": false,
       "plotOptions": {
        "customPlotOptions": {},
        "displayType": "table",
        "pivotAggregation": null,
        "pivotColumns": null,
        "xColumns": null,
        "yColumns": null
       },
       "removedWidgets": [],
       "schema": [],
       "type": "table"
      }
     },
     "output_type": "display_data"
    }
   ],
   "source": [
    "%sql\n",
    "CREATE TABLE IF NOT EXISTS gold.dim_cpt_code\n",
    "(\n",
    "cpt_codes string,\n",
    "procedure_code_category string,\n",
    "procedure_code_descriptions string,\n",
    "code_status string,\n",
    "refreshed_at timestamp\n",
    ")"
   ]
  },
  {
   "cell_type": "code",
   "execution_count": 0,
   "metadata": {
    "application/vnd.databricks.v1+cell": {
     "cellMetadata": {
      "byteLimit": 2048000,
      "implicitDf": true,
      "rowLimit": 10000
     },
     "inputWidgets": {},
     "nuid": "8903bbbe-1fbc-47c6-8f7e-332c57cc4ce4",
     "showTitle": false,
     "tableResultSettingsMap": {},
     "title": ""
    }
   },
   "outputs": [
    {
     "output_type": "display_data",
     "data": {
      "text/html": [
       "<style scoped>\n",
       "  .table-result-container {\n",
       "    max-height: 300px;\n",
       "    overflow: auto;\n",
       "  }\n",
       "  table, th, td {\n",
       "    border: 1px solid black;\n",
       "    border-collapse: collapse;\n",
       "  }\n",
       "  th, td {\n",
       "    padding: 5px;\n",
       "  }\n",
       "  th {\n",
       "    text-align: left;\n",
       "  }\n",
       "</style><div class='table-result-container'><table class='table-result'><thead style='background-color: white'><tr></tr></thead><tbody></tbody></table></div>"
      ]
     },
     "metadata": {
      "application/vnd.databricks.v1+output": {
       "addedWidgets": {},
       "aggData": [],
       "aggError": "",
       "aggOverflow": false,
       "aggSchema": [],
       "aggSeriesLimitReached": false,
       "aggType": "",
       "arguments": {},
       "columnCustomDisplayInfos": {},
       "data": [],
       "datasetInfos": [],
       "dbfsResultPath": null,
       "isJsonSchema": true,
       "metadata": {
        "dataframeName": null
       },
       "overflow": false,
       "plotOptions": {
        "customPlotOptions": {},
        "displayType": "table",
        "pivotAggregation": null,
        "pivotColumns": null,
        "xColumns": null,
        "yColumns": null
       },
       "removedWidgets": [],
       "schema": [],
       "type": "table"
      }
     },
     "output_type": "display_data"
    }
   ],
   "source": [
    "%sql \n",
    "truncate TABLE gold.dim_cpt_code "
   ]
  },
  {
   "cell_type": "code",
   "execution_count": 0,
   "metadata": {
    "application/vnd.databricks.v1+cell": {
     "cellMetadata": {
      "byteLimit": 2048000,
      "implicitDf": true,
      "rowLimit": 10000
     },
     "inputWidgets": {},
     "nuid": "ffd2ff8e-7963-4b84-90fd-7289b2ede3ec",
     "showTitle": false,
     "tableResultSettingsMap": {},
     "title": ""
    }
   },
   "outputs": [
    {
     "output_type": "display_data",
     "data": {
      "text/html": [
       "<style scoped>\n",
       "  .table-result-container {\n",
       "    max-height: 300px;\n",
       "    overflow: auto;\n",
       "  }\n",
       "  table, th, td {\n",
       "    border: 1px solid black;\n",
       "    border-collapse: collapse;\n",
       "  }\n",
       "  th, td {\n",
       "    padding: 5px;\n",
       "  }\n",
       "  th {\n",
       "    text-align: left;\n",
       "  }\n",
       "</style><div class='table-result-container'><table class='table-result'><thead style='background-color: white'><tr><th>num_affected_rows</th><th>num_inserted_rows</th></tr></thead><tbody><tr><td>1161</td><td>1161</td></tr></tbody></table></div>"
      ]
     },
     "metadata": {
      "application/vnd.databricks.v1+output": {
       "addedWidgets": {},
       "aggData": [],
       "aggError": "",
       "aggOverflow": false,
       "aggSchema": [],
       "aggSeriesLimitReached": false,
       "aggType": "",
       "arguments": {},
       "columnCustomDisplayInfos": {},
       "data": [
        [
         1161,
         1161
        ]
       ],
       "datasetInfos": [],
       "dbfsResultPath": null,
       "isJsonSchema": true,
       "metadata": {
        "createTempViewForImplicitDf": true,
        "dataframeName": "_sqldf",
        "executionCount": 1
       },
       "overflow": false,
       "plotOptions": {
        "customPlotOptions": {},
        "displayType": "table",
        "pivotAggregation": null,
        "pivotColumns": null,
        "xColumns": null,
        "yColumns": null
       },
       "removedWidgets": [],
       "schema": [
        {
         "metadata": "{}",
         "name": "num_affected_rows",
         "type": "\"long\""
        },
        {
         "metadata": "{}",
         "name": "num_inserted_rows",
         "type": "\"long\""
        }
       ],
       "type": "table"
      }
     },
     "output_type": "display_data"
    }
   ],
   "source": [
    "%sql\n",
    "insert into gold.dim_cpt_code\n",
    "select \n",
    "cpt_codes,\n",
    "procedure_code_category,\n",
    "procedure_code_descriptions ,\n",
    "code_status,\n",
    "current_timestamp() as refreshed_at\n",
    "from silver.cptcodes\n",
    "where is_quarantined=false and is_current=true"
   ]
  },
  {
   "cell_type": "code",
   "execution_count": 0,
   "metadata": {
    "application/vnd.databricks.v1+cell": {
     "cellMetadata": {
      "byteLimit": 2048000,
      "implicitDf": true,
      "rowLimit": 10000
     },
     "inputWidgets": {},
     "nuid": "4347527c-309a-4a4f-a663-aef69ca3836f",
     "showTitle": false,
     "tableResultSettingsMap": {},
     "title": ""
    }
   },
   "outputs": [
    {
     "output_type": "display_data",
     "data": {
      "text/html": [
       "<style scoped>\n",
       "  .table-result-container {\n",
       "    max-height: 300px;\n",
       "    overflow: auto;\n",
       "  }\n",
       "  table, th, td {\n",
       "    border: 1px solid black;\n",
       "    border-collapse: collapse;\n",
       "  }\n",
       "  th, td {\n",
       "    padding: 5px;\n",
       "  }\n",
       "  th {\n",
       "    text-align: left;\n",
       "  }\n",
       "</style><div class='table-result-container'><table class='table-result'><thead style='background-color: white'><tr><th>cpt_codes</th><th>procedure_code_category</th><th>procedure_code_descriptions</th><th>code_status</th><th>refreshed_at</th></tr></thead><tbody><tr><td>34830</td><td>AAA</td><td>Open repair of infrarenal aortic aneurysm or dissection, plus repair of associated arterial trauma, following unsuccessful endovascular repair; tube prosthesis  </td><td>No Change</td><td>2025-04-02T07:21:28.487Z</td></tr><tr><td>34831</td><td>AAA</td><td>Open repair of infrarenal aortic aneurysm or dissection, plus repair of associated arterial trauma, following unsuccessful endovascular repair; aorto-bi-iliac prosthesis </td><td>No Change</td><td>2025-04-02T07:21:28.487Z</td></tr><tr><td>34832</td><td>AAA</td><td>Open repair of infrarenal aortic aneurysm or dissection, plus repair of associated arterial trauma, following unsuccessful endovascular repair; aorto-bifemoral prosthesis  </td><td>No Change</td><td>2025-04-02T07:21:28.487Z</td></tr><tr><td>35081</td><td>AAA</td><td>Direct repair of aneurysm, pseudoaneurysm, or excision (partial or total) and graft insertion, with or without patch graft; for aneurysm, pseudoaneurysm, and associated occlusive disease, abdominal aorta</td><td>No Change</td><td>2025-04-02T07:21:28.487Z</td></tr><tr><td>35082</td><td>AAA</td><td>Direct repair of aneurysm, pseudoaneurysm, or excision (partial or total) and graft insertion, with or without patch graft; for ruptured aneurysm, abdominal aorta  </td><td>No Change</td><td>2025-04-02T07:21:28.487Z</td></tr><tr><td>35091</td><td>AAA</td><td>Direct repair of aneurysm, pseudoaneurysm, or excision (partial or total) and graft insertion, with or without patch graft; for aneurysm, pseudoaneurysm, and associated occlusive disease, abdominal aorta involving visceral vessels (mesenteric, celiac, renal) </td><td>No Change</td><td>2025-04-02T07:21:28.487Z</td></tr><tr><td>35092</td><td>AAA</td><td>Direct repair of aneurysm, pseudoaneurysm, or excision (partial or total) and graft insertion, with or without patch graft; for ruptured aneurysm, abdominal aorta involving visceral vessels (mesenteric, celiac, renal)  </td><td>No Change</td><td>2025-04-02T07:21:28.487Z</td></tr><tr><td>35102</td><td>AAA</td><td>Direct repair of aneurysm, pseudoaneurysm, or excision (partial or total) and graft insertion, with or without patch graft; for aneurysm, pseudoaneurysm, and associated occlusive disease, abdominal aorta involving iliac vessels (common, hypogastric, external)  </td><td>No Change</td><td>2025-04-02T07:21:28.487Z</td></tr><tr><td>35103</td><td>AAA</td><td>Direct repair of aneurysm, pseudoaneurysm, or excision (partial or total) and graft insertion, with or without patch graft; for ruptured aneurysm, abdominal aorta involving iliac vessels (common, hypogastric, external)  </td><td>No Change</td><td>2025-04-02T07:21:28.487Z</td></tr><tr><td>23900</td><td>AMP</td><td>Interthoracoscapular amputation (forequarter)</td><td>No Change</td><td>2025-04-02T07:21:28.487Z</td></tr><tr><td>23920</td><td>AMP</td><td>Disarticulation of shoulder</td><td>No Change</td><td>2025-04-02T07:21:28.487Z</td></tr><tr><td>24900</td><td>AMP</td><td>Amputation, arm through humerus; with primary closure </td><td>No Change</td><td>2025-04-02T07:21:28.487Z</td></tr><tr><td>24920</td><td>AMP</td><td>Amputation, arm through humerus; open, circular (guillotine) </td><td>No Change</td><td>2025-04-02T07:21:28.487Z</td></tr><tr><td>24930</td><td>AMP</td><td>Amputation, arm through humerus; re-amputation </td><td>No Change</td><td>2025-04-02T07:21:28.487Z</td></tr><tr><td>24931</td><td>AMP</td><td>Amputation, arm through humerus; with implant </td><td>No Change</td><td>2025-04-02T07:21:28.487Z</td></tr><tr><td>25900</td><td>AMP</td><td>Amputation, forearm, through radius and ulna</td><td>No Change</td><td>2025-04-02T07:21:28.487Z</td></tr><tr><td>25905</td><td>AMP</td><td>Amputation, forearm, through radius and ulna; open, circular (guillotine) </td><td>No Change</td><td>2025-04-02T07:21:28.487Z</td></tr><tr><td>25909</td><td>AMP</td><td>Amputation, forearm, through radius and ulna; re-amputation</td><td>No Change</td><td>2025-04-02T07:21:28.487Z</td></tr><tr><td>25920</td><td>AMP</td><td>Disarticulation through wrist</td><td>No Change</td><td>2025-04-02T07:21:28.487Z</td></tr><tr><td>25922</td><td>AMP</td><td>Disarticulation through wrist; secondary closure or scar revision </td><td>No Change</td><td>2025-04-02T07:21:28.487Z</td></tr><tr><td>25924</td><td>AMP</td><td>Disarticulation through wrist; re-amputation </td><td>No Change</td><td>2025-04-02T07:21:28.487Z</td></tr><tr><td>25927</td><td>AMP</td><td>Transmetacarpal amputation;  </td><td>No Change</td><td>2025-04-02T07:21:28.487Z</td></tr><tr><td>25929</td><td>AMP</td><td>Transmetacarpal amputation; secondary closure or scar revision </td><td>No Change</td><td>2025-04-02T07:21:28.487Z</td></tr><tr><td>25931</td><td>AMP</td><td>Transmetacarpal amputation; re-amputation </td><td>No Change</td><td>2025-04-02T07:21:28.487Z</td></tr><tr><td>26235</td><td>AMP</td><td>Partial excision (craterization, saucerization, or diaphysectomy) bone (eg, osteomyelitis); proximal or middle phalanx of finger</td><td>No Change</td><td>2025-04-02T07:21:28.487Z</td></tr><tr><td>26236</td><td>AMP</td><td>Partial excision (craterization, saucerization, or diaphysectomy) bone (eg, osteomyelitis); distal phalanx of finger</td><td>No Change</td><td>2025-04-02T07:21:28.487Z</td></tr><tr><td>26910</td><td>AMP</td><td>Amputation, metacarpal, with finger or thumb (ray amputation), single, with or without interosseous transfer </td><td>No Change</td><td>2025-04-02T07:21:28.487Z</td></tr><tr><td>26951</td><td>AMP</td><td>Amputation, finger or thumb, primary or secondary, any joint or phalanx, single, including neurectomies; with direct closure </td><td>No Change</td><td>2025-04-02T07:21:28.487Z</td></tr><tr><td>26952</td><td>AMP</td><td>Amputation, finger or thumb, primary or secondary, any joint or phalanx, single, including neurectomies; with local advancement flaps (V-Y, hood) </td><td>No Change</td><td>2025-04-02T07:21:28.487Z</td></tr><tr><td>27290</td><td>AMP</td><td>Interpelviabdominal amputation (hindquarter amputation) </td><td>No Change</td><td>2025-04-02T07:21:28.487Z</td></tr><tr><td>27295</td><td>AMP</td><td>Disarticulation of hip </td><td>No Change</td><td>2025-04-02T07:21:28.487Z</td></tr><tr><td>27590</td><td>AMP</td><td>Amputation, thigh, through femur, any level; </td><td>No Change</td><td>2025-04-02T07:21:28.487Z</td></tr><tr><td>27591</td><td>AMP</td><td>Amputation, thigh, through femur, any level; immediate fitting technique including first cast </td><td>No Change</td><td>2025-04-02T07:21:28.487Z</td></tr><tr><td>27592</td><td>AMP</td><td>Amputation, thigh, through femur, any level; open, circular (guillotine) </td><td>No Change</td><td>2025-04-02T07:21:28.487Z</td></tr><tr><td>27598</td><td>AMP</td><td>Disarticulation at knee</td><td>No Change</td><td>2025-04-02T07:21:28.487Z</td></tr><tr><td>27880</td><td>AMP</td><td>Amputation, leg, through tibia and fibula; </td><td>No Change</td><td>2025-04-02T07:21:28.487Z</td></tr><tr><td>27881</td><td>AMP</td><td>Amputation, leg, through tibia and fibula; with immediate fitting technique including application of first cast</td><td>No change</td><td>2025-04-02T07:21:28.487Z</td></tr><tr><td>27882</td><td>AMP</td><td>Amputation, leg, through tibia and fibula; open, circular (guillotine) </td><td>No Change</td><td>2025-04-02T07:21:28.487Z</td></tr><tr><td>27884</td><td>AMP</td><td>Amputation, leg, through tibia and fibula; secondary closure or scar revision </td><td>No Change</td><td>2025-04-02T07:21:28.487Z</td></tr><tr><td>27886</td><td>AMP</td><td>Amputation, leg, through tibia and fibula; re-amputation </td><td>No Change</td><td>2025-04-02T07:21:28.487Z</td></tr><tr><td>27888</td><td>AMP</td><td>Amputation, ankle, through malleoli of tibia and fibula (e.g., Syme, Pirogoff type procedures), with plastic closure and resection of nerves </td><td>No Change</td><td>2025-04-02T07:21:28.487Z</td></tr><tr><td>27889</td><td>AMP</td><td>Ankle disarticulation </td><td>No Change</td><td>2025-04-02T07:21:28.487Z</td></tr><tr><td>28124</td><td>AMP</td><td>Partial excision (craterization, saucerization, sequestrectomy, or diaphysectomy) bone (eg, osteomyelitis or bossing); phalanx of toe</td><td>No Change</td><td>2025-04-02T07:21:28.487Z</td></tr><tr><td>28126</td><td>AMP</td><td>Resection, partial or complete, phalangeal base, each toe</td><td>No Change</td><td>2025-04-02T07:21:28.487Z</td></tr><tr><td>28160</td><td>AMP</td><td>Hemiphalangectomy or interphalangeal joint excision, toe, proximal end of phalanx, each</td><td>No Change</td><td>2025-04-02T07:21:28.487Z</td></tr><tr><td>28800</td><td>AMP</td><td>Amputation, foot; midtarsal (e.g., Chopart type procedure) </td><td>No Change</td><td>2025-04-02T07:21:28.487Z</td></tr><tr><td>28805</td><td>AMP</td><td>Amputation, foot; transmetatarsal </td><td>No Change</td><td>2025-04-02T07:21:28.487Z</td></tr><tr><td>28810</td><td>AMP</td><td>Amputation, metatarsal, with toe, single </td><td>No Change</td><td>2025-04-02T07:21:28.487Z</td></tr><tr><td>28820</td><td>AMP</td><td>Amputation, toe; metatarsophalangeal joint </td><td>No Change</td><td>2025-04-02T07:21:28.487Z</td></tr><tr><td>28825</td><td>AMP</td><td>Amputation, toe; interphalangeal joint </td><td>No Change</td><td>2025-04-02T07:21:28.487Z</td></tr><tr><td>44900</td><td>APPY</td><td>Incision and drainage of appendiceal abscess, open</td><td>No Change</td><td>2025-04-02T07:21:28.487Z</td></tr><tr><td>44950</td><td>APPY</td><td>Appendectomy</td><td>No Change</td><td>2025-04-02T07:21:28.487Z</td></tr><tr><td>44955</td><td>APPY</td><td>Appendectomy; when done for indicated purpose at time of other major procedure (not as separate procedure) (List separately in No changeition to code for primary procedure) </td><td>No Change</td><td>2025-04-02T07:21:28.487Z</td></tr><tr><td>44960</td><td>APPY</td><td>Appendectomy; for ruptured appendix with abscess or generalized peritonitis </td><td>No Change</td><td>2025-04-02T07:21:28.487Z</td></tr><tr><td>44970</td><td>APPY</td><td>Laparoscopy, surgical, appendectomy </td><td>No Change</td><td>2025-04-02T07:21:28.487Z</td></tr><tr><td>44979</td><td>APPY</td><td>Unlisted laparoscopy procedure, appendix </td><td>No Change</td><td>2025-04-02T07:21:28.487Z</td></tr><tr><td>36800</td><td>AVSD</td><td>Insertion of cannula for hemodialysis, other purpose (separate procedure); vein to vein </td><td>No Change</td><td>2025-04-02T07:21:28.487Z</td></tr><tr><td>36810</td><td>AVSD</td><td>Insertion of cannula for hemodialysis, other purpose (separate procedure); arteriovenous, external (Scribner type) </td><td>No Change</td><td>2025-04-02T07:21:28.487Z</td></tr><tr><td>36815</td><td>AVSD</td><td>Insertion of cannula for hemodialysis, other purpose (separate procedure); arteriovenous, external revision, or closure </td><td>No Change</td><td>2025-04-02T07:21:28.487Z</td></tr><tr><td>36818</td><td>AVSD</td><td>Arteriovenous anastomosis, open; by upper arm cephalic vein transposition </td><td>No Change</td><td>2025-04-02T07:21:28.487Z</td></tr><tr><td>36819</td><td>AVSD</td><td>Arteriovenous anastomosis, open; by upper arm basilic vein transposition </td><td>No Change</td><td>2025-04-02T07:21:28.487Z</td></tr><tr><td>36820</td><td>AVSD</td><td>Arteriovenous anastomosis, open; by forearm vein transposition </td><td>No Change</td><td>2025-04-02T07:21:28.487Z</td></tr><tr><td>36821</td><td>AVSD</td><td>Arteriovenous anastomosis, open; direct, any site (e.g., Cimino type) (separate procedure) </td><td>No Change</td><td>2025-04-02T07:21:28.487Z</td></tr><tr><td>36825</td><td>AVSD</td><td>Creation of arteriovenous fistula by other than direct arteriovenous anastomosis (separate procedure); autogenous graft </td><td>No Change</td><td>2025-04-02T07:21:28.487Z</td></tr><tr><td>36830</td><td>AVSD</td><td>Creation of arteriovenous fistula by other than direct arteriovenous anastomosis (separate procedure); non autogenous graft </td><td>No Change</td><td>2025-04-02T07:21:28.487Z</td></tr><tr><td>36832</td><td>AVSD</td><td>Revision, open, arteriovenous fistula; without thrombectomy, autogenous or nonautogenous dialysis graft (separate procedure)</td><td>No Change</td><td>2025-04-02T07:21:28.487Z</td></tr><tr><td>36833</td><td>AVSD</td><td>Revision, open, arteriovenous fistula; with thrombectomy, autogenous or nonautogenous dialysis graft (separate procedure)</td><td>No Change</td><td>2025-04-02T07:21:28.487Z</td></tr><tr><td>36838</td><td>AVSD</td><td>Distal revascularization and interval ligation (DRIL), upper extremity hemodialysis access (steal syndrome) </td><td>No Change</td><td>2025-04-02T07:21:28.487Z</td></tr><tr><td>47010</td><td>BILI</td><td>Hepatotomy; for open drainage of abscess or cyst, 1 or 2 stages </td><td>No Change</td><td>2025-04-02T07:21:28.487Z</td></tr><tr><td>47015</td><td>BILI</td><td>Laparotomy, with aspiration and/or injection of hepatic parasitic (eg, amoebic or echinococcal) cyst(s) or abscess(es </td><td>No Change</td><td>2025-04-02T07:21:28.487Z</td></tr><tr><td>47100</td><td>BILI</td><td>Biopsy of liver, wedge </td><td>No Change</td><td>2025-04-02T07:21:28.487Z</td></tr><tr><td>47120</td><td>BILI</td><td>Hepatectomy, resection of liver; partial lobectomy </td><td>No Change</td><td>2025-04-02T07:21:28.487Z</td></tr><tr><td>47122</td><td>BILI</td><td>Hepatectomy, resection of liver; trisegmentectomy </td><td>No Change</td><td>2025-04-02T07:21:28.487Z</td></tr><tr><td>47125</td><td>BILI</td><td>Hepatectomy, resection of liver; total left lobectomy </td><td>No Change</td><td>2025-04-02T07:21:28.487Z</td></tr><tr><td>47130</td><td>BILI</td><td>Hepatectomy, resection of liver; total right lobectomy </td><td>No Change</td><td>2025-04-02T07:21:28.487Z</td></tr><tr><td>47140</td><td>BILI</td><td>Donor hepatectomy (including cold preservation), from living donor; left lateral segment only (segments II and III) </td><td>No Change</td><td>2025-04-02T07:21:28.487Z</td></tr><tr><td>47141</td><td>BILI</td><td>Donor hepatectomy (including cold preservation), from living donor; total left lobectomy (segments II, III and IV) </td><td>No Change</td><td>2025-04-02T07:21:28.487Z</td></tr><tr><td>47142</td><td>BILI</td><td>Donor hepatectomy (including cold preservation), from living donor; total right lobectomy (segments V, VI, VII and VIII) </td><td>No Change</td><td>2025-04-02T07:21:28.487Z</td></tr><tr><td>47300</td><td>BILI</td><td>Marsupialization of cyst or abscess of liver </td><td>No Change</td><td>2025-04-02T07:21:28.487Z</td></tr><tr><td>47350</td><td>BILI</td><td>Management of liver hemorrhage; simple suture of liver wound or injury </td><td>No Change</td><td>2025-04-02T07:21:28.487Z</td></tr><tr><td>47360</td><td>BILI</td><td>Management of liver hemorrhage; complex suture of liver wound or injury, with or without hepatic artery ligatio</td><td>No Change</td><td>2025-04-02T07:21:28.487Z</td></tr><tr><td>47361</td><td>BILI</td><td>Management of liver hemorrhage; exploration of hepatic wound, extensive debridement, coagulation and/or suture, with or without packing of liver </td><td>No Change</td><td>2025-04-02T07:21:28.487Z</td></tr><tr><td>47362</td><td>BILI</td><td>Management of liver hemorrhage; re-exploration of hepatic wound for removal of packing </td><td>No Change</td><td>2025-04-02T07:21:28.487Z</td></tr><tr><td>47370</td><td>BILI</td><td>Laparoscopy, surgical, ablation of 1 or more liver tumor(s); radiofrequency </td><td>No Change</td><td>2025-04-02T07:21:28.487Z</td></tr><tr><td>47371</td><td>BILI</td><td>Laparoscopy, surgical, ablation of 1 or more liver tumor(s); cryosurgical </td><td>No Change</td><td>2025-04-02T07:21:28.487Z</td></tr><tr><td>47379</td><td>BILI</td><td>Unlisted laparoscopic procedure, liver </td><td>No Change</td><td>2025-04-02T07:21:28.487Z</td></tr><tr><td>47380</td><td>BILI</td><td>Ablation, open, of 1 or more liver tumor(s); radiofrequency </td><td>No Change</td><td>2025-04-02T07:21:28.487Z</td></tr><tr><td>47381</td><td>BILI</td><td>Ablation, open, of 1 or more liver tumor(s); cryosurgical </td><td>No Change</td><td>2025-04-02T07:21:28.487Z</td></tr><tr><td>47400</td><td>BILI</td><td>Hepaticotomy or hepaticostomy with exploration, drainage, or removal of calculus </td><td>No Change</td><td>2025-04-02T07:21:28.487Z</td></tr><tr><td>47420</td><td>BILI</td><td>Choledochotomy or choledochostomy with exploration, drainage, or removal of calculus, with or without cholecystotomy; without transduodenal sphincterotomy or sphincteroplasty </td><td>No Change</td><td>2025-04-02T07:21:28.487Z</td></tr><tr><td>47425</td><td>BILI</td><td>Choledochotomy or choledochostomy with exploration, drainage, or removal of calculus, with or without cholecystotomy; with transduodenal sphincterotomy or sphincteroplasty </td><td>No Change</td><td>2025-04-02T07:21:28.487Z</td></tr><tr><td>47460</td><td>BILI</td><td>Transduodenal sphincterotomy or sphincteroplasty, with or without transduodenal extraction of calculus (separate procedure) </td><td>No Change</td><td>2025-04-02T07:21:28.487Z</td></tr><tr><td>47700</td><td>BILI</td><td>Exploration for congenital atresia of bile ducts, without repair, with or without liver biopsy, with or without cholangiography </td><td>No Change</td><td>2025-04-02T07:21:28.487Z</td></tr><tr><td>47701</td><td>BILI</td><td>Portoenterostomy (eg, Kasai procedure) </td><td>No Change</td><td>2025-04-02T07:21:28.487Z</td></tr><tr><td>47711</td><td>BILI</td><td>Excision of bile duct tumor, with or without primary repair of bile duct; extrahepatic </td><td>No Change</td><td>2025-04-02T07:21:28.487Z</td></tr><tr><td>47712</td><td>BILI</td><td>Excision of bile duct tumor, with or without primary repair of bile duct; intrahepatic </td><td>No Change</td><td>2025-04-02T07:21:28.487Z</td></tr><tr><td>47715</td><td>BILI</td><td>Excision of choledochal cyst </td><td>No Change</td><td>2025-04-02T07:21:28.487Z</td></tr><tr><td>47760</td><td>BILI</td><td>Anastomosis, of extrahepatic biliary ducts and gastrointestinal tract </td><td>No Change</td><td>2025-04-02T07:21:28.487Z</td></tr><tr><td>47765</td><td>BILI</td><td>Anastomosis, of intrahepatic ducts and gastrointestinal tract </td><td>No Change</td><td>2025-04-02T07:21:28.487Z</td></tr><tr><td>47780</td><td>BILI</td><td>Anastomosis, Roux-en-Y, of extrahepatic biliary ducts and gastrointestinal tract </td><td>No Change</td><td>2025-04-02T07:21:28.487Z</td></tr><tr><td>47785</td><td>BILI</td><td>Anastomosis, Roux-en-Y, of intrahepatic biliary ducts and gastrointestinal tract </td><td>No Change</td><td>2025-04-02T07:21:28.487Z</td></tr><tr><td>47800</td><td>BILI</td><td>Reconstruction, plastic, of extrahepatic biliary ducts with end-to-end anastomosis </td><td>No Change</td><td>2025-04-02T07:21:28.487Z</td></tr><tr><td>47802</td><td>BILI</td><td>U-tube hepaticoenterostomy </td><td>No Change</td><td>2025-04-02T07:21:28.487Z</td></tr><tr><td>47900</td><td>BILI</td><td>Suture of extrahepatic biliary duct for pre-existing injury (separate procedure) </td><td>No Change</td><td>2025-04-02T07:21:28.487Z</td></tr><tr><td>48000</td><td>BILI</td><td>Placement of drains, peripancreatic, for acute pancreatitis; </td><td>No Change</td><td>2025-04-02T07:21:28.487Z</td></tr><tr><td>48001</td><td>BILI</td><td>Placement of drains, peripancreatic, for acute pancreatitis; with cholecystostomy, gastrostomy, and jejunostomy </td><td>No Change</td><td>2025-04-02T07:21:28.487Z</td></tr><tr><td>48020</td><td>BILI</td><td>Removal of pancreatic calculus </td><td>No Change</td><td>2025-04-02T07:21:28.487Z</td></tr><tr><td>48100</td><td>BILI</td><td>Biopsy of pancreas, open (eg, fine needle aspiration, needle core biopsy, wedge biopsy) </td><td>No Change</td><td>2025-04-02T07:21:28.487Z</td></tr><tr><td>48105</td><td>BILI</td><td>Resection or debridement of pancreas and peripancreatic tissue for acute necrotizing pancreatitis </td><td>No Change</td><td>2025-04-02T07:21:28.487Z</td></tr><tr><td>48120</td><td>BILI</td><td>Excision of lesion of pancreas (eg, cyst, adenoma) </td><td>No Change</td><td>2025-04-02T07:21:28.487Z</td></tr><tr><td>48140</td><td>BILI</td><td>Pancreatectomy, distal subtotal, with or without splenectomy; without pancreaticojejunostomy </td><td>No Change</td><td>2025-04-02T07:21:28.487Z</td></tr><tr><td>48145</td><td>BILI</td><td>Pancreatectomy, distal subtotal, with or without splenectomy; with pancreaticojejunostomy </td><td>No Change</td><td>2025-04-02T07:21:28.487Z</td></tr><tr><td>48146</td><td>BILI</td><td>Pancreatectomy, distal, near-total with preservation of duodenum (Child-type procedure) </td><td>No Change</td><td>2025-04-02T07:21:28.487Z</td></tr><tr><td>48148</td><td>BILI</td><td>Excision of ampulla of Vater </td><td>No Change</td><td>2025-04-02T07:21:28.487Z</td></tr><tr><td>48150</td><td>BILI</td><td>Pancreatectomy, proximal subtotal with total duodenectomy, partial gastrectomy, choledochoenterostomy and gastrojejunostomy (Whipple-type procedure); with pancreatojejunostomy </td><td>No Change</td><td>2025-04-02T07:21:28.487Z</td></tr><tr><td>48152</td><td>BILI</td><td>Pancreatectomy, proximal subtotal with total duodenectomy, partial gastrectomy, choledochoenterostomy and gastrojejunostomy (Whipple-type procedure); without pancreatojejunostomy </td><td>No Change</td><td>2025-04-02T07:21:28.487Z</td></tr><tr><td>48153</td><td>BILI</td><td>Pancreatectomy, proximal subtotal with near-total duodenectomy, choledochoenterostomy and duodenojejunostomy (pylorus-sparing, Whipple-type procedure); with pancreatojejunostomy </td><td>No Change</td><td>2025-04-02T07:21:28.487Z</td></tr><tr><td>48154</td><td>BILI</td><td>Pancreatectomy, proximal subtotal with near-total duodenectomy, choledochoenterostomy and duodenojejunostomy (pylorus-sparing, Whipple-type procedure); without pancreatojejunostomy </td><td>No Change</td><td>2025-04-02T07:21:28.487Z</td></tr><tr><td>48155</td><td>BILI</td><td>Pancreatectomy, total </td><td>No Change</td><td>2025-04-02T07:21:28.487Z</td></tr><tr><td>48160</td><td>BILI</td><td>Pancreatectomy, total or subtotal, with autologous transplantation of pancreas or pancreatic islet cells </td><td>No Change</td><td>2025-04-02T07:21:28.487Z</td></tr><tr><td>48500</td><td>BILI</td><td>Marsupialization of pancreatic cyst </td><td>No Change</td><td>2025-04-02T07:21:28.487Z</td></tr><tr><td>48510</td><td>BILI</td><td>External drainage, pseudocyst of pancreas; open </td><td>No Change</td><td>2025-04-02T07:21:28.487Z</td></tr><tr><td>48520</td><td>BILI</td><td>Internal anastomosis of pancreatic cyst to gastrointestinal tract; direct </td><td>No Change</td><td>2025-04-02T07:21:28.487Z</td></tr><tr><td>48540</td><td>BILI</td><td>Internal anastomosis of pancreatic cyst to gastrointestinal tract; Roux-en-Y </td><td>No Change</td><td>2025-04-02T07:21:28.487Z</td></tr><tr><td>48545</td><td>BILI</td><td>Pancreatorrhaphy for injury </td><td>No Change</td><td>2025-04-02T07:21:28.487Z</td></tr><tr><td>48548</td><td>BILI</td><td>Pancreaticojejunostomy, side-to-side anastomosis (Puestow-type operation) </td><td>No Change</td><td>2025-04-02T07:21:28.487Z</td></tr><tr><td>0585T</td><td>BILI</td><td>Islet cell transplant, includes portal vein catheterization and infusion, including all imaging, including all guidance, and radiological supervision and interpretation, when performed; laparoscopic</td><td>No change</td><td>2025-04-02T07:21:28.487Z</td></tr><tr><td>0586T</td><td>BILI</td><td>Islet cell transplant, includes portal vein catheterization and infusion, including all imaging, including all guidance, and radiological supervision and interpretation, when performed; open</td><td>No change</td><td>2025-04-02T07:21:28.487Z</td></tr><tr><td>11970</td><td>BRST</td><td>Replacement of tissue expander(s) with permanent implant</td><td>No Change</td><td>2025-04-02T07:21:28.487Z</td></tr><tr><td>19101</td><td>BRST</td><td>Biopsy of breast; open, incisional</td><td>No Change</td><td>2025-04-02T07:21:28.487Z</td></tr><tr><td>19105</td><td>BRST</td><td>Ablation, cryosurgical, of fibroadenoma, including ultrasound guidance, each fibroadenoma</td><td>No Change</td><td>2025-04-02T07:21:28.487Z</td></tr><tr><td>19110</td><td>BRST</td><td>Nipple exploration, with or without excision of a solitary lactiferous duct or a papilloma lactiferous duct</td><td>No Change</td><td>2025-04-02T07:21:28.487Z</td></tr><tr><td>19112</td><td>BRST</td><td>Excision of lactiferous duct fistula</td><td>No Change</td><td>2025-04-02T07:21:28.487Z</td></tr><tr><td>19120</td><td>BRST</td><td>Excision of cyst, fibroadenoma, or other benign or malignant tumor, aberrant breast tissue, duct lesion, nipple or areolar lesion (except 19300), open, male or female, 1 or more lesions</td><td>No Change</td><td>2025-04-02T07:21:28.487Z</td></tr><tr><td>19125</td><td>BRST</td><td>Excision of breast lesion identified by pre-operative placement of radiological marker, open, single lesion </td><td>No Change</td><td>2025-04-02T07:21:28.487Z</td></tr><tr><td>19126</td><td>BRST</td><td>Excision of breast lesion identified by pre-operative placement of radiological marker, open, single lesion; each No changeitional lesion separately identified by a preoperative radiological marker (list separately in No changeition to code for primary procedures) excision of breast lesion identified by pre-operative placement of radiological marker, open, single lesion</td><td>No Change</td><td>2025-04-02T07:21:28.487Z</td></tr><tr><td>19300</td><td>BRST</td><td>Mastectomy for gynecomastia</td><td>No Change</td><td>2025-04-02T07:21:28.487Z</td></tr><tr><td>19301</td><td>BRST</td><td>Mastectomy, partial (eg, lumpectomy, tylectomy, quadrantectomy, segmentectomy);</td><td>No Change</td><td>2025-04-02T07:21:28.487Z</td></tr><tr><td>19302</td><td>BRST</td><td>Mastectomy, partial (eg, lumpectomy, tylectomy, quadrantectomy, segmentectomy); with axillary lymphadenectomy</td><td>No Change</td><td>2025-04-02T07:21:28.487Z</td></tr><tr><td>19303</td><td>BRST</td><td>Mastectomy, simple, complete</td><td>No Change</td><td>2025-04-02T07:21:28.487Z</td></tr><tr><td>19305</td><td>BRST</td><td>Mastectomy, radical, including pectoral muscles, axillary lymph nodes</td><td>No Change</td><td>2025-04-02T07:21:28.487Z</td></tr><tr><td>19306</td><td>BRST</td><td>Mastectomy, radical, including pectoral muscles, axillary and internal mammary lymph nodes (Urban type operation)</td><td>No Change</td><td>2025-04-02T07:21:28.487Z</td></tr><tr><td>19307</td><td>BRST</td><td>Mastectomy, modified radical, including axillary lymph nodes, with or without pectoralis minor muscle, but excluding pectoralis major muscle</td><td>No Change</td><td>2025-04-02T07:21:28.487Z</td></tr><tr><td>19316</td><td>BRST</td><td>Mastopexy</td><td>No Change</td><td>2025-04-02T07:21:28.487Z</td></tr><tr><td>19318</td><td>BRST</td><td>Reduction mammaplasty</td><td>No Change</td><td>2025-04-02T07:21:28.487Z</td></tr><tr><td>19324</td><td>BRST</td><td>Mammaplasty, augmentation; without prosthetic implant</td><td>No Change</td><td>2025-04-02T07:21:28.487Z</td></tr><tr><td>19325</td><td>BRST</td><td>Mammaplasty, augmentation; with prosthetic implant</td><td>No Change</td><td>2025-04-02T07:21:28.487Z</td></tr><tr><td>19328</td><td>BRST</td><td>Removal of intact mammary implant</td><td>No Change</td><td>2025-04-02T07:21:28.487Z</td></tr><tr><td>19330</td><td>BRST</td><td>Removal of mammary implant material</td><td>No Change</td><td>2025-04-02T07:21:28.487Z</td></tr><tr><td>19340</td><td>BRST</td><td>Immediate insertion of breast prosthesis following mastopexy, mastectomy or in reconstruction</td><td>No Change</td><td>2025-04-02T07:21:28.487Z</td></tr><tr><td>19342</td><td>BRST</td><td>Delayed insertion of breast prosthesis following mastopexy, mastectomy or in reconstruction</td><td>No Change</td><td>2025-04-02T07:21:28.487Z</td></tr><tr><td>19350</td><td>BRST</td><td>Nipple/areola reconstruction</td><td>No Change</td><td>2025-04-02T07:21:28.487Z</td></tr><tr><td>19355</td><td>BRST</td><td>Correction of inverted nipples</td><td>No Change</td><td>2025-04-02T07:21:28.487Z</td></tr><tr><td>19357</td><td>BRST</td><td>Breast reconstruction, immediate or delayed, with tissue expander, including subsequent expansion</td><td>No Change</td><td>2025-04-02T07:21:28.487Z</td></tr><tr><td>19361</td><td>BRST</td><td>Breast reconstruction with latissimus dorsi flap, without prosthetic implant</td><td>No Change</td><td>2025-04-02T07:21:28.487Z</td></tr><tr><td>19364</td><td>BRST</td><td>Breast reconstruction with free flap</td><td>No Change</td><td>2025-04-02T07:21:28.487Z</td></tr><tr><td>19366</td><td>BRST</td><td>Breast reconstruction with other technique</td><td>No Change</td><td>2025-04-02T07:21:28.487Z</td></tr><tr><td>19367</td><td>BRST</td><td>Breast reconstruction with transverse rectus abdominis myocutaneous flap (TRAM), single pedicle, including closure of donor site;</td><td>No Change</td><td>2025-04-02T07:21:28.487Z</td></tr><tr><td>19368</td><td>BRST</td><td>Breast reconstruction with transverse rectus abdominis myocutaneous flap (TRAM), single pedicle, including closure of donor site; with microvascular anastomosis (supercharging)</td><td>No Change</td><td>2025-04-02T07:21:28.487Z</td></tr><tr><td>19369</td><td>BRST</td><td>Breast reconstruction with transverse rectus abdominis myocutaneous flap (TRAM), double pedicle, including closure of donor site</td><td>No Change</td><td>2025-04-02T07:21:28.487Z</td></tr><tr><td>19370</td><td>BRST</td><td>Open periprosthetic capsulotomy, breast</td><td>No Change</td><td>2025-04-02T07:21:28.487Z</td></tr><tr><td>19371</td><td>BRST</td><td>Periprosthetic capsulectomy, breast</td><td>No Change</td><td>2025-04-02T07:21:28.487Z</td></tr><tr><td>19380</td><td>BRST</td><td>Revision of reconstructed breast</td><td>No Change</td><td>2025-04-02T07:21:28.487Z</td></tr><tr><td>32658</td><td>CARD</td><td>Thoracoscopy, surgical; with removal of clot or foreign body from pericardial sac</td><td>No Change</td><td>2025-04-02T07:21:28.487Z</td></tr><tr><td>32659</td><td>CARD</td><td>Thoracoscopy, surgical; with creation of pericardial window or partial resection of pericardial sac for drainage</td><td>No Change</td><td>2025-04-02T07:21:28.487Z</td></tr><tr><td>32661</td><td>CARD</td><td>Thoracoscopy, surgical; with excision of pericardial cyst, tumor, or mass</td><td>No Change</td><td>2025-04-02T07:21:28.487Z</td></tr><tr><td>33020</td><td>CARD</td><td>Pericardiotomy for removal of clot or foreign body (primary procedure)</td><td>No Change</td><td>2025-04-02T07:21:28.487Z</td></tr><tr><td>33025</td><td>CARD</td><td>Creation of pericardial window or partial resection for drainage</td><td>No Change</td><td>2025-04-02T07:21:28.487Z</td></tr><tr><td>33030</td><td>CARD</td><td>Pericardiectomy, subtotal or complete; without cardiopulmonary bypass</td><td>No Change</td><td>2025-04-02T07:21:28.487Z</td></tr><tr><td>33031</td><td>CARD</td><td>Pericardiectomy, subtotal or complete; with cardiopulmonary bypass</td><td>No Change</td><td>2025-04-02T07:21:28.487Z</td></tr><tr><td>33050</td><td>CARD</td><td>Resection of pericardial cyst or tumor</td><td>No Change</td><td>2025-04-02T07:21:28.487Z</td></tr><tr><td>33120</td><td>CARD</td><td>Excision of intracardiac tumor, resection with cardiopulmonary bypass</td><td>No Change</td><td>2025-04-02T07:21:28.487Z</td></tr><tr><td>33130</td><td>CARD</td><td>Resection of external cardiac tumor</td><td>No Change</td><td>2025-04-02T07:21:28.487Z</td></tr><tr><td>33250</td><td>CARD</td><td>Operative ablation of supraventricular arrhythmogenic focus or pathway (eg, Wolff-Parkinson-White, atrioventricular node re-entry), tract(s) and/or focus (foci); without cardiopulmonary bypass</td><td>No Change</td><td>2025-04-02T07:21:28.487Z</td></tr><tr><td>33251</td><td>CARD</td><td>Operative ablation of supraventricular arrhythmogenic focus or pathway (eg, Wolff-Parkinson-White, atrioventricular node re-entry), tract(s) and/or focus (foci); with cardiopulmonary bypass</td><td>No Change</td><td>2025-04-02T07:21:28.487Z</td></tr><tr><td>33254</td><td>CARD</td><td>Operative tissue ablation and reconstruction of atria, limited (eg, modified maze procedure)</td><td>No Change</td><td>2025-04-02T07:21:28.487Z</td></tr><tr><td>33255</td><td>CARD</td><td>Operative tissue ablation and reconstruction of atria, extensive (eg, maze procedure); without cardiopulmonary bypass</td><td>No Change</td><td>2025-04-02T07:21:28.487Z</td></tr><tr><td>33256</td><td>CARD</td><td>Operative tissue ablation and reconstruction of atria, extensive (eg, maze procedure); with cardiopulmonary bypass</td><td>No Change</td><td>2025-04-02T07:21:28.487Z</td></tr><tr><td>33257</td><td>CARD</td><td>Operative tissue ablation and reconstruction of atria, performed at the time of other cardiac procedure(s), limited (eg, modified maze procedure) (List separately in No changeition to code for primary procedure)</td><td>No Change</td><td>2025-04-02T07:21:28.487Z</td></tr><tr><td>33258</td><td>CARD</td><td>Operative tissue ablation and reconstruction of atria, performed at the time of other cardiac procedure(s), extensive (eg, maze procedure), without cardiopulmonary bypass (List separately in No changeition to code for primary procedure)</td><td>No Change</td><td>2025-04-02T07:21:28.487Z</td></tr><tr><td>33259</td><td>CARD</td><td>Operative tissue ablation and reconstruction of atria, performed at the time of other cardiac procedure(s), extensive (eg, maze procedure), with cardiopulmonary bypass (List separately in No changeition to code for primary procedure)</td><td>No Change</td><td>2025-04-02T07:21:28.487Z</td></tr><tr><td>33261</td><td>CARD</td><td>Operative ablation of ventricular arrhythmogenic focus with cardiopulmonary bypass</td><td>No Change</td><td>2025-04-02T07:21:28.487Z</td></tr><tr><td>33265</td><td>CARD</td><td>Endoscopy, surgical; operative tissue ablation and reconstruction of atria, limited (eg, modified maze procedure), without cardiopulmonary bypass</td><td>No Change</td><td>2025-04-02T07:21:28.487Z</td></tr><tr><td>33266</td><td>CARD</td><td>Endoscopy, surgical; operative tissue ablation and reconstruction of atria, extensive (eg, maze procedure), without cardiopulmonary bypass </td><td>No Change</td><td>2025-04-02T07:21:28.487Z</td></tr><tr><td>33267</td><td>CARD</td><td>Exclusion of left atrial appendage, open, any method (eg, excision, isolation via stapling, oversewing, ligation, plication, clip)</td><td>No change</td><td>2025-04-02T07:21:28.487Z</td></tr><tr><td>33268</td><td>CARD</td><td>Exclusion of left atrial appendage, open, performed at the time of other sternotomy or thoracotomy procedure(s), any method (eg, excision, isolation via stapling, oversewing, ligation, plication, clip) (List separately in addition to primary procedure)</td><td>No change</td><td>2025-04-02T07:21:28.487Z</td></tr><tr><td>33269</td><td>CARD</td><td>Exclusion of left atrial appendage, thoracoscopic, any method (eg, excision, isolation via stapling, oversewing, ligation, plication, clip)</td><td>No change</td><td>2025-04-02T07:21:28.487Z</td></tr><tr><td>33300</td><td>CARD</td><td>Repair of cardiac wound; without bypass </td><td>No Change</td><td>2025-04-02T07:21:28.487Z</td></tr><tr><td>33305</td><td>CARD</td><td>Repair of cardiac wound; with cardiopulmonary bypass </td><td>No Change</td><td>2025-04-02T07:21:28.487Z</td></tr><tr><td>33310</td><td>CARD</td><td>Cardiotomy, exploratory (includes removal of foreign body, atrial or ventricular thrombus); without bypass  </td><td>No Change</td><td>2025-04-02T07:21:28.487Z</td></tr><tr><td>33315</td><td>CARD</td><td>Cardiotomy, exploratory (includes removal of foreign body, atrial or ventricular thrombus); with cardiopulmonary bypass </td><td>No Change</td><td>2025-04-02T07:21:28.487Z</td></tr><tr><td>33365</td><td>CARD</td><td>Transcatheter aortic valve replacement (TAVR/TAVI) with prosthetic valve; transaortic approach (eg, median sternotomy, mediastinotomy)</td><td>No Change</td><td>2025-04-02T07:21:28.487Z</td></tr><tr><td>33366</td><td>CARD</td><td>Transcatheter aortic valve replacement (TAVR/TAVI) with prosthetic valve; transapical exposure (eg, left thoracotomy) </td><td>No Change</td><td>2025-04-02T07:21:28.487Z</td></tr><tr><td>33390</td><td>CARD</td><td>Valvuloplasty, aortic valve, open, with cardiopulmonary bypass; simple (ie, valvotomy, debridement, debulking, and/or simple commissural resuspension)</td><td>No Change</td><td>2025-04-02T07:21:28.487Z</td></tr><tr><td>33391</td><td>CARD</td><td>Valvuloplasty, aortic valve, open, with cardiopulmonary bypass; complex (eg, leaflet extension, leaflet resection, leaflet reconstruction, or annuloplasty)</td><td>No Change</td><td>2025-04-02T07:21:28.487Z</td></tr><tr><td>33404</td><td>CARD</td><td>Construction of apical-aortic conduit</td><td>No Change</td><td>2025-04-02T07:21:28.487Z</td></tr><tr><td>33405</td><td>CARD</td><td>Replacement, aortic valve, open, with cardiopulmonary bypass; with prosthetic valve other than homograft or stentless valve </td><td>No Change</td><td>2025-04-02T07:21:28.487Z</td></tr><tr><td>33406</td><td>CARD</td><td>Replacement, aortic valve, with cardiopulmonary bypass; with allograft valve (freehand)</td><td>No Change</td><td>2025-04-02T07:21:28.487Z</td></tr><tr><td>33410</td><td>CARD</td><td>Replacement, aortic valve, open, with cardiopulmonary bypass; with stentless tissue valve </td><td>No Change</td><td>2025-04-02T07:21:28.487Z</td></tr><tr><td>33411</td><td>CARD</td><td>Replacement, aortic valve; with aortic annulus enlargement, noncoronary sinus </td><td>No Change</td><td>2025-04-02T07:21:28.487Z</td></tr><tr><td>33412</td><td>CARD</td><td>Replacement, aortic valve; with transventricular aortic annulus enlargement (Konno procedure)</td><td>No Change</td><td>2025-04-02T07:21:28.487Z</td></tr><tr><td>33413</td><td>CARD</td><td>Replacement, aortic valve; by translocation of autologous pulmonary valve with allograft replacement of pulmonary valve (Ross procedure) </td><td>No Change</td><td>2025-04-02T07:21:28.487Z</td></tr><tr><td>33414</td><td>CARD</td><td>Repair of left ventricular outflow tract obstruction by patch enlargement of the outflow tract </td><td>No Change</td><td>2025-04-02T07:21:28.487Z</td></tr><tr><td>33415</td><td>CARD</td><td>Resection or incision of subvalvular tissue for discrete subvalvular aortic stenosis </td><td>No Change</td><td>2025-04-02T07:21:28.487Z</td></tr><tr><td>33416</td><td>CARD</td><td>Ventriculomyotomy (-myectomy) for idiopathic hypertrophic subaortic stenosis (eg, asymmetric septal hypertrophy)</td><td>No Change</td><td>2025-04-02T07:21:28.487Z</td></tr><tr><td>33417</td><td>CARD</td><td>Aortoplasty (gusset) for supravalvular stenosis</td><td>No Change</td><td>2025-04-02T07:21:28.487Z</td></tr><tr><td>33420</td><td>CARD</td><td>Valvotomy, mitral valve; closed heart</td><td>No Change</td><td>2025-04-02T07:21:28.487Z</td></tr><tr><td>33422</td><td>CARD</td><td>Valvotomy, mitral valve; open heart, with cardiopulmonary bypass</td><td>No Change</td><td>2025-04-02T07:21:28.487Z</td></tr><tr><td>33425</td><td>CARD</td><td>Valvuloplasty, mitral valve, with cardiopulmonary bypass;</td><td>No Change</td><td>2025-04-02T07:21:28.487Z</td></tr><tr><td>33426</td><td>CARD</td><td>Valvuloplasty, mitral valve, with cardiopulmonary bypass; with prosthetic ring</td><td>No Change</td><td>2025-04-02T07:21:28.487Z</td></tr><tr><td>33427</td><td>CARD</td><td>Valvuloplasty, mitral valve, with cardiopulmonary bypass; radical reconstruction, with or without ring</td><td>No Change</td><td>2025-04-02T07:21:28.487Z</td></tr><tr><td>33430</td><td>CARD</td><td>Replacement, mitral valve, with cardiopulmonary bypass</td><td>No Change</td><td>2025-04-02T07:21:28.487Z</td></tr><tr><td>33440</td><td>CARD</td><td>Replacement of aortic valve by translocation of autologous pulmonary valve and transventricular aortic annulus enlargement of left ventricular outflow tract with valved conduit replacement of pulmonary valve</td><td>No Change</td><td>2025-04-02T07:21:28.487Z</td></tr><tr><td>33460</td><td>CARD</td><td>Valvectomy, tricuspid valve, with cardiopulmonary bypass</td><td>No Change</td><td>2025-04-02T07:21:28.487Z</td></tr><tr><td>33463</td><td>CARD</td><td>Valvuloplasty, tricuspid valve; without ring insertion </td><td>No Change</td><td>2025-04-02T07:21:28.487Z</td></tr><tr><td>33464</td><td>CARD</td><td>Valvuloplasty, tricuspid valve; with ring insertion</td><td>No Change</td><td>2025-04-02T07:21:28.487Z</td></tr><tr><td>33465</td><td>CARD</td><td>Replacement, tricuspid valve, with cardiopulmonary bypass </td><td>No Change</td><td>2025-04-02T07:21:28.487Z</td></tr><tr><td>33468</td><td>CARD</td><td>Tricuspid valve repositioning and plication for Ebstein anomaly</td><td>No Change</td><td>2025-04-02T07:21:28.487Z</td></tr><tr><td>33471</td><td>CARD</td><td>Valvotomy, pulmonary valve, closed heart; via pulmonary artery</td><td>No Change</td><td>2025-04-02T07:21:28.487Z</td></tr><tr><td>33474</td><td>CARD</td><td>Valvotomy, pulmonary valve, open heart, with cardiopulmonary bypass</td><td>No Change</td><td>2025-04-02T07:21:28.487Z</td></tr><tr><td>33475</td><td>CARD</td><td>Replacement, pulmonary valve </td><td>No Change</td><td>2025-04-02T07:21:28.487Z</td></tr><tr><td>33476</td><td>CARD</td><td>Right ventricular resection for infundibular stenosis, with or without commissurotomy</td><td>No Change</td><td>2025-04-02T07:21:28.487Z</td></tr><tr><td>33478</td><td>CARD</td><td>Outflow tract augmentation (gusset), with or without commissurotomy or infundibular resection</td><td>No Change</td><td>2025-04-02T07:21:28.487Z</td></tr><tr><td>33496</td><td>CARD</td><td>Repair of non-structural prosthetic valve dysfunction with cardiopulmonary bypass (separate procedure)</td><td>No Change</td><td>2025-04-02T07:21:28.487Z</td></tr><tr><td>33542</td><td>CARD</td><td>Myocardial resection (eg, ventricular aneurysmectomy)</td><td>No Change</td><td>2025-04-02T07:21:28.487Z</td></tr><tr><td>33545</td><td>CARD</td><td>Repair of postinfarction ventricular septal defect, with or without myocardial resection </td><td>No Change</td><td>2025-04-02T07:21:28.487Z</td></tr><tr><td>33548</td><td>CARD</td><td>Surgical ventricular restoration procedure, includes prosthetic patch, when performed (eg, ventricular remodeling, SVR, SAVER, Dor procedures)</td><td>No Change</td><td>2025-04-02T07:21:28.487Z</td></tr><tr><td>33600</td><td>CARD</td><td>Closure of atrioventricular valve (mitral or tricuspid) by suture or patch</td><td>No Change</td><td>2025-04-02T07:21:28.487Z</td></tr><tr><td>33602</td><td>CARD</td><td>Closure of semilunar valve (aortic or pulmonary) by suture or patch</td><td>No Change</td><td>2025-04-02T07:21:28.487Z</td></tr><tr><td>33608</td><td>CARD</td><td>Repair of complex cardiac anomaly other than pulmonary atresia with ventricular septal defect by construction or replacement of conduit from right or left ventricle to pulmonary artery </td><td>No Change</td><td>2025-04-02T07:21:28.487Z</td></tr><tr><td>33610</td><td>CARD</td><td>Repair of complex cardiac anomalies (eg, single ventricle with subaortic obstruction) by surgical enlargement of ventricular septal defect</td><td>No Change</td><td>2025-04-02T07:21:28.487Z</td></tr><tr><td>33611</td><td>CARD</td><td>Repair of double outlet right ventricle with intraventricular tunnel repair; </td><td>No Change</td><td>2025-04-02T07:21:28.487Z</td></tr><tr><td>33612</td><td>CARD</td><td>Repair of double outlet right ventricle with intraventricular tunnel repair; with repair of right ventricular outflow tract obstruction </td><td>No Change</td><td>2025-04-02T07:21:28.487Z</td></tr><tr><td>33615</td><td>CARD</td><td>Repair of complex cardiac anomalies (eg, tricuspid atresia) by closure of atrial septal defect and anastomosis of atria or vena cava to pulmonary artery (simple Fontan procedure)</td><td>No Change</td><td>2025-04-02T07:21:28.487Z</td></tr><tr><td>33617</td><td>CARD</td><td>Repair of complex cardiac anomalies (e.g., single ventricle by modified Fontan)</td><td>No Change</td><td>2025-04-02T07:21:28.487Z</td></tr><tr><td>33619</td><td>CARD</td><td>Repair of single ventricle with aortic outflow obstruction and aortic arch hypoplasia (hypoplastic left heart syndrome) (eg, Norwood procedure)</td><td>No Change</td><td>2025-04-02T07:21:28.487Z</td></tr><tr><td>33641</td><td>CARD</td><td>Repair atrial septal defect, secundum, with cardiopulmonary bypass, with or without patch </td><td>No Change</td><td>2025-04-02T07:21:28.487Z</td></tr><tr><td>33645</td><td>CARD</td><td>Direct or patch closure, sinus venosus, with or without anomalous pulmonary venous drainage </td><td>No Change</td><td>2025-04-02T07:21:28.487Z</td></tr><tr><td>33647</td><td>CARD</td><td>Repair of atrial septal defect and ventricular septal defect, with direct or patch closure </td><td>No Change</td><td>2025-04-02T07:21:28.487Z</td></tr><tr><td>33660</td><td>CARD</td><td>Repair of incomplete or partial atrioventricular canal (ostium primum atrial septal defect), with or without atrioventricular valve repair </td><td>No Change</td><td>2025-04-02T07:21:28.487Z</td></tr><tr><td>33665</td><td>CARD</td><td>Repair of intermediate or transitional atrioventricular canal, with or without atrioventricular valve repair </td><td>No Change</td><td>2025-04-02T07:21:28.487Z</td></tr><tr><td>33670</td><td>CARD</td><td>Repair of complete atrioventricular canal, with or without prosthetic valve </td><td>No Change</td><td>2025-04-02T07:21:28.487Z</td></tr><tr><td>33675</td><td>CARD</td><td>Closure of multiple ventricular septal defects; </td><td>No Change</td><td>2025-04-02T07:21:28.487Z</td></tr><tr><td>33676</td><td>CARD</td><td>Closure of multiple ventricular septal defects; with pulmonary valvotomy or infundibular resection (acyanotic) </td><td>No Change</td><td>2025-04-02T07:21:28.487Z</td></tr><tr><td>33677</td><td>CARD</td><td>Closure of multiple ventricular septal defects; with removal of pulmonary artery band, with or without gusset </td><td>No Change</td><td>2025-04-02T07:21:28.487Z</td></tr><tr><td>33681</td><td>CARD</td><td>Closure of single ventricular septal defect, with or without patch; </td><td>No Change</td><td>2025-04-02T07:21:28.487Z</td></tr><tr><td>33684</td><td>CARD</td><td>Closure of single ventricular septal defect, with or without patch; with pulmonary valvotomy or infundibular resection (acyanotic) </td><td>No Change</td><td>2025-04-02T07:21:28.487Z</td></tr><tr><td>33688</td><td>CARD</td><td>Closure of single ventricular septal defect, with or without patch; with removal of pulmonary artery band, with or without gusset </td><td>No Change</td><td>2025-04-02T07:21:28.487Z</td></tr><tr><td>33692</td><td>CARD</td><td>Complete repair tetralogy of Fallot without pulmonary atresia;</td><td>No Change</td><td>2025-04-02T07:21:28.487Z</td></tr><tr><td>33694</td><td>CARD</td><td>Complete repair tetralogy of Fallot without pulmonary atresia; with transannular patch</td><td>No Change</td><td>2025-04-02T07:21:28.487Z</td></tr><tr><td>33697</td><td>CARD</td><td>Complete repair tetralogy of Fallot with pulmonary atresia including construction of conduit from right ventricle to pulmonary artery and closure of ventricular septal defect</td><td>No Change</td><td>2025-04-02T07:21:28.487Z</td></tr><tr><td>33702</td><td>CARD</td><td>Repair sinus of Valsalva fistula, with cardiopulmonary bypass; </td><td>No Change</td><td>2025-04-02T07:21:28.487Z</td></tr><tr><td>33710</td><td>CARD</td><td>Repair sinus of Valsalva fistula, with cardiopulmonary bypass; with repair of ventricular septal defect </td><td>No Change</td><td>2025-04-02T07:21:28.487Z</td></tr><tr><td>33720</td><td>CARD</td><td>Repair sinus of Valsalva aneurysm, with cardiopulmonary bypass </td><td>No Change</td><td>2025-04-02T07:21:28.487Z</td></tr><tr><td>33732</td><td>CARD</td><td>Repair of cor triatriatum or supravalvular mitral ring by resection of left atrial membrane</td><td>No Change</td><td>2025-04-02T07:21:28.487Z</td></tr><tr><td>33735</td><td>CARD</td><td>Atrial septectomy or septostomy; closed heart (Blalock-Hanlon type operation) </td><td>No Change</td><td>2025-04-02T07:21:28.487Z</td></tr><tr><td>33736</td><td>CARD</td><td>Atrial septectomy or septostomy; open heart with cardiopulmonary bypass </td><td>No Change</td><td>2025-04-02T07:21:28.487Z</td></tr><tr><td>33737</td><td>CARD</td><td>Atrial septectomy or septostomy; open heart, with inflow occlusion </td><td>No Change</td><td>2025-04-02T07:21:28.487Z</td></tr><tr><td>33770</td><td>CARD</td><td>Repair of transposition of the great arteries with ventricular septal defect and subpulmonary stenosis; without surgical enlargement of ventricular septal defect</td><td>No Change</td><td>2025-04-02T07:21:28.487Z</td></tr><tr><td>33774</td><td>CARD</td><td>Repair of transposition of the great arteries, atrial baffle procedure (eg, Mustard or Senning type) with cardiopulmonary bypass;</td><td>No Change</td><td>2025-04-02T07:21:28.487Z</td></tr><tr><td>33776</td><td>CARD</td><td>Repair of transposition of the great arteries, atrial baffle procedure (eg, Mustard or Senning type) with cardiopulmonary bypass; with closure of ventricular septal defect </td><td>No Change</td><td>2025-04-02T07:21:28.487Z</td></tr><tr><td>33780</td><td>CARD</td><td>Repair of transposition of the great arteries, aortic pulmonary artery reconstruction (eg, Jatene type); with closure of ventricular septal defect </td><td>No Change</td><td>2025-04-02T07:21:28.487Z</td></tr><tr><td>33782</td><td>CARD</td><td>Aortic root translocation with ventricular septal defect and pulmonary stenosis repair (ie, Nikaidoh procedure); without coronary ostium reimplantation </td><td>No Change</td><td>2025-04-02T07:21:28.487Z</td></tr><tr><td>33783</td><td>CARD</td><td>Aortic root translocation with ventricular septal defect and pulmonary stenosis repair (ie, Nikaidoh procedure); with reimplantation of 1 or both coronary ostia </td><td>No Change</td><td>2025-04-02T07:21:28.487Z</td></tr><tr><td>33786</td><td>CARD</td><td>Total repair, truncus arteriosus (Rastelli type operation)</td><td>No Change</td><td>2025-04-02T07:21:28.487Z</td></tr><tr><td>33813</td><td>CARD</td><td>Obliteration of aortopulmonary septal defect; without cardiopulmonary bypass </td><td>No Change</td><td>2025-04-02T07:21:28.487Z</td></tr><tr><td>33814</td><td>CARD</td><td>Obliteration of aortopulmonary septal defect; with cardiopulmonary bypass </td><td>No Change</td><td>2025-04-02T07:21:28.487Z</td></tr><tr><td>33920</td><td>CARD</td><td>Repair of pulmonary atresia with ventricular septal defect, by construction or replacement of conduit from right or left ventricle to pulmonary artery</td><td>No Change</td><td>2025-04-02T07:21:28.487Z</td></tr><tr><td>33975</td><td>CARD</td><td>Insertion of ventricular assist device; extracorporeal, single ventricle</td><td>No change</td><td>2025-04-02T07:21:28.487Z</td></tr><tr><td>33976</td><td>CARD</td><td>Insertion of ventricular assist device; extracorporeal, biventricle</td><td>No change</td><td>2025-04-02T07:21:28.487Z</td></tr><tr><td>33977</td><td>CARD</td><td>Removal of ventricular assist device; extracorporeal, single ventricle</td><td>No change</td><td>2025-04-02T07:21:28.487Z</td></tr><tr><td>33978</td><td>CARD</td><td>Removal of ventricular assist device; extracorporeal, biventricle</td><td>No change</td><td>2025-04-02T07:21:28.487Z</td></tr><tr><td>33979</td><td>CARD</td><td>Insertion of ventricular assist device; implantable intracorporeal, single ventricle</td><td>No change</td><td>2025-04-02T07:21:28.487Z</td></tr><tr><td>33980</td><td>CARD</td><td>Removal of ventricular assist device; implantable intracorporeal, single ventricle</td><td>No change</td><td>2025-04-02T07:21:28.487Z</td></tr><tr><td>0051T</td><td>CARD</td><td>Implantation of a total replacement heart system (artificial heart) with recipient cardiectomy </td><td>No change</td><td>2025-04-02T07:21:28.487Z</td></tr><tr><td>0052T</td><td>CARD</td><td>Replacement or repair of implantable component or components of total replacement heart system (artificial heart), thoracic unit </td><td>No change</td><td>2025-04-02T07:21:28.487Z</td></tr><tr><td>0053T</td><td>CARD</td><td>Replacement or repair of implantable component or components of total replacement heart system (artificial heart), excluding thoracic unit </td><td>No change</td><td>2025-04-02T07:21:28.487Z</td></tr><tr><td>33509</td><td>CBGB</td><td>Endoscopic harvest of single upper extremity artery segment for coronary artery bypass procedure</td><td>No change</td><td>2025-04-02T07:21:28.487Z</td></tr><tr><td>33510</td><td>CBGB</td><td>Coronary artery bypass, vein only; single coronary venous graft</td><td>No Change</td><td>2025-04-02T07:21:28.487Z</td></tr><tr><td>33511</td><td>CBGB</td><td>Coronary artery bypass, vein only; 2 coronary venous grafts</td><td>No Change</td><td>2025-04-02T07:21:28.487Z</td></tr><tr><td>33512</td><td>CBGB</td><td>Coronary artery bypass, vein only; 3 coronary venous grafts</td><td>No Change</td><td>2025-04-02T07:21:28.487Z</td></tr><tr><td>33513</td><td>CBGB</td><td>Coronary artery bypass, vein only; 4 coronary venous grafts</td><td>No Change</td><td>2025-04-02T07:21:28.487Z</td></tr><tr><td>33514</td><td>CBGB</td><td>Coronary artery bypass, vein only; 5 coronary venous grafts</td><td>No Change</td><td>2025-04-02T07:21:28.487Z</td></tr><tr><td>33516</td><td>CBGB</td><td>Coronary artery bypass, vein only; 6 or more coronary venous grafts</td><td>No Change</td><td>2025-04-02T07:21:28.487Z</td></tr><tr><td>35600</td><td>CBGB</td><td>Harvest of upper extremity artery, 1 segment, for coronary artery bypass procedure, open</td><td>No change</td><td>2025-04-02T07:21:28.487Z</td></tr><tr><td>33533</td><td>CBGC</td><td>Coronary artery bypass, using arterial graft(s); single arterial graft</td><td>No Change</td><td>2025-04-02T07:21:28.487Z</td></tr><tr><td>33534</td><td>CBGC</td><td>Coronary artery bypass, using arterial graft(s); 2 coronary arterial grafts</td><td>No Change</td><td>2025-04-02T07:21:28.487Z</td></tr><tr><td>33535</td><td>CBGC</td><td>Coronary artery bypass, using arterial graft(s); 3 coronary arterial grafts</td><td>No Change</td><td>2025-04-02T07:21:28.487Z</td></tr><tr><td>33536</td><td>CBGC</td><td>Coronary artery bypass, using arterial graft(s);  4 or more coronary arterial grafts</td><td>No Change</td><td>2025-04-02T07:21:28.487Z</td></tr><tr><td>35301</td><td>CEA</td><td>Thromboendarterectomy, including patch graft, if performed; carotid, vertebral, subclavian, by neck incision</td><td>No Change</td><td>2025-04-02T07:21:28.487Z</td></tr><tr><td>35390</td><td>CEA</td><td>Reoperation, carotid, thromboendarterectomy, more than 1 month after original operation (List separately in No changeition to code for primary procedure)</td><td>No Change</td><td>2025-04-02T07:21:28.487Z</td></tr><tr><td>47480</td><td>CHOL</td><td>Cholecystotomy or cholecystostomy, open, with exploration, drainage, or removal of calculus (separate procedure)</td><td>No Change</td><td>2025-04-02T07:21:28.487Z</td></tr><tr><td>47562</td><td>CHOL</td><td>Laparoscopy, surgical; cholecystectomy</td><td>No Change</td><td>2025-04-02T07:21:28.487Z</td></tr><tr><td>47563</td><td>CHOL</td><td>Laparoscopy, surgical; cholecystectomy with cholangiography</td><td>No Change</td><td>2025-04-02T07:21:28.487Z</td></tr><tr><td>47564</td><td>CHOL</td><td>Laparoscopy, surgical; cholecystectomy with exploration of common duct </td><td>No Change</td><td>2025-04-02T07:21:28.487Z</td></tr><tr><td>47570</td><td>CHOL</td><td>Laparoscopy, surgical; cholecystoenterostomy </td><td>No Change</td><td>2025-04-02T07:21:28.487Z</td></tr><tr><td>47600</td><td>CHOL</td><td>Cholecystectomy;</td><td>No Change</td><td>2025-04-02T07:21:28.487Z</td></tr><tr><td>47605</td><td>CHOL</td><td>Cholecystectomy; with cholangiography</td><td>No Change</td><td>2025-04-02T07:21:28.487Z</td></tr><tr><td>47610</td><td>CHOL</td><td>Cholecystectomy with exploration of common duct; </td><td>No Change</td><td>2025-04-02T07:21:28.487Z</td></tr><tr><td>47612</td><td>CHOL</td><td>Cholecystectomy with exploration of common duct; with choledochoenterostomy </td><td>No Change</td><td>2025-04-02T07:21:28.487Z</td></tr><tr><td>47620</td><td>CHOL</td><td>Cholecystectomy with exploration of common duct; with transduodenal sphincterotomy or sphincteroplasty, with or without cholangiography </td><td>No Change</td><td>2025-04-02T07:21:28.487Z</td></tr><tr><td>47720</td><td>CHOL</td><td>Cholecystoenterostomy; direct </td><td>No Change</td><td>2025-04-02T07:21:28.487Z</td></tr><tr><td>47721</td><td>CHOL</td><td>Cholecystoenterostomy; with gastroenterostomy </td><td>No Change</td><td>2025-04-02T07:21:28.487Z</td></tr><tr><td>47740</td><td>CHOL</td><td>Cholecystoenterostomy; Roux-en-Y </td><td>No Change</td><td>2025-04-02T07:21:28.487Z</td></tr><tr><td>47741</td><td>CHOL</td><td>Cholecystoenterostomy; Roux-en-Y with gastroenterostomy </td><td>No Change</td><td>2025-04-02T07:21:28.487Z</td></tr><tr><td>44025</td><td>COLO</td><td>Colotomy, for exploration, biopsy(s), or foreign body removal</td><td>No Change</td><td>2025-04-02T07:21:28.487Z</td></tr><tr><td>44110</td><td>COLO</td><td>Excision of 1 or more lesions of small or large intestine not requiring anastomosis, exteriorization, or fistulization; single enterotomy</td><td>No Change</td><td>2025-04-02T07:21:28.487Z</td></tr><tr><td>44111</td><td>COLO</td><td>Excision of 1 or more lesions of small or large intestine not requiring anastomosis, exteriorization, or fistulization; multiple enterotomies</td><td>No Change</td><td>2025-04-02T07:21:28.487Z</td></tr><tr><td>44137</td><td>COLO</td><td>Removal of transplanted intestinal allograft, complete</td><td>No Change</td><td>2025-04-02T07:21:28.487Z</td></tr><tr><td>44140</td><td>COLO</td><td>Colectomy, partial; with anastomosis</td><td>No Change</td><td>2025-04-02T07:21:28.487Z</td></tr><tr><td>44141</td><td>COLO</td><td>Colectomy, partial; with skin level cecostomy or colostomy</td><td>No Change</td><td>2025-04-02T07:21:28.487Z</td></tr><tr><td>44143</td><td>COLO</td><td>Colectomy, partial; with end colostomy and closure of distal segment (Hartmann type procedure)</td><td>No Change</td><td>2025-04-02T07:21:28.487Z</td></tr><tr><td>44144</td><td>COLO</td><td>Colectomy, partial; with resection, with colostomy or ileostomy and creation of mucofistula</td><td>No Change</td><td>2025-04-02T07:21:28.487Z</td></tr><tr><td>44145</td><td>COLO</td><td>Colectomy, partial; with coloproctostomy (low pelvic anastomosis)</td><td>No Change</td><td>2025-04-02T07:21:28.487Z</td></tr><tr><td>44146</td><td>COLO</td><td>Colectomy, partial; with coloproctostomy (low pelvic anastomosis), with colostomy</td><td>No Change</td><td>2025-04-02T07:21:28.487Z</td></tr><tr><td>44147</td><td>COLO</td><td>Colectomy, partial; abdominal and transanal approach</td><td>No Change</td><td>2025-04-02T07:21:28.487Z</td></tr><tr><td>44150</td><td>COLO</td><td>Colectomy, total, abdominal, without proctectomy; with ileostomy or ileoproctostomy</td><td>No Change</td><td>2025-04-02T07:21:28.487Z</td></tr><tr><td>44151</td><td>COLO</td><td>Colectomy, total, abdominal, without proctectomy; with continent ileostomy</td><td>No Change</td><td>2025-04-02T07:21:28.487Z</td></tr><tr><td>44155</td><td>COLO</td><td>Colectomy, total, abdominal, with proctectomy; with ileostomy</td><td>No Change</td><td>2025-04-02T07:21:28.487Z</td></tr><tr><td>44156</td><td>COLO</td><td>Colectomy, total, abdominal, with proctectomy; with continent ileostomy</td><td>No Change</td><td>2025-04-02T07:21:28.487Z</td></tr><tr><td>44157</td><td>COLO</td><td>Colectomy, total, abdominal, with proctectomy; with ileoanal anastomosis, includes loop ileostomy, and rectal mucosectomy, when performed</td><td>No Change</td><td>2025-04-02T07:21:28.487Z</td></tr><tr><td>44158</td><td>COLO</td><td>Colectomy, total, abdominal, with proctectomy; with ileoanal anastomosis, creation of ileal reservoir (S or J), includes loop ileostomy, and rectal mucosectomy, when performed</td><td>No Change</td><td>2025-04-02T07:21:28.487Z</td></tr><tr><td>44160</td><td>COLO</td><td>Colectomy, partial, with removal of terminal ileum with ileocolostomy</td><td>No Change</td><td>2025-04-02T07:21:28.487Z</td></tr><tr><td>44188</td><td>COLO</td><td>Laparoscopy, surgical, colostomy or skin level cecostomy</td><td>No Change</td><td>2025-04-02T07:21:28.487Z</td></tr><tr><td>44204</td><td>COLO</td><td>Laparoscopy, surgical; colectomy, partial, with anastomosis</td><td>No Change</td><td>2025-04-02T07:21:28.487Z</td></tr><tr><td>44205</td><td>COLO</td><td>Laparoscopy, surgical; colectomy, partial, with removal of terminal ileum with ileocolostomy</td><td>No Change</td><td>2025-04-02T07:21:28.487Z</td></tr><tr><td>44206</td><td>COLO</td><td>Laparoscopy, surgical; colectomy, partial, with end colostomy and closure of distal segment (Hartmann type procedure)</td><td>No Change</td><td>2025-04-02T07:21:28.487Z</td></tr><tr><td>44207</td><td>COLO</td><td>Laparoscopy, surgical; colectomy, partial, with anastomosis, with coloproctostomy (low pelvic anastomosis)</td><td>No Change</td><td>2025-04-02T07:21:28.487Z</td></tr><tr><td>44208</td><td>COLO</td><td>Laparoscopy, surgical; colectomy, partial, with anastomosis, with coloproctostomy (low pelvic anastomosis) with colostomy</td><td>No Change</td><td>2025-04-02T07:21:28.487Z</td></tr><tr><td>44210</td><td>COLO</td><td>Laparoscopy, surgical; colectomy, total, abdominal, without proctectomy, with ileostomy or ileoproctostomy</td><td>No Change</td><td>2025-04-02T07:21:28.487Z</td></tr><tr><td>44211</td><td>COLO</td><td>Laparoscopy, surgical; colectomy, total, abdominal, with proctectomy, with ileoanal anastomosis, creation of ileal reservoir (S or J), with loop ileostomy, includes rectal mucosectomy, when performed</td><td>No Change</td><td>2025-04-02T07:21:28.487Z</td></tr><tr><td>44212</td><td>COLO</td><td>Laparoscopy, surgical; colectomy, total, abdominal, with proctectomy, with ileostomy</td><td>No Change</td><td>2025-04-02T07:21:28.487Z</td></tr><tr><td>44213</td><td>COLO</td><td>Laparoscopy, surgical, mobilization (take-down) of splenic flexure performed in conjunction with partial colectomy (List separately in No changeition to primary procedure)</td><td>No Change</td><td>2025-04-02T07:21:28.487Z</td></tr><tr><td>44227</td><td>COLO</td><td>Laparoscopy, surgical, closure of enterostomy, large or small intestine, with resection and anastomosis</td><td>No Change</td><td>2025-04-02T07:21:28.487Z</td></tr><tr><td>44320</td><td>COLO</td><td>Colostomy or skin level cecostomy;</td><td>No Change</td><td>2025-04-02T07:21:28.487Z</td></tr><tr><td>44322</td><td>COLO</td><td>Colostomy or skin level cecostomy; with multiple biopsies (eg, for congenital megacolon) (separate procedure)</td><td>No Change</td><td>2025-04-02T07:21:28.487Z</td></tr><tr><td>44340</td><td>COLO</td><td>Revision of colostomy; simple (release of superficial scar) (separate procedure)</td><td>No Change</td><td>2025-04-02T07:21:28.487Z</td></tr><tr><td>44345</td><td>COLO</td><td>Revision of colostomy; complicated (reconstruction in-depth) (separate procedure)</td><td>No Change</td><td>2025-04-02T07:21:28.487Z</td></tr><tr><td>44346</td><td>COLO</td><td>Revision of colostomy; with repair of paracolostomy hernia (separate procedure)</td><td>No Change</td><td>2025-04-02T07:21:28.487Z</td></tr><tr><td>44604</td><td>COLO</td><td>Suture of large intestine (colorrhaphy) for perforated ulcer, diverticulum, wound, injury or rupture (single or multiple perforations); without colostomy</td><td>No Change</td><td>2025-04-02T07:21:28.487Z</td></tr><tr><td>44605</td><td>COLO</td><td>Suture of large intestine (colorrhaphy) for perforated ulcer, diverticulum, wound, injury or rupture (single or multiple perforations); with colostomy</td><td>No Change</td><td>2025-04-02T07:21:28.487Z</td></tr><tr><td>44620</td><td>COLO</td><td>Closure of enterostomy, large or small intestine</td><td>No Change</td><td>2025-04-02T07:21:28.487Z</td></tr><tr><td>44625</td><td>COLO</td><td>Closure of enterostomy, large or small intestine; with resection and anastomosis other than colorectal</td><td>No Change</td><td>2025-04-02T07:21:28.487Z</td></tr><tr><td>44626</td><td>COLO</td><td>Closure of enterostomy, large or small intestine; with resection and colorectal anastomosis (eg, closure of Hartmann type procedure)</td><td>No Change</td><td>2025-04-02T07:21:28.487Z</td></tr><tr><td>61105</td><td>CRAN</td><td>Twist drill hole for subdural or ventricular puncture</td><td>No Change</td><td>2025-04-02T07:21:28.487Z</td></tr><tr><td>61107</td><td>CRAN</td><td>Twist drill hole(s) for subdural, intracerebral, or ventricular puncture; for implanting ventricular catheter, pressure recording device, or other intracerebral monitoring device</td><td>No Change</td><td>2025-04-02T07:21:28.487Z</td></tr><tr><td>61108</td><td>CRAN</td><td>Twist drill hole(s) for subdural, intracerebral, or ventricular puncture; for evacuation and/or drainage of subdural hematoma</td><td>No Change</td><td>2025-04-02T07:21:28.487Z</td></tr><tr><td>61120</td><td>CRAN</td><td>Burr hole(s) for ventricular puncture (including injection of gas, contrast media, dye, or radioactive material)</td><td>No Change</td><td>2025-04-02T07:21:28.487Z</td></tr><tr><td>61140</td><td>CRAN</td><td>Burr hole(s) or trephine; with biopsy of brain or intracranial lesion</td><td>No Change</td><td>2025-04-02T07:21:28.487Z</td></tr><tr><td>61150</td><td>CRAN</td><td>Burr hole(s) or trephine; with drainage of brain abscess or cyst</td><td>No Change</td><td>2025-04-02T07:21:28.487Z</td></tr><tr><td>61151</td><td>CRAN</td><td>Burr hole(s) or trephine; with subsequent tapping (aspiration) of intracranial abscess or cyst</td><td>No Change</td><td>2025-04-02T07:21:28.487Z</td></tr><tr><td>61154</td><td>CRAN</td><td>Burr hole(s) with evacuation and/or drainage of hematoma, extradural or subdural</td><td>No Change</td><td>2025-04-02T07:21:28.487Z</td></tr><tr><td>61156</td><td>CRAN</td><td>Burr hole(s); with aspiration of hematoma or cyst, intracerebral</td><td>No Change</td><td>2025-04-02T07:21:28.487Z</td></tr><tr><td>61210</td><td>CRAN</td><td>Burr hole(s); for implanting ventricular catheter, reservoir, EEG electrode(s), pressure recording device, or other cerebral monitoring device (separate procedure)</td><td>No Change</td><td>2025-04-02T07:21:28.487Z</td></tr><tr><td>61250</td><td>CRAN</td><td>Burr hole(s) or trephine, supratentorial, exploratory, not followed by other surgery</td><td>No Change</td><td>2025-04-02T07:21:28.487Z</td></tr><tr><td>61253</td><td>CRAN</td><td>Burr hole(s) or trephine, infratentorial, unilateral or bilateral</td><td>No Change</td><td>2025-04-02T07:21:28.487Z</td></tr><tr><td>61304</td><td>CRAN</td><td>Craniectomy or craniotomy, exploratory; supratentorial</td><td>No Change</td><td>2025-04-02T07:21:28.487Z</td></tr><tr><td>61305</td><td>CRAN</td><td>Craniectomy or craniotomy, exploratory; infratentorial (posterior fossa)</td><td>No Change</td><td>2025-04-02T07:21:28.487Z</td></tr><tr><td>61312</td><td>CRAN</td><td>Craniectomy or craniotomy for evacuation of hematoma, supratentorial; extradural or subdural</td><td>No Change</td><td>2025-04-02T07:21:28.487Z</td></tr><tr><td>61313</td><td>CRAN</td><td>Craniectomy or craniotomy for evacuation of hematoma, supratentorial; intracerebral</td><td>No Change</td><td>2025-04-02T07:21:28.487Z</td></tr><tr><td>61314</td><td>CRAN</td><td>Craniectomy or craniotomy for evacuation of hematoma, infratentorial; extradural or subdural</td><td>No Change</td><td>2025-04-02T07:21:28.487Z</td></tr><tr><td>61315</td><td>CRAN</td><td>Craniectomy or craniotomy for evacuation of hematoma, infratentorial; intracerebellar</td><td>No Change</td><td>2025-04-02T07:21:28.487Z</td></tr><tr><td>61320</td><td>CRAN</td><td>Craniectomy or craniotomy, drainage of intracranial abscess; supratentorial</td><td>No Change</td><td>2025-04-02T07:21:28.487Z</td></tr><tr><td>61321</td><td>CRAN</td><td>Craniectomy or craniotomy, drainage of intracranial abscess; infratentorial</td><td>No Change</td><td>2025-04-02T07:21:28.487Z</td></tr><tr><td>61322</td><td>CRAN</td><td>Craniectomy or craniotomy, decompressive, with or without duraplasty, for treatment of intracranial hypertension, without evacuation of associated intraparenchymal hematoma; without lobectomy</td><td>No Change</td><td>2025-04-02T07:21:28.487Z</td></tr><tr><td>61323</td><td>CRAN</td><td>Craniectomy or craniotomy, decompressive, with or without duraplasty, for treatment of intracranial hypertension, without evacuation of associated intraparenchymal hematoma; with lobectomy</td><td>No Change</td><td>2025-04-02T07:21:28.487Z</td></tr><tr><td>61330</td><td>CRAN</td><td>Decompression of orbit only, transcranial approach</td><td>No Change</td><td>2025-04-02T07:21:28.487Z</td></tr><tr><td>61333</td><td>CRAN</td><td>Exploration of orbit (transcranial approach); with removal of lesion</td><td>No Change</td><td>2025-04-02T07:21:28.487Z</td></tr><tr><td>61340</td><td>CRAN</td><td>Subtemporal cranial decompression (pseudotumor cerebri, slit ventricle syndrome)</td><td>No Change</td><td>2025-04-02T07:21:28.487Z</td></tr><tr><td>61343</td><td>CRAN</td><td>Craniectomy, suboccipital with cervical laminectomy for decompression of medulla and spinal cord, with or without dural graft (eg, Arnold-Chiari malformation)</td><td>No Change</td><td>2025-04-02T07:21:28.487Z</td></tr><tr><td>61345</td><td>CRAN</td><td>Other cranial decompression, posterior fossa</td><td>No Change</td><td>2025-04-02T07:21:28.487Z</td></tr><tr><td>61458</td><td>CRAN</td><td>Craniectomy, suboccipital; for exploration or decompression of cranial nerves</td><td>No Change</td><td>2025-04-02T07:21:28.487Z</td></tr><tr><td>61460</td><td>CRAN</td><td>for section of 1 or more cranial nerves</td><td>No Change</td><td>2025-04-02T07:21:28.487Z</td></tr><tr><td>61510</td><td>CRAN</td><td>Craniectomy, trephination, bone flap craniotomy; for excision of brain tumor, supratentorial, except meningioma</td><td>No Change</td><td>2025-04-02T07:21:28.487Z</td></tr><tr><td>61512</td><td>CRAN</td><td>Craniectomy, trephination, bone flap craniotomy; for excision of meningioma, supratentorial</td><td>No Change</td><td>2025-04-02T07:21:28.487Z</td></tr><tr><td>61514</td><td>CRAN</td><td>Craniectomy, trephination, bone flap craniotomy; for excision of brain abscess, supratentorial</td><td>No Change</td><td>2025-04-02T07:21:28.487Z</td></tr><tr><td>61516</td><td>CRAN</td><td>Craniectomy, trephination, bone flap craniotomy; for excision or fenestration of cyst, supratentorial</td><td>No Change</td><td>2025-04-02T07:21:28.487Z</td></tr><tr><td>61518</td><td>CRAN</td><td>Craniectomy for excision of brain tumor, infratentorial or posterior fossa; except meningioma, cerebellopontine angle tumor, or midline tumor at base of skull</td><td>No Change</td><td>2025-04-02T07:21:28.487Z</td></tr><tr><td>61519</td><td>CRAN</td><td>Craniectomy for excision of brain tumor, infratentorial or posterior fossa; meningioma</td><td>No Change</td><td>2025-04-02T07:21:28.487Z</td></tr><tr><td>61520</td><td>CRAN</td><td>Craniectomy for excision of brain tumor, infratentorial or posterior fossa; cerebellopontine angle tumor</td><td>No Change</td><td>2025-04-02T07:21:28.487Z</td></tr><tr><td>61521</td><td>CRAN</td><td>Craniectomy for excision of brain tumor, infratentorial or posterior fossa; midline tumor at base of skull</td><td>No Change</td><td>2025-04-02T07:21:28.487Z</td></tr><tr><td>61522</td><td>CRAN</td><td>Craniectomy, infratentorial or posterior fossa; for excision of brain abscess</td><td>No Change</td><td>2025-04-02T07:21:28.487Z</td></tr><tr><td>61524</td><td>CRAN</td><td>Craniectomy, infratentorial or posterior fossa; for excision or fenestration of cyst</td><td>No Change</td><td>2025-04-02T07:21:28.487Z</td></tr><tr><td>61526</td><td>CRAN</td><td>Craniectomy, bone flap craniotomy, transtemporal (mastoid) for excision of cerebellopontine angle tumor;</td><td>No Change</td><td>2025-04-02T07:21:28.487Z</td></tr><tr><td>61530</td><td>CRAN</td><td>Craniectomy, bone flap craniotomy, transtemporal (mastoid) for excision of cerebellopontine angle tumor; combined with middle/posterior fossa craniotomy/craniectomy</td><td>No Change</td><td>2025-04-02T07:21:28.487Z</td></tr><tr><td>61531</td><td>CRAN</td><td>Subdural implantation of strip electrodes through 1 or more burr or trephine hole(s) for long-term seizure monitoring</td><td>No Change</td><td>2025-04-02T07:21:28.487Z</td></tr><tr><td>61533</td><td>CRAN</td><td>Craniotomy with elevation of bone flap; for subdural implantation of an electrode array, for long-term seizure monitoring</td><td>No Change</td><td>2025-04-02T07:21:28.487Z</td></tr><tr><td>61534</td><td>CRAN</td><td>Craniotomy with elevation of bone flap; for excision of epileptogenic focus without electrocorticography during surgery</td><td>No Change</td><td>2025-04-02T07:21:28.487Z</td></tr><tr><td>61535</td><td>CRAN</td><td>Craniotomy with elevation of bone flap; for removal of epidural or subdural electrode array, without excision of cerebral tissue (separate procedure)</td><td>No Change</td><td>2025-04-02T07:21:28.487Z</td></tr><tr><td>61536</td><td>CRAN</td><td>Craniotomy with elevation of bone flap; for excision of cerebral epileptogenic focus, with electrocorticography during surgery (includes removal of electrode array)</td><td>No Change</td><td>2025-04-02T07:21:28.487Z</td></tr><tr><td>61537</td><td>CRAN</td><td>Craniotomy with elevation of bone flap; for lobectomy, temporal lobe, without electrocorticography during surgery</td><td>No Change</td><td>2025-04-02T07:21:28.487Z</td></tr><tr><td>61538</td><td>CRAN</td><td>Craniotomy with elevation of bone flap; for lobectomy, temporal lobe, with electrocorticography during surgery</td><td>No Change</td><td>2025-04-02T07:21:28.487Z</td></tr><tr><td>61539</td><td>CRAN</td><td>Craniotomy with elevation of bone flap; for lobectomy, other than temporal lobe, partial or total, with electrocorticography during surgery</td><td>No Change</td><td>2025-04-02T07:21:28.487Z</td></tr><tr><td>61540</td><td>CRAN</td><td>Craniotomy with elevation of bone flap; for lobectomy, other than temporal lobe, partial or total, without electrocorticography during surgery</td><td>No Change</td><td>2025-04-02T07:21:28.487Z</td></tr><tr><td>61541</td><td>CRAN</td><td>Craniotomy with elevation of bone flap; for transection of corpus callosum</td><td>No Change</td><td>2025-04-02T07:21:28.487Z</td></tr><tr><td>61543</td><td>CRAN</td><td>Craniotomy with elevation of bone flap; for partial or subtotal (functional) hemispherectomy</td><td>No Change</td><td>2025-04-02T07:21:28.487Z</td></tr><tr><td>61544</td><td>CRAN</td><td>Craniotomy with elevation of bone flap; for excision or coagulation of choroid plexus</td><td>No Change</td><td>2025-04-02T07:21:28.487Z</td></tr><tr><td>61545</td><td>CRAN</td><td>Craniotomy with elevation of bone flap; for excision of craniopharyngioma</td><td>No Change</td><td>2025-04-02T07:21:28.487Z</td></tr><tr><td>61546</td><td>CRAN</td><td>Craniotomy for hypophysectomy or excision of pituitary tumor, intracranial approach</td><td>No Change</td><td>2025-04-02T07:21:28.487Z</td></tr><tr><td>61548</td><td>CRAN</td><td>Hypophysectomy or excision of pituitary tumor, transnasal or transseptal approach, nonstereotactic</td><td>No Change</td><td>2025-04-02T07:21:28.487Z</td></tr><tr><td>61566</td><td>CRAN</td><td>Craniotomy with elevation of bone flap; for selective amygdalohippocampectomy</td><td>No Change</td><td>2025-04-02T07:21:28.487Z</td></tr><tr><td>61567</td><td>CRAN</td><td>Craniotomy with elevation of bone flap; for multiple subpial transections, with electrocorticography during surgery</td><td>No Change</td><td>2025-04-02T07:21:28.487Z</td></tr><tr><td>61570</td><td>CRAN</td><td>Craniectomy or craniotomy; with excision of foreign body from brain</td><td>No Change</td><td>2025-04-02T07:21:28.487Z</td></tr><tr><td>61571</td><td>CRAN</td><td>Craniectomy or craniotomy; with treatment of penetrating wound of brain</td><td>No Change</td><td>2025-04-02T07:21:28.487Z</td></tr><tr><td>61575</td><td>CRAN</td><td>Transoral approach to skull base, brain stem or upper spinal cord for biopsy, decompression or excision of lesion;</td><td>No Change</td><td>2025-04-02T07:21:28.487Z</td></tr><tr><td>61576</td><td>CRAN</td><td>Transoral approach to skull base, brain stem or upper spinal cord for biopsy, decompression or excision of lesion; requiring splitting of tongue and/or mandible (including tracheostomy)</td><td>No Change</td><td>2025-04-02T07:21:28.487Z</td></tr><tr><td>61580</td><td>CRAN</td><td>Craniofacial approach to anterior cranial fossa; extradural, including lateral rhinotomy, ethmoidectomy, sphenoidectomy, without maxillectomy or orbital exenteration</td><td>No Change</td><td>2025-04-02T07:21:28.487Z</td></tr><tr><td>61581</td><td>CRAN</td><td>Craniofacial approach to anterior cranial fossa; extradural, including lateral rhinotomy, orbital exenteration, ethmoidectomy, sphenoidectomy and/or maxillectomy</td><td>No Change</td><td>2025-04-02T07:21:28.487Z</td></tr><tr><td>61582</td><td>CRAN</td><td>Craniofacial approach to anterior cranial fossa; extradural, including unilateral or bifrontal craniotomy, elevation of frontal lobe(s), osteotomy of base of anterior cranial fossa</td><td>No Change</td><td>2025-04-02T07:21:28.487Z</td></tr><tr><td>61583</td><td>CRAN</td><td>Craniofacial approach to anterior cranial fossa; intradural, including unilateral or bifrontal craniotomy, elevation or resection of frontal lobe, osteotomy of base of anterior cranial fossa</td><td>No Change</td><td>2025-04-02T07:21:28.487Z</td></tr><tr><td>61584</td><td>CRAN</td><td>Orbitocranial approach to anterior cranial fossa, extradural, including supraorbital ridge osteotomy and elevation of frontal and/or temporal lobe(s); without orbital exenteration</td><td>No Change</td><td>2025-04-02T07:21:28.487Z</td></tr><tr><td>61585</td><td>CRAN</td><td>Orbitocranial approach to anterior cranial fossa, extradural, including supraorbital ridge osteotomy and elevation of frontal and/or temporal lobe(s); with orbital exenteration</td><td>No Change</td><td>2025-04-02T07:21:28.487Z</td></tr><tr><td>61586</td><td>CRAN</td><td>Bicoronal, transzygomatic and/or LeFort I osteotomy approach to anterior cranial fossa with or without internal fixation, without bone graft</td><td>No Change</td><td>2025-04-02T07:21:28.487Z</td></tr><tr><td>61590</td><td>CRAN</td><td>Infratemporal pre-auricular approach to middle cranial fossa (parapharyngeal space, infratemporal and midline skull base, nasopharynx), with or without disarticulation of the mandible, including parotidectomy, craniotomy, decompression and/or mobilization</td><td>No Change</td><td>2025-04-02T07:21:28.487Z</td></tr><tr><td>61591</td><td>CRAN</td><td>Infratemporal post-auricular approach to middle cranial fossa (internal auditory meatus, petrous apex, tentorium, cavernous sinus, parasellar area, infratemporal fossa) including mastoidectomy, resection of sigmoid sinus, with or without decompression and</td><td>No Change</td><td>2025-04-02T07:21:28.487Z</td></tr><tr><td>61592</td><td>CRAN</td><td>Orbitocranial zygomatic approach to middle cranial fossa (cavernous sinus and carotid artery, clivus, basilar artery or petrous apex) including osteotomy of zygoma, craniotomy, extra- or intradural elevation of temporal lobe</td><td>No Change</td><td>2025-04-02T07:21:28.487Z</td></tr><tr><td>61595</td><td>CRAN</td><td>Transtemporal approach to posterior cranial fossa, jugular foramen or midline skull base, including mastoidectomy, decompression of sigmoid sinus and/or facial nerve, with or without mobilization</td><td>No Change</td><td>2025-04-02T07:21:28.487Z</td></tr><tr><td>61598</td><td>CRAN</td><td>Transpetrosal approach to posterior cranial fossa, clivus or foramen magnum, including ligation of superior petrosal sinus and/or sigmoid sinus</td><td>No Change</td><td>2025-04-02T07:21:28.487Z</td></tr><tr><td>61600</td><td>CRAN</td><td>Resection or excision of neoplastic, vascular or infectious lesion of base of anterior cranial fossa; extradural</td><td>No Change</td><td>2025-04-02T07:21:28.487Z</td></tr><tr><td>61601</td><td>CRAN</td><td>Resection or excision of neoplastic, vascular or infectious lesion of base of anterior cranial fossa; intradural, including dural repair, with or without graft</td><td>No Change</td><td>2025-04-02T07:21:28.487Z</td></tr><tr><td>61605</td><td>CRAN</td><td>Resection or excision of neoplastic, vascular or infectious lesion of infratemporal fossa, parapharyngeal space, petrous apex; extradural</td><td>No Change</td><td>2025-04-02T07:21:28.487Z</td></tr><tr><td>61606</td><td>CRAN</td><td>Resection or excision of neoplastic, vascular or infectious lesion of infratemporal fossa, parapharyngeal space, petrous apex; intradural, including dural repair, with or without graft</td><td>No Change</td><td>2025-04-02T07:21:28.487Z</td></tr><tr><td>61607</td><td>CRAN</td><td>Resection or excision of neoplastic, vascular or infectious lesion of parasellar area, cavernous sinus, clivus or midline skull base; extradural</td><td>No Change</td><td>2025-04-02T07:21:28.487Z</td></tr><tr><td>61608</td><td>CRAN</td><td>Resection or excision of neoplastic, vascular or infectious lesion of parasellar area, cavernous sinus, clivus or midline skull base; intradural, including dural repair, with or without graft</td><td>No Change</td><td>2025-04-02T07:21:28.487Z</td></tr><tr><td>61615</td><td>CRAN</td><td>Resection or excision of neoplastic, vascular or infectious lesion of base of posterior cranial fossa, jugular foramen, foramen magnum, or C1-C3 vertebral bodies; extradural</td><td>No Change</td><td>2025-04-02T07:21:28.487Z</td></tr><tr><td>61616</td><td>CRAN</td><td>Resection or excision of neoplastic, vascular or infectious lesion of base of posterior cranial fossa, jugular foramen, foramen magnum, or C1-C3 vertebral bodies; intradural, including dural repair, with or without graft</td><td>No Change</td><td>2025-04-02T07:21:28.487Z</td></tr><tr><td>61618</td><td>CRAN</td><td>Secondary repair of dura for cerebrospinal fluid leak, anterior, middle or posterior cranial fossa following surgery of the skull base; by free tissue graft (eg, pericranium, fascia, tensor fascia lata, adipose tissue, homologous or synthetic grafts)</td><td>No Change</td><td>2025-04-02T07:21:28.487Z</td></tr><tr><td>61619</td><td>CRAN</td><td>Secondary repair of dura for cerebrospinal fluid leak, anterior, middle or posterior cranial fossa following surgery of the skull base; by local or regionalized vascularized pedicle flap or myocutaneous flap (including galea, temporalis, frontalis or occi</td><td>No Change</td><td>2025-04-02T07:21:28.487Z</td></tr><tr><td>61680</td><td>CRAN</td><td>Surgery of intracranial arteriovenous malformation; supratentorial, simple</td><td>No Change</td><td>2025-04-02T07:21:28.487Z</td></tr><tr><td>61682</td><td>CRAN</td><td>Surgery of intracranial arteriovenous malformation; supratentorial, complex</td><td>No Change</td><td>2025-04-02T07:21:28.487Z</td></tr><tr><td>61684</td><td>CRAN</td><td>Surgery of intracranial arteriovenous malformation; infratentorial, simple</td><td>No Change</td><td>2025-04-02T07:21:28.487Z</td></tr><tr><td>61686</td><td>CRAN</td><td>Surgery of intracranial arteriovenous malformation; infratentorial, complex</td><td>No Change</td><td>2025-04-02T07:21:28.487Z</td></tr><tr><td>61690</td><td>CRAN</td><td>Surgery of intracranial arteriovenous malformation; dural, simple</td><td>No Change</td><td>2025-04-02T07:21:28.487Z</td></tr><tr><td>61692</td><td>CRAN</td><td>Surgery of intracranial arteriovenous malformation; dural, complex</td><td>No Change</td><td>2025-04-02T07:21:28.487Z</td></tr><tr><td>61697</td><td>CRAN</td><td>Surgery of complex intracranial aneurysm, intracranial approach; carotid circulation</td><td>No Change</td><td>2025-04-02T07:21:28.487Z</td></tr><tr><td>61698</td><td>CRAN</td><td>Surgery of complex intracranial aneurysm, intracranial approach; vertebrobasilar circulation</td><td>No Change</td><td>2025-04-02T07:21:28.487Z</td></tr><tr><td>61700</td><td>CRAN</td><td>Surgery of simple intracranial aneurysm, intracranial approach; carotid circulation</td><td>No Change</td><td>2025-04-02T07:21:28.487Z</td></tr><tr><td>61702</td><td>CRAN</td><td>Surgery of simple intracranial aneurysm, intracranial approach; vertebrobasilar circulation</td><td>No Change</td><td>2025-04-02T07:21:28.487Z</td></tr><tr><td>61703</td><td>CRAN</td><td>Surgery of intracranial aneurysm, cervical approach by application of occluding clamp to cervical carotid artery (Selverstone-Crutchfield type)</td><td>No Change</td><td>2025-04-02T07:21:28.487Z</td></tr><tr><td>61705</td><td>CRAN</td><td>Surgery of aneurysm, vascular malformation or carotid-cavernous fistula; by intracranial and cervical occlusion of carotid artery</td><td>No Change</td><td>2025-04-02T07:21:28.487Z</td></tr><tr><td>61708</td><td>CRAN</td><td>Surgery of aneurysm, vascular malformation or carotid-cavernous fistula; by intracranial electrothrombosis</td><td>No Change</td><td>2025-04-02T07:21:28.487Z</td></tr><tr><td>61710</td><td>CRAN</td><td>Surgery of aneurysm, vascular malformation or carotid-cavernous fistula; by intra-arterial embolization, injection procedure, or balloon catheter</td><td>No Change</td><td>2025-04-02T07:21:28.487Z</td></tr><tr><td>61711</td><td>CRAN</td><td>Anastomosis, arterial, extracranial-intracranial (eg, middle cerebral/cortical) arteries</td><td>No Change</td><td>2025-04-02T07:21:28.487Z</td></tr><tr><td>61720</td><td>CRAN</td><td>Creation of lesion by stereotactic method, including burr hole(s) and localizing and recording techniques, single or multiple stages; globus pallidus or thalamus</td><td>No Change</td><td>2025-04-02T07:21:28.487Z</td></tr><tr><td>61735</td><td>CRAN</td><td>Creation of lesion by stereotactic method, including burr hole(s) and localizing and recording techniques, single or multiple stages; subcortical structure(s) other than globus pallidus or thalamus</td><td>No Change</td><td>2025-04-02T07:21:28.487Z</td></tr><tr><td>61736</td><td>CRAN</td><td>Single-trajectory laser interstitial thermal therapy (LITT) of 1 simple intracranial lesion, including burr hole, with magnetic resonance imaging guidance</td><td>No change</td><td>2025-04-02T07:21:28.487Z</td></tr><tr><td>61737</td><td>CRAN</td><td>Multiple-trajectory laser interstitial thermal therapy (LITT) of complex intracranial lesion, including burr hole</td><td>No change</td><td>2025-04-02T07:21:28.487Z</td></tr><tr><td>61750</td><td>CRAN</td><td>Stereotactic biopsy, aspiration, or excision, including burr hole(s), for intracranial lesion</td><td>No Change</td><td>2025-04-02T07:21:28.487Z</td></tr><tr><td>61751</td><td>CRAN</td><td>Stereotactic biopsy, aspiration, or excision, including burr hole(s), for intracranial lesion; with computed tomography and/or magnetic resonance guidance</td><td>No Change</td><td>2025-04-02T07:21:28.487Z</td></tr><tr><td>61760</td><td>CRAN</td><td>Stereotactic implantation of depth electrodes into the cerebrum for long-term seizure monitoring</td><td>No Change</td><td>2025-04-02T07:21:28.487Z</td></tr><tr><td>61770</td><td>CRAN</td><td>Stereotactic localization, including burr hole(s), with insertion of catheter(s) or probe(s) for placement of radiation source</td><td>No Change</td><td>2025-04-02T07:21:28.487Z</td></tr><tr><td>61850</td><td>CRAN</td><td>Twist drill or burr hole(s) for implantation of neurostimulator electrodes, cortical</td><td>No Change</td><td>2025-04-02T07:21:28.487Z</td></tr><tr><td>61860</td><td>CRAN</td><td>Craniectomy or craniotomy for implantation of neurostimulator electrodes, cerebral, cortical</td><td>No Change</td><td>2025-04-02T07:21:28.487Z</td></tr><tr><td>61863</td><td>CRAN</td><td>Twist drill, burr hole, craniotomy, or craniectomy with stereotactic implantation of neurostimulator electrode array in subcortical site (eg, thalamus, globus pallidus, subthalamic nucleus, periventricular, periaqueductal gray), without use of intraoperative microelectrode recording; first array</td><td>No Change</td><td>2025-04-02T07:21:28.487Z</td></tr><tr><td>61867</td><td>CRAN</td><td>Twist drill, burr hole, craniotomy, or craniectomy with stereotactic implantation of neurostimulator electrode array in subcortical site (eg, thalamus, globus pallidus, subthalamic nucleus, periventricular, periaqueductal gray), with use of intraoperative microelectrode recording; first array</td><td>No Change</td><td>2025-04-02T07:21:28.487Z</td></tr><tr><td>61870</td><td>CRAN</td><td>Craniectomy for implantation of neurostimulator electrodes, cerebellar; cortical</td><td>No Change</td><td>2025-04-02T07:21:28.487Z</td></tr><tr><td>61880</td><td>CRAN</td><td>Revision or removal of intracranial neurostimulator electrodes</td><td>No Change</td><td>2025-04-02T07:21:28.487Z</td></tr><tr><td>62000</td><td>CRAN</td><td>Elevation of depressed skull fracture; simple, extradural</td><td>No Change</td><td>2025-04-02T07:21:28.487Z</td></tr><tr><td>62005</td><td>CRAN</td><td>Elevation of depressed skull fracture; compound or comminuted, extradural</td><td>No Change</td><td>2025-04-02T07:21:28.487Z</td></tr><tr><td>62010</td><td>CRAN</td><td>Elevation of depressed skull fracture; with repair of dura and/or debridement of brain</td><td>No Change</td><td>2025-04-02T07:21:28.487Z</td></tr><tr><td>62100</td><td>CRAN</td><td>Craniotomy for repair of dural/cerebrospinal fluid leak, including surgery for rhinorrhea/otorrhea</td><td>No Change</td><td>2025-04-02T07:21:28.487Z</td></tr><tr><td>62120</td><td>CRAN</td><td>Repair of encephalocele, skull vault, including cranioplasty</td><td>No Change</td><td>2025-04-02T07:21:28.487Z</td></tr><tr><td>62121</td><td>CRAN</td><td>Craniotomy for repair of encephalocele, skull base</td><td>No Change</td><td>2025-04-02T07:21:28.487Z</td></tr><tr><td>62161</td><td>CRAN</td><td>Neuroendoscopy, intracranial; with dissection of adhesions, fenestration of septum pellucidum or intraventricular cysts (including placement, replacement, or removal of ventricular catheter)</td><td>No Change</td><td>2025-04-02T07:21:28.487Z</td></tr><tr><td>62163</td><td>CRAN</td><td>Neuroendoscopy, intracranial; with retrieval of foreign body</td><td>No Change</td><td>2025-04-02T07:21:28.487Z</td></tr><tr><td>62164</td><td>CRAN</td><td>Neuroendoscopy, intracranial; with excision of brain tumor, including placement of external ventricular catheter for drainage</td><td>No Change</td><td>2025-04-02T07:21:28.487Z</td></tr><tr><td>62165</td><td>CRAN</td><td>Neuroendoscopy, intracranial; with excision of pituitary tumor, transnasal or trans-sphenoidal approach</td><td>No Change</td><td>2025-04-02T07:21:28.487Z</td></tr><tr><td>62200</td><td>CRAN</td><td>Ventriculocisternostomy, third ventricle;</td><td>No Change</td><td>2025-04-02T07:21:28.487Z</td></tr><tr><td>62201</td><td>CRAN</td><td>Ventriculocisternostomy, third ventricle; stereotactic, neuroendoscopic method</td><td>No Change</td><td>2025-04-02T07:21:28.487Z</td></tr><tr><td>59100</td><td>CSEC</td><td>Hysterotomy, abdominal (e.g., for hydatidiform mole, abortion)</td><td>No Change</td><td>2025-04-02T07:21:28.487Z</td></tr><tr><td>59510</td><td>CSEC</td><td>Routine obstetric care including antepartum care, cesarean delivery, and postpartum care</td><td>No Change</td><td>2025-04-02T07:21:28.487Z</td></tr><tr><td>59514</td><td>CSEC</td><td>Cesarean delivery only;</td><td>No Change</td><td>2025-04-02T07:21:28.487Z</td></tr><tr><td>59515</td><td>CSEC</td><td>Cesarean delivery only; including postpartum care</td><td>No Change</td><td>2025-04-02T07:21:28.487Z</td></tr><tr><td>59618</td><td>CSEC</td><td>Routine obstetric care including antepartum care, cesarean delivery, and postpartum care, following attempted vaginal delivery after previous cesarean delivery</td><td>No Change</td><td>2025-04-02T07:21:28.487Z</td></tr><tr><td>59620</td><td>CSEC</td><td>Cesarean delivery only, following attempted vaginal delivery after previous cesarean delivery;</td><td>No Change</td><td>2025-04-02T07:21:28.487Z</td></tr><tr><td>59622</td><td>CSEC</td><td>Cesarean delivery only, following attempted vaginal delivery after previous cesarean delivery; including postpartum care</td><td>No Change</td><td>2025-04-02T07:21:28.487Z</td></tr><tr><td>59857</td><td>CSEC</td><td>Induced abortion, by 1 or more vaginal suppositories (e.g., prostaglandin) with or without cervical dilation (e.g., laminaria), including hospital admission and visits, delivery of fetus and secundines; with hysterotomy (failed medical evacuation)</td><td>No Change</td><td>2025-04-02T07:21:28.487Z</td></tr><tr><td>22532</td><td>FUSN</td><td>Arthrodesis, lateral extracavitary technique, including minimal discectomy to prepare interspace (other than for decompression); thoracic</td><td>No Change</td><td>2025-04-02T07:21:28.487Z</td></tr><tr><td>22533</td><td>FUSN</td><td>Arthrodesis, lateral extracavitary technique, including minimal discectomy to prepare interspace (other than for decompression); lumbar</td><td>No Change</td><td>2025-04-02T07:21:28.487Z</td></tr><tr><td>22548</td><td>FUSN</td><td>Arthrodesis, anterior transoral or extraoral technique, clivus-C1-C2 (atlas-axis), with or without excision of odontoid process</td><td>No Change</td><td>2025-04-02T07:21:28.487Z</td></tr><tr><td>22551</td><td>FUSN</td><td>Arthrodesis, anterior interbody, including disc space preparation, discectomy, osteophytectomy and decompression of spinal cord and/or nerve roots; cervical below C2</td><td>No Change</td><td>2025-04-02T07:21:28.487Z</td></tr><tr><td>22554</td><td>FUSN</td><td>Arthrodesis, anterior interbody technique, including minimal discectomy to prepare interspace (other than for decompression); cervical below C2</td><td>No Change</td><td>2025-04-02T07:21:28.487Z</td></tr><tr><td>22556</td><td>FUSN</td><td>Arthrodesis, anterior interbody technique, including minimal discectomy to prepare interspace (other than for decompression); thoracic</td><td>No Change</td><td>2025-04-02T07:21:28.487Z</td></tr><tr><td>22558</td><td>FUSN</td><td>Arthrodesis, anterior interbody technique, including minimal discectomy to prepare interspace (other than for decompression); lumbar</td><td>No Change</td><td>2025-04-02T07:21:28.487Z</td></tr><tr><td>22586</td><td>FUSN</td><td>Arthrodesis, pre-sacral interbody technique, including disc space preparation, discectomy, with posterior instrumentation, with image guidance, includes bone graft when performed, L5-S1 interspace</td><td>No Change</td><td>2025-04-02T07:21:28.487Z</td></tr><tr><td>22590</td><td>FUSN</td><td>Arthrodesis, posterior technique, craniocervical (occiput-C2)</td><td>No Change</td><td>2025-04-02T07:21:28.487Z</td></tr><tr><td>22595</td><td>FUSN</td><td>Arthrodesis, posterior technique, atlas-axis (C1-C2)</td><td>No Change</td><td>2025-04-02T07:21:28.487Z</td></tr><tr><td>22600</td><td>FUSN</td><td>Arthrodesis, posterior or posterolateral technique, single level; cervical below C2 segment</td><td>No Change</td><td>2025-04-02T07:21:28.487Z</td></tr><tr><td>22610</td><td>FUSN</td><td>Arthrodesis, posterior or posterolateral technique, single level; thoracic (with lateral transverse technique, when performed)</td><td>No Change</td><td>2025-04-02T07:21:28.487Z</td></tr><tr><td>22612</td><td>FUSN</td><td>Arthrodesis, posterior or posterolateral technique, single level; lumbar (with lateral transverse technique, when performed)</td><td>No Change</td><td>2025-04-02T07:21:28.487Z</td></tr><tr><td>22630</td><td>FUSN</td><td>Arthrodesis, posterior interbody technique, including laminectomy and/or discectomy to prepare interspace (other than for decompression), single interspace; lumbar</td><td>No Change</td><td>2025-04-02T07:21:28.487Z</td></tr><tr><td>22633</td><td>FUSN</td><td>Arthrodesis, combined posterior or posterolateral technique with posterior interbody technique including laminectomy and/or discectomy sufficient to prepare interspace (other than for decompression), single interspace and segment; lumbar</td><td>No Change</td><td>2025-04-02T07:21:28.487Z</td></tr><tr><td>22800</td><td>FUSN</td><td>Arthrodesis, posterior, for spinal deformity, with or without cast; up to 6 vertebral segments</td><td>No Change</td><td>2025-04-02T07:21:28.487Z</td></tr><tr><td>22802</td><td>FUSN</td><td>Arthrodesis, posterior, for spinal deformity, with or without cast; 7 to 12 vertebral segments</td><td>No Change</td><td>2025-04-02T07:21:28.487Z</td></tr><tr><td>22804</td><td>FUSN</td><td>Arthrodesis, posterior, for spinal deformity, with or without cast; 13 or more vertebral segments</td><td>No Change</td><td>2025-04-02T07:21:28.487Z</td></tr><tr><td>22808</td><td>FUSN</td><td>Arthrodesis, anterior, for spinal deformity, with or without cast; 2 to 3 vertebral segments</td><td>No Change</td><td>2025-04-02T07:21:28.487Z</td></tr><tr><td>22810</td><td>FUSN</td><td>Arthrodesis, anterior, for spinal deformity, with or without cast; 4 to 7 vertebral segments</td><td>No Change</td><td>2025-04-02T07:21:28.487Z</td></tr><tr><td>22812</td><td>FUSN</td><td>Arthrodesis, anterior, for spinal deformity, with or without cast; 8 or more vertebral segments</td><td>No Change</td><td>2025-04-02T07:21:28.487Z</td></tr><tr><td>27280</td><td>FUSN</td><td>Arthrodesis, open, sacroiliac joint, including obtaining bone graft, including instrumentation, when performed</td><td>No Change</td><td>2025-04-02T07:21:28.487Z</td></tr><tr><td>23615</td><td>FX</td><td>Open treatment of proximal humeral (surgical or anatomical neck) fracture, includes internal fixation, when performed, includes repair of tuberosity(s), when performed;</td><td>No Change</td><td>2025-04-02T07:21:28.487Z</td></tr><tr><td>23616</td><td>FX</td><td>Open treatment of proximal humeral (surgical or anatomical neck) fracture, includes internal fixation, when performed, includes repair of tuberosity(s), when performed; with proximal humeral prosthetic replacement</td><td>No Change</td><td>2025-04-02T07:21:28.487Z</td></tr><tr><td>23630</td><td>FX</td><td>Open treatment of greater humeral tuberosity fracture, includes internal fixation, when performed</td><td>No Change</td><td>2025-04-02T07:21:28.487Z</td></tr><tr><td>23670</td><td>FX</td><td>Open treatment of shoulder dislocation, with fracture of greater humeral tuberosity, includes internal fixation, when performed</td><td>No Change</td><td>2025-04-02T07:21:28.487Z</td></tr><tr><td>23680</td><td>FX</td><td>Open treatment of shoulder dislocation, with surgical or anatomical neck fracture, includes internal fixation, when performed</td><td>No Change</td><td>2025-04-02T07:21:28.487Z</td></tr><tr><td>24515</td><td>FX</td><td>Open treatment of humeral shaft fracture with plate/screws, with or without cerclage</td><td>No Change</td><td>2025-04-02T07:21:28.487Z</td></tr><tr><td>24516</td><td>FX</td><td>Treatment of humeral shaft fracture, with insertion of intramedullary implant, with or without cerclage and/or locking screws</td><td>No Change</td><td>2025-04-02T07:21:28.487Z</td></tr><tr><td>24545</td><td>FX</td><td>Open treatment of humeral supracondylar or transcondylar fracture, includes internal fixation, when performed; without intercondylar extension</td><td>No Change</td><td>2025-04-02T07:21:28.487Z</td></tr><tr><td>24546</td><td>FX</td><td>Open treatment of humeral supracondylar or transcondylar fracture, includes internal fixation, when performed; with intercondylar extension</td><td>No Change</td><td>2025-04-02T07:21:28.487Z</td></tr><tr><td>24575</td><td>FX</td><td>Open treatment of humeral epicondylar fracture, medial or lateral, includes internal fixation, when performed</td><td>No Change</td><td>2025-04-02T07:21:28.487Z</td></tr><tr><td>24579</td><td>FX</td><td>Open treatment of humeral condylar fracture, medial or lateral, includes internal fixation, when performed</td><td>No Change</td><td>2025-04-02T07:21:28.487Z</td></tr><tr><td>24586</td><td>FX</td><td>Open treatment of periarticular fracture and/or dislocation of the elbow (fracture distal humerus and proximal ulna and/or proximal radius);</td><td>No Change</td><td>2025-04-02T07:21:28.487Z</td></tr><tr><td>24587</td><td>FX</td><td>Open treatment of periarticular fracture and/or dislocation of the elbow (fracture distal humerus and proximal ulna and/or proximal radius); with implant arthroplasty</td><td>No Change</td><td>2025-04-02T07:21:28.487Z</td></tr><tr><td>24635</td><td>FX</td><td>Open treatment of Monteggia type of fracture dislocation at elbow (fracture proximal end of ulna with dislocation of radial head), includes internal fixation, when performed</td><td>No Change</td><td>2025-04-02T07:21:28.487Z</td></tr><tr><td>24665</td><td>FX</td><td>Open treatment of radial head or neck fracture, includes internal fixation or radial head excision, when performed;</td><td>No Change</td><td>2025-04-02T07:21:28.487Z</td></tr><tr><td>24666</td><td>FX</td><td>Open treatment of radial head or neck fracture, includes internal fixation or radial head excision, when performed; with radial head prosthetic replacement</td><td>No Change</td><td>2025-04-02T07:21:28.487Z</td></tr><tr><td>24685</td><td>FX</td><td>Open treatment of ulnar fracture, proximal end (eg, olecranon or coronoid process[es]), includes internal fixation, when performed</td><td>No Change</td><td>2025-04-02T07:21:28.487Z</td></tr><tr><td>25337</td><td>FX</td><td>Reconstruction for stabilization of unstable distal ulna or distal radioulnar joint, secondary by soft tissue stabilization (eg, tendon transfer, tendon graft or weave, or tenodesis) with or without open reduction of distal radioulnar joint</td><td>No Change</td><td>2025-04-02T07:21:28.487Z</td></tr><tr><td>25515</td><td>FX</td><td>Open treatment of radial shaft fracture, includes internal fixation, when performed</td><td>No Change</td><td>2025-04-02T07:21:28.487Z</td></tr><tr><td>25525</td><td>FX</td><td>Open treatment of radial shaft fracture, includes internal fixation, when performed, and open treatment of distal radioulnar joint dislocation (Galeazzi fracture/ dislocation), includes percutaneous skeletal fixation when performed</td><td>No Change</td><td>2025-04-02T07:21:28.487Z</td></tr><tr><td>25526</td><td>FX</td><td>Open treatment of radial shaft fracture, includes internal fixation, when performed, and open treatment of distal radioulnar joint dislocation (Galeazzi fracture/ dislocation), includes internal fixation, when performed, includes repair of triangular fibrocartilage complex</td><td>No Change</td><td>2025-04-02T07:21:28.487Z</td></tr><tr><td>25545</td><td>FX</td><td>Open treatment of ulnar shaft fracture, includes internal fixation, when performed</td><td>No Change</td><td>2025-04-02T07:21:28.487Z</td></tr><tr><td>25574</td><td>FX</td><td>Open treatment of radial AND ulnar shaft fractures, with internal fixation, when performed; of radius OR ulna</td><td>No Change</td><td>2025-04-02T07:21:28.487Z</td></tr><tr><td>25575</td><td>FX</td><td>Open treatment of radial AND ulnar shaft fractures, with internal fixation, when performed; of radius AND ulna</td><td>No Change</td><td>2025-04-02T07:21:28.487Z</td></tr><tr><td>25607</td><td>FX</td><td>Open treatment of distal radial extra-articular fracture or epiphyseal separation, with internal fixation</td><td>No Change</td><td>2025-04-02T07:21:28.487Z</td></tr><tr><td>25608</td><td>FX</td><td>Open treatment of distal radial intra-articular fracture or epiphyseal separation; with internal fixation of 2 fragments</td><td>No Change</td><td>2025-04-02T07:21:28.487Z</td></tr><tr><td>25609</td><td>FX</td><td>Open treatment of distal radial intra-articular fracture or epiphyseal separation; with internal fixation of 3 or more fragments</td><td>No Change</td><td>2025-04-02T07:21:28.487Z</td></tr><tr><td>25652</td><td>FX</td><td>Open treatment of ulnar styloid fracture</td><td>No Change</td><td>2025-04-02T07:21:28.487Z</td></tr><tr><td>27177</td><td>FX</td><td>Open treatment of slipped femoral epiphysis; single or multiple pinning or bone graft (includes obtaining graft)</td><td>No Change</td><td>2025-04-02T07:21:28.487Z</td></tr><tr><td>27178</td><td>FX</td><td>Open treatment of slipped femoral epiphysis; closed manipulation with single or multiple pinning</td><td>No Change</td><td>2025-04-02T07:21:28.487Z</td></tr><tr><td>27179</td><td>FX</td><td>Open treatment of slipped femoral epiphysis; osteoplasty of femoral neck (Heyman type procedure)</td><td>No Change</td><td>2025-04-02T07:21:28.487Z</td></tr><tr><td>27181</td><td>FX</td><td>Open treatment of slipped femoral epiphysis; osteotomy and internal fixation</td><td>No Change</td><td>2025-04-02T07:21:28.487Z</td></tr><tr><td>27244</td><td>FX</td><td>Treatment of intertrochanteric, peritrochanteric, or subtrochanteric femoral fracture; with plate/screw type implant, with or without cerclage</td><td>No Change</td><td>2025-04-02T07:21:28.487Z</td></tr><tr><td>27245</td><td>FX</td><td>Treatment of intertrochanteric, peritrochanteric, or subtrochanteric femoral fracture; with intramedullary implant, with or without interlocking screws and/or cerclage</td><td>No Change</td><td>2025-04-02T07:21:28.487Z</td></tr><tr><td>27248</td><td>FX</td><td>Open treatment of greater trochanteric fracture, includes internal fixation, when performed</td><td>No Change</td><td>2025-04-02T07:21:28.487Z</td></tr><tr><td>27254</td><td>FX</td><td>Open treatment of hip dislocation, traumatic, with acetabular wall and femoral head fracture, with or without internal or external fixation</td><td>No Change</td><td>2025-04-02T07:21:28.487Z</td></tr><tr><td>27269</td><td>FX</td><td>Open treatment of femoral fracture, proximal end, head, includes internal fixation, when performed</td><td>No Change</td><td>2025-04-02T07:21:28.487Z</td></tr><tr><td>27506</td><td>FX</td><td>Open treatment of femoral shaft fracture, with or without external fixation, with insertion of intramedullary implant, with or without cerclage and/or locking screws</td><td>No Change</td><td>2025-04-02T07:21:28.487Z</td></tr><tr><td>27507</td><td>FX</td><td>Open treatment of femoral shaft fracture with plate/screws, with or without cerclage</td><td>No Change</td><td>2025-04-02T07:21:28.487Z</td></tr><tr><td>27511</td><td>FX</td><td>Open treatment of femoral supracondylar or transcondylar fracture without intercondylar extension, includes internal fixation, when performed</td><td>No Change</td><td>2025-04-02T07:21:28.487Z</td></tr><tr><td>27513</td><td>FX</td><td>Open treatment of femoral supracondylar or transcondylar fracture with intercondylar extension, includes internal fixation, when performed</td><td>No Change</td><td>2025-04-02T07:21:28.487Z</td></tr><tr><td>27514</td><td>FX</td><td>Open treatment of femoral fracture, distal end, medial or lateral condyle, includes internal fixation, when performed</td><td>No Change</td><td>2025-04-02T07:21:28.487Z</td></tr><tr><td>27519</td><td>FX</td><td>Open treatment of distal femoral epiphyseal separation, includes internal fixation, when performed</td><td>No Change</td><td>2025-04-02T07:21:28.487Z</td></tr><tr><td>27535</td><td>FX</td><td>Open treatment of tibial fracture, proximal (plateau); unicondylar, includes internal fixation, when performed</td><td>No Change</td><td>2025-04-02T07:21:28.487Z</td></tr><tr><td>27536</td><td>FX</td><td>Open treatment of tibial fracture, proximal (plateau); bicondylar, with or without internal fixation</td><td>No Change</td><td>2025-04-02T07:21:28.487Z</td></tr><tr><td>27540</td><td>FX</td><td>Open treatment of intercondylar spine(s) and/or tuberosity fracture(s) of the knee, includes internal fixation, when performed</td><td>No Change</td><td>2025-04-02T07:21:28.487Z</td></tr><tr><td>27758</td><td>FX</td><td>Open treatment of tibial shaft fracture (with or without fibular fracture), with plate/screws, with or without cerclage</td><td>No Change</td><td>2025-04-02T07:21:28.487Z</td></tr><tr><td>27759</td><td>FX</td><td>Treatment of tibial shaft fracture (with or without fibular fracture) by intramedullary implant, with or without interlocking screws and/or cerclage</td><td>No Change</td><td>2025-04-02T07:21:28.487Z</td></tr><tr><td>27766</td><td>FX</td><td>Open treatment of medial malleolus fracture, includes internal fixation, when performed</td><td>No Change</td><td>2025-04-02T07:21:28.487Z</td></tr><tr><td>27769</td><td>FX</td><td>Open treatment of posterior malleolus fracture, includes internal fixation, when performed</td><td>No Change</td><td>2025-04-02T07:21:28.487Z</td></tr><tr><td>27784</td><td>FX</td><td>Open treatment of proximal fibula or shaft fracture, includes internal fixation, when performed</td><td>No Change</td><td>2025-04-02T07:21:28.487Z</td></tr><tr><td>27792</td><td>FX</td><td>Open treatment of distal fibular fracture (lateral malleolus), includes internal fixation, when performed</td><td>No Change</td><td>2025-04-02T07:21:28.487Z</td></tr><tr><td>27814</td><td>FX</td><td>Open treatment of bimalleolar ankle fracture (eg, lateral and medial malleoli, or lateral and posterior malleoli, or medial and posterior malleoli), includes internal fixation, when performed</td><td>No Change</td><td>2025-04-02T07:21:28.487Z</td></tr><tr><td>27822</td><td>FX</td><td>Open treatment of trimalleolar ankle fracture, includes internal fixation, when performed, medial and/or lateral malleolus; without fixation of posterior lip</td><td>No Change</td><td>2025-04-02T07:21:28.487Z</td></tr><tr><td>27823</td><td>FX</td><td>Open treatment of trimalleolar ankle fracture, includes internal fixation, when performed, medial and/or lateral malleolus; with fixation of posterior lip</td><td>No Change</td><td>2025-04-02T07:21:28.487Z</td></tr><tr><td>27826</td><td>FX</td><td>Open treatment of fracture of weight bearing articular surface/portion of distal tibia (eg, pilon or tibial plafond), with internal fixation, when performed; of fibula only</td><td>No Change</td><td>2025-04-02T07:21:28.487Z</td></tr><tr><td>27827</td><td>FX</td><td>Open treatment of fracture of weight bearing articular surface/portion of distal tibia (eg, pilon or tibial plafond), with internal fixation, when performed; of tibia only</td><td>No Change</td><td>2025-04-02T07:21:28.487Z</td></tr><tr><td>27828</td><td>FX</td><td>Open treatment of fracture of weight bearing articular surface/portion of distal tibia (eg, pilon or tibial plafond), with internal fixation, when performed; of both tibia and fibula</td><td>No Change</td><td>2025-04-02T07:21:28.487Z</td></tr><tr><td>27829</td><td>FX</td><td>Open treatment of distal tibiofibular joint (syndesmosis) disruption, includes internal fixation, when performed</td><td>No Change</td><td>2025-04-02T07:21:28.487Z</td></tr><tr><td>43117</td><td>GAST</td><td>Partial esophagectomy, distal two-thirds, with thoracotomy and separate abdominal incision, with or without proximal gastrectomy; with thoracic esophagogastrostomy, with or without pyloroplasty (Ivor Lewis)</td><td>No Change</td><td>2025-04-02T07:21:28.487Z</td></tr><tr><td>43118</td><td>GAST</td><td>Partial esophagectomy, distal two-thirds, with thoracotomy and separate abdominal incision, with or without proximal gastrectomy; with colon interposition or small intestine reconstruction, including intestine mobilization, preparation, and anastomosis(es)</td><td>No Change</td><td>2025-04-02T07:21:28.487Z</td></tr><tr><td>43121</td><td>GAST</td><td>Partial esophagectomy, distal two-thirds, with thoracotomy only, with or without proximal gastrectomy, with thoracic esophagogastrostomy, with or without pyloroplasty</td><td>No Change</td><td>2025-04-02T07:21:28.487Z</td></tr><tr><td>43122</td><td>GAST</td><td>Partial esophagectomy, thoracoabdominal or abdominal approach, with or without proximal gastrectomy; with esophagogastrostomy, with or without pyloroplasty</td><td>No Change</td><td>2025-04-02T07:21:28.487Z</td></tr><tr><td>43286</td><td>GAST</td><td>Esophagectomy, total or near total, with laparoscopic mobilization of the abdominal and mediastinal esophagus and proximal gastrectomy, with laparoscopic pyloric drainage procedure if performed, with open cervical pharyngogastrostomy or esophagogastrostomy (ie, laparoscopic transhiatal esophagectomy)</td><td>No Change</td><td>2025-04-02T07:21:28.487Z</td></tr><tr><td>43287</td><td>GAST</td><td>Esophagectomy, distal two-thirds, with laparoscopic mobilization of the abdominal and lower mediastinal esophagus and proximal gastrectomy, with laparoscopic pyloric drainage procedure if performed, with separate thoracoscopic mobilization of the middle and upper mediastinal esophagus and thoracic esophagogastrostomy (ie, laparoscopic thoracoscopic esophagectomy, Ivor Lewis esophagectomy)</td><td>No Change</td><td>2025-04-02T07:21:28.487Z</td></tr><tr><td>43288</td><td>GAST</td><td>Esophagectomy, total or near total, with thoracoscopic mobilization of the upper, middle, and lower mediastinal esophagus, with separate laparoscopic proximal gastrectomy, with laparoscopic pyloric drainage procedure if performed, with open cervical pharyngogastrostomy or esophagogastrostomy (ie, thoracoscopic, laparoscopic and cervical incision esophagectomy, McKeown esophagectomy, tri-incisional esophagectomy)</td><td>No Change</td><td>2025-04-02T07:21:28.487Z</td></tr><tr><td>43320</td><td>GAST</td><td>Esophagogastrostomy (cardioplasty), with or without vagotomy and pyloroplasty, transabdominal or transthoracic approach</td><td>No Change</td><td>2025-04-02T07:21:28.487Z</td></tr><tr><td>43360</td><td>GAST</td><td>Gastrointestinal reconstruction for previous esophagectomy, for obstructing esophageal lesion or fistula, or for previous esophageal exclusion; with stomach, with or without pyloroplasty</td><td>No Change</td><td>2025-04-02T07:21:28.487Z</td></tr><tr><td>43500</td><td>GAST</td><td>Gastrotomy; with exploration or foreign body removal</td><td>No Change</td><td>2025-04-02T07:21:28.487Z</td></tr><tr><td>43501</td><td>GAST</td><td>Gastrotomy; with suture repair of bleeding ulcer</td><td>No Change</td><td>2025-04-02T07:21:28.487Z</td></tr><tr><td>43502</td><td>GAST</td><td>Gastrotomy; with suture repair of pre-existing esophagogastric laceration (eg, Mallory-Weiss)</td><td>No Change</td><td>2025-04-02T07:21:28.487Z</td></tr><tr><td>43520</td><td>GAST</td><td>Pyloromyotomy, cutting of pyloric muscle (Fredet-Ramstedt type operation)</td><td>No Change</td><td>2025-04-02T07:21:28.487Z</td></tr><tr><td>43605</td><td>GAST</td><td>Biopsy of stomach, by laparotomy</td><td>No Change</td><td>2025-04-02T07:21:28.487Z</td></tr><tr><td>43610</td><td>GAST</td><td>Excision, local; ulcer or benign tumor of stomach</td><td>No Change</td><td>2025-04-02T07:21:28.487Z</td></tr><tr><td>43611</td><td>GAST</td><td>Excision, local; malignant tumor of stomach</td><td>No Change</td><td>2025-04-02T07:21:28.487Z</td></tr><tr><td>43620</td><td>GAST</td><td>Gastrectomy, total; with esophagoenterostomy</td><td>No Change</td><td>2025-04-02T07:21:28.487Z</td></tr><tr><td>43621</td><td>GAST</td><td>Gastrectomy, total; with Roux-en-Y reconstruction</td><td>No Change</td><td>2025-04-02T07:21:28.487Z</td></tr><tr><td>43622</td><td>GAST</td><td>Gastrectomy, total; with formation of intestinal pouch, any type</td><td>No Change</td><td>2025-04-02T07:21:28.487Z</td></tr><tr><td>43631</td><td>GAST</td><td>Gastrectomy, partial, distal; with gastroduodenostomy</td><td>No Change</td><td>2025-04-02T07:21:28.487Z</td></tr><tr><td>43632</td><td>GAST</td><td>Gastrectomy, partial, distal; with gastrojejunostomy</td><td>No Change</td><td>2025-04-02T07:21:28.487Z</td></tr><tr><td>43633</td><td>GAST</td><td>Gastrectomy, partial, distal; with Roux-en-Y reconstruction</td><td>No Change</td><td>2025-04-02T07:21:28.487Z</td></tr><tr><td>43634</td><td>GAST</td><td>Gastrectomy, partial, distal; with formation of intestinal pouch</td><td>No Change</td><td>2025-04-02T07:21:28.487Z</td></tr><tr><td>43640</td><td>GAST</td><td>Vagotomy including pyloroplasty, with or without gastrostomy; truncal or selective</td><td>No Change</td><td>2025-04-02T07:21:28.487Z</td></tr><tr><td>43641</td><td>GAST</td><td>Vagotomy including pyloroplasty, with or without gastrostomy; parietal cell (highly selective)</td><td>No Change</td><td>2025-04-02T07:21:28.487Z</td></tr><tr><td>43644</td><td>GAST</td><td>Laparoscopy, surgical, gastric restrictive procedure; with gastric bypass and Roux-en-Y gastroenterostomy (roux limb 150 cm or less)</td><td>No Change</td><td>2025-04-02T07:21:28.487Z</td></tr><tr><td>43645</td><td>GAST</td><td>Laparoscopy, surgical, gastric restrictive procedure; with gastric bypass and small intestine reconstruction to limit absorption</td><td>No Change</td><td>2025-04-02T07:21:28.487Z</td></tr><tr><td>43770</td><td>GAST</td><td>Laparoscopy, surgical, gastric restrictive procedure; placement of adjustable gastric restrictive device (eg, gastric band and subcutaneous port components)</td><td>No Change</td><td>2025-04-02T07:21:28.487Z</td></tr><tr><td>43771</td><td>GAST</td><td>Laparoscopy, surgical, gastric restrictive procedure; revision of adjustable gastric restrictive device component only</td><td>No Change</td><td>2025-04-02T07:21:28.487Z</td></tr><tr><td>43772</td><td>GAST</td><td>Laparoscopy, surgical, gastric restrictive procedure; removal of adjustable gastric restrictive device component only</td><td>No Change</td><td>2025-04-02T07:21:28.487Z</td></tr><tr><td>43773</td><td>GAST</td><td>Laparoscopy, surgical, gastric restrictive procedure; removal and replacement of adjustable gastric restrictive device component only</td><td>No Change</td><td>2025-04-02T07:21:28.487Z</td></tr><tr><td>43774</td><td>GAST</td><td>Laparoscopy, surgical, gastric restrictive procedure; removal of adjustable gastric restrictive device and subcutaneous port components</td><td>No Change</td><td>2025-04-02T07:21:28.487Z</td></tr><tr><td>43775</td><td>GAST</td><td>Laparoscopy, surgical, gastric restrictive procedure; longitudinal gastrectomy (ie, sleeve gastrectomy)</td><td>No Change</td><td>2025-04-02T07:21:28.487Z</td></tr><tr><td>43800</td><td>GAST</td><td>Pyloroplasty</td><td>No Change</td><td>2025-04-02T07:21:28.487Z</td></tr><tr><td>43810</td><td>GAST</td><td>Gastroduodenostomy</td><td>No Change</td><td>2025-04-02T07:21:28.487Z</td></tr><tr><td>43820</td><td>GAST</td><td>Gastrojejunostomy; without vagotomy</td><td>No Change</td><td>2025-04-02T07:21:28.487Z</td></tr><tr><td>43825</td><td>GAST</td><td>Gastrojejunostomy; with vagotomy, any type</td><td>No Change</td><td>2025-04-02T07:21:28.487Z</td></tr><tr><td>43840</td><td>GAST</td><td>Gastrorrhaphy, suture of perforated duodenal or gastric ulcer, wound, or injury</td><td>No Change</td><td>2025-04-02T07:21:28.487Z</td></tr><tr><td>43842</td><td>GAST</td><td>Gastric restrictive procedure, without gastric bypass, for morbid obesity; vertical-banded gastroplasty</td><td>No Change</td><td>2025-04-02T07:21:28.487Z</td></tr><tr><td>43843</td><td>GAST</td><td>Gastric restrictive procedure, without gastric bypass, for morbid obesity; other than vertical-banded gastroplasty</td><td>No Change</td><td>2025-04-02T07:21:28.487Z</td></tr><tr><td>43845</td><td>GAST</td><td>Gastric restrictive procedure with partial gastrectomy, pylorus-preserving duodenoileostomy and ileoileostomy (50 to 100 cm common channel) to limit absorption (biliopancreatic diversion with duodenal switch)</td><td>No Change</td><td>2025-04-02T07:21:28.487Z</td></tr><tr><td>43847</td><td>GAST</td><td>Gastric restrictive procedure, with gastric bypass for morbid obesity; with small intestine reconstruction to limit absorption</td><td>No Change</td><td>2025-04-02T07:21:28.487Z</td></tr><tr><td>43848</td><td>GAST</td><td>Revision, open, of gastric restrictive procedure for morbid obesity, other than adjustable gastric restrictive device (separate procedure)</td><td>No Change</td><td>2025-04-02T07:21:28.487Z</td></tr><tr><td>43860</td><td>GAST</td><td>Revision of gastrojejunal anastomosis (gastrojejunostomy) with reconstruction, with or without partial gastrectomy or intestine resection; without vagotomy</td><td>No Change</td><td>2025-04-02T07:21:28.487Z</td></tr><tr><td>43865</td><td>GAST</td><td>Revision of gastrojejunal anastomosis (gastrojejunostomy) with reconstruction, with or without partial gastrectomy or intestine resection; with vagotomy</td><td>No Change</td><td>2025-04-02T07:21:28.487Z</td></tr><tr><td>43870</td><td>GAST</td><td>Closure of gastrostomy, surgical</td><td>No Change</td><td>2025-04-02T07:21:28.487Z</td></tr><tr><td>43880</td><td>GAST</td><td>Closure of gastrocolic fistula</td><td>No Change</td><td>2025-04-02T07:21:28.487Z</td></tr><tr><td>43886</td><td>GAST</td><td>Gastric restrictive procedure, open; revision of subcutaneous port component only</td><td>No Change</td><td>2025-04-02T07:21:28.487Z</td></tr><tr><td>43887</td><td>GAST</td><td>Gastric restrictive procedure, open; removal of subcutaneous port component only</td><td>No Change</td><td>2025-04-02T07:21:28.487Z</td></tr><tr><td>43888</td><td>GAST</td><td>Gastric restrictive procedure, open; removal and replacement of subcutaneous port component only</td><td>No Change</td><td>2025-04-02T07:21:28.487Z</td></tr><tr><td>11008</td><td>HER</td><td>Removal of prosthetic material or mesh, abdominal wall for infection (eg, for chronic or recurrent mesh infection or necrotizing soft tissue infection) (List separately in No changeition to code for primary procedure)</td><td>No Change</td><td>2025-04-02T07:21:28.487Z</td></tr><tr><td>49491</td><td>HER</td><td>Repair, initial inguinal hernia, preterm infant (younger than 37 weeks gestation at birth), performed from birth up to 50 weeks postconception age, with or without hydrocelectomy; reducible</td><td>No Change</td><td>2025-04-02T07:21:28.487Z</td></tr><tr><td>49492</td><td>HER</td><td>Repair, initial inguinal hernia, preterm infant (younger than 37 weeks gestation at birth), performed from birth up to 50 weeks postconception age, with or without hydrocelectomy; incarcerated or strangulated</td><td>No Change</td><td>2025-04-02T07:21:28.487Z</td></tr><tr><td>49495</td><td>HER</td><td>Repair, initial inguinal hernia, full term infant younger than age 6 months, or preterm infant older than 50 weeks postconception age and younger than age 6 months at the time of surgery, with or without hydrocelectomy; reducible</td><td>No Change</td><td>2025-04-02T07:21:28.487Z</td></tr><tr><td>49496</td><td>HER</td><td>Repair, initial inguinal hernia, full term infant younger than age 6 months, or preterm infant older than 50 weeks postconception age and younger than age 6 months at the time of surgery, with or without hydrocelectomy; incarcerated or strangulated</td><td>No Change</td><td>2025-04-02T07:21:28.487Z</td></tr><tr><td>49500</td><td>HER</td><td>Repair initial inguinal hernia, age 6 months to younger than 5 years, with or without hydrocelectomy; reducible</td><td>No Change</td><td>2025-04-02T07:21:28.487Z</td></tr><tr><td>49501</td><td>HER</td><td>Repair initial inguinal hernia, age 6 months to younger than 5 years, with or without hydrocelectomy; incarcerated or strangulated</td><td>No Change</td><td>2025-04-02T07:21:28.487Z</td></tr><tr><td>49505</td><td>HER</td><td>Repair initial inguinal hernia, age 5 years or older; reducible</td><td>No Change</td><td>2025-04-02T07:21:28.487Z</td></tr><tr><td>49507</td><td>HER</td><td>Repair initial inguinal hernia, age 5 years or older; incarcerated or strangulated</td><td>No Change</td><td>2025-04-02T07:21:28.487Z</td></tr><tr><td>49520</td><td>HER</td><td>Repair recurrent inguinal hernia, any age; reducible</td><td>No Change</td><td>2025-04-02T07:21:28.487Z</td></tr><tr><td>49521</td><td>HER</td><td>Repair recurrent inguinal hernia, any age; incarcerated or strangulated</td><td>No Change</td><td>2025-04-02T07:21:28.487Z</td></tr><tr><td>49525</td><td>HER</td><td>Repair inguinal hernia, sliding, any age</td><td>No Change</td><td>2025-04-02T07:21:28.487Z</td></tr><tr><td>49550</td><td>HER</td><td>Repair initial femoral hernia, any age; reducible</td><td>No Change</td><td>2025-04-02T07:21:28.487Z</td></tr><tr><td>49553</td><td>HER</td><td>Repair initial femoral hernia, any age; incarcerated or strangulated</td><td>No Change</td><td>2025-04-02T07:21:28.487Z</td></tr><tr><td>49555</td><td>HER</td><td>Repair recurrent femoral hernia; reducible</td><td>No Change</td><td>2025-04-02T07:21:28.487Z</td></tr><tr><td>49557</td><td>HER</td><td>Repair recurrent femoral hernia; incarcerated or strangulated</td><td>No Change</td><td>2025-04-02T07:21:28.487Z</td></tr><tr><td>49591</td><td>HER</td><td>Repair of anterior abdominal hernia(s) (ie, epigastric, incisional, ventral, umbilical, spigelian), any approach (ie, open, laparoscopic, robotic), initial, including mesh or other prosthesis when performed, total length of defect(s); less than 3 cm, reducible</td><td>No Change</td><td>2025-04-02T07:21:28.487Z</td></tr><tr><td>49592</td><td>HER</td><td>Repair of anterior abdominal hernia(s) (ie, epigastric, incisional, ventral, umbilical, spigelian), any approach (ie, open, laparoscopic, robotic), initial, including mesh or other prosthesis when performed, total length of defect(s); less than 3 cm, incarcerated</td><td>No Change</td><td>2025-04-02T07:21:28.487Z</td></tr><tr><td>49593</td><td>HER</td><td>Repair of anterior abdominal hernia(s) (ie, epigastric, incisional, ventral, umbilical, spigelian), any approach (ie, open, laparoscopic, robotic), initial, including mesh or other prosthesis when performed, total length of defect(s); 3 cm to 10 cm, reducible</td><td>No Change</td><td>2025-04-02T07:21:28.487Z</td></tr><tr><td>49594</td><td>HER</td><td>Repair of anterior abdominal hernia(s) (ie, epigastric, incisional, ventral, umbilical, spigelian), any approach (ie, open, laparoscopic, robotic), initial, including mesh or other prosthesis when performed, total length of defect(s); 3 cm to 10 cm, incarcerated</td><td>No Change</td><td>2025-04-02T07:21:28.487Z</td></tr><tr><td>49595</td><td>HER</td><td>Repair of anterior abdominal hernia(s) (ie, epigastric, incisional, ventral, umbilical, spigelian), any approach (ie, open, laparoscopic, robotic), initial, including mesh or other prosthesis when performed, total length of defect(s); greater than 10 cm, reducible</td><td>No Change</td><td>2025-04-02T07:21:28.487Z</td></tr><tr><td>49596</td><td>HER</td><td>Repair of anterior abdominal hernia(s) (ie, epigastric, incisional, ventral, umbilical, spigelian), any approach (ie, open, laparoscopic, robotic), initial, including mesh or other prosthesis when performed, total length of defect(s); greater than 10 cm, incarcerated</td><td>No Change</td><td>2025-04-02T07:21:28.487Z</td></tr><tr><td>49600</td><td>HER</td><td>Repair of small omphalocele, with primary closure</td><td>No Change</td><td>2025-04-02T07:21:28.487Z</td></tr><tr><td>49605</td><td>HER</td><td>Repair of large omphalocele or gastroschisis; with or without prosthesis</td><td>No Change</td><td>2025-04-02T07:21:28.487Z</td></tr><tr><td>49606</td><td>HER</td><td>Repair of large omphalocele or gastroschisis; with removal of prosthesis, final reduction and closure, in operating room</td><td>No Change</td><td>2025-04-02T07:21:28.487Z</td></tr><tr><td>49610</td><td>HER</td><td>Repair of omphalocele (Gross type operation); first stage</td><td>No Change</td><td>2025-04-02T07:21:28.487Z</td></tr><tr><td>49611</td><td>HER</td><td>Repair of omphalocele (Gross type operation); second stage</td><td>No Change</td><td>2025-04-02T07:21:28.487Z</td></tr><tr><td>49613</td><td>HER</td><td>Repair of anterior abdominal hernia(s) (ie, epigastric, incisional, ventral, umbilical, spigelian), any approach (ie, open, laparoscopic, robotic), recurrent, including mesh or other prosthesis when performed, total length of defect(s); less than 3 cm, reducible</td><td>No Change</td><td>2025-04-02T07:21:28.487Z</td></tr><tr><td>49614</td><td>HER</td><td>Repair of anterior abdominal hernia(s) (ie, epigastric, incisional, ventral, umbilical, spigelian), any approach (ie, open, laparoscopic, robotic), recurrent, including mesh or other prosthesis when performed, total length of defect(s); less than 3 cm, incarcerated</td><td>No Change</td><td>2025-04-02T07:21:28.487Z</td></tr><tr><td>49615</td><td>HER</td><td>Repair of anterior abdominal hernia(s) (ie, epigastric, incisional, ventral, umbilical, spigelian), any approach (ie, open, laparoscopic, robotic), recurrent, including mesh or other prosthesis when performed, total length of defect(s); 3 cm to 10 cm, reducible</td><td>No Change</td><td>2025-04-02T07:21:28.487Z</td></tr><tr><td>49616</td><td>HER</td><td>Repair of anterior abdominal hernia(s) (ie, epigastric, incisional, ventral, umbilical, spigelian), any approach (ie, open, laparoscopic, robotic), recurrent, including mesh or other prosthesis when performed, total length of defect(s); 3 cm to 10 cm, incarcerated</td><td>No Change</td><td>2025-04-02T07:21:28.487Z</td></tr><tr><td>49617</td><td>HER</td><td>Repair of anterior abdominal hernia(s) (ie, epigastric, incisional, ventral, umbilical, spigelian), any approach (ie, open, laparoscopic, robotic), recurrent, including mesh or other prosthesis when performed, total length of defect(s); greater than 10 cm, reducible</td><td>No Change</td><td>2025-04-02T07:21:28.487Z</td></tr><tr><td>49618</td><td>HER</td><td>Repair of anterior abdominal hernia(s) (ie, epigastric, incisional, ventral, umbilical, spigelian), any approach (ie, open, laparoscopic, robotic), recurrent, including mesh or other prosthesis when performed, total length of defect(s); greater than 10 cm, incarcerated</td><td>No Change</td><td>2025-04-02T07:21:28.487Z</td></tr><tr><td>49621</td><td>HER</td><td>Repair of parastomal hernia, any approach (ie, open, laparoscopic, robotic), initial or recurrent, including implantation of mesh or other prosthesis, when performed; reducible</td><td>No Change</td><td>2025-04-02T07:21:28.487Z</td></tr><tr><td>49622</td><td>HER</td><td>Repair of parastomal hernia, any approach (ie, open, laparoscopic, robotic), initial or recurrent, including implantation of mesh or other prosthesis, when performed; incarcerated or strangulated</td><td>No Change</td><td>2025-04-02T07:21:28.487Z</td></tr><tr><td>49650</td><td>HER</td><td>Laparoscopy, surgical; repair initial inguinal hernia</td><td>No Change</td><td>2025-04-02T07:21:28.487Z</td></tr><tr><td>49651</td><td>HER</td><td>Laparoscopy, surgical; repair recurrent inguinal hernia</td><td>No Change</td><td>2025-04-02T07:21:28.487Z</td></tr><tr><td>49659</td><td>HER</td><td>Unlisted laparoscopy procedure, hernioplasty, herniorrhaphy, herniotomy</td><td>No Change</td><td>2025-04-02T07:21:28.487Z</td></tr><tr><td>27125</td><td>HPRO</td><td>Hemiarthroplasty, hip, partial (eg, femoral stem prosthesis, bipolar arthroplasty)</td><td>No Change</td><td>2025-04-02T07:21:28.487Z</td></tr><tr><td>27130</td><td>HPRO</td><td>Arthroplasty, acetabular and proximal femoral prosthetic replacement (total hip arthroplasty), with or without autograft or allograft</td><td>No Change</td><td>2025-04-02T07:21:28.487Z</td></tr><tr><td>27132</td><td>HPRO</td><td>Conversion of previous hip surgery to total hip arthroplasty, with or without autograft or allograft</td><td>No Change</td><td>2025-04-02T07:21:28.487Z</td></tr><tr><td>27134</td><td>HPRO</td><td>Revision of total hip arthroplasty; both components, with or without autograft or allograft </td><td>No Change</td><td>2025-04-02T07:21:28.487Z</td></tr><tr><td>27137</td><td>HPRO</td><td>Revision of total hip arthroplasty; acetabular component only, with or without autograft or allograft </td><td>No Change</td><td>2025-04-02T07:21:28.487Z</td></tr><tr><td>27138</td><td>HPRO</td><td>Revision of total hip arthroplasty; femoral component only, with or without allograft</td><td>No Change</td><td>2025-04-02T07:21:28.487Z</td></tr><tr><td>27236</td><td>HPRO</td><td>Open treatment of femoral fracture, proximal end, neck, internal fixation or prosthetic replacement</td><td>No Change</td><td>2025-04-02T07:21:28.487Z</td></tr><tr><td>33935</td><td>HTP</td><td>Heart-lung transplant with recipient cardiectomy-pneumonectomy</td><td>No Change</td><td>2025-04-02T07:21:28.487Z</td></tr><tr><td>33945</td><td>HTP</td><td>Heart transplant, with or without recipient cardiectomy  </td><td>No Change</td><td>2025-04-02T07:21:28.487Z</td></tr><tr><td>58150</td><td>HYST</td><td>Total abdominal hysterectomy (corpus and cervix), with or without removal of tube(s), with or without removal of ovary(s)</td><td>No Change</td><td>2025-04-02T07:21:28.487Z</td></tr><tr><td>58152</td><td>HYST</td><td>Total abdominal hysterectomy (corpus and cervix), with or without removal of tube(s), with or without removal of ovary(s); with colpo-urethrocystopexy (eg, Marshall-Marchetti-Krantz, Burch)</td><td>No Change</td><td>2025-04-02T07:21:28.487Z</td></tr><tr><td>58180</td><td>HYST</td><td>Supracervical abdominal hysterectomy (subtotal hysterectomy), with or without removal of tube(s), with or without removal of ovary(s)</td><td>No Change</td><td>2025-04-02T07:21:28.487Z</td></tr><tr><td>58200</td><td>HYST</td><td>Total abdominal hysterectomy, including partial vaginectomy, with para-aortic and pelvic lymph node sampling, with or without removal of tube(s), with or without removal of ovary(s)</td><td>No Change</td><td>2025-04-02T07:21:28.487Z</td></tr><tr><td>58210</td><td>HYST</td><td>Radical abdominal hysterectomy, with bilateral total pelvic lymphadenectomy and para-aortic lymph node sampling (biopsy), with or without removal of tube(s), with or without removal of ovary(s)</td><td>No Change</td><td>2025-04-02T07:21:28.487Z</td></tr><tr><td>58240</td><td>HYST</td><td>Pelvic exenteration for gynecologic malignancy, with total abdominal hysterectomy or cervicectomy, with or without removal of tube(s), with or without removal of ovary(s), with removal of bladder and ureteral transplantations, and/or abdominoperineal resection of rectum and colon and colostomy, or any combination thereof</td><td>No Change</td><td>2025-04-02T07:21:28.487Z</td></tr><tr><td>58541</td><td>HYST</td><td>Laparoscopy, surgical, supracervical hysterectomy, for uterus 250 g or less;</td><td>No Change</td><td>2025-04-02T07:21:28.487Z</td></tr><tr><td>58542</td><td>HYST</td><td>Laparoscopy, surgical, supracervical hysterectomy, for uterus 250 g or less; with removal of tube(s) and/or ovary(s)</td><td>No Change</td><td>2025-04-02T07:21:28.487Z</td></tr><tr><td>58543</td><td>HYST</td><td>Laparoscopy, surgical, supracervical hysterectomy, for uterus greater than 250 g;</td><td>No Change</td><td>2025-04-02T07:21:28.487Z</td></tr><tr><td>58544</td><td>HYST</td><td>Laparoscopy, surgical, supracervical hysterectomy, for uterus greater than 250 g; with removal of tube(s) and/or ovary(s)</td><td>No Change</td><td>2025-04-02T07:21:28.487Z</td></tr><tr><td>58548</td><td>HYST</td><td>Laparoscopy, surgical, with radical hysterectomy, with bilateral total pelvic lymphadenectomy and para-aortic lymph node sampling (biopsy), with removal of tube(s) and ovary(s), if performed</td><td>No Change</td><td>2025-04-02T07:21:28.487Z</td></tr><tr><td>58550</td><td>HYST</td><td>Laparoscopy, surgical, with vaginal hysterectomy, for uterus 250 g or less</td><td>No Change</td><td>2025-04-02T07:21:28.487Z</td></tr><tr><td>58552</td><td>HYST</td><td>Laparoscopy, surgical, with vaginal hysterectomy, for uterus 250 g or less; with removal of tubes(s) and /or ovary(s)</td><td>No Change</td><td>2025-04-02T07:21:28.487Z</td></tr><tr><td>58553</td><td>HYST</td><td>Laparoscopy, surgical, with vaginal hysterectomy, for uterus greater than 250 g</td><td>No Change</td><td>2025-04-02T07:21:28.487Z</td></tr><tr><td>58554</td><td>HYST</td><td>Laparoscopy, surgical, with vaginal hysterectomy, for uterus greater than 250 g; with removal of tube(s) and/or ovary(s)</td><td>No Change</td><td>2025-04-02T07:21:28.487Z</td></tr><tr><td>58570</td><td>HYST</td><td>Laparoscopy, surgical, with total hysterectomy, for uterus 250 g or less;</td><td>No Change</td><td>2025-04-02T07:21:28.487Z</td></tr><tr><td>58571</td><td>HYST</td><td>Laparoscopy, surgical, with total hysterectomy, for uterus 250 g or less; with removal of tube(s) and/or ovary(s)</td><td>No Change</td><td>2025-04-02T07:21:28.487Z</td></tr><tr><td>58572</td><td>HYST</td><td>Laparoscopy, surgical, with total hysterectomy, for uterus greater than 250 g;</td><td>No Change</td><td>2025-04-02T07:21:28.487Z</td></tr><tr><td>58573</td><td>HYST</td><td>Laparoscopy, surgical, with total hysterectomy, for uterus greater than 250 g; with removal of tube(s) and/or ovary(s)</td><td>No Change</td><td>2025-04-02T07:21:28.487Z</td></tr><tr><td>58575</td><td>HYST</td><td>Laparaoscopy, surgical, total hysterectomy for resection of malignancy (tumor debulking), with omentectomy including salpingo-oopherectomy, unilateral or bilateral, when performed</td><td>No Change</td><td>2025-04-02T07:21:28.487Z</td></tr><tr><td>58951</td><td>HYST</td><td>Resection (initial) of ovarian, tubal or primary peritoneal malignancy with bilateral salpingo-oophorectomy and omentectomy; with total abdominal hysterectomy, pelvic and limited para-aortic lymphadenectomy</td><td>No Change</td><td>2025-04-02T07:21:28.487Z</td></tr><tr><td>58953</td><td>HYST</td><td>Bilateral salpingo-oophorectomy with omentectomy, total abdominal hysterectomy and radical dissection for debulking</td><td>No Change</td><td>2025-04-02T07:21:28.487Z</td></tr><tr><td>58954</td><td>HYST</td><td>Bilateral salpingo-oophorectomy with omentectomy, total abdominal hysterectomy and radical dissection for debulking; with pelvic lymphadenectomy and limited para-aortic lymphadenectomy</td><td>No Change</td><td>2025-04-02T07:21:28.487Z</td></tr><tr><td>58956</td><td>HYST</td><td>Bilateral salpingo-oophorectomy with total omentectomy, total abdominal hysterectomy for malignancy</td><td>No Change</td><td>2025-04-02T07:21:28.487Z</td></tr><tr><td>59525</td><td>HYST</td><td>Subtotal or total hysterectomy after cesarean delivery</td><td>No Change</td><td>2025-04-02T07:21:28.487Z</td></tr><tr><td>27438</td><td>KPRO</td><td>Arthroplasty, patella; with prosthesis</td><td>No Change</td><td>2025-04-02T07:21:28.487Z</td></tr><tr><td>27440</td><td>KPRO</td><td>Arthroplasty, knee, tibial plateau</td><td>No Change</td><td>2025-04-02T07:21:28.487Z</td></tr><tr><td>27441</td><td>KPRO</td><td>Arthroplasty, knee, tibial plateau; with debridement and partial synovectomy</td><td>No Change</td><td>2025-04-02T07:21:28.487Z</td></tr><tr><td>27442</td><td>KPRO</td><td>Arthroplasty, femoral condyles or tibial plateau(s), knee</td><td>No Change</td><td>2025-04-02T07:21:28.487Z</td></tr><tr><td>27443</td><td>KPRO</td><td>Arthroplasty, femoral condyles or tibial plateau(s), knee; with debridement and partial synovectomy</td><td>No Change</td><td>2025-04-02T07:21:28.487Z</td></tr><tr><td>27445</td><td>KPRO</td><td>Arthroplasty, knee, hinge prosthesis (eg, Walldius type)</td><td>No Change</td><td>2025-04-02T07:21:28.487Z</td></tr><tr><td>27446</td><td>KPRO</td><td>Arthroplasty, knee, condyle and plateau; medial OR lateral compartment</td><td>No Change</td><td>2025-04-02T07:21:28.487Z</td></tr><tr><td>27447</td><td>KPRO</td><td>Arthroplasty, knee, condyle and plateau; medial AND lateral compartments with or without patella resurfacing (total knee arthroplasty)</td><td>No Change</td><td>2025-04-02T07:21:28.487Z</td></tr><tr><td>27486</td><td>KPRO</td><td>Revision of total knee athroplasty, with or without allograft, one component</td><td>No Change</td><td>2025-04-02T07:21:28.487Z</td></tr><tr><td>27487</td><td>KPRO</td><td>Revision of total knee arthroplasty, with or without allograft; femoral and entire tibial component</td><td>No Change</td><td>2025-04-02T07:21:28.487Z</td></tr><tr><td>50340</td><td>KTP</td><td>Recipient nephrectomy (separate procedure)  </td><td>No Change</td><td>2025-04-02T07:21:28.487Z</td></tr><tr><td>50360</td><td>KTP</td><td>Renal allotransplantation, implantation of graft; without recipient nephrectomy </td><td>No Change</td><td>2025-04-02T07:21:28.487Z</td></tr><tr><td>50365</td><td>KTP</td><td>Renal allotransplantation, implantation of graft; with recipient nephrectomy </td><td>No Change</td><td>2025-04-02T07:21:28.487Z</td></tr><tr><td>50380</td><td>KTP</td><td>Renal autotransplantation, reimplantation of kidney </td><td>No Change</td><td>2025-04-02T07:21:28.487Z</td></tr><tr><td>22220</td><td>LAM</td><td>Osteotomy of spine, including discectomy, anterior approach, single vertebral segment; cervical</td><td>No Change</td><td>2025-04-02T07:21:28.487Z</td></tr><tr><td>22222</td><td>LAM</td><td>Osteotomy of spine, including discectomy, anterior approach, single vertebral segment; thoracic</td><td>No Change</td><td>2025-04-02T07:21:28.487Z</td></tr><tr><td>22224</td><td>LAM</td><td>Osteotomy of spine, including discectomy, anterior approach, single vertebral segment; lumbar</td><td>No Change</td><td>2025-04-02T07:21:28.487Z</td></tr><tr><td>22856</td><td>LAM</td><td>Total disc arthroplasty (artificial disc), anterior approach, including discectomy with end plate preparation (includes osteophytectomy for nerve root or spinal cord decompression and microdissection); single interspace, cervical</td><td>No Change</td><td>2025-04-02T07:21:28.487Z</td></tr><tr><td>22857</td><td>LAM</td><td>Total disc arthroplasty (artificial disc), anterior approach, including discectomy to prepare interspace (other than for decompression), single interspace, lumbar</td><td>No Change</td><td>2025-04-02T07:21:28.487Z</td></tr><tr><td>22861</td><td>LAM</td><td>Revision including replacement of total disc arthroplasty (artificial disc), anterior approach, single interspace; cervical</td><td>No Change</td><td>2025-04-02T07:21:28.487Z</td></tr><tr><td>22862</td><td>LAM</td><td>Revision including replacement of total disc arthroplasty (artificial disc), anterior approach, single interspace; lumbar</td><td>No Change</td><td>2025-04-02T07:21:28.487Z</td></tr><tr><td>22867</td><td>LAM</td><td>Insertion of interlaminar/interspinous process stabilization/distraction device, without fusion, including image guidance when performed, with open decompression, lumbar; single level </td><td>No Change</td><td>2025-04-02T07:21:28.487Z</td></tr><tr><td>62287</td><td>LAM</td><td>Decompression procedure, percutaneous, of nucleus pulposus of intervertebral disc, any method utilizing needle based technique to remove disc material under fluoroscopic imaging or other form of indirect visualization, with the use of an endoscope, with discography and/or epidural injection(s) at the treated level(s), when performed, single or multiple levels, lumbar</td><td>No Change</td><td>2025-04-02T07:21:28.487Z</td></tr><tr><td>62351</td><td>LAM</td><td>Implantation, revision or repositioning of tunneled intrathecal or epidural catheter, for long-term medication administration via an external pump or implantable reservoir/infusion pump; with laminectomy</td><td>No Change</td><td>2025-04-02T07:21:28.487Z</td></tr><tr><td>62380</td><td>LAM</td><td>Endoscopic decompression of spinal cord, nerve root(s), including laminectomy, partial facetectomy, foraminotomy, discectomy and/or excision of herniated intervertebral disc, 1 interpace, lumbar</td><td>No Change</td><td>2025-04-02T07:21:28.487Z</td></tr><tr><td>63001</td><td>LAM</td><td>Laminectomy with exploration and/or decompression of spinal cord and/or cauda equina, without facetectomy, foraminotomy or discectomy (eg, spinal stenosis), 1 or 2 vertebral segments; cervical</td><td>No Change</td><td>2025-04-02T07:21:28.487Z</td></tr><tr><td>63003</td><td>LAM</td><td>Laminectomy with exploration and/or decompression of spinal cord and/or cauda equina, without facetectomy, foraminotomy or discectomy (eg, spinal stenosis), 1 or 2 vertebral segments; thoracic</td><td>No Change</td><td>2025-04-02T07:21:28.487Z</td></tr><tr><td>63005</td><td>LAM</td><td>Laminectomy with exploration and/or decompression of spinal cord and/or cauda equina, without facetectomy, foraminotomy or discectomy (eg, spinal stenosis), 1 or 2 vertebral segments; lumbar, except for spondylolisthesis</td><td>No Change</td><td>2025-04-02T07:21:28.487Z</td></tr><tr><td>63011</td><td>LAM</td><td>Laminectomy with exploration and/or decompression of spinal cord and/or cauda equina, without facetectomy, foraminotomy or discectomy (eg, spinal stenosis), 1 or 2 vertebral segments; sacral</td><td>No Change</td><td>2025-04-02T07:21:28.487Z</td></tr><tr><td>63012</td><td>LAM</td><td>Laminectomy with removal of abnormal facets and/or pars inter-articularis with decompression of cauda equina and nerve roots for spondylolisthesis, lumbar (Gill type procedure)</td><td>No Change</td><td>2025-04-02T07:21:28.487Z</td></tr><tr><td>63015</td><td>LAM</td><td>Laminectomy with exploration and/or decompression of spinal cord and/or cauda equina, without facetectomy, foraminotomy or discectomy (eg, spinal stenosis), more than 2 vertebral segments; cervical</td><td>No Change</td><td>2025-04-02T07:21:28.487Z</td></tr><tr><td>63016</td><td>LAM</td><td>Laminectomy with exploration and/or decompression of spinal cord and/or cauda equina, without facetectomy, foraminotomy or discectomy (eg, spinal stenosis), more than 2 vertebral segments; thoracic</td><td>No Change</td><td>2025-04-02T07:21:28.487Z</td></tr><tr><td>63017</td><td>LAM</td><td>Laminectomy with exploration and/or decompression of spinal cord and/or cauda equina, without facetectomy, foraminotomy or discectomy (eg, spinal stenosis), more than 2 vertebral segments; lumbar</td><td>No Change</td><td>2025-04-02T07:21:28.487Z</td></tr><tr><td>63020</td><td>LAM</td><td>Laminotomy (hemilaminectomy), with decompression of nerve root(s), including partial facetectomy, foraminotomy and/or excision of herniated intervertebral disc; 1 interspace, cervical</td><td>No Change</td><td>2025-04-02T07:21:28.487Z</td></tr><tr><td>63030</td><td>LAM</td><td>Laminotomy (hemilaminectomy), with decompression of nerve root(s), including partial facetectomy, foraminotomy and/or excision of herniated intervertebral disc; 1 interspace, lumbar</td><td>No Change</td><td>2025-04-02T07:21:28.487Z</td></tr><tr><td>63035</td><td>LAM</td><td>Laminotomy (hemilaminectomy), with decompression of nerve root(s), including partial facetectomy, foraminotomy and/or excision of herniated intervertebral disc; each No changeitional interspace, cervical or lumbar (List separately in No changeition to code for primary procedure)</td><td>No Change</td><td>2025-04-02T07:21:28.487Z</td></tr><tr><td>63040</td><td>LAM</td><td>Laminotomy (hemilaminectomy), with decompression of nerve root(s), including partial facetectomy, foraminotomy and/or excision of herniated intervertebral disc, reexploration, single interspace; cervical</td><td>No Change</td><td>2025-04-02T07:21:28.487Z</td></tr><tr><td>63042</td><td>LAM</td><td>Laminotomy (hemilaminectomy), with decompression of nerve root(s), including partial facetectomy, foraminotomy and/or excision of herniated intervertebral disc, reexploration, single interspace; lumbar</td><td>No Change</td><td>2025-04-02T07:21:28.487Z</td></tr><tr><td>63045</td><td>LAM</td><td>Laminectomy, facetectomy and foraminotomy (unilateral or bilateral with decompression of spinal cord, cauda equina and/or nerve root[s], [eg, spinal or lateral recess stenosis]), single vertebral segment; cervical</td><td>No Change</td><td>2025-04-02T07:21:28.487Z</td></tr><tr><td>63046</td><td>LAM</td><td>Laminectomy, facetectomy and foraminotomy (unilateral or bilateral with decompression of spinal cord, cauda equina and/or nerve root[s], [eg, spinal or lateral recess stenosis]), single vertebral segment; thoracic</td><td>No Change</td><td>2025-04-02T07:21:28.487Z</td></tr><tr><td>63047</td><td>LAM</td><td>Laminectomy, facetectomy and foraminotomy (unilateral or bilateral with decompression of spinal cord, cauda equina and/or nerve root[s], [eg, spinal or lateral recess stenosis]), single vertebral segment; lumbar</td><td>No Change</td><td>2025-04-02T07:21:28.487Z</td></tr><tr><td>63048</td><td>LAM</td><td>Laminectomy, facetectomy and foraminotomy (unilateral or bilateral with decompression of spinal cord, cauda equina and/or nerve root[s], [eg, spinal or lateral recess stenosis]), single vertebral segment; each No changeitional segment, cervical, thoracic, or lumbar (List separately in No changeition to code for primary procedure)</td><td>No Change</td><td>2025-04-02T07:21:28.487Z</td></tr><tr><td>63050</td><td>LAM</td><td>Laminoplasty, cervical, with decompression of the spinal cord, 2 or more vertebral segments;</td><td>No Change</td><td>2025-04-02T07:21:28.487Z</td></tr><tr><td>63051</td><td>LAM</td><td>Laminoplasty, cervical, with decompression of the spinal cord, 2 or more vertebral segments; with reconstruction of the posterior bony elements (including the application of bridging bone graft and non-segmental fixation devices [eg, wire, suture, mini-plates], when performed)</td><td>No Change</td><td>2025-04-02T07:21:28.487Z</td></tr><tr><td>63055</td><td>LAM</td><td>Transpedicular approach with decompression of spinal cord, equina and/or nerve root(s) (eg, herniated intervertebral disc), single segment; thoracic</td><td>No Change</td><td>2025-04-02T07:21:28.487Z</td></tr><tr><td>63056</td><td>LAM</td><td>lumbar (including transfacet, or lateral extraforaminal approach) (eg, far lateral herniated intervertebral disc</td><td>No Change</td><td>2025-04-02T07:21:28.487Z</td></tr><tr><td>63064</td><td>LAM</td><td>Costovertebral approach with decompression of spinal cord or nerve root(s), (eg, herniated intervertebral disc), thoracic; single segment</td><td>No Change</td><td>2025-04-02T07:21:28.487Z</td></tr><tr><td>63075</td><td>LAM</td><td>Discectomy, anterior, with decompression of spinal cord and/or nerve root(s), including osteophytectomy; cervical, single interspace</td><td>No Change</td><td>2025-04-02T07:21:28.487Z</td></tr><tr><td>63077</td><td>LAM</td><td>Discectomy, anterior, with decompression of spinal cord and/or nerve root(s), including osteophytectomy; thoracic, single interspace</td><td>No Change</td><td>2025-04-02T07:21:28.487Z</td></tr><tr><td>63081</td><td>LAM</td><td>Vertebral corpectomy (vertebral body resection), partial or complete, anterior approach with decompression of spinal cord and/or nerve root(s); cervical, single segment</td><td>No Change</td><td>2025-04-02T07:21:28.487Z</td></tr><tr><td>63082</td><td>LAM</td><td>Vertebral corpectomy (vertebral body resection), partial or complete, anterior approach with decompression of spinal cord and/or nerve root(s); cervical, each No changeitional segment (List separately in No changeition to code for primary procedure)</td><td>No Change</td><td>2025-04-02T07:21:28.487Z</td></tr><tr><td>63085</td><td>LAM</td><td>Vertebral corpectomy (vertebral body resection), partial or complete, transthoracic approach with decompression of spinal cord and/or nerve root(s); thoracic, single segment</td><td>No Change</td><td>2025-04-02T07:21:28.487Z</td></tr><tr><td>63086</td><td>LAM</td><td>Vertebral corpectomy (vertebral body resection), partial or complete, transthoracic approach with decompression of spinal cord and/or nerve root(s); thoracic, each No changeitional segment (List separately in No changeition to code for primary procedure)</td><td>No Change</td><td>2025-04-02T07:21:28.487Z</td></tr><tr><td>63087</td><td>LAM</td><td>Vertebral corpectomy (vertebral body resection), partial or complete, combined thoracolumbar approach with decompression of spinal cord, cauda equina or nerve root(s), lower thoracic or lumbar; single segment</td><td>No Change</td><td>2025-04-02T07:21:28.487Z</td></tr><tr><td>63088</td><td>LAM</td><td>Vertebral corpectomy (vertebral body resection), partial or complete, combined thoracolumbar approach with decompression of spinal cord, cauda equina or nerve root(s), lower thoracic or lumbar; each No changeitional segment (List separately in No changeition to code for primary procedure)</td><td>No Change</td><td>2025-04-02T07:21:28.487Z</td></tr><tr><td>63090</td><td>LAM</td><td>Vertebral corpectomy (vertebral body resection), partial or complete, transperitoneal or retroperitoneal approach with decompression of spinal cord, cauda equina or nerve root(s), lower thoracic, lumbar, or sacral; single segment</td><td>No Change</td><td>2025-04-02T07:21:28.487Z</td></tr><tr><td>63091</td><td>LAM</td><td>Vertebral corpectomy (vertebral body resection), partial or complete, transperitoneal or retroperitoneal approach with decompression of spinal cord, cauda equina or nerve root(s), lower thoracic, lumbar, or sacral; each No changeitional segment (List separately in No changeition to code for primary procedure)</td><td>No Change</td><td>2025-04-02T07:21:28.487Z</td></tr><tr><td>63101</td><td>LAM</td><td>Vertebral corpectomy (vertebral body resection), partial or complete, lateral extracavitary approach with decompression of spinal cord and/or nerve root(s) (eg, for tumor or retropulsed bone fragments); thoracic, single segment</td><td>No Change</td><td>2025-04-02T07:21:28.487Z</td></tr><tr><td>63102</td><td>LAM</td><td>Vertebral corpectomy (vertebral body resection), partial or complete, lateral extracavitary approach with decompression of spinal cord and/or nerve root(s) (eg, for tumor or retropulsed bone fragments); lumbar, single segment</td><td>No Change</td><td>2025-04-02T07:21:28.487Z</td></tr><tr><td>63103</td><td>LAM</td><td>Vertebral corpectomy (vertebral body resection), partial or complete, lateral extracavitary approach with decompression of spinal cord and/or nerve root(s) (eg, for tumor or retropulsed bone fragments); thoracic or lumbar, each No changeitional segment (List separately in No changeition to code for primary procedure)</td><td>No Change</td><td>2025-04-02T07:21:28.487Z</td></tr><tr><td>63170</td><td>LAM</td><td>Laminectomy with myelotomy (eg, Bischof or DREZ type), cervical, thoracic, or thoracolumbar</td><td>No Change</td><td>2025-04-02T07:21:28.487Z</td></tr><tr><td>63172</td><td>LAM</td><td>Laminectomy with drainage of intramedullary cyst/syrinx; to subarachnoid space</td><td>No Change</td><td>2025-04-02T07:21:28.487Z</td></tr><tr><td>63173</td><td>LAM</td><td>Laminectomy with drainage of intramedullary cyst/syrinx; to peritoneal or pleural space</td><td>No Change</td><td>2025-04-02T07:21:28.487Z</td></tr><tr><td>63180</td><td>LAM</td><td>Laminectomy and section of dentate ligaments, with or without dural graft, cervical; 1 or 2 segments</td><td>No Change</td><td>2025-04-02T07:21:28.487Z</td></tr><tr><td>63182</td><td>LAM</td><td>Laminectomy and section of dentate ligaments, with or without dural graft, cervical; more than 2 segments</td><td>No Change</td><td>2025-04-02T07:21:28.487Z</td></tr><tr><td>63185</td><td>LAM</td><td>Laminectomy with rhizotomy; 1 or 2 segments</td><td>No Change</td><td>2025-04-02T07:21:28.487Z</td></tr><tr><td>63190</td><td>LAM</td><td>Laminectomy with rhizotomy; more than 2 segments</td><td>No Change</td><td>2025-04-02T07:21:28.487Z</td></tr><tr><td>63191</td><td>LAM</td><td>Laminectomy with section of spinal accessory nerve</td><td>No Change</td><td>2025-04-02T07:21:28.487Z</td></tr><tr><td>63197</td><td>LAM</td><td>Laminectomy with cordotomy, with section of both spinothalamic tracts, 1 stage; thoracic</td><td>No Change</td><td>2025-04-02T07:21:28.487Z</td></tr><tr><td>63200</td><td>LAM</td><td>Laminectomy, with release of tethered spinal cord, lumbar</td><td>No Change</td><td>2025-04-02T07:21:28.487Z</td></tr><tr><td>63250</td><td>LAM</td><td>Laminectomy for excision or occlusion of arteriovenous malformation of spinal cord; cervical</td><td>No change</td><td>2025-04-02T07:21:28.487Z</td></tr><tr><td>63251</td><td>LAM</td><td>Laminectomy for excision or occlusion of arteriovenous malformation of spinal cord; thoracic</td><td>No change</td><td>2025-04-02T07:21:28.487Z</td></tr><tr><td>63252</td><td>LAM</td><td>Laminectomy for excision or occlusion of arteriovenous malformation of spinal cord; thoracolumbar</td><td>No change</td><td>2025-04-02T07:21:28.487Z</td></tr><tr><td>63265</td><td>LAM</td><td>Laminectomy for excision or evacuation of intraspinal lesion other than neoplasm, extradural; cervical</td><td>No change</td><td>2025-04-02T07:21:28.487Z</td></tr><tr><td>63266</td><td>LAM</td><td>Laminectomy for excision or evacuation of intraspinal lesion other than neoplasm, extradural; thoracic</td><td>No change</td><td>2025-04-02T07:21:28.487Z</td></tr><tr><td>63267</td><td>LAM</td><td>Laminectomy for excision or evacuation of intraspinal lesion other than neoplasm, extradural; lumbar</td><td>No change</td><td>2025-04-02T07:21:28.487Z</td></tr><tr><td>63268</td><td>LAM</td><td>Laminectomy for excision or evacuation of intraspinal lesion other than neoplasm, extradural; sacral</td><td>No change</td><td>2025-04-02T07:21:28.487Z</td></tr><tr><td>63270</td><td>LAM</td><td>Laminectomy for excision of intraspinal lesion other than neoplasm, intradural; cervical</td><td>No change</td><td>2025-04-02T07:21:28.487Z</td></tr><tr><td>63271</td><td>LAM</td><td>Laminectomy for excision of intraspinal lesion other than neoplasm, intradural; thoracic</td><td>No change</td><td>2025-04-02T07:21:28.487Z</td></tr><tr><td>63272</td><td>LAM</td><td>Laminectomy for excision of intraspinal lesion other than neoplasm, intradural; lumbar</td><td>No change</td><td>2025-04-02T07:21:28.487Z</td></tr><tr><td>63273</td><td>LAM</td><td>Laminectomy for excision of intraspinal lesion other than neoplasm, intradural; sacral</td><td>No change</td><td>2025-04-02T07:21:28.487Z</td></tr><tr><td>63275</td><td>LAM</td><td>Laminectomy for biopsy/excision of intraspinal neoplasm; extradural, cervical</td><td>No change</td><td>2025-04-02T07:21:28.487Z</td></tr><tr><td>63276</td><td>LAM</td><td>Laminectomy for biopsy/excision of intraspinal neoplasm; extradural, thoracic</td><td>No change</td><td>2025-04-02T07:21:28.487Z</td></tr><tr><td>63277</td><td>LAM</td><td>Laminectomy for biopsy/excision of intraspinal neoplasm; extradural, lumbar</td><td>No change</td><td>2025-04-02T07:21:28.487Z</td></tr><tr><td>63278</td><td>LAM</td><td>Laminectomy for biopsy/excision of intraspinal neoplasm; extradural, sacral</td><td>No change</td><td>2025-04-02T07:21:28.487Z</td></tr><tr><td>63280</td><td>LAM</td><td>Laminectomy for biopsy/excision of intraspinal neoplasm; intradural, extramedullary, cervical</td><td>No change</td><td>2025-04-02T07:21:28.487Z</td></tr><tr><td>63281</td><td>LAM</td><td>Laminectomy for biopsy/excision of intraspinal neoplasm; intradural, extramedullary, thoracic</td><td>No change</td><td>2025-04-02T07:21:28.487Z</td></tr><tr><td>63282</td><td>LAM</td><td>Laminectomy for biopsy/excision of intraspinal neoplasm; intradural, extramedullary, lumbar</td><td>No change</td><td>2025-04-02T07:21:28.487Z</td></tr><tr><td>63283</td><td>LAM</td><td>Laminectomy for biopsy/excision of intraspinal neoplasm; intradural, sacral</td><td>No change</td><td>2025-04-02T07:21:28.487Z</td></tr><tr><td>63285</td><td>LAM</td><td>Laminectomy for biopsy/excision of intraspinal neoplasm; intradural, intramedullary, cervical</td><td>No change</td><td>2025-04-02T07:21:28.487Z</td></tr><tr><td>63286</td><td>LAM</td><td>Laminectomy for biopsy/excision of intraspinal neoplasm; intradural, intramedullary, thoracic</td><td>No change</td><td>2025-04-02T07:21:28.487Z</td></tr><tr><td>63287</td><td>LAM</td><td>Laminectomy for biopsy/excision of intraspinal neoplasm; intradural, intramedullary, thoracolumbar</td><td>No change</td><td>2025-04-02T07:21:28.487Z</td></tr><tr><td>63290</td><td>LAM</td><td>Laminectomy for biopsy/excision of intraspinal neoplasm; combined extradural-intradural lesion, any level</td><td>No change</td><td>2025-04-02T07:21:28.487Z</td></tr><tr><td>63709</td><td>LAM</td><td>Repair of dural/cerebrospinal fluid leak or pseudomeningocele, with laminectomy</td><td>No change</td><td>2025-04-02T07:21:28.487Z</td></tr><tr><td>63740</td><td>LAM</td><td>Creation of shunt, lumbar, subarachnoid-peritoneal, -pleural, or other; including laminectomy</td><td>No change</td><td>2025-04-02T07:21:28.487Z</td></tr><tr><td>0202T</td><td>LAM</td><td>Posterior vertebral joint(s) arthroplasty (eg, facet joint[s] replacement), including facetectomy, laminectomy, foraminotomy, and vertebral column fixation, injection of bone cement, when performed, including fluoroscopy, single level, lumbar spine</td><td>No Change</td><td>2025-04-02T07:21:28.487Z</td></tr><tr><td>0219T</td><td>LAM</td><td>Placement of a posterior intrafacet implant(s), unilateral or bilateral, including imaging and placement of bone graft(s) or synthetic device(s), single level; cervical</td><td>No Change</td><td>2025-04-02T07:21:28.487Z</td></tr><tr><td>0220T</td><td>LAM</td><td>Placement of a posterior intrafacet implant(s), unilateral or bilateral, including imaging and placement of bone graft(s) or synthetic device(s), single level; thoracic</td><td>No Change</td><td>2025-04-02T07:21:28.487Z</td></tr><tr><td>0221T</td><td>LAM</td><td>Placement of a posterior intrafacet implant(s), unilateral or bilateral, including imaging and placement of bone graft(s) or synthetic device(s), single level; lumbar</td><td>No Change</td><td>2025-04-02T07:21:28.487Z</td></tr><tr><td>47135</td><td>LTP</td><td>Liver allotransplantation; orthotopic, partial or whole, from cadaver or living donor, any age </td><td>No Change</td><td>2025-04-02T07:21:28.487Z</td></tr><tr><td>31300</td><td>NECK</td><td>Laryngotomy (thyrotomy, laryngofissure); with removal of tumor or laryngocele, cordectomy </td><td>No Change</td><td>2025-04-02T07:21:28.487Z</td></tr><tr><td>31360</td><td>NECK</td><td>Laryngectomy; total, without radical neck dissection  </td><td>No Change</td><td>2025-04-02T07:21:28.487Z</td></tr><tr><td>31365</td><td>NECK</td><td>Laryngectomy; total, with radical neck dissection  </td><td>No Change</td><td>2025-04-02T07:21:28.487Z</td></tr><tr><td>31367</td><td>NECK</td><td>Laryngectomy; subtotal supraglottic, without radical neck dissection  </td><td>No Change</td><td>2025-04-02T07:21:28.487Z</td></tr><tr><td>31368</td><td>NECK</td><td>Laryngectomy; subtotal supraglottic, with radical neck dissection  </td><td>No Change</td><td>2025-04-02T07:21:28.487Z</td></tr><tr><td>31370</td><td>NECK</td><td>Partial laryngectomy (hemilaryngectomy); horizontal  </td><td>No Change</td><td>2025-04-02T07:21:28.487Z</td></tr><tr><td>31375</td><td>NECK</td><td>Partial laryngectomy (hemilaryngectomy); laterovertical</td><td>No Change</td><td>2025-04-02T07:21:28.487Z</td></tr><tr><td>31380</td><td>NECK</td><td>Partial laryngectomy (hemilaryngectomy); anterovertical  </td><td>No Change</td><td>2025-04-02T07:21:28.487Z</td></tr><tr><td>31382</td><td>NECK</td><td>Partial laryngectomy (hemilaryngectomy); antero-latero-vertical  </td><td>No Change</td><td>2025-04-02T07:21:28.487Z</td></tr><tr><td>31390</td><td>NECK</td><td>Pharyngolaryngectomy, with radical neck dissection; without reconstruction  </td><td>No Change</td><td>2025-04-02T07:21:28.487Z</td></tr><tr><td>31395</td><td>NECK</td><td>Pharyngolaryngectomy, with radical neck dissection; with reconstruction  </td><td>No Change</td><td>2025-04-02T07:21:28.487Z</td></tr><tr><td>31400</td><td>NECK</td><td>Arytenoidectomy or arytenoidopexy, external approach  </td><td>No Change</td><td>2025-04-02T07:21:28.487Z</td></tr><tr><td>31420</td><td>NECK</td><td>Epiglottidectomy </td><td>No Change</td><td>2025-04-02T07:21:28.487Z</td></tr><tr><td>31551</td><td>NECK</td><td>Laryngoplasty; for laryngeal stenosis, with graft, without indwelling stent placement, younger than 12 years of age</td><td>No Change</td><td>2025-04-02T07:21:28.487Z</td></tr><tr><td>31552</td><td>NECK</td><td>Laryngoplasty; for laryngeal stenosis, with graft, without indwelling stent placement, age 12 years or older </td><td>No Change</td><td>2025-04-02T07:21:28.487Z</td></tr><tr><td>31553</td><td>NECK</td><td>Laryngoplasty; for laryngeal stenosis, with graft, with indwelling stent placement, younger than 12 years of age </td><td>No Change</td><td>2025-04-02T07:21:28.487Z</td></tr><tr><td>31554</td><td>NECK</td><td>Laryngoplasty; for laryngeal stenosis, with graft, with indwelling stent placement, age 12 years or older</td><td>No Change</td><td>2025-04-02T07:21:28.487Z</td></tr><tr><td>31560</td><td>NECK</td><td>Laryngoscopy, direct, operative, with arytenoidectomy;  </td><td>No Change</td><td>2025-04-02T07:21:28.487Z</td></tr><tr><td>31561</td><td>NECK</td><td>Laryngoscopy, direct, operative, with arytenoidectomy; with operating microscope or telescope </td><td>No Change</td><td>2025-04-02T07:21:28.487Z</td></tr><tr><td>31580</td><td>NECK</td><td>Laryngoplasty; for laryngeal web, with indwelling keel or stent insertion</td><td>No Change</td><td>2025-04-02T07:21:28.487Z</td></tr><tr><td>31584</td><td>NECK</td><td>Laryngoplasty; with open reduction and fixation of (eg, plating) fracture, includes tracheostomy, if performed</td><td>No Change</td><td>2025-04-02T07:21:28.487Z</td></tr><tr><td>31587</td><td>NECK</td><td>Laryngoplasty, cricoid split, without graft placement</td><td>No Change</td><td>2025-04-02T07:21:28.487Z</td></tr><tr><td>31590</td><td>NECK</td><td>Laryngeal reinnervation by neuromuscular pedicle</td><td>No Change</td><td>2025-04-02T07:21:28.487Z</td></tr><tr><td>31591</td><td>NECK</td><td>Laryngoplasty, medialization, unilateral </td><td>No Change</td><td>2025-04-02T07:21:28.487Z</td></tr><tr><td>31592</td><td>NECK</td><td>Cricotracheal resection</td><td>No Change</td><td>2025-04-02T07:21:28.487Z</td></tr><tr><td>31599</td><td>NECK</td><td>Unlisted procedure, larynx  </td><td>No Change</td><td>2025-04-02T07:21:28.487Z</td></tr><tr><td>38308</td><td>NECK</td><td>Lymphangiotomy or other operations on lymphatic channels  </td><td>No Change</td><td>2025-04-02T07:21:28.487Z</td></tr><tr><td>38542</td><td>NECK</td><td>Dissection, deep jugular node(s)  </td><td>No Change</td><td>2025-04-02T07:21:28.487Z</td></tr><tr><td>38720</td><td>NECK</td><td>Cervical lymphadenectomy (complete)  </td><td>No Change</td><td>2025-04-02T07:21:28.487Z</td></tr><tr><td>38724</td><td>NECK</td><td>Cervical lymphadenectomy (modified radical neck dissection)  </td><td>No Change</td><td>2025-04-02T07:21:28.487Z</td></tr><tr><td>41135</td><td>NECK</td><td>Glossectomy; partial, with unilateral radical neck dissection  </td><td>No Change</td><td>2025-04-02T07:21:28.487Z</td></tr><tr><td>41140</td><td>NECK</td><td>Glossectomy; complete or total, with or without tracheostomy, without radical neck dissection  </td><td>No Change</td><td>2025-04-02T07:21:28.487Z</td></tr><tr><td>41145</td><td>NECK</td><td>Glossectomy; complete or total, with or without tracheostomy, with unilateral radical neck dissection  </td><td>No Change</td><td>2025-04-02T07:21:28.487Z</td></tr><tr><td>41155</td><td>NECK</td><td>Glossectomy; composite procedure with resection floor of mouth, mandibular resection, and radical neck dissection (Commando type) </td><td>No Change</td><td>2025-04-02T07:21:28.487Z</td></tr><tr><td>42420</td><td>NECK</td><td>Excision of parotid tumor or parotid gland; total, with dissection and preservation of facial nerve  </td><td>No Change</td><td>2025-04-02T07:21:28.487Z</td></tr><tr><td>42425</td><td>NECK</td><td>Excision of parotid tumor or parotid gland; total, en bloc removal with sacrifice of facial nerve  </td><td>No Change</td><td>2025-04-02T07:21:28.487Z</td></tr><tr><td>42426</td><td>NECK</td><td>Excision of parotid tumor or parotid gland; total, with unilateral radical neck dissection  </td><td>No Change</td><td>2025-04-02T07:21:28.487Z</td></tr><tr><td>60280</td><td>NECK</td><td>Excision of thyroglossal duct cyst or sinus</td><td>No Change</td><td>2025-04-02T07:21:28.487Z</td></tr><tr><td>60281</td><td>NECK</td><td>Excision of thyroglossal duct cyst or sinus; recurrent</td><td>No Change</td><td>2025-04-02T07:21:28.487Z</td></tr><tr><td>69150</td><td>NECK</td><td>Radical excision external auditory canal lesion; without neck dissection  </td><td>No Change</td><td>2025-04-02T07:21:28.487Z</td></tr><tr><td>69155</td><td>NECK</td><td>Radical excision external auditory canal lesion; with neck dissection  </td><td>No Change</td><td>2025-04-02T07:21:28.487Z</td></tr><tr><td>60000</td><td>NECK</td><td>Incision and drainage of thyroglossal duct cyst, infected</td><td>Moved from THYR</td><td>2025-04-02T07:21:28.487Z</td></tr><tr><td>50010</td><td>NEPH</td><td>Renal exploration, not necessitating other specific procedures  </td><td>No Change</td><td>2025-04-02T07:21:28.487Z</td></tr><tr><td>50020</td><td>NEPH</td><td>Drainage of perirenal or renal abscess, open  </td><td>No Change</td><td>2025-04-02T07:21:28.487Z</td></tr><tr><td>50040</td><td>NEPH</td><td>Nephrostomy, nephrotomy with drainage  </td><td>No Change</td><td>2025-04-02T07:21:28.487Z</td></tr><tr><td>50045</td><td>NEPH</td><td>Nephrotomy, with exploration  </td><td>No Change</td><td>2025-04-02T07:21:28.487Z</td></tr><tr><td>50060</td><td>NEPH</td><td>Nephrolithotomy; removal of calculus  </td><td>No Change</td><td>2025-04-02T07:21:28.487Z</td></tr><tr><td>50065</td><td>NEPH</td><td>Nephrolithotomy; secondary surgical operation for calculus  </td><td>No Change</td><td>2025-04-02T07:21:28.487Z</td></tr><tr><td>50070</td><td>NEPH</td><td>Nephrolithotomy; complicated by congenital kidney abnormality  </td><td>No Change</td><td>2025-04-02T07:21:28.487Z</td></tr><tr><td>50075</td><td>NEPH</td><td>Nephrolithotomy; removal of large staghorn calculus filling renal pelvis and calyces (including anatrophic pyelolithotomy)  </td><td>No Change</td><td>2025-04-02T07:21:28.487Z</td></tr><tr><td>50120</td><td>NEPH</td><td>Pyelotomy; with exploration  </td><td>No Change</td><td>2025-04-02T07:21:28.487Z</td></tr><tr><td>50125</td><td>NEPH</td><td>Pyelotomy; with drainage, pyelostomy  </td><td>No Change</td><td>2025-04-02T07:21:28.487Z</td></tr><tr><td>50130</td><td>NEPH</td><td>Pyelotomy; with removal of calculus (pyelolithotomy, pelviolithotomy, including coagulum pyelolithotomy)  </td><td>No Change</td><td>2025-04-02T07:21:28.487Z</td></tr><tr><td>50135</td><td>NEPH</td><td>Pyelotomy; complicated (e.g., secondary operation, congenital kidney abnormality)  </td><td>No Change</td><td>2025-04-02T07:21:28.487Z</td></tr><tr><td>50205</td><td>NEPH</td><td>Renal biopsy; by surgical exposure of kidney </td><td>No Change</td><td>2025-04-02T07:21:28.487Z</td></tr><tr><td>50220</td><td>NEPH</td><td>Nephrectomy, including partial ureterectomy, any open approach including rib resection;  </td><td>No Change</td><td>2025-04-02T07:21:28.487Z</td></tr><tr><td>50225</td><td>NEPH</td><td>Nephrectomy, including partial ureterectomy, any open approach including rib resection; complicated because of previous surgery on same kidney  </td><td>No Change</td><td>2025-04-02T07:21:28.487Z</td></tr><tr><td>50230</td><td>NEPH</td><td>Nephrectomy, including partial ureterectomy, any open approach including rib resection; radical, with regional lymphadenectomy and/or vena caval thrombectomy  </td><td>No Change</td><td>2025-04-02T07:21:28.487Z</td></tr><tr><td>50234</td><td>NEPH</td><td>Nephrectomy with total ureterectomy and bladder cuff; through same incision  </td><td>No Change</td><td>2025-04-02T07:21:28.487Z</td></tr><tr><td>50236</td><td>NEPH</td><td>Nephrectomy with total ureterectomy and bladder cuff; through separate incision  </td><td>No Change</td><td>2025-04-02T07:21:28.487Z</td></tr><tr><td>50240</td><td>NEPH</td><td>Nephrectomy, partial  </td><td>No Change</td><td>2025-04-02T07:21:28.487Z</td></tr><tr><td>50250</td><td>NEPH</td><td>Ablation, open, 1 or more renal mass lesion(s), cryosurgical, including intraoperative ultrasound guidance and monitoring, if performed </td><td>No Change</td><td>2025-04-02T07:21:28.487Z</td></tr><tr><td>50280</td><td>NEPH</td><td>Excision or unroofing of cyst(s) of kidney </td><td>No Change</td><td>2025-04-02T07:21:28.487Z</td></tr><tr><td>50290</td><td>NEPH</td><td>Excision of perinephric cyst  </td><td>No Change</td><td>2025-04-02T07:21:28.487Z</td></tr><tr><td>50320</td><td>NEPH</td><td>Donor nephrectomy (including cold preservation); open, from living donor  </td><td>No Change</td><td>2025-04-02T07:21:28.487Z</td></tr><tr><td>50400</td><td>NEPH</td><td>Pyeloplasty (Foley Y-pyeloplasty), plastic operation on renal pelvis, with or without plastic operation on ureter, nephropexy, nephrostomy, pyelostomy, or ureteral splinting; simple </td><td>No Change</td><td>2025-04-02T07:21:28.487Z</td></tr><tr><td>50405</td><td>NEPH</td><td>Pyeloplasty (Foley Y-pyeloplasty), plastic operation on renal pelvis, with or without plastic operation on ureter, nephropexy, nephrostomy, pyelostomy, or ureteral splinting; complicated (congenital kidney abnormality, secondary pyeloplasty, solitary kidney, calycoplasty) </td><td>No Change</td><td>2025-04-02T07:21:28.487Z</td></tr><tr><td>50541</td><td>NEPH</td><td>Laparoscopy, surgical; ablation of renal cysts </td><td>No Change</td><td>2025-04-02T07:21:28.487Z</td></tr><tr><td>50542</td><td>NEPH</td><td>Laparoscopy, surgical; ablation of renal mass lesion(s), including intraoperative ultrasound guidance and monitoring, when performed </td><td>No Change</td><td>2025-04-02T07:21:28.487Z</td></tr><tr><td>50543</td><td>NEPH</td><td>Laparoscopy, surgical; partial nephrectomy  </td><td>No Change</td><td>2025-04-02T07:21:28.487Z</td></tr><tr><td>50545</td><td>NEPH</td><td>Laparoscopy, surgical; radical nephrectomy (includes removal of Gerota's fascia and surrounding fatty tissue, removal of regional lymph nodes, and adrenalectomy)  </td><td>No Change</td><td>2025-04-02T07:21:28.487Z</td></tr><tr><td>50546</td><td>NEPH</td><td>Laparoscopy, surgical; nephrectomy, including partial ureterectomy  </td><td>No Change</td><td>2025-04-02T07:21:28.487Z</td></tr><tr><td>50547</td><td>NEPH</td><td>Laparoscopy, surgical; donor nephrectomy (including cold preservation), from living donor  </td><td>No Change</td><td>2025-04-02T07:21:28.487Z</td></tr><tr><td>50548</td><td>NEPH</td><td>Laparoscopy, surgical; nephrectomy with total ureterectomy  </td><td>No Change</td><td>2025-04-02T07:21:28.487Z</td></tr><tr><td>50549</td><td>NEPH</td><td>Unlisted laparoscopic nephrectomy</td><td>No Change</td><td>2025-04-02T07:21:28.487Z</td></tr><tr><td>58660</td><td>OVRY</td><td>Laparoscopy, surgical; with lysis of adhesions (salpingolysis, ovariolysis) (separate procedure) </td><td>No Change</td><td>2025-04-02T07:21:28.487Z</td></tr><tr><td>58661</td><td>OVRY</td><td>Laparoscopy, surgical; with removal of adnexal structures (partial or total oophorectomy and/or salpingectomy)  </td><td>No Change</td><td>2025-04-02T07:21:28.487Z</td></tr><tr><td>58662</td><td>OVRY</td><td>Laparoscopy, surgical; with fulguration or excision of lesions of the ovary, pelvic viscera, or peritoneal surface by any method </td><td>No Change</td><td>2025-04-02T07:21:28.487Z</td></tr><tr><td>58679</td><td>OVRY</td><td>Unlisted laparoscopy procedure, oviduct, ovary  </td><td>No Change</td><td>2025-04-02T07:21:28.487Z</td></tr><tr><td>58720</td><td>OVRY</td><td>Salpingo-oophorectomy, complete or partial, unilateral or bilateral (separate procedure)  </td><td>No Change</td><td>2025-04-02T07:21:28.487Z</td></tr><tr><td>58740</td><td>OVRY</td><td>Lysis of adhesions (salpingolysis, ovariolysis) </td><td>No Change</td><td>2025-04-02T07:21:28.487Z</td></tr><tr><td>58800</td><td>OVRY</td><td>Drainage of ovarian cyst(s), unilateral or bilateral (separate procedure); vaginal approach  </td><td>No Change</td><td>2025-04-02T07:21:28.487Z</td></tr><tr><td>58805</td><td>OVRY</td><td>Drainage of ovarian cyst(s), unilateral or bilateral (separate procedure); abdominal approach  </td><td>No Change</td><td>2025-04-02T07:21:28.487Z</td></tr><tr><td>58820</td><td>OVRY</td><td>Drainage of ovarian abscess; vaginal approach, open  </td><td>No Change</td><td>2025-04-02T07:21:28.487Z</td></tr><tr><td>58822</td><td>OVRY</td><td>Drainage of ovarian abscess; abdominal approach  </td><td>No Change</td><td>2025-04-02T07:21:28.487Z</td></tr><tr><td>58825</td><td>OVRY</td><td>Transposition, ovary(s)  </td><td>No Change</td><td>2025-04-02T07:21:28.487Z</td></tr><tr><td>58900</td><td>OVRY</td><td>Biopsy of ovary, unilateral or bilateral (separate procedure)  </td><td>No Change</td><td>2025-04-02T07:21:28.487Z</td></tr><tr><td>58920</td><td>OVRY</td><td>Wedge resection or bisection of ovary, unilateral or bilateral  </td><td>No Change</td><td>2025-04-02T07:21:28.487Z</td></tr><tr><td>58925</td><td>OVRY</td><td>Ovarian cystectomy, unilateral or bilateral  </td><td>No Change</td><td>2025-04-02T07:21:28.487Z</td></tr><tr><td>58940</td><td>OVRY</td><td>Oophorectomy, partial or total, unilateral or bilateral;</td><td>No Change</td><td>2025-04-02T07:21:28.487Z</td></tr><tr><td>58943</td><td>OVRY</td><td>Oophorectomy, partial or total, unilateral or bilateral; for ovarian, tubal or primary peritoneal malignancy, with para-aortic and pelvic lymph node biopsies, peritoneal washings, peritoneal biopsies, diaphragmatic assessments, with or without salpingectomy(s), with or without omentectomy  </td><td>No Change</td><td>2025-04-02T07:21:28.487Z</td></tr><tr><td>58950</td><td>OVRY</td><td>Resection (initial) of ovarian, tubal or primary peritoneal malignancy with bilateral salpingo-oophorectomy and omentectomy;  </td><td>No Change</td><td>2025-04-02T07:21:28.487Z</td></tr><tr><td>58952</td><td>OVRY</td><td>Resection (initial) of ovarian, tubal or primary peritoneal malignancy with bilateral salpingo-oophorectomy and omentectomy; with radical dissection for debulking (i.e., radical excision or destruction, intra-abdominal or retroperitoneal tumors)  </td><td>No Change</td><td>2025-04-02T07:21:28.487Z</td></tr><tr><td>58970</td><td>OVRY</td><td>Follicle puncture for oocyte retrieval, any method  </td><td>No Change</td><td>2025-04-02T07:21:28.487Z</td></tr><tr><td>33202</td><td>PACE</td><td>Insertion of epicardial electrode(s); open incision (e.g., thoracotomy, median sternotomy, subxiphoid approach)</td><td>No Change</td><td>2025-04-02T07:21:28.487Z</td></tr><tr><td>33203</td><td>PACE</td><td>Insertion of epicardial electrode(s); endoscopic approach (e.g., thoracoscopy, pericardioscopy)</td><td>No Change</td><td>2025-04-02T07:21:28.487Z</td></tr><tr><td>33206</td><td>PACE</td><td>Insertion of new or replacement of permanent pacemaker with transvenous electrode(s); atrial </td><td>No Change</td><td>2025-04-02T07:21:28.487Z</td></tr><tr><td>33207</td><td>PACE</td><td>Insertion of new or replacement of permanent pacemaker with transvenous electrode(s); ventricular </td><td>No Change</td><td>2025-04-02T07:21:28.487Z</td></tr><tr><td>33208</td><td>PACE</td><td>Insertion of new or replacement of permanent pacemaker with transvenous electrode(s); atrial and ventricular </td><td>No Change</td><td>2025-04-02T07:21:28.487Z</td></tr><tr><td>33212</td><td>PACE</td><td>Insertion of pacemaker pulse generator only; with existing single lead </td><td>No Change</td><td>2025-04-02T07:21:28.487Z</td></tr><tr><td>33213</td><td>PACE</td><td>Insertion of pacemaker pulse generator only; with existing dual leads </td><td>No Change</td><td>2025-04-02T07:21:28.487Z</td></tr><tr><td>33214</td><td>PACE</td><td>Upgrade of implanted pacemaker system, conversion of single chamber system to dual chamber system (includes removal of previously placed pulse generator, testing of existing lead, insertion of new lead, insertion of new pulse generator) </td><td>No Change</td><td>2025-04-02T07:21:28.487Z</td></tr><tr><td>33215</td><td>PACE</td><td>Repositioning of previously implanted transvenous pacemaker or implantable defibrillator (right atrial or right ventricular) electrode</td><td>No Change</td><td>2025-04-02T07:21:28.487Z</td></tr><tr><td>33216</td><td>PACE</td><td>Insertion of a single transvenous electrode, permanent pacemaker or implantable defibrillator </td><td>No Change</td><td>2025-04-02T07:21:28.487Z</td></tr><tr><td>33217</td><td>PACE</td><td>Insertion of 2 transvenous electrodes, permanent pacemaker or implantable defibrillator </td><td>No Change</td><td>2025-04-02T07:21:28.487Z</td></tr><tr><td>33218</td><td>PACE</td><td>Repair of single transvenous electrode, permanent pacemaker or implantable defibrillator </td><td>No Change</td><td>2025-04-02T07:21:28.487Z</td></tr><tr><td>33220</td><td>PACE</td><td>Repair of 2 transvenous electrodes for permanent pacemaker or implantable defibrillator </td><td>No Change</td><td>2025-04-02T07:21:28.487Z</td></tr><tr><td>33221</td><td>PACE</td><td>Insertion of pacemaker pulse generator only; with existing multiple leads </td><td>No Change</td><td>2025-04-02T07:21:28.487Z</td></tr><tr><td>33222</td><td>PACE</td><td>Relocation of skin pocket for pacemaker </td><td>No Change</td><td>2025-04-02T07:21:28.487Z</td></tr><tr><td>33223</td><td>PACE</td><td>Relocation of skin pocket for implantable defibrillator </td><td>No Change</td><td>2025-04-02T07:21:28.487Z</td></tr><tr><td>33224</td><td>PACE</td><td>Insertion of pacing electrode, cardiac venous system, for left ventricular pacing, with attachment to previously placed pacemaker or implantable defibrillator pulse generator (including revision of pocket, removal, insertion, and/or replacement of existing generator)</td><td>No Change</td><td>2025-04-02T07:21:28.487Z</td></tr><tr><td>33225</td><td>PACE</td><td>Insertion of pacing electrode, cardiac venous system, for left ventricular pacing, at time of insertion of implantable defibrillator or pacemaker pulse generator (e.g., for upgrade to dual chamber system) (List separately in No changeition to code for primary procedure)</td><td>No Change</td><td>2025-04-02T07:21:28.487Z</td></tr><tr><td>33226</td><td>PACE</td><td>Repositioning of previously implanted cardiac venous system (left ventricular) electrode (including removal, insertion and/or replacement of existing generator)</td><td>No Change</td><td>2025-04-02T07:21:28.487Z</td></tr><tr><td>33227</td><td>PACE</td><td>Removal of permanent pacemaker pulse generator with replacement of pacemaker pulse generator; single lead system </td><td>No Change</td><td>2025-04-02T07:21:28.487Z</td></tr><tr><td>33228</td><td>PACE</td><td>Removal of permanent pacemaker pulse generator with replacement of pacemaker pulse generator; dual lead system </td><td>No Change</td><td>2025-04-02T07:21:28.487Z</td></tr><tr><td>33229</td><td>PACE</td><td>Removal of permanent pacemaker pulse generator with replacement of pacemaker pulse generator; multiple lead system </td><td>No Change</td><td>2025-04-02T07:21:28.487Z</td></tr><tr><td>33230</td><td>PACE</td><td>Insertion of implantable defibrillator pulse generator only; with existing dual leads </td><td>No Change</td><td>2025-04-02T07:21:28.487Z</td></tr><tr><td>33231</td><td>PACE</td><td>Insertion of implantable defibrillator pulse generator only; with existing multiple leads </td><td>No Change</td><td>2025-04-02T07:21:28.487Z</td></tr><tr><td>33233</td><td>PACE</td><td>Removal of permanent pacemaker pulse generator only </td><td>No Change</td><td>2025-04-02T07:21:28.487Z</td></tr><tr><td>33234</td><td>PACE</td><td>Removal of transvenous pacemaker electrode(s); single lead system, atrial or ventricular </td><td>No Change</td><td>2025-04-02T07:21:28.487Z</td></tr><tr><td>33235</td><td>PACE</td><td>Removal of transvenous pacemaker electrode(s); dual lead system </td><td>No Change</td><td>2025-04-02T07:21:28.487Z</td></tr><tr><td>33236</td><td>PACE</td><td>Removal of permanent epicardial pacemaker and electrodes by thoracotomy; single lead system, atrial or ventricular</td><td>No Change</td><td>2025-04-02T07:21:28.487Z</td></tr><tr><td>33237</td><td>PACE</td><td>Removal of permanent epicardial pacemaker and electrodes by thoracotomy; dual lead system</td><td>No Change</td><td>2025-04-02T07:21:28.487Z</td></tr><tr><td>33238</td><td>PACE</td><td>Removal of permanent transvenous electrode(s) by thoracotomy</td><td>No Change</td><td>2025-04-02T07:21:28.487Z</td></tr><tr><td>33240</td><td>PACE</td><td>Insertion of implantable defibrillator pulse generator only; with existing single lead </td><td>No Change</td><td>2025-04-02T07:21:28.487Z</td></tr><tr><td>33241</td><td>PACE</td><td>Removal of implantable defibrillator pulse generator only </td><td>No Change</td><td>2025-04-02T07:21:28.487Z</td></tr><tr><td>33243</td><td>PACE</td><td>Removal of single or dual chamber implantable defibrillator electrode(s); by thoracotomy</td><td>No Change</td><td>2025-04-02T07:21:28.487Z</td></tr><tr><td>33244</td><td>PACE</td><td>Removal of implantable defibrillator pulse generator with replacement of implantable defibrillator pulse generator; by transvenous extraction </td><td>No Change</td><td>2025-04-02T07:21:28.487Z</td></tr><tr><td>33249</td><td>PACE</td><td>Insertion or replacement of permanent implantable defibrillator system, with transvenous lead(s), single or dual chamber </td><td>No Change</td><td>2025-04-02T07:21:28.487Z</td></tr><tr><td>33262</td><td>PACE</td><td>Removal of implantable defibrillator pulse generator with replacement of implantable defibrillator pulse generator; single lead system </td><td>No Change</td><td>2025-04-02T07:21:28.487Z</td></tr><tr><td>33263</td><td>PACE</td><td>Removal of implantable defibrillator pulse generator with replacement of implantable defibrillator pulse generator; dual lead system </td><td>No Change</td><td>2025-04-02T07:21:28.487Z</td></tr><tr><td>33264</td><td>PACE</td><td>Removal of implantable defibrillator pulse generator with replacement of implantable defibrillator pulse generator; multiple lead system </td><td>No Change</td><td>2025-04-02T07:21:28.487Z</td></tr><tr><td>33270</td><td>PACE</td><td>Insertion or replacement of permanent subcutaneous implantable defibrillator system, with subcutaneous electrode, including defibrillation threshold evaluation, induction of arrhythmia, evaluation of sensing for arrhythmia termination, and programming or reprogramming of sensing or therapeutic parameters, when performed</td><td>No Change</td><td>2025-04-02T07:21:28.487Z</td></tr><tr><td>33271</td><td>PACE</td><td>Insertion of subcutaneous implantable defibrillator electrode</td><td>No Change</td><td>2025-04-02T07:21:28.487Z</td></tr><tr><td>33272</td><td>PACE</td><td>Removal of subcutaneous implantable defibrillator electrode</td><td>No Change</td><td>2025-04-02T07:21:28.487Z</td></tr><tr><td>33273</td><td>PACE</td><td>Repositioning of previously implanted subcutaneous implantable defibrillator electrode</td><td>No Change</td><td>2025-04-02T07:21:28.487Z</td></tr><tr><td>0571T</td><td>PACE</td><td>Insertion or replacement of implantable cardioverter-defibrillation system with substernal electrode(s), including all imaging guidance and electrophysiological evaluation (includes defibrillation threshold evaluation, induction of arrhythmia, evaluation of sensing for arrhythmia termination, and programming or reprogramming of sensing or therapeutic parameters), when performed</td><td>No change</td><td>2025-04-02T07:21:28.487Z</td></tr><tr><td>0572T</td><td>PACE</td><td>Insertion of substernal implantable defibrillation electrode </td><td>No change</td><td>2025-04-02T07:21:28.487Z</td></tr><tr><td>0573T</td><td>PACE</td><td>Removal of substernal implantable defibrillation electrode</td><td>No change</td><td>2025-04-02T07:21:28.487Z</td></tr><tr><td>0574T</td><td>PACE</td><td>Repositioning of previously implanted substernal implantable defibrillator-pacing electrode</td><td>No change</td><td>2025-04-02T07:21:28.487Z</td></tr><tr><td>55705</td><td>PRST</td><td>Biopsy, prostate; incisional, any approach</td><td>No Change</td><td>2025-04-02T07:21:28.487Z</td></tr><tr><td>55810</td><td>PRST</td><td>Prostatectomy, perineal radical</td><td>No Change</td><td>2025-04-02T07:21:28.487Z</td></tr><tr><td>55812</td><td>PRST</td><td>Prostatectomy, perineal radical; with lymph node biopsy(s) (limited pelvic lymphadenectomy)</td><td>No Change</td><td>2025-04-02T07:21:28.487Z</td></tr><tr><td>55815</td><td>PRST</td><td>Prostatectomy, perineal radical; with bilateral pelvic lymphadenectomy, including external iliac, hypogastric and obturator nodes</td><td>No Change</td><td>2025-04-02T07:21:28.487Z</td></tr><tr><td>55821</td><td>PRST</td><td>Prostatectomy (including control of postoperative bleeding, vasectomy, meatotomy, urethral calibration and/or dilation, and internal urethrotomy); suprapubic, subtotal, 1 or 2 stages</td><td>No Change</td><td>2025-04-02T07:21:28.487Z</td></tr><tr><td>55831</td><td>PRST</td><td>Prostatectomy (including control of postoperative bleeding, vasectomy, meatotomy, urethral calibration and/or dilation, and internal urethrotomy); retropubic, subtotal</td><td>No Change</td><td>2025-04-02T07:21:28.487Z</td></tr><tr><td>55840</td><td>PRST</td><td>Prostatectomy, retropubic radical, with or without nerve sparing;</td><td>No Change</td><td>2025-04-02T07:21:28.487Z</td></tr><tr><td>55842</td><td>PRST</td><td>Prostatectomy, retropubic radical, with or without nerve sparing; with lymph node biopsy(s) (limited pelvic lymphadenectomy)</td><td>No Change</td><td>2025-04-02T07:21:28.487Z</td></tr><tr><td>55845</td><td>PRST</td><td>Prostatectomy, retropubic radical, with or without nerve sparing; with bilateral pelvic lymphadenectomy, including external iliac, hypogastric, and obturator nodes</td><td>No Change</td><td>2025-04-02T07:21:28.487Z</td></tr><tr><td>55866</td><td>PRST</td><td>Laparoscopy, surgical prostatectomy, retropubic radical, including nerve sparing, includes robotic assistance, when performed</td><td>No Change</td><td>2025-04-02T07:21:28.487Z</td></tr><tr><td>55867</td><td>PRST</td><td>Laparoscopy, surgical prostatectomy, simple subtotal (including control of postoperative bleeding, vasectomy, meatotomy, urethral calibration and/or dilation, and internal urethrotomy), includes robotic assistance, when performed</td><td>Added</td><td>2025-04-02T07:21:28.487Z</td></tr><tr><td>33889</td><td>PVBY</td><td>Open subclavian to carotid artery transposition performed in conjunction with endovascular repair of descending thoracic aorta, by neck incision, unilateral</td><td>No Change</td><td>2025-04-02T07:21:28.487Z</td></tr><tr><td>35501</td><td>PVBY</td><td>Bypass graft, with vein; common carotid-ipsilateral internal carotid</td><td>No Change</td><td>2025-04-02T07:21:28.487Z</td></tr><tr><td>35506</td><td>PVBY</td><td>Bypass graft, with vein; carotid-subclavian or subcalvian-carotid</td><td>No Change</td><td>2025-04-02T07:21:28.487Z</td></tr><tr><td>35508</td><td>PVBY</td><td>Bypass graft, with vein; carotid-vertebral</td><td>No Change</td><td>2025-04-02T07:21:28.487Z</td></tr><tr><td>35509</td><td>PVBY</td><td>Bypass graft, with vein; carotid-contralateral carotid</td><td>No Change</td><td>2025-04-02T07:21:28.487Z</td></tr><tr><td>35510</td><td>PVBY</td><td>Bypass graft, with vein; carotid-brachial</td><td>No Change</td><td>2025-04-02T07:21:28.487Z</td></tr><tr><td>35511</td><td>PVBY</td><td>Bypass graft, with vein; subclavian-subclavian</td><td>No Change</td><td>2025-04-02T07:21:28.487Z</td></tr><tr><td>35512</td><td>PVBY</td><td>Bypass graft subclavian-brachial</td><td>No Change</td><td>2025-04-02T07:21:28.487Z</td></tr><tr><td>35515</td><td>PVBY</td><td>Bypass graft subclavian-vertebral</td><td>No Change</td><td>2025-04-02T07:21:28.487Z</td></tr><tr><td>35516</td><td>PVBY</td><td>Bypass graft, with vein; subclavian-axillary</td><td>No Change</td><td>2025-04-02T07:21:28.487Z</td></tr><tr><td>35518</td><td>PVBY</td><td>Bypass graft, with vein; axillary-axillary</td><td>No Change</td><td>2025-04-02T07:21:28.487Z</td></tr><tr><td>35521</td><td>PVBY</td><td>Bypass graft, with vein; axillary-femoral</td><td>No Change</td><td>2025-04-02T07:21:28.487Z</td></tr><tr><td>35522</td><td>PVBY</td><td>Bypass graft, with vein; axillary-brachial</td><td>No Change</td><td>2025-04-02T07:21:28.487Z</td></tr><tr><td>35523</td><td>PVBY</td><td>Bypass graft, with vein; brachial-ulnar or -radial</td><td>No Change</td><td>2025-04-02T07:21:28.487Z</td></tr><tr><td>35525</td><td>PVBY</td><td>Bypass graft, with vein; brachial-brachial</td><td>No Change</td><td>2025-04-02T07:21:28.487Z</td></tr><tr><td>35533</td><td>PVBY</td><td>Bypass graft, with vein; axillary-femoral-femoral</td><td>No Change</td><td>2025-04-02T07:21:28.487Z</td></tr><tr><td>35556</td><td>PVBY</td><td>Bypass graft, with vein; femoral-popliteal</td><td>No Change</td><td>2025-04-02T07:21:28.487Z</td></tr><tr><td>35558</td><td>PVBY</td><td>Bypass graft, with vein; femoral-femoral</td><td>No Change</td><td>2025-04-02T07:21:28.487Z</td></tr><tr><td>35566</td><td>PVBY</td><td>Bypass graft, with vein; femoral-anterior tibial, posterior tibial, peroneal artery or other distal vessels</td><td>No Change</td><td>2025-04-02T07:21:28.487Z</td></tr><tr><td>35570</td><td>PVBY</td><td>Bypass graft, with vein; tibial-tibial, peroneal-tibial, or tibial/peroneal trunk-tibial</td><td>No Change</td><td>2025-04-02T07:21:28.487Z</td></tr><tr><td>35571</td><td>PVBY</td><td>Bypass graft, with vein; popliteal-tibial, -peroneal artery or other distal vessels</td><td>No Change</td><td>2025-04-02T07:21:28.487Z</td></tr><tr><td>35583</td><td>PVBY</td><td>In-situ vein bypass; femoral-popliteal</td><td>No Change</td><td>2025-04-02T07:21:28.487Z</td></tr><tr><td>35585</td><td>PVBY</td><td>In-situ vein bypass; femoral-anterior tibial, posterior tibial, or peroneal artery</td><td>No Change</td><td>2025-04-02T07:21:28.487Z</td></tr><tr><td>35587</td><td>PVBY</td><td>In-situ vein bypass; popliteal-tibial, peroneal</td><td>No Change</td><td>2025-04-02T07:21:28.487Z</td></tr><tr><td>35616</td><td>PVBY</td><td>Bypass graft, with other than vein; subclavian-axillary</td><td>No Change</td><td>2025-04-02T07:21:28.487Z</td></tr><tr><td>35621</td><td>PVBY</td><td>Bypass graft, with other than vein; axillary-femoral</td><td>No Change</td><td>2025-04-02T07:21:28.487Z</td></tr><tr><td>35623</td><td>PVBY</td><td>Bypass graft, with other than vein; axillary-popliteal or -tibial</td><td>No Change</td><td>2025-04-02T07:21:28.487Z</td></tr><tr><td>35650</td><td>PVBY</td><td>Bypass graft, with other than vein; axillary-axillary</td><td>No Change</td><td>2025-04-02T07:21:28.487Z</td></tr><tr><td>35654</td><td>PVBY</td><td>Bypass graft, with other than vein; axillary-femoral-femoral</td><td>No Change</td><td>2025-04-02T07:21:28.487Z</td></tr><tr><td>35656</td><td>PVBY</td><td>Bypass graft, with other than vein; femoral-popliteal</td><td>No Change</td><td>2025-04-02T07:21:28.487Z</td></tr><tr><td>35661</td><td>PVBY</td><td>Bypass graft, with other than vein; femoral-femoral</td><td>No Change</td><td>2025-04-02T07:21:28.487Z</td></tr><tr><td>35666</td><td>PVBY</td><td>Bypass graft, with other than vein; femoral-anterior tibial, posterior tibial, or peroneal artery</td><td>No Change</td><td>2025-04-02T07:21:28.487Z</td></tr><tr><td>35671</td><td>PVBY</td><td>Bypass graft, with other than vein; popliteal-tibial or -peroneal artery</td><td>No Change</td><td>2025-04-02T07:21:28.487Z</td></tr><tr><td>35686</td><td>PVBY</td><td>Creation of distal arteriovenous fistula during lower extremity bypass surgery (non-hemodialysis) </td><td>No Change</td><td>2025-04-02T07:21:28.487Z</td></tr><tr><td>45110</td><td>REC</td><td>Proctectomy; complete, combined abdominoperineal, with colostomy</td><td>No Change</td><td>2025-04-02T07:21:28.487Z</td></tr><tr><td>45111</td><td>REC</td><td>Proctectomy; partial resection of rectum, transabdominal approach</td><td>No Change</td><td>2025-04-02T07:21:28.487Z</td></tr><tr><td>45112</td><td>REC</td><td>Proctectomy, combined abdominoperineal, pull-through procedure (eg, colo-anal anastomosis)</td><td>No Change</td><td>2025-04-02T07:21:28.487Z</td></tr><tr><td>45113</td><td>REC</td><td>Proctectomy, partial, with rectal mucosectomy, ileoanal anastomosis, creation of ileal reservoir (S or J), with or without loop ileostomy</td><td>No Change</td><td>2025-04-02T07:21:28.487Z</td></tr><tr><td>45114</td><td>REC</td><td>Proctectomy, partial, with anastomosis; abdominal and transsacral approach</td><td>No Change</td><td>2025-04-02T07:21:28.487Z</td></tr><tr><td>45116</td><td>REC</td><td>Proctectomy, partial, with anastomosis; transsacral approach only (Kraske type)</td><td>No Change</td><td>2025-04-02T07:21:28.487Z</td></tr><tr><td>45119</td><td>REC</td><td>Proctectomy, combined abdominoperineal pull-through procedure (eg, colo-anal anastomosis), with creation of colonic reservoir (eg, J-pouch), with diverting enterostomy when performed</td><td>No Change</td><td>2025-04-02T07:21:28.487Z</td></tr><tr><td>45120</td><td>REC</td><td>Proctectomy, complete (for congenital megacolon), abdominal and perineal approach; with pull-through procedure and anastomosis (eg, Swenson, Duhamel, or Soave type operation)</td><td>No Change</td><td>2025-04-02T07:21:28.487Z</td></tr><tr><td>45121</td><td>REC</td><td>Proctectomy, complete (for congenital megacolon), abdominal and perineal approach; with subtotal or total colectomy, with multiple biopsies</td><td>No Change</td><td>2025-04-02T07:21:28.487Z</td></tr><tr><td>45126</td><td>REC</td><td>Pelvic exenteration for colorectal malignancy, with proctectomy (with or without colostomy), with removal of bladder and ureteral transplantations, and/or hysterectomy, or cervicectomy, with or without removal of tube(s), with or without removal of ovary(s), or any combination thereof</td><td>No Change</td><td>2025-04-02T07:21:28.487Z</td></tr><tr><td>45395</td><td>REC</td><td>Laparoscopy, surgical; proctectomy, complete, combined abdominoperineal, with colostomy</td><td>No Change</td><td>2025-04-02T07:21:28.487Z</td></tr><tr><td>45397</td><td>REC</td><td>Laparoscopy, surgical; proctectomy, combined abdominoperineal pull-through procedure (eg, colo-anal anastomosis), with creation of colonic reservoir (eg, J-pouch), with diverting enterostomy, when performed</td><td>No Change</td><td>2025-04-02T07:21:28.487Z</td></tr><tr><td>45540</td><td>REC</td><td>Proctopexy (eg, for prolapse); abdominal approach (open)</td><td>Added</td><td>2025-04-02T07:21:28.487Z</td></tr><tr><td>45541</td><td>REC</td><td>Proctopexy (eg, for prolapse); perineal approach (open)</td><td>Added</td><td>2025-04-02T07:21:28.487Z</td></tr><tr><td>45550</td><td>REC</td><td>Proctopexy (eg, for prolapse); with sigmoid resection, abdominal approach (open)</td><td>Added</td><td>2025-04-02T07:21:28.487Z</td></tr><tr><td>45562</td><td>REC</td><td>Exploration, repair, and presacral drainage for rectal injury</td><td>No Change</td><td>2025-04-02T07:21:28.487Z</td></tr><tr><td>45563</td><td>REC</td><td>Exploration, repair, and presacral drainage for rectal injury; with colostomy</td><td>No Change</td><td>2025-04-02T07:21:28.487Z</td></tr><tr><td>57307</td><td>REC</td><td>Closure of rectovaginal fistula; abdominal approach, with concomitant colostomy</td><td>No Change</td><td>2025-04-02T07:21:28.487Z</td></tr><tr><td>43846</td><td>SB</td><td>Gastric restrictive procedure, with gastric bypass for morbid obesity; with short limb (150 cm or less) Roux-en-Y gastroenterostomy</td><td>Moved from GAST</td><td>2025-04-02T07:21:28.487Z</td></tr><tr><td>43496</td><td>SB</td><td>Free jejunum transfer with microvascular anastomosis</td><td>No Change</td><td>2025-04-02T07:21:28.487Z</td></tr><tr><td>44010</td><td>SB</td><td>Duodenotomy, for exploration, biopsy(s), or foreign body removal</td><td>No Change</td><td>2025-04-02T07:21:28.487Z</td></tr><tr><td>44020</td><td>SB</td><td>Enterotomy, small intestine, other than duodenum; for exploration, biopsy(s), or foreign body removal</td><td>No Change</td><td>2025-04-02T07:21:28.487Z</td></tr><tr><td>44021</td><td>SB</td><td>Enterotomy, small intestine, other than duodenum; for decompression (eg, Baker tube)</td><td>No Change</td><td>2025-04-02T07:21:28.487Z</td></tr><tr><td>44120</td><td>SB</td><td>Enterectomy, resection of small intestine; single resection and anastomosis</td><td>No Change</td><td>2025-04-02T07:21:28.487Z</td></tr><tr><td>44125</td><td>SB</td><td>Enterectomy, resection of small intestine; with enterostomy</td><td>No Change</td><td>2025-04-02T07:21:28.487Z</td></tr><tr><td>44126</td><td>SB</td><td>Enterectomy, resection of small intestine for congenital atresia, single resection and anastomosis of proximal segment of intestine; without tapering</td><td>No Change</td><td>2025-04-02T07:21:28.487Z</td></tr><tr><td>44127</td><td>SB</td><td>Enterectomy, resection of small intestine for congenital atresia, single resection and anastomosis of proximal segment of intestine; with tapering</td><td>No Change</td><td>2025-04-02T07:21:28.487Z</td></tr><tr><td>44130</td><td>SB</td><td>Enteroenterostomy, anastomosis of intestine, with or without cutaneous enterostomy (separate procedure)</td><td>No Change</td><td>2025-04-02T07:21:28.487Z</td></tr><tr><td>44186</td><td>SB</td><td>Laparoscopy, surgical; jejunostomy (eg, for decompression or feeding)</td><td>No Change</td><td>2025-04-02T07:21:28.487Z</td></tr><tr><td>44187</td><td>SB</td><td>Laparoscopy, surgical; ileostomy or jejunostomy, non-tube</td><td>No Change</td><td>2025-04-02T07:21:28.487Z</td></tr><tr><td>44202</td><td>SB</td><td>Laparoscopy, surgical; enterectomy, resection of small intestine, single resection and anastomosis</td><td>No Change</td><td>2025-04-02T07:21:28.487Z</td></tr><tr><td>44300</td><td>SB</td><td>Placement, enterostomy or cecostomy, tube open (eg, for feeding or decompression) (separate procedure)</td><td>No Change</td><td>2025-04-02T07:21:28.487Z</td></tr><tr><td>44310</td><td>SB</td><td>Ileostomy or jejunostomy, non-tube</td><td>No Change</td><td>2025-04-02T07:21:28.487Z</td></tr><tr><td>44312</td><td>SB</td><td>Revision of ileostomy; simple (release of superficial scar) (separate procedure)</td><td>No Change</td><td>2025-04-02T07:21:28.487Z</td></tr><tr><td>44314</td><td>SB</td><td>Revision of ileostomy; complicated (reconstruction in-depth) (separate procedure)</td><td>No Change</td><td>2025-04-02T07:21:28.487Z</td></tr><tr><td>44316</td><td>SB</td><td>Continent ileostomy (Kock procedure) (separate procedure)</td><td>No Change</td><td>2025-04-02T07:21:28.487Z</td></tr><tr><td>44602</td><td>SB</td><td>Suture of small intestine (enterorrhaphy) for perforated ulcer, diverticulum, wound, injury or rupture; single perforation</td><td>No Change</td><td>2025-04-02T07:21:28.487Z</td></tr><tr><td>44603</td><td>SB</td><td>Suture of small intestine (enterorrhaphy) for perforated ulcer, diverticulum, wound, injury or rupture; multiple perforations</td><td>No Change</td><td>2025-04-02T07:21:28.487Z</td></tr><tr><td>44615</td><td>SB</td><td>Intestinal stricturoplasty (enterotomy and enterorrhaphy) with or without dilation, for intestinal obstruction</td><td>No Change</td><td>2025-04-02T07:21:28.487Z</td></tr><tr><td>44640</td><td>SB</td><td>Closure of intestinal cutaneous fistula</td><td>No Change</td><td>2025-04-02T07:21:28.487Z</td></tr><tr><td>44650</td><td>SB</td><td>Closure of enteroenteric or enterocolic fistula</td><td>No Change</td><td>2025-04-02T07:21:28.487Z</td></tr><tr><td>44800</td><td>SB</td><td>Excision of Meckel's diverticulum (diverticulectomy) or omphalomesenteric duct</td><td>No Change</td><td>2025-04-02T07:21:28.487Z</td></tr><tr><td>45136</td><td>SB</td><td>Excision of ileoanal reservoir with ileostomy</td><td>No Change</td><td>2025-04-02T07:21:28.487Z</td></tr><tr><td>38100</td><td>SPLE</td><td>Splenectomy; total (separate procedure)</td><td>No Change</td><td>2025-04-02T07:21:28.487Z</td></tr><tr><td>38101</td><td>SPLE</td><td>Splenectomy; partial (separate procedure)</td><td>No Change</td><td>2025-04-02T07:21:28.487Z</td></tr><tr><td>38102</td><td>SPLE</td><td>Splenectomy; total, en bloc for extensive disease, in conjunction with other procedure (List in No changeition to code for primary procedure)</td><td>No Change</td><td>2025-04-02T07:21:28.487Z</td></tr><tr><td>38115</td><td>SPLE</td><td>Repair of ruptured spleen (splenorrhaphy) with or without partial splenectomy</td><td>No Change</td><td>2025-04-02T07:21:28.487Z</td></tr><tr><td>38120</td><td>SPLE</td><td>Laparoscopy, surgical, splenectomy</td><td>No Change</td><td>2025-04-02T07:21:28.487Z</td></tr><tr><td>20101</td><td>THOR</td><td>Exploration of penetrating wound (separate procedure); chest</td><td>No Change</td><td>2025-04-02T07:21:28.487Z</td></tr><tr><td>21603</td><td>THOR</td><td>Excision of chest wall tumor involving rib(s), with plastic reconstruction; with mediastinal lymphadenectomy</td><td>No change</td><td>2025-04-02T07:21:28.487Z</td></tr><tr><td>31770</td><td>THOR</td><td>Bronchoplasty; graft repair</td><td>No Change</td><td>2025-04-02T07:21:28.487Z</td></tr><tr><td>31775</td><td>THOR</td><td>Bronchoplasty; excision stenosis and anastomosis</td><td>No Change</td><td>2025-04-02T07:21:28.487Z</td></tr><tr><td>32096</td><td>THOR</td><td>Thoracotomy, with diagnostic biopsy(ies) of lung infiltrate(s) (eg, wedge, incisional), unilateral</td><td>No Change</td><td>2025-04-02T07:21:28.487Z</td></tr><tr><td>32097</td><td>THOR</td><td>Thoracotomy, with diagnostic biopsy(ies) of lung nodule(s) or mass(es) (eg, wedge, incisional), unilateral</td><td>No Change</td><td>2025-04-02T07:21:28.487Z</td></tr><tr><td>32100</td><td>THOR</td><td>Thoracotomy; with exploration</td><td>No Change</td><td>2025-04-02T07:21:28.487Z</td></tr><tr><td>32110</td><td>THOR</td><td>Thoracotomy; with control of traumatic hemorrhage and/or repair of lung tear</td><td>No Change</td><td>2025-04-02T07:21:28.487Z</td></tr><tr><td>32120</td><td>THOR</td><td>Thoracotomy; for postoperative complications</td><td>No Change</td><td>2025-04-02T07:21:28.487Z</td></tr><tr><td>32124</td><td>THOR</td><td>Thoracotomy; with open intrapleural pneumonolysis</td><td>No Change</td><td>2025-04-02T07:21:28.487Z</td></tr><tr><td>32140</td><td>THOR</td><td>Thoracotomy; with cyst(s) removal, includes pleural procedure when performed</td><td>No Change</td><td>2025-04-02T07:21:28.487Z</td></tr><tr><td>32141</td><td>THOR</td><td>Thoracotomy; with resection-plication of bullae, includes any pleural procedure when performed</td><td>No Change</td><td>2025-04-02T07:21:28.487Z</td></tr><tr><td>32151</td><td>THOR</td><td>Thoracotomy; with removal of intrapulmonary foreign body</td><td>No Change</td><td>2025-04-02T07:21:28.487Z</td></tr><tr><td>32200</td><td>THOR</td><td>Pneumonostomy, with open drainage of abscess or cyst</td><td>No Change</td><td>2025-04-02T07:21:28.487Z</td></tr><tr><td>32215</td><td>THOR</td><td>Pleural scarification for repeat pneumothorax</td><td>No Change</td><td>2025-04-02T07:21:28.487Z</td></tr><tr><td>32220</td><td>THOR</td><td>Decortication, pulmonary (separate procedure); total</td><td>No Change</td><td>2025-04-02T07:21:28.487Z</td></tr><tr><td>32225</td><td>THOR</td><td>Decortication, pulmonary (separate procedure); partial</td><td>No Change</td><td>2025-04-02T07:21:28.487Z</td></tr><tr><td>32310</td><td>THOR</td><td>Pleurectomy, parietal (separate procedure)</td><td>No Change</td><td>2025-04-02T07:21:28.487Z</td></tr><tr><td>32320</td><td>THOR</td><td>Decortication and parietal pleurectomy</td><td>No Change</td><td>2025-04-02T07:21:28.487Z</td></tr><tr><td>32440</td><td>THOR</td><td>Removal of lung, pneumonectomy;</td><td>No Change</td><td>2025-04-02T07:21:28.487Z</td></tr><tr><td>32442</td><td>THOR</td><td>Removal of lung, pneumonectomy; with resection of segment of trachea followed by broncho-tracheal anastomosis (sleeve pneumonectomy)</td><td>No Change</td><td>2025-04-02T07:21:28.487Z</td></tr><tr><td>32445</td><td>THOR</td><td>Removal of lung, pneumonectomy; extrapleural</td><td>No Change</td><td>2025-04-02T07:21:28.487Z</td></tr><tr><td>32480</td><td>THOR</td><td>Removal of lung, other than pneumonectomy; single lobe (lobectomy)</td><td>No Change</td><td>2025-04-02T07:21:28.487Z</td></tr><tr><td>32482</td><td>THOR</td><td>Removal of lung, other than pneumonectomy; 2 lobes (bilobectomy)</td><td>No Change</td><td>2025-04-02T07:21:28.487Z</td></tr><tr><td>32484</td><td>THOR</td><td>Removal of lung, other than pneumonectomy; single segment (segmentectomy)</td><td>No Change</td><td>2025-04-02T07:21:28.487Z</td></tr><tr><td>32486</td><td>THOR</td><td>Removal of lung, other than pneumonectomy; with circumferential resection of segment of bronchus followed by broncho-bronchial anastomosis (sleeve lobectomy)</td><td>No Change</td><td>2025-04-02T07:21:28.487Z</td></tr><tr><td>32488</td><td>THOR</td><td>Removal of lung, other than pneumonectomy; with all remaining lung following previous removal of a portion of lung (completion pneumonectomy)</td><td>No Change</td><td>2025-04-02T07:21:28.487Z</td></tr><tr><td>32491</td><td>THOR</td><td>Removal of lung, other than pneumonectomy; with resection-plication of emphysematous lung(s) (bullous or non-bullous) for lung volume reduction, sternal split or transthoracic approach, includes any pleural procedure, when performed</td><td>No Change</td><td>2025-04-02T07:21:28.487Z</td></tr><tr><td>32501</td><td>THOR</td><td>Resection and repair of portion of bronchus (bronchoplasty) when performed at time of lobectomy or segmentectomy (List separately in No changeition to code for primary procedure)</td><td>No Change</td><td>2025-04-02T07:21:28.487Z</td></tr><tr><td>32503</td><td>THOR</td><td>Resection of apical lung tumor (eg, Pancoast tumor), including chest wall resection, rib(s) resection(s), neurovascular dissection, when performed; without chest wall reconstruction(s)</td><td>No Change</td><td>2025-04-02T07:21:28.487Z</td></tr><tr><td>32504</td><td>THOR</td><td>Resection of apical lung tumor (eg, Pancoast tumor), including chest wall resection, rib(s) resection(s), neurovascular dissection, when performed; with chest wall reconstruction</td><td>No Change</td><td>2025-04-02T07:21:28.487Z</td></tr><tr><td>32505</td><td>THOR</td><td>Thoracotomy; with therapeutic wedge resection (eg, mass, nodule), initial</td><td>No Change</td><td>2025-04-02T07:21:28.487Z</td></tr><tr><td>32506</td><td>THOR</td><td>Thoracotomy; with therapeutic wedge resection (eg, mass or nodule), each No changeitional resection, ipsilateral (List separately in No changeition to code for primary procedure)</td><td>No Change</td><td>2025-04-02T07:21:28.487Z</td></tr><tr><td>32507</td><td>THOR</td><td>Thoracotomy; with diagnostic wedge resection followed by anatomic lung resection (List separately in No changeition to code for primary procedure)</td><td>No Change</td><td>2025-04-02T07:21:28.487Z</td></tr><tr><td>32540</td><td>THOR</td><td>Extrapleural enucleation of empyema (empyemectomy)</td><td>No Change</td><td>2025-04-02T07:21:28.487Z</td></tr><tr><td>32553</td><td>THOR</td><td>Placement of interstitial device(s) for radiation therapy guidance (eg, fiducial markers, dosimeter), percutaneous, intrathoracic, single or multiple</td><td>No Change</td><td>2025-04-02T07:21:28.487Z</td></tr><tr><td>32607</td><td>THOR</td><td>Thoracoscopy; with diagnostic biopsy(ies) of lung infiltrate(s) (eg, wedge, incisional), unilateral</td><td>No Change</td><td>2025-04-02T07:21:28.487Z</td></tr><tr><td>32608</td><td>THOR</td><td>Thoracoscopy; with diagnostic biopsy(ies) of lung nodule(s) or mass(es) (eg, wedge, incisional), unilateral</td><td>No Change</td><td>2025-04-02T07:21:28.487Z</td></tr><tr><td>32609</td><td>THOR</td><td>Thoracoscopy; with biopsy(ies) of pleura</td><td>No Change</td><td>2025-04-02T07:21:28.487Z</td></tr><tr><td>32651</td><td>THOR</td><td>Thoracoscopy, surgical; with partial pulmonary decortication</td><td>No Change</td><td>2025-04-02T07:21:28.487Z</td></tr><tr><td>32652</td><td>THOR</td><td>Thoracoscopy, surgical; with total pulmonary decortication, including intrapleural pneumonolysis</td><td>No Change</td><td>2025-04-02T07:21:28.487Z</td></tr><tr><td>32655</td><td>THOR</td><td>Thoracoscopy, surgical; with resection-plication of bullae, includes any pleural procedure when performed</td><td>No Change</td><td>2025-04-02T07:21:28.487Z</td></tr><tr><td>32662</td><td>THOR</td><td>Thoracoscopy, surgical; with excision of mediastinal cyst, tumor, or mass</td><td>No Change</td><td>2025-04-02T07:21:28.487Z</td></tr><tr><td>32663</td><td>THOR</td><td>Thoracoscopy, surgical; with lobectomy (single lobe)</td><td>No Change</td><td>2025-04-02T07:21:28.487Z</td></tr><tr><td>32666</td><td>THOR</td><td>Thoracoscopy, surgical; with therapeutic wedge resection (eg, mass, nodule), initial unilateral</td><td>No Change</td><td>2025-04-02T07:21:28.487Z</td></tr><tr><td>32667</td><td>THOR</td><td>Thoracoscopy, surgical; with therapeutic wedge resection (eg, mass or nodule), each No changeitional resection, ipsilateral (List separately in No changeition to code for primary procedure)</td><td>No Change</td><td>2025-04-02T07:21:28.487Z</td></tr><tr><td>32668</td><td>THOR</td><td>Thoracoscopy, surgical; with diagnostic wedge resection followed by anatomic lung resection (List separately in No changeition to code for primary procedure)</td><td>No Change</td><td>2025-04-02T07:21:28.487Z</td></tr><tr><td>32669</td><td>THOR</td><td>Thoracoscopy, surgical; with removal of a single lung segment (segmentectomy)</td><td>No Change</td><td>2025-04-02T07:21:28.487Z</td></tr><tr><td>32670</td><td>THOR</td><td>Thoracoscopy, surgical; with removal of two lobes (bilobectomy)</td><td>No Change</td><td>2025-04-02T07:21:28.487Z</td></tr><tr><td>32671</td><td>THOR</td><td>Thoracoscopy, surgical; with removal of lung (pneumonectomy)</td><td>No Change</td><td>2025-04-02T07:21:28.487Z</td></tr><tr><td>32672</td><td>THOR</td><td>Thoracoscopy, surgical; with resection-plication for emphysematous lung (bullous or non-bullous) for lung volume reduction (LVRS), unilateral includes any pleural procedure, when performed</td><td>No Change</td><td>2025-04-02T07:21:28.487Z</td></tr><tr><td>32800</td><td>THOR</td><td>Repair lung hernia through chest wall</td><td>No Change</td><td>2025-04-02T07:21:28.487Z</td></tr><tr><td>32815</td><td>THOR</td><td>Open closure of major bronchial fistula</td><td>No Change</td><td>2025-04-02T07:21:28.487Z</td></tr><tr><td>32905</td><td>THOR</td><td>Thoracoplasty, Schede type or extrapleural (all stages);</td><td>No Change</td><td>2025-04-02T07:21:28.487Z</td></tr><tr><td>32906</td><td>THOR</td><td>Thoracoplasty, Schede type or extrapleural (all stages); with closure of bronchopleural fistula</td><td>No Change</td><td>2025-04-02T07:21:28.487Z</td></tr><tr><td>32940</td><td>THOR</td><td>Pneumonolysis, extraperiosteal, including filling or packing procedures</td><td>No Change</td><td>2025-04-02T07:21:28.487Z</td></tr><tr><td>32960</td><td>THOR</td><td>Pneumothorax, therapeutic, intrapleural injection of air</td><td>No Change</td><td>2025-04-02T07:21:28.487Z</td></tr><tr><td>39000</td><td>THOR</td><td>Mediastinotomy with exploration, drainage, removal of foreign body, or biopsy; cervical approach</td><td>No Change</td><td>2025-04-02T07:21:28.487Z</td></tr><tr><td>39010</td><td>THOR</td><td>Mediastinotomy with exploration, drainage, removal of foreign body, or biopsy; transthoracic approach, including either transthoracic or median sternotomy</td><td>No Change</td><td>2025-04-02T07:21:28.487Z</td></tr><tr><td>39200</td><td>THOR</td><td>Resection of mediastinal cyst</td><td>No Change</td><td>2025-04-02T07:21:28.487Z</td></tr><tr><td>39220</td><td>THOR</td><td>Resection of mediastinal tumor</td><td>No Change</td><td>2025-04-02T07:21:28.487Z</td></tr><tr><td>39501</td><td>THOR</td><td>Repair, laceration of diaphragm, any approach</td><td>No Change</td><td>2025-04-02T07:21:28.487Z</td></tr><tr><td>39545</td><td>THOR</td><td>Imbrication of diaphragm for eventration, transthoracic or transabdominal, paralytic or nonparalytic</td><td>No Change</td><td>2025-04-02T07:21:28.487Z</td></tr><tr><td>39560</td><td>THOR</td><td>Resection, diaphragm; with simple repair (eg, primary suture)</td><td>No Change</td><td>2025-04-02T07:21:28.487Z</td></tr><tr><td>39561</td><td>THOR</td><td>Resection, diaphragm; with complex repair (eg, prosthetic material, local muscle flap)</td><td>No Change</td><td>2025-04-02T07:21:28.487Z</td></tr><tr><td>64746</td><td>THOR</td><td>Transection or avulsion of; phrenic nerve</td><td>No Change</td><td>2025-04-02T07:21:28.487Z</td></tr><tr><td>60200</td><td>THYR</td><td>Excision of cyst or adenoma of thyroid, or transection of isthmus</td><td>No Change</td><td>2025-04-02T07:21:28.487Z</td></tr><tr><td>60210</td><td>THYR</td><td>Partial thyroid lobectomy, unilateral; with or without isthmusectomy</td><td>No Change</td><td>2025-04-02T07:21:28.487Z</td></tr><tr><td>60212</td><td>THYR</td><td>Partial thyroid lobectomy, unilateral; with contralateral subtotal lobectomy, including isthmusectomy</td><td>No Change</td><td>2025-04-02T07:21:28.487Z</td></tr><tr><td>60220</td><td>THYR</td><td>Total thyroid lobectomy, unilateral; with or without isthmusectomy</td><td>No Change</td><td>2025-04-02T07:21:28.487Z</td></tr><tr><td>60225</td><td>THYR</td><td>Total thyroid lobectomy, unilateral; with contralateral subtotal lobectomy, including isthmusectomy</td><td>No Change</td><td>2025-04-02T07:21:28.487Z</td></tr><tr><td>60240</td><td>THYR</td><td>Thyroidectomy, total or complete</td><td>No Change</td><td>2025-04-02T07:21:28.487Z</td></tr><tr><td>60252</td><td>THYR</td><td>Thyroidectomy, total or subtotal for malignancy; with limited neck dissection</td><td>No Change</td><td>2025-04-02T07:21:28.487Z</td></tr><tr><td>60254</td><td>THYR</td><td>Thyroidectomy, total or subtotal for malignancy; with radical neck dissection</td><td>No Change</td><td>2025-04-02T07:21:28.487Z</td></tr><tr><td>60260</td><td>THYR</td><td>Thyroidectomy, removal of all remaining thyroid tissue following previous removal of a portion of thyroid</td><td>No Change</td><td>2025-04-02T07:21:28.487Z</td></tr><tr><td>60270</td><td>THYR</td><td>Thyroidectomy, including substernal thyroid; sternal split or transthoracic approach</td><td>No Change</td><td>2025-04-02T07:21:28.487Z</td></tr><tr><td>60271</td><td>THYR</td><td>Thyroidectomy, including substernal thyroid; cervical approach</td><td>No Change</td><td>2025-04-02T07:21:28.487Z</td></tr><tr><td>60500</td><td>THYR</td><td>Parathyroidectomy or exploration of parathyroid(s)</td><td>No Change</td><td>2025-04-02T07:21:28.487Z</td></tr><tr><td>60502</td><td>THYR</td><td>Parathyroidectomy or exploration of parathyroid(s); re-exploration</td><td>No Change</td><td>2025-04-02T07:21:28.487Z</td></tr><tr><td>60505</td><td>THYR</td><td>Parathyroidectomy or exploration of parathyroid(s); with mediastinal exploration, sternal split or transthoracic approach</td><td>No Change</td><td>2025-04-02T07:21:28.487Z</td></tr><tr><td>60512</td><td>THYR</td><td>Parathyroid autotransplantation (List separately in No changeition to code for primary procedure)</td><td>No Change</td><td>2025-04-02T07:21:28.487Z</td></tr><tr><td>51925</td><td>VHYS</td><td>Closure of vesicouterine fistula; with hysterectomy</td><td>No Change</td><td>2025-04-02T07:21:28.487Z</td></tr><tr><td>58260</td><td>VHYS</td><td>Vaginal hysterectomy, for uterus 250 g or less</td><td>No Change</td><td>2025-04-02T07:21:28.487Z</td></tr><tr><td>58262</td><td>VHYS</td><td>Vaginal hysterectomy, for uterus 250 g or less; with removal of tube(s), and/or ovary(s)</td><td>No Change</td><td>2025-04-02T07:21:28.487Z</td></tr><tr><td>58263</td><td>VHYS</td><td>Vaginal hysterectomy, for uterus 250 g or less; with removal of tube(s), and/or ovary(s), with repair of enterocele</td><td>No Change</td><td>2025-04-02T07:21:28.487Z</td></tr><tr><td>58267</td><td>VHYS</td><td>Vaginal hysterectomy, for uterus 250 g or less; with colpo-urethrocystopexy (Marshall-Marchetti-Krantz type, Pereyra type) with or without endoscopic control</td><td>No Change</td><td>2025-04-02T07:21:28.487Z</td></tr><tr><td>58270</td><td>VHYS</td><td>Vaginal hysterectomy, for uterus 250 g or less; with repair of enterocele</td><td>No Change</td><td>2025-04-02T07:21:28.487Z</td></tr><tr><td>58275</td><td>VHYS</td><td>Vaginal hysterectomy, for uterus 250 g or less;</td><td>No Change</td><td>2025-04-02T07:21:28.487Z</td></tr><tr><td>58280</td><td>VHYS</td><td>Vaginal hysterectomy, with total or partial vaginectomy; with repair of enterocele</td><td>No Change</td><td>2025-04-02T07:21:28.487Z</td></tr><tr><td>58285</td><td>VHYS</td><td>Vaginal hysterectomy, radical (Schauta type operation)</td><td>No Change</td><td>2025-04-02T07:21:28.487Z</td></tr><tr><td>58290</td><td>VHYS</td><td>Vaginal hysterectomy, for uterus greater than 250 g</td><td>No Change</td><td>2025-04-02T07:21:28.487Z</td></tr><tr><td>58291</td><td>VHYS</td><td>Vaginal hysterectomy, for uterus greater than 250 g; with removal of tube(s) and/or ovary(s)</td><td>No Change</td><td>2025-04-02T07:21:28.487Z</td></tr><tr><td>58292</td><td>VHYS</td><td>Vaginal hysterectomy, for uterus greater than 250 g; with removal of tube(s) and/or ovary(s), with repair of enterocele</td><td>No Change</td><td>2025-04-02T07:21:28.487Z</td></tr><tr><td>58293</td><td>VHYS</td><td>Vaginal hysterectomy, for uterus greater than 250 g; with colpo-urethrocystopexy (Marshall-Marchetti-Krantz type, Pereyra type) with or without endoscopic control</td><td>No Change</td><td>2025-04-02T07:21:28.487Z</td></tr><tr><td>58294</td><td>VHYS</td><td>Vaginal hysterectomy, for uterus greater than 250 g; with repair of enterocele</td><td>No Change</td><td>2025-04-02T07:21:28.487Z</td></tr><tr><td>62160</td><td>VSHN</td><td>Neuroendoscopy, intracranial, for placement or replacement of ventricular catheter and attachment to shunt system or external drainage (List separately in No changeition to code for primary procedure)</td><td>No Change</td><td>2025-04-02T07:21:28.487Z</td></tr><tr><td>62180</td><td>VSHN</td><td>Ventriculocisternostomy (Torkildsen type operation)</td><td>No Change</td><td>2025-04-02T07:21:28.487Z</td></tr><tr><td>62190</td><td>VSHN</td><td>Creation of shunt; subarachnoid/subdural-atrial, -jugular, -auricular</td><td>No Change</td><td>2025-04-02T07:21:28.487Z</td></tr><tr><td>62192</td><td>VSHN</td><td>Creation of shunt; subarachnoid/subdural-peritoneal, -pleural, other terminus</td><td>No Change</td><td>2025-04-02T07:21:28.487Z</td></tr><tr><td>62194</td><td>VSHN</td><td>Replacement or irrigation, subarachnoid/subdural catheter</td><td>No Change</td><td>2025-04-02T07:21:28.487Z</td></tr><tr><td>62220</td><td>VSHN</td><td>Creation of shunt; ventriculo-atrial, -jugular, -auricular</td><td>No Change</td><td>2025-04-02T07:21:28.487Z</td></tr><tr><td>62223</td><td>VSHN</td><td>Creation of shunt; ventriculo-peritoneal, -pleural, other terminus</td><td>No Change</td><td>2025-04-02T07:21:28.487Z</td></tr><tr><td>62225</td><td>VSHN</td><td>Replacement or irrigation, ventricular catheter</td><td>No Change</td><td>2025-04-02T07:21:28.487Z</td></tr><tr><td>62230</td><td>VSHN</td><td>Replacement or revision of cerebrospinal fluid shunt, obstructed valve, or distal catheter in shunt system</td><td>No Change</td><td>2025-04-02T07:21:28.487Z</td></tr><tr><td>62256</td><td>VSHN</td><td>Removal of complete cerebrospinal fluid shunt system; without replacement</td><td>No Change</td><td>2025-04-02T07:21:28.487Z</td></tr><tr><td>62258</td><td>VSHN</td><td>Removal of complete cerebrospinal fluid shunt system; with replacement by similar or other shunt at same operation</td><td>No Change</td><td>2025-04-02T07:21:28.487Z</td></tr><tr><td>20102</td><td>XLAP</td><td>Exploration of penetrating wound (separate procedure); abdomen/flank/back</td><td>No Change</td><td>2025-04-02T07:21:28.487Z</td></tr><tr><td>35840</td><td>XLAP</td><td>Exploration for postoperative hemorrhage, thrombosis or infection; abdomen</td><td>No Change</td><td>2025-04-02T07:21:28.487Z</td></tr><tr><td>39503</td><td>XLAP</td><td>Repair, neonatal diaphragmatic hernia, with or without chest tube insertion and with or without creation of ventral hernia</td><td>No Change</td><td>2025-04-02T07:21:28.487Z</td></tr><tr><td>39540</td><td>XLAP</td><td>Repair, diaphragmatic hernia (other than neonatal), traumatic; acute</td><td>No Change</td><td>2025-04-02T07:21:28.487Z</td></tr><tr><td>39541</td><td>XLAP</td><td>Repair, diaphragmatic hernia (other than neonatal), traumatic; chronic</td><td>No Change</td><td>2025-04-02T07:21:28.487Z</td></tr><tr><td>43332</td><td>XLAP</td><td>Repair, paraesophageal hiatal hernia (including fundoplication), via laparotomy, except neonatal; without implantation of mesh or other prosthesis</td><td>No Change</td><td>2025-04-02T07:21:28.487Z</td></tr><tr><td>43333</td><td>XLAP</td><td>Repair, paraesophageal hiatal hernia (including fundoplication), via laparotomy, except neonatal; with implantation of mesh or other prosthesis</td><td>No Change</td><td>2025-04-02T07:21:28.487Z</td></tr><tr><td>44005</td><td>XLAP</td><td>Enterolysis (freeing of intestinal adhesions) (separate procedure)</td><td>No Change</td><td>2025-04-02T07:21:28.487Z</td></tr><tr><td>44180</td><td>XLAP</td><td>Laparoscopy, surgical, enterolysis (freeing of intestinal adhesion) (separate procedure)</td><td>No Change</td><td>2025-04-02T07:21:28.487Z</td></tr><tr><td>44700</td><td>XLAP</td><td>Exclusion of small intestine from pelvis by mesh or other prosthesis, or native tissue (eg, bladder or omentum)</td><td>No Change</td><td>2025-04-02T07:21:28.487Z</td></tr><tr><td>44820</td><td>XLAP</td><td>Excision of lesion of mesentery (separate procedure)</td><td>No Change</td><td>2025-04-02T07:21:28.487Z</td></tr><tr><td>44850</td><td>XLAP</td><td>Suture of mesentery (separate procedure)</td><td>No Change</td><td>2025-04-02T07:21:28.487Z</td></tr><tr><td>49000</td><td>XLAP</td><td>Exploratory laparotomy, exploratory celiotomy with or without biopsy(s) (separate procedure)</td><td>No Change</td><td>2025-04-02T07:21:28.487Z</td></tr><tr><td>49002</td><td>XLAP</td><td>Reopening of recent laparotomy</td><td>No Change</td><td>2025-04-02T07:21:28.487Z</td></tr><tr><td>49010</td><td>XLAP</td><td>Exploration, retroperitoneal area with or without biopsy(s) (separate procedure)</td><td>No Change</td><td>2025-04-02T07:21:28.487Z</td></tr><tr><td>49013</td><td>XLAP</td><td>Preperitoneal pelvic packing for hemorrhage associated with pelvic trauma, including local exploration</td><td>No change</td><td>2025-04-02T07:21:28.487Z</td></tr><tr><td>49014</td><td>XLAP</td><td>Re-exploration of pelvic wound with removal of preperitoneal pelvic packing, including repacking, when performed</td><td>No change</td><td>2025-04-02T07:21:28.487Z</td></tr><tr><td>49020</td><td>XLAP</td><td>Drainage of peritoneal abscess or localized peritonitis, exclusive of appendiceal abscess, open</td><td>No Change</td><td>2025-04-02T07:21:28.487Z</td></tr><tr><td>49040</td><td>XLAP</td><td>Drainage of subdiaphragmatic or subphrenic abscess, open</td><td>No Change</td><td>2025-04-02T07:21:28.487Z</td></tr><tr><td>49060</td><td>XLAP</td><td>Drainage of retroperitoneal abscess, open</td><td>No Change</td><td>2025-04-02T07:21:28.487Z</td></tr><tr><td>49203</td><td>XLAP</td><td>Excision or destruction, open, intra-abdominal tumors, cysts or endometriomas, 1 or more peritoneal, mesenteric, or retroperitoneal primary or secondary tumors; largest tumor 5 cm diameter or less</td><td>No Change</td><td>2025-04-02T07:21:28.487Z</td></tr><tr><td>49204</td><td>XLAP</td><td>Excision or destruction, open, intra-abdominal tumors, cysts or endometriomas, 1 or more peritoneal, mesenteric, or retroperitoneal primary or secondary tumors; largest tumor 5.1-10.0 cm diameter</td><td>No Change</td><td>2025-04-02T07:21:28.487Z</td></tr><tr><td>49205</td><td>XLAP</td><td>Excision or destruction, open, intra-abdominal tumors, cysts or endometriomas, 1 or more peritoneal, mesenteric, or retroperitoneal primary or secondary tumors; largest tumor greater than 10.0 cm diameter</td><td>No Change</td><td>2025-04-02T07:21:28.487Z</td></tr><tr><td>49215</td><td>XLAP</td><td>Excision of presacral or sacrococcygeal tumor</td><td>No Change</td><td>2025-04-02T07:21:28.487Z</td></tr><tr><td>49220</td><td>XLAP</td><td>Staging laparotomy for Hodgkin's disease or lymphoma (includes splenectomy, needle or open biopsies of both liver lobes, possibly also removal of abdominal nodes, abdominal node and/or bone marrow biopsies, ovarian repositioning)</td><td>No Change</td><td>2025-04-02T07:21:28.487Z</td></tr><tr><td>49250</td><td>XLAP</td><td>Umbilectomy, omphalectomy, excision of umbilicus (separate procedure)</td><td>No Change</td><td>2025-04-02T07:21:28.487Z</td></tr><tr><td>49255</td><td>XLAP</td><td>Omentectomy, epiploectomy, resection of omentum (separate procedure)</td><td>No Change</td><td>2025-04-02T07:21:28.487Z</td></tr><tr><td>49320</td><td>XLAP</td><td>Laparoscopy, abdomen, peritoneum, and omentum, diagnostic, with or without collection of specimen(s) by brushing or washing (separate procedure)</td><td>No Change</td><td>2025-04-02T07:21:28.487Z</td></tr><tr><td>49321</td><td>XLAP</td><td>Laparoscopy, surgical; with biopsy (single or multiple) </td><td>No Change</td><td>2025-04-02T07:21:28.487Z</td></tr><tr><td>49324</td><td>XLAP</td><td>Laparoscopy, surgical; with insertion of tunneled intraperitoneal catheter</td><td>No Change</td><td>2025-04-02T07:21:28.487Z</td></tr><tr><td>49325</td><td>XLAP</td><td>Laparoscopy, surgical; with revision of previously placed intraperitoneal cannula or catheter, with removal of intraluminal obstructive material if performed</td><td>No Change</td><td>2025-04-02T07:21:28.487Z</td></tr><tr><td>49326</td><td>XLAP</td><td>Laparoscopy, surgical; with omentopexy (omental tacking procedure) (List separately in No changeition to code for primary procedure)</td><td>No Change</td><td>2025-04-02T07:21:28.487Z</td></tr><tr><td>49402</td><td>XLAP</td><td>Removal of peritoneal foreign body from peritoneal cavity</td><td>No Change</td><td>2025-04-02T07:21:28.487Z</td></tr><tr><td>49412</td><td>XLAP</td><td>Placement of interstitial device(s) for radiation therapy guidance (eg, fiducial markers, dosimeter), open, intra-abdominal, intrapelvic, and/or retroperitoneum, including image guidance, if performed, single or multiple (List separately in No changeition to code for primary procedure)</td><td>No Change</td><td>2025-04-02T07:21:28.487Z</td></tr><tr><td>49419</td><td>XLAP</td><td>Insertion of tunneled intraperitoneal catheter, with subcutaneous port (ie, totally implantable)</td><td>No Change</td><td>2025-04-02T07:21:28.487Z</td></tr><tr><td>49421</td><td>XLAP</td><td>Insertion of tunneled intraperitoneal catheter for dialysis, open</td><td>No Change</td><td>2025-04-02T07:21:28.487Z</td></tr><tr><td>49425</td><td>XLAP</td><td>Insertion of peritoneal-venous shunt</td><td>No Change</td><td>2025-04-02T07:21:28.487Z</td></tr><tr><td>49426</td><td>XLAP</td><td>Revision of peritoneal-venous shunt</td><td>No Change</td><td>2025-04-02T07:21:28.487Z</td></tr><tr><td>49900</td><td>XLAP</td><td>Suture, secondary, of abdominal wall for evisceration or dehiscence</td><td>No Change</td><td>2025-04-02T07:21:28.487Z</td></tr><tr><td>49905</td><td>XLAP</td><td>Omental flap, intra-abdominal (List separately in No changeition to code for primary procedure)</td><td>No Change</td><td>2025-04-02T07:21:28.487Z</td></tr><tr><td>49906</td><td>XLAP</td><td>Free omental flap with microvascular anastomosis</td><td>No Change</td><td>2025-04-02T07:21:28.487Z</td></tr><tr><td>58960</td><td>XLAP</td><td>Laparotomy, for staging or restaging of ovarian, tubal, or primary peritoneal malignancy (second look), with or without omentectomy, peritoneal washing, biopsy of abdominal and pelvic peritoneum, diaphragmatic assessment with pelvic and limited para-aortic lymphadenectomy</td><td>No Change</td><td>2025-04-02T07:21:28.487Z</td></tr></tbody></table></div>"
      ]
     },
     "metadata": {
      "application/vnd.databricks.v1+output": {
       "addedWidgets": {},
       "aggData": [],
       "aggError": "",
       "aggOverflow": false,
       "aggSchema": [],
       "aggSeriesLimitReached": false,
       "aggType": "",
       "arguments": {},
       "columnCustomDisplayInfos": {},
       "data": [
        [
         "34830",
         "AAA",
         "Open repair of infrarenal aortic aneurysm or dissection, plus repair of associated arterial trauma, following unsuccessful endovascular repair; tube prosthesis  ",
         "No Change",
         "2025-04-02T07:21:28.487Z"
        ],
        [
         "34831",
         "AAA",
         "Open repair of infrarenal aortic aneurysm or dissection, plus repair of associated arterial trauma, following unsuccessful endovascular repair; aorto-bi-iliac prosthesis ",
         "No Change",
         "2025-04-02T07:21:28.487Z"
        ],
        [
         "34832",
         "AAA",
         "Open repair of infrarenal aortic aneurysm or dissection, plus repair of associated arterial trauma, following unsuccessful endovascular repair; aorto-bifemoral prosthesis  ",
         "No Change",
         "2025-04-02T07:21:28.487Z"
        ],
        [
         "35081",
         "AAA",
         "Direct repair of aneurysm, pseudoaneurysm, or excision (partial or total) and graft insertion, with or without patch graft; for aneurysm, pseudoaneurysm, and associated occlusive disease, abdominal aorta",
         "No Change",
         "2025-04-02T07:21:28.487Z"
        ],
        [
         "35082",
         "AAA",
         "Direct repair of aneurysm, pseudoaneurysm, or excision (partial or total) and graft insertion, with or without patch graft; for ruptured aneurysm, abdominal aorta  ",
         "No Change",
         "2025-04-02T07:21:28.487Z"
        ],
        [
         "35091",
         "AAA",
         "Direct repair of aneurysm, pseudoaneurysm, or excision (partial or total) and graft insertion, with or without patch graft; for aneurysm, pseudoaneurysm, and associated occlusive disease, abdominal aorta involving visceral vessels (mesenteric, celiac, renal) ",
         "No Change",
         "2025-04-02T07:21:28.487Z"
        ],
        [
         "35092",
         "AAA",
         "Direct repair of aneurysm, pseudoaneurysm, or excision (partial or total) and graft insertion, with or without patch graft; for ruptured aneurysm, abdominal aorta involving visceral vessels (mesenteric, celiac, renal)  ",
         "No Change",
         "2025-04-02T07:21:28.487Z"
        ],
        [
         "35102",
         "AAA",
         "Direct repair of aneurysm, pseudoaneurysm, or excision (partial or total) and graft insertion, with or without patch graft; for aneurysm, pseudoaneurysm, and associated occlusive disease, abdominal aorta involving iliac vessels (common, hypogastric, external)  ",
         "No Change",
         "2025-04-02T07:21:28.487Z"
        ],
        [
         "35103",
         "AAA",
         "Direct repair of aneurysm, pseudoaneurysm, or excision (partial or total) and graft insertion, with or without patch graft; for ruptured aneurysm, abdominal aorta involving iliac vessels (common, hypogastric, external)  ",
         "No Change",
         "2025-04-02T07:21:28.487Z"
        ],
        [
         "23900",
         "AMP",
         "Interthoracoscapular amputation (forequarter)",
         "No Change",
         "2025-04-02T07:21:28.487Z"
        ],
        [
         "23920",
         "AMP",
         "Disarticulation of shoulder",
         "No Change",
         "2025-04-02T07:21:28.487Z"
        ],
        [
         "24900",
         "AMP",
         "Amputation, arm through humerus; with primary closure ",
         "No Change",
         "2025-04-02T07:21:28.487Z"
        ],
        [
         "24920",
         "AMP",
         "Amputation, arm through humerus; open, circular (guillotine) ",
         "No Change",
         "2025-04-02T07:21:28.487Z"
        ],
        [
         "24930",
         "AMP",
         "Amputation, arm through humerus; re-amputation ",
         "No Change",
         "2025-04-02T07:21:28.487Z"
        ],
        [
         "24931",
         "AMP",
         "Amputation, arm through humerus; with implant ",
         "No Change",
         "2025-04-02T07:21:28.487Z"
        ],
        [
         "25900",
         "AMP",
         "Amputation, forearm, through radius and ulna",
         "No Change",
         "2025-04-02T07:21:28.487Z"
        ],
        [
         "25905",
         "AMP",
         "Amputation, forearm, through radius and ulna; open, circular (guillotine) ",
         "No Change",
         "2025-04-02T07:21:28.487Z"
        ],
        [
         "25909",
         "AMP",
         "Amputation, forearm, through radius and ulna; re-amputation",
         "No Change",
         "2025-04-02T07:21:28.487Z"
        ],
        [
         "25920",
         "AMP",
         "Disarticulation through wrist",
         "No Change",
         "2025-04-02T07:21:28.487Z"
        ],
        [
         "25922",
         "AMP",
         "Disarticulation through wrist; secondary closure or scar revision ",
         "No Change",
         "2025-04-02T07:21:28.487Z"
        ],
        [
         "25924",
         "AMP",
         "Disarticulation through wrist; re-amputation ",
         "No Change",
         "2025-04-02T07:21:28.487Z"
        ],
        [
         "25927",
         "AMP",
         "Transmetacarpal amputation;  ",
         "No Change",
         "2025-04-02T07:21:28.487Z"
        ],
        [
         "25929",
         "AMP",
         "Transmetacarpal amputation; secondary closure or scar revision ",
         "No Change",
         "2025-04-02T07:21:28.487Z"
        ],
        [
         "25931",
         "AMP",
         "Transmetacarpal amputation; re-amputation ",
         "No Change",
         "2025-04-02T07:21:28.487Z"
        ],
        [
         "26235",
         "AMP",
         "Partial excision (craterization, saucerization, or diaphysectomy) bone (eg, osteomyelitis); proximal or middle phalanx of finger",
         "No Change",
         "2025-04-02T07:21:28.487Z"
        ],
        [
         "26236",
         "AMP",
         "Partial excision (craterization, saucerization, or diaphysectomy) bone (eg, osteomyelitis); distal phalanx of finger",
         "No Change",
         "2025-04-02T07:21:28.487Z"
        ],
        [
         "26910",
         "AMP",
         "Amputation, metacarpal, with finger or thumb (ray amputation), single, with or without interosseous transfer ",
         "No Change",
         "2025-04-02T07:21:28.487Z"
        ],
        [
         "26951",
         "AMP",
         "Amputation, finger or thumb, primary or secondary, any joint or phalanx, single, including neurectomies; with direct closure ",
         "No Change",
         "2025-04-02T07:21:28.487Z"
        ],
        [
         "26952",
         "AMP",
         "Amputation, finger or thumb, primary or secondary, any joint or phalanx, single, including neurectomies; with local advancement flaps (V-Y, hood) ",
         "No Change",
         "2025-04-02T07:21:28.487Z"
        ],
        [
         "27290",
         "AMP",
         "Interpelviabdominal amputation (hindquarter amputation) ",
         "No Change",
         "2025-04-02T07:21:28.487Z"
        ],
        [
         "27295",
         "AMP",
         "Disarticulation of hip ",
         "No Change",
         "2025-04-02T07:21:28.487Z"
        ],
        [
         "27590",
         "AMP",
         "Amputation, thigh, through femur, any level; ",
         "No Change",
         "2025-04-02T07:21:28.487Z"
        ],
        [
         "27591",
         "AMP",
         "Amputation, thigh, through femur, any level; immediate fitting technique including first cast ",
         "No Change",
         "2025-04-02T07:21:28.487Z"
        ],
        [
         "27592",
         "AMP",
         "Amputation, thigh, through femur, any level; open, circular (guillotine) ",
         "No Change",
         "2025-04-02T07:21:28.487Z"
        ],
        [
         "27598",
         "AMP",
         "Disarticulation at knee",
         "No Change",
         "2025-04-02T07:21:28.487Z"
        ],
        [
         "27880",
         "AMP",
         "Amputation, leg, through tibia and fibula; ",
         "No Change",
         "2025-04-02T07:21:28.487Z"
        ],
        [
         "27881",
         "AMP",
         "Amputation, leg, through tibia and fibula; with immediate fitting technique including application of first cast",
         "No change",
         "2025-04-02T07:21:28.487Z"
        ],
        [
         "27882",
         "AMP",
         "Amputation, leg, through tibia and fibula; open, circular (guillotine) ",
         "No Change",
         "2025-04-02T07:21:28.487Z"
        ],
        [
         "27884",
         "AMP",
         "Amputation, leg, through tibia and fibula; secondary closure or scar revision ",
         "No Change",
         "2025-04-02T07:21:28.487Z"
        ],
        [
         "27886",
         "AMP",
         "Amputation, leg, through tibia and fibula; re-amputation ",
         "No Change",
         "2025-04-02T07:21:28.487Z"
        ],
        [
         "27888",
         "AMP",
         "Amputation, ankle, through malleoli of tibia and fibula (e.g., Syme, Pirogoff type procedures), with plastic closure and resection of nerves ",
         "No Change",
         "2025-04-02T07:21:28.487Z"
        ],
        [
         "27889",
         "AMP",
         "Ankle disarticulation ",
         "No Change",
         "2025-04-02T07:21:28.487Z"
        ],
        [
         "28124",
         "AMP",
         "Partial excision (craterization, saucerization, sequestrectomy, or diaphysectomy) bone (eg, osteomyelitis or bossing); phalanx of toe",
         "No Change",
         "2025-04-02T07:21:28.487Z"
        ],
        [
         "28126",
         "AMP",
         "Resection, partial or complete, phalangeal base, each toe",
         "No Change",
         "2025-04-02T07:21:28.487Z"
        ],
        [
         "28160",
         "AMP",
         "Hemiphalangectomy or interphalangeal joint excision, toe, proximal end of phalanx, each",
         "No Change",
         "2025-04-02T07:21:28.487Z"
        ],
        [
         "28800",
         "AMP",
         "Amputation, foot; midtarsal (e.g., Chopart type procedure) ",
         "No Change",
         "2025-04-02T07:21:28.487Z"
        ],
        [
         "28805",
         "AMP",
         "Amputation, foot; transmetatarsal ",
         "No Change",
         "2025-04-02T07:21:28.487Z"
        ],
        [
         "28810",
         "AMP",
         "Amputation, metatarsal, with toe, single ",
         "No Change",
         "2025-04-02T07:21:28.487Z"
        ],
        [
         "28820",
         "AMP",
         "Amputation, toe; metatarsophalangeal joint ",
         "No Change",
         "2025-04-02T07:21:28.487Z"
        ],
        [
         "28825",
         "AMP",
         "Amputation, toe; interphalangeal joint ",
         "No Change",
         "2025-04-02T07:21:28.487Z"
        ],
        [
         "44900",
         "APPY",
         "Incision and drainage of appendiceal abscess, open",
         "No Change",
         "2025-04-02T07:21:28.487Z"
        ],
        [
         "44950",
         "APPY",
         "Appendectomy",
         "No Change",
         "2025-04-02T07:21:28.487Z"
        ],
        [
         "44955",
         "APPY",
         "Appendectomy; when done for indicated purpose at time of other major procedure (not as separate procedure) (List separately in No changeition to code for primary procedure) ",
         "No Change",
         "2025-04-02T07:21:28.487Z"
        ],
        [
         "44960",
         "APPY",
         "Appendectomy; for ruptured appendix with abscess or generalized peritonitis ",
         "No Change",
         "2025-04-02T07:21:28.487Z"
        ],
        [
         "44970",
         "APPY",
         "Laparoscopy, surgical, appendectomy ",
         "No Change",
         "2025-04-02T07:21:28.487Z"
        ],
        [
         "44979",
         "APPY",
         "Unlisted laparoscopy procedure, appendix ",
         "No Change",
         "2025-04-02T07:21:28.487Z"
        ],
        [
         "36800",
         "AVSD",
         "Insertion of cannula for hemodialysis, other purpose (separate procedure); vein to vein ",
         "No Change",
         "2025-04-02T07:21:28.487Z"
        ],
        [
         "36810",
         "AVSD",
         "Insertion of cannula for hemodialysis, other purpose (separate procedure); arteriovenous, external (Scribner type) ",
         "No Change",
         "2025-04-02T07:21:28.487Z"
        ],
        [
         "36815",
         "AVSD",
         "Insertion of cannula for hemodialysis, other purpose (separate procedure); arteriovenous, external revision, or closure ",
         "No Change",
         "2025-04-02T07:21:28.487Z"
        ],
        [
         "36818",
         "AVSD",
         "Arteriovenous anastomosis, open; by upper arm cephalic vein transposition ",
         "No Change",
         "2025-04-02T07:21:28.487Z"
        ],
        [
         "36819",
         "AVSD",
         "Arteriovenous anastomosis, open; by upper arm basilic vein transposition ",
         "No Change",
         "2025-04-02T07:21:28.487Z"
        ],
        [
         "36820",
         "AVSD",
         "Arteriovenous anastomosis, open; by forearm vein transposition ",
         "No Change",
         "2025-04-02T07:21:28.487Z"
        ],
        [
         "36821",
         "AVSD",
         "Arteriovenous anastomosis, open; direct, any site (e.g., Cimino type) (separate procedure) ",
         "No Change",
         "2025-04-02T07:21:28.487Z"
        ],
        [
         "36825",
         "AVSD",
         "Creation of arteriovenous fistula by other than direct arteriovenous anastomosis (separate procedure); autogenous graft ",
         "No Change",
         "2025-04-02T07:21:28.487Z"
        ],
        [
         "36830",
         "AVSD",
         "Creation of arteriovenous fistula by other than direct arteriovenous anastomosis (separate procedure); non autogenous graft ",
         "No Change",
         "2025-04-02T07:21:28.487Z"
        ],
        [
         "36832",
         "AVSD",
         "Revision, open, arteriovenous fistula; without thrombectomy, autogenous or nonautogenous dialysis graft (separate procedure)",
         "No Change",
         "2025-04-02T07:21:28.487Z"
        ],
        [
         "36833",
         "AVSD",
         "Revision, open, arteriovenous fistula; with thrombectomy, autogenous or nonautogenous dialysis graft (separate procedure)",
         "No Change",
         "2025-04-02T07:21:28.487Z"
        ],
        [
         "36838",
         "AVSD",
         "Distal revascularization and interval ligation (DRIL), upper extremity hemodialysis access (steal syndrome) ",
         "No Change",
         "2025-04-02T07:21:28.487Z"
        ],
        [
         "47010",
         "BILI",
         "Hepatotomy; for open drainage of abscess or cyst, 1 or 2 stages ",
         "No Change",
         "2025-04-02T07:21:28.487Z"
        ],
        [
         "47015",
         "BILI",
         "Laparotomy, with aspiration and/or injection of hepatic parasitic (eg, amoebic or echinococcal) cyst(s) or abscess(es ",
         "No Change",
         "2025-04-02T07:21:28.487Z"
        ],
        [
         "47100",
         "BILI",
         "Biopsy of liver, wedge ",
         "No Change",
         "2025-04-02T07:21:28.487Z"
        ],
        [
         "47120",
         "BILI",
         "Hepatectomy, resection of liver; partial lobectomy ",
         "No Change",
         "2025-04-02T07:21:28.487Z"
        ],
        [
         "47122",
         "BILI",
         "Hepatectomy, resection of liver; trisegmentectomy ",
         "No Change",
         "2025-04-02T07:21:28.487Z"
        ],
        [
         "47125",
         "BILI",
         "Hepatectomy, resection of liver; total left lobectomy ",
         "No Change",
         "2025-04-02T07:21:28.487Z"
        ],
        [
         "47130",
         "BILI",
         "Hepatectomy, resection of liver; total right lobectomy ",
         "No Change",
         "2025-04-02T07:21:28.487Z"
        ],
        [
         "47140",
         "BILI",
         "Donor hepatectomy (including cold preservation), from living donor; left lateral segment only (segments II and III) ",
         "No Change",
         "2025-04-02T07:21:28.487Z"
        ],
        [
         "47141",
         "BILI",
         "Donor hepatectomy (including cold preservation), from living donor; total left lobectomy (segments II, III and IV) ",
         "No Change",
         "2025-04-02T07:21:28.487Z"
        ],
        [
         "47142",
         "BILI",
         "Donor hepatectomy (including cold preservation), from living donor; total right lobectomy (segments V, VI, VII and VIII) ",
         "No Change",
         "2025-04-02T07:21:28.487Z"
        ],
        [
         "47300",
         "BILI",
         "Marsupialization of cyst or abscess of liver ",
         "No Change",
         "2025-04-02T07:21:28.487Z"
        ],
        [
         "47350",
         "BILI",
         "Management of liver hemorrhage; simple suture of liver wound or injury ",
         "No Change",
         "2025-04-02T07:21:28.487Z"
        ],
        [
         "47360",
         "BILI",
         "Management of liver hemorrhage; complex suture of liver wound or injury, with or without hepatic artery ligatio",
         "No Change",
         "2025-04-02T07:21:28.487Z"
        ],
        [
         "47361",
         "BILI",
         "Management of liver hemorrhage; exploration of hepatic wound, extensive debridement, coagulation and/or suture, with or without packing of liver ",
         "No Change",
         "2025-04-02T07:21:28.487Z"
        ],
        [
         "47362",
         "BILI",
         "Management of liver hemorrhage; re-exploration of hepatic wound for removal of packing ",
         "No Change",
         "2025-04-02T07:21:28.487Z"
        ],
        [
         "47370",
         "BILI",
         "Laparoscopy, surgical, ablation of 1 or more liver tumor(s); radiofrequency ",
         "No Change",
         "2025-04-02T07:21:28.487Z"
        ],
        [
         "47371",
         "BILI",
         "Laparoscopy, surgical, ablation of 1 or more liver tumor(s); cryosurgical ",
         "No Change",
         "2025-04-02T07:21:28.487Z"
        ],
        [
         "47379",
         "BILI",
         "Unlisted laparoscopic procedure, liver ",
         "No Change",
         "2025-04-02T07:21:28.487Z"
        ],
        [
         "47380",
         "BILI",
         "Ablation, open, of 1 or more liver tumor(s); radiofrequency ",
         "No Change",
         "2025-04-02T07:21:28.487Z"
        ],
        [
         "47381",
         "BILI",
         "Ablation, open, of 1 or more liver tumor(s); cryosurgical ",
         "No Change",
         "2025-04-02T07:21:28.487Z"
        ],
        [
         "47400",
         "BILI",
         "Hepaticotomy or hepaticostomy with exploration, drainage, or removal of calculus ",
         "No Change",
         "2025-04-02T07:21:28.487Z"
        ],
        [
         "47420",
         "BILI",
         "Choledochotomy or choledochostomy with exploration, drainage, or removal of calculus, with or without cholecystotomy; without transduodenal sphincterotomy or sphincteroplasty ",
         "No Change",
         "2025-04-02T07:21:28.487Z"
        ],
        [
         "47425",
         "BILI",
         "Choledochotomy or choledochostomy with exploration, drainage, or removal of calculus, with or without cholecystotomy; with transduodenal sphincterotomy or sphincteroplasty ",
         "No Change",
         "2025-04-02T07:21:28.487Z"
        ],
        [
         "47460",
         "BILI",
         "Transduodenal sphincterotomy or sphincteroplasty, with or without transduodenal extraction of calculus (separate procedure) ",
         "No Change",
         "2025-04-02T07:21:28.487Z"
        ],
        [
         "47700",
         "BILI",
         "Exploration for congenital atresia of bile ducts, without repair, with or without liver biopsy, with or without cholangiography ",
         "No Change",
         "2025-04-02T07:21:28.487Z"
        ],
        [
         "47701",
         "BILI",
         "Portoenterostomy (eg, Kasai procedure) ",
         "No Change",
         "2025-04-02T07:21:28.487Z"
        ],
        [
         "47711",
         "BILI",
         "Excision of bile duct tumor, with or without primary repair of bile duct; extrahepatic ",
         "No Change",
         "2025-04-02T07:21:28.487Z"
        ],
        [
         "47712",
         "BILI",
         "Excision of bile duct tumor, with or without primary repair of bile duct; intrahepatic ",
         "No Change",
         "2025-04-02T07:21:28.487Z"
        ],
        [
         "47715",
         "BILI",
         "Excision of choledochal cyst ",
         "No Change",
         "2025-04-02T07:21:28.487Z"
        ],
        [
         "47760",
         "BILI",
         "Anastomosis, of extrahepatic biliary ducts and gastrointestinal tract ",
         "No Change",
         "2025-04-02T07:21:28.487Z"
        ],
        [
         "47765",
         "BILI",
         "Anastomosis, of intrahepatic ducts and gastrointestinal tract ",
         "No Change",
         "2025-04-02T07:21:28.487Z"
        ],
        [
         "47780",
         "BILI",
         "Anastomosis, Roux-en-Y, of extrahepatic biliary ducts and gastrointestinal tract ",
         "No Change",
         "2025-04-02T07:21:28.487Z"
        ],
        [
         "47785",
         "BILI",
         "Anastomosis, Roux-en-Y, of intrahepatic biliary ducts and gastrointestinal tract ",
         "No Change",
         "2025-04-02T07:21:28.487Z"
        ],
        [
         "47800",
         "BILI",
         "Reconstruction, plastic, of extrahepatic biliary ducts with end-to-end anastomosis ",
         "No Change",
         "2025-04-02T07:21:28.487Z"
        ],
        [
         "47802",
         "BILI",
         "U-tube hepaticoenterostomy ",
         "No Change",
         "2025-04-02T07:21:28.487Z"
        ],
        [
         "47900",
         "BILI",
         "Suture of extrahepatic biliary duct for pre-existing injury (separate procedure) ",
         "No Change",
         "2025-04-02T07:21:28.487Z"
        ],
        [
         "48000",
         "BILI",
         "Placement of drains, peripancreatic, for acute pancreatitis; ",
         "No Change",
         "2025-04-02T07:21:28.487Z"
        ],
        [
         "48001",
         "BILI",
         "Placement of drains, peripancreatic, for acute pancreatitis; with cholecystostomy, gastrostomy, and jejunostomy ",
         "No Change",
         "2025-04-02T07:21:28.487Z"
        ],
        [
         "48020",
         "BILI",
         "Removal of pancreatic calculus ",
         "No Change",
         "2025-04-02T07:21:28.487Z"
        ],
        [
         "48100",
         "BILI",
         "Biopsy of pancreas, open (eg, fine needle aspiration, needle core biopsy, wedge biopsy) ",
         "No Change",
         "2025-04-02T07:21:28.487Z"
        ],
        [
         "48105",
         "BILI",
         "Resection or debridement of pancreas and peripancreatic tissue for acute necrotizing pancreatitis ",
         "No Change",
         "2025-04-02T07:21:28.487Z"
        ],
        [
         "48120",
         "BILI",
         "Excision of lesion of pancreas (eg, cyst, adenoma) ",
         "No Change",
         "2025-04-02T07:21:28.487Z"
        ],
        [
         "48140",
         "BILI",
         "Pancreatectomy, distal subtotal, with or without splenectomy; without pancreaticojejunostomy ",
         "No Change",
         "2025-04-02T07:21:28.487Z"
        ],
        [
         "48145",
         "BILI",
         "Pancreatectomy, distal subtotal, with or without splenectomy; with pancreaticojejunostomy ",
         "No Change",
         "2025-04-02T07:21:28.487Z"
        ],
        [
         "48146",
         "BILI",
         "Pancreatectomy, distal, near-total with preservation of duodenum (Child-type procedure) ",
         "No Change",
         "2025-04-02T07:21:28.487Z"
        ],
        [
         "48148",
         "BILI",
         "Excision of ampulla of Vater ",
         "No Change",
         "2025-04-02T07:21:28.487Z"
        ],
        [
         "48150",
         "BILI",
         "Pancreatectomy, proximal subtotal with total duodenectomy, partial gastrectomy, choledochoenterostomy and gastrojejunostomy (Whipple-type procedure); with pancreatojejunostomy ",
         "No Change",
         "2025-04-02T07:21:28.487Z"
        ],
        [
         "48152",
         "BILI",
         "Pancreatectomy, proximal subtotal with total duodenectomy, partial gastrectomy, choledochoenterostomy and gastrojejunostomy (Whipple-type procedure); without pancreatojejunostomy ",
         "No Change",
         "2025-04-02T07:21:28.487Z"
        ],
        [
         "48153",
         "BILI",
         "Pancreatectomy, proximal subtotal with near-total duodenectomy, choledochoenterostomy and duodenojejunostomy (pylorus-sparing, Whipple-type procedure); with pancreatojejunostomy ",
         "No Change",
         "2025-04-02T07:21:28.487Z"
        ],
        [
         "48154",
         "BILI",
         "Pancreatectomy, proximal subtotal with near-total duodenectomy, choledochoenterostomy and duodenojejunostomy (pylorus-sparing, Whipple-type procedure); without pancreatojejunostomy ",
         "No Change",
         "2025-04-02T07:21:28.487Z"
        ],
        [
         "48155",
         "BILI",
         "Pancreatectomy, total ",
         "No Change",
         "2025-04-02T07:21:28.487Z"
        ],
        [
         "48160",
         "BILI",
         "Pancreatectomy, total or subtotal, with autologous transplantation of pancreas or pancreatic islet cells ",
         "No Change",
         "2025-04-02T07:21:28.487Z"
        ],
        [
         "48500",
         "BILI",
         "Marsupialization of pancreatic cyst ",
         "No Change",
         "2025-04-02T07:21:28.487Z"
        ],
        [
         "48510",
         "BILI",
         "External drainage, pseudocyst of pancreas; open ",
         "No Change",
         "2025-04-02T07:21:28.487Z"
        ],
        [
         "48520",
         "BILI",
         "Internal anastomosis of pancreatic cyst to gastrointestinal tract; direct ",
         "No Change",
         "2025-04-02T07:21:28.487Z"
        ],
        [
         "48540",
         "BILI",
         "Internal anastomosis of pancreatic cyst to gastrointestinal tract; Roux-en-Y ",
         "No Change",
         "2025-04-02T07:21:28.487Z"
        ],
        [
         "48545",
         "BILI",
         "Pancreatorrhaphy for injury ",
         "No Change",
         "2025-04-02T07:21:28.487Z"
        ],
        [
         "48548",
         "BILI",
         "Pancreaticojejunostomy, side-to-side anastomosis (Puestow-type operation) ",
         "No Change",
         "2025-04-02T07:21:28.487Z"
        ],
        [
         "0585T",
         "BILI",
         "Islet cell transplant, includes portal vein catheterization and infusion, including all imaging, including all guidance, and radiological supervision and interpretation, when performed; laparoscopic",
         "No change",
         "2025-04-02T07:21:28.487Z"
        ],
        [
         "0586T",
         "BILI",
         "Islet cell transplant, includes portal vein catheterization and infusion, including all imaging, including all guidance, and radiological supervision and interpretation, when performed; open",
         "No change",
         "2025-04-02T07:21:28.487Z"
        ],
        [
         "11970",
         "BRST",
         "Replacement of tissue expander(s) with permanent implant",
         "No Change",
         "2025-04-02T07:21:28.487Z"
        ],
        [
         "19101",
         "BRST",
         "Biopsy of breast; open, incisional",
         "No Change",
         "2025-04-02T07:21:28.487Z"
        ],
        [
         "19105",
         "BRST",
         "Ablation, cryosurgical, of fibroadenoma, including ultrasound guidance, each fibroadenoma",
         "No Change",
         "2025-04-02T07:21:28.487Z"
        ],
        [
         "19110",
         "BRST",
         "Nipple exploration, with or without excision of a solitary lactiferous duct or a papilloma lactiferous duct",
         "No Change",
         "2025-04-02T07:21:28.487Z"
        ],
        [
         "19112",
         "BRST",
         "Excision of lactiferous duct fistula",
         "No Change",
         "2025-04-02T07:21:28.487Z"
        ],
        [
         "19120",
         "BRST",
         "Excision of cyst, fibroadenoma, or other benign or malignant tumor, aberrant breast tissue, duct lesion, nipple or areolar lesion (except 19300), open, male or female, 1 or more lesions",
         "No Change",
         "2025-04-02T07:21:28.487Z"
        ],
        [
         "19125",
         "BRST",
         "Excision of breast lesion identified by pre-operative placement of radiological marker, open, single lesion ",
         "No Change",
         "2025-04-02T07:21:28.487Z"
        ],
        [
         "19126",
         "BRST",
         "Excision of breast lesion identified by pre-operative placement of radiological marker, open, single lesion; each No changeitional lesion separately identified by a preoperative radiological marker (list separately in No changeition to code for primary procedures) excision of breast lesion identified by pre-operative placement of radiological marker, open, single lesion",
         "No Change",
         "2025-04-02T07:21:28.487Z"
        ],
        [
         "19300",
         "BRST",
         "Mastectomy for gynecomastia",
         "No Change",
         "2025-04-02T07:21:28.487Z"
        ],
        [
         "19301",
         "BRST",
         "Mastectomy, partial (eg, lumpectomy, tylectomy, quadrantectomy, segmentectomy);",
         "No Change",
         "2025-04-02T07:21:28.487Z"
        ],
        [
         "19302",
         "BRST",
         "Mastectomy, partial (eg, lumpectomy, tylectomy, quadrantectomy, segmentectomy); with axillary lymphadenectomy",
         "No Change",
         "2025-04-02T07:21:28.487Z"
        ],
        [
         "19303",
         "BRST",
         "Mastectomy, simple, complete",
         "No Change",
         "2025-04-02T07:21:28.487Z"
        ],
        [
         "19305",
         "BRST",
         "Mastectomy, radical, including pectoral muscles, axillary lymph nodes",
         "No Change",
         "2025-04-02T07:21:28.487Z"
        ],
        [
         "19306",
         "BRST",
         "Mastectomy, radical, including pectoral muscles, axillary and internal mammary lymph nodes (Urban type operation)",
         "No Change",
         "2025-04-02T07:21:28.487Z"
        ],
        [
         "19307",
         "BRST",
         "Mastectomy, modified radical, including axillary lymph nodes, with or without pectoralis minor muscle, but excluding pectoralis major muscle",
         "No Change",
         "2025-04-02T07:21:28.487Z"
        ],
        [
         "19316",
         "BRST",
         "Mastopexy",
         "No Change",
         "2025-04-02T07:21:28.487Z"
        ],
        [
         "19318",
         "BRST",
         "Reduction mammaplasty",
         "No Change",
         "2025-04-02T07:21:28.487Z"
        ],
        [
         "19324",
         "BRST",
         "Mammaplasty, augmentation; without prosthetic implant",
         "No Change",
         "2025-04-02T07:21:28.487Z"
        ],
        [
         "19325",
         "BRST",
         "Mammaplasty, augmentation; with prosthetic implant",
         "No Change",
         "2025-04-02T07:21:28.487Z"
        ],
        [
         "19328",
         "BRST",
         "Removal of intact mammary implant",
         "No Change",
         "2025-04-02T07:21:28.487Z"
        ],
        [
         "19330",
         "BRST",
         "Removal of mammary implant material",
         "No Change",
         "2025-04-02T07:21:28.487Z"
        ],
        [
         "19340",
         "BRST",
         "Immediate insertion of breast prosthesis following mastopexy, mastectomy or in reconstruction",
         "No Change",
         "2025-04-02T07:21:28.487Z"
        ],
        [
         "19342",
         "BRST",
         "Delayed insertion of breast prosthesis following mastopexy, mastectomy or in reconstruction",
         "No Change",
         "2025-04-02T07:21:28.487Z"
        ],
        [
         "19350",
         "BRST",
         "Nipple/areola reconstruction",
         "No Change",
         "2025-04-02T07:21:28.487Z"
        ],
        [
         "19355",
         "BRST",
         "Correction of inverted nipples",
         "No Change",
         "2025-04-02T07:21:28.487Z"
        ],
        [
         "19357",
         "BRST",
         "Breast reconstruction, immediate or delayed, with tissue expander, including subsequent expansion",
         "No Change",
         "2025-04-02T07:21:28.487Z"
        ],
        [
         "19361",
         "BRST",
         "Breast reconstruction with latissimus dorsi flap, without prosthetic implant",
         "No Change",
         "2025-04-02T07:21:28.487Z"
        ],
        [
         "19364",
         "BRST",
         "Breast reconstruction with free flap",
         "No Change",
         "2025-04-02T07:21:28.487Z"
        ],
        [
         "19366",
         "BRST",
         "Breast reconstruction with other technique",
         "No Change",
         "2025-04-02T07:21:28.487Z"
        ],
        [
         "19367",
         "BRST",
         "Breast reconstruction with transverse rectus abdominis myocutaneous flap (TRAM), single pedicle, including closure of donor site;",
         "No Change",
         "2025-04-02T07:21:28.487Z"
        ],
        [
         "19368",
         "BRST",
         "Breast reconstruction with transverse rectus abdominis myocutaneous flap (TRAM), single pedicle, including closure of donor site; with microvascular anastomosis (supercharging)",
         "No Change",
         "2025-04-02T07:21:28.487Z"
        ],
        [
         "19369",
         "BRST",
         "Breast reconstruction with transverse rectus abdominis myocutaneous flap (TRAM), double pedicle, including closure of donor site",
         "No Change",
         "2025-04-02T07:21:28.487Z"
        ],
        [
         "19370",
         "BRST",
         "Open periprosthetic capsulotomy, breast",
         "No Change",
         "2025-04-02T07:21:28.487Z"
        ],
        [
         "19371",
         "BRST",
         "Periprosthetic capsulectomy, breast",
         "No Change",
         "2025-04-02T07:21:28.487Z"
        ],
        [
         "19380",
         "BRST",
         "Revision of reconstructed breast",
         "No Change",
         "2025-04-02T07:21:28.487Z"
        ],
        [
         "32658",
         "CARD",
         "Thoracoscopy, surgical; with removal of clot or foreign body from pericardial sac",
         "No Change",
         "2025-04-02T07:21:28.487Z"
        ],
        [
         "32659",
         "CARD",
         "Thoracoscopy, surgical; with creation of pericardial window or partial resection of pericardial sac for drainage",
         "No Change",
         "2025-04-02T07:21:28.487Z"
        ],
        [
         "32661",
         "CARD",
         "Thoracoscopy, surgical; with excision of pericardial cyst, tumor, or mass",
         "No Change",
         "2025-04-02T07:21:28.487Z"
        ],
        [
         "33020",
         "CARD",
         "Pericardiotomy for removal of clot or foreign body (primary procedure)",
         "No Change",
         "2025-04-02T07:21:28.487Z"
        ],
        [
         "33025",
         "CARD",
         "Creation of pericardial window or partial resection for drainage",
         "No Change",
         "2025-04-02T07:21:28.487Z"
        ],
        [
         "33030",
         "CARD",
         "Pericardiectomy, subtotal or complete; without cardiopulmonary bypass",
         "No Change",
         "2025-04-02T07:21:28.487Z"
        ],
        [
         "33031",
         "CARD",
         "Pericardiectomy, subtotal or complete; with cardiopulmonary bypass",
         "No Change",
         "2025-04-02T07:21:28.487Z"
        ],
        [
         "33050",
         "CARD",
         "Resection of pericardial cyst or tumor",
         "No Change",
         "2025-04-02T07:21:28.487Z"
        ],
        [
         "33120",
         "CARD",
         "Excision of intracardiac tumor, resection with cardiopulmonary bypass",
         "No Change",
         "2025-04-02T07:21:28.487Z"
        ],
        [
         "33130",
         "CARD",
         "Resection of external cardiac tumor",
         "No Change",
         "2025-04-02T07:21:28.487Z"
        ],
        [
         "33250",
         "CARD",
         "Operative ablation of supraventricular arrhythmogenic focus or pathway (eg, Wolff-Parkinson-White, atrioventricular node re-entry), tract(s) and/or focus (foci); without cardiopulmonary bypass",
         "No Change",
         "2025-04-02T07:21:28.487Z"
        ],
        [
         "33251",
         "CARD",
         "Operative ablation of supraventricular arrhythmogenic focus or pathway (eg, Wolff-Parkinson-White, atrioventricular node re-entry), tract(s) and/or focus (foci); with cardiopulmonary bypass",
         "No Change",
         "2025-04-02T07:21:28.487Z"
        ],
        [
         "33254",
         "CARD",
         "Operative tissue ablation and reconstruction of atria, limited (eg, modified maze procedure)",
         "No Change",
         "2025-04-02T07:21:28.487Z"
        ],
        [
         "33255",
         "CARD",
         "Operative tissue ablation and reconstruction of atria, extensive (eg, maze procedure); without cardiopulmonary bypass",
         "No Change",
         "2025-04-02T07:21:28.487Z"
        ],
        [
         "33256",
         "CARD",
         "Operative tissue ablation and reconstruction of atria, extensive (eg, maze procedure); with cardiopulmonary bypass",
         "No Change",
         "2025-04-02T07:21:28.487Z"
        ],
        [
         "33257",
         "CARD",
         "Operative tissue ablation and reconstruction of atria, performed at the time of other cardiac procedure(s), limited (eg, modified maze procedure) (List separately in No changeition to code for primary procedure)",
         "No Change",
         "2025-04-02T07:21:28.487Z"
        ],
        [
         "33258",
         "CARD",
         "Operative tissue ablation and reconstruction of atria, performed at the time of other cardiac procedure(s), extensive (eg, maze procedure), without cardiopulmonary bypass (List separately in No changeition to code for primary procedure)",
         "No Change",
         "2025-04-02T07:21:28.487Z"
        ],
        [
         "33259",
         "CARD",
         "Operative tissue ablation and reconstruction of atria, performed at the time of other cardiac procedure(s), extensive (eg, maze procedure), with cardiopulmonary bypass (List separately in No changeition to code for primary procedure)",
         "No Change",
         "2025-04-02T07:21:28.487Z"
        ],
        [
         "33261",
         "CARD",
         "Operative ablation of ventricular arrhythmogenic focus with cardiopulmonary bypass",
         "No Change",
         "2025-04-02T07:21:28.487Z"
        ],
        [
         "33265",
         "CARD",
         "Endoscopy, surgical; operative tissue ablation and reconstruction of atria, limited (eg, modified maze procedure), without cardiopulmonary bypass",
         "No Change",
         "2025-04-02T07:21:28.487Z"
        ],
        [
         "33266",
         "CARD",
         "Endoscopy, surgical; operative tissue ablation and reconstruction of atria, extensive (eg, maze procedure), without cardiopulmonary bypass ",
         "No Change",
         "2025-04-02T07:21:28.487Z"
        ],
        [
         "33267",
         "CARD",
         "Exclusion of left atrial appendage, open, any method (eg, excision, isolation via stapling, oversewing, ligation, plication, clip)",
         "No change",
         "2025-04-02T07:21:28.487Z"
        ],
        [
         "33268",
         "CARD",
         "Exclusion of left atrial appendage, open, performed at the time of other sternotomy or thoracotomy procedure(s), any method (eg, excision, isolation via stapling, oversewing, ligation, plication, clip) (List separately in addition to primary procedure)",
         "No change",
         "2025-04-02T07:21:28.487Z"
        ],
        [
         "33269",
         "CARD",
         "Exclusion of left atrial appendage, thoracoscopic, any method (eg, excision, isolation via stapling, oversewing, ligation, plication, clip)",
         "No change",
         "2025-04-02T07:21:28.487Z"
        ],
        [
         "33300",
         "CARD",
         "Repair of cardiac wound; without bypass ",
         "No Change",
         "2025-04-02T07:21:28.487Z"
        ],
        [
         "33305",
         "CARD",
         "Repair of cardiac wound; with cardiopulmonary bypass ",
         "No Change",
         "2025-04-02T07:21:28.487Z"
        ],
        [
         "33310",
         "CARD",
         "Cardiotomy, exploratory (includes removal of foreign body, atrial or ventricular thrombus); without bypass  ",
         "No Change",
         "2025-04-02T07:21:28.487Z"
        ],
        [
         "33315",
         "CARD",
         "Cardiotomy, exploratory (includes removal of foreign body, atrial or ventricular thrombus); with cardiopulmonary bypass ",
         "No Change",
         "2025-04-02T07:21:28.487Z"
        ],
        [
         "33365",
         "CARD",
         "Transcatheter aortic valve replacement (TAVR/TAVI) with prosthetic valve; transaortic approach (eg, median sternotomy, mediastinotomy)",
         "No Change",
         "2025-04-02T07:21:28.487Z"
        ],
        [
         "33366",
         "CARD",
         "Transcatheter aortic valve replacement (TAVR/TAVI) with prosthetic valve; transapical exposure (eg, left thoracotomy) ",
         "No Change",
         "2025-04-02T07:21:28.487Z"
        ],
        [
         "33390",
         "CARD",
         "Valvuloplasty, aortic valve, open, with cardiopulmonary bypass; simple (ie, valvotomy, debridement, debulking, and/or simple commissural resuspension)",
         "No Change",
         "2025-04-02T07:21:28.487Z"
        ],
        [
         "33391",
         "CARD",
         "Valvuloplasty, aortic valve, open, with cardiopulmonary bypass; complex (eg, leaflet extension, leaflet resection, leaflet reconstruction, or annuloplasty)",
         "No Change",
         "2025-04-02T07:21:28.487Z"
        ],
        [
         "33404",
         "CARD",
         "Construction of apical-aortic conduit",
         "No Change",
         "2025-04-02T07:21:28.487Z"
        ],
        [
         "33405",
         "CARD",
         "Replacement, aortic valve, open, with cardiopulmonary bypass; with prosthetic valve other than homograft or stentless valve ",
         "No Change",
         "2025-04-02T07:21:28.487Z"
        ],
        [
         "33406",
         "CARD",
         "Replacement, aortic valve, with cardiopulmonary bypass; with allograft valve (freehand)",
         "No Change",
         "2025-04-02T07:21:28.487Z"
        ],
        [
         "33410",
         "CARD",
         "Replacement, aortic valve, open, with cardiopulmonary bypass; with stentless tissue valve ",
         "No Change",
         "2025-04-02T07:21:28.487Z"
        ],
        [
         "33411",
         "CARD",
         "Replacement, aortic valve; with aortic annulus enlargement, noncoronary sinus ",
         "No Change",
         "2025-04-02T07:21:28.487Z"
        ],
        [
         "33412",
         "CARD",
         "Replacement, aortic valve; with transventricular aortic annulus enlargement (Konno procedure)",
         "No Change",
         "2025-04-02T07:21:28.487Z"
        ],
        [
         "33413",
         "CARD",
         "Replacement, aortic valve; by translocation of autologous pulmonary valve with allograft replacement of pulmonary valve (Ross procedure) ",
         "No Change",
         "2025-04-02T07:21:28.487Z"
        ],
        [
         "33414",
         "CARD",
         "Repair of left ventricular outflow tract obstruction by patch enlargement of the outflow tract ",
         "No Change",
         "2025-04-02T07:21:28.487Z"
        ],
        [
         "33415",
         "CARD",
         "Resection or incision of subvalvular tissue for discrete subvalvular aortic stenosis ",
         "No Change",
         "2025-04-02T07:21:28.487Z"
        ],
        [
         "33416",
         "CARD",
         "Ventriculomyotomy (-myectomy) for idiopathic hypertrophic subaortic stenosis (eg, asymmetric septal hypertrophy)",
         "No Change",
         "2025-04-02T07:21:28.487Z"
        ],
        [
         "33417",
         "CARD",
         "Aortoplasty (gusset) for supravalvular stenosis",
         "No Change",
         "2025-04-02T07:21:28.487Z"
        ],
        [
         "33420",
         "CARD",
         "Valvotomy, mitral valve; closed heart",
         "No Change",
         "2025-04-02T07:21:28.487Z"
        ],
        [
         "33422",
         "CARD",
         "Valvotomy, mitral valve; open heart, with cardiopulmonary bypass",
         "No Change",
         "2025-04-02T07:21:28.487Z"
        ],
        [
         "33425",
         "CARD",
         "Valvuloplasty, mitral valve, with cardiopulmonary bypass;",
         "No Change",
         "2025-04-02T07:21:28.487Z"
        ],
        [
         "33426",
         "CARD",
         "Valvuloplasty, mitral valve, with cardiopulmonary bypass; with prosthetic ring",
         "No Change",
         "2025-04-02T07:21:28.487Z"
        ],
        [
         "33427",
         "CARD",
         "Valvuloplasty, mitral valve, with cardiopulmonary bypass; radical reconstruction, with or without ring",
         "No Change",
         "2025-04-02T07:21:28.487Z"
        ],
        [
         "33430",
         "CARD",
         "Replacement, mitral valve, with cardiopulmonary bypass",
         "No Change",
         "2025-04-02T07:21:28.487Z"
        ],
        [
         "33440",
         "CARD",
         "Replacement of aortic valve by translocation of autologous pulmonary valve and transventricular aortic annulus enlargement of left ventricular outflow tract with valved conduit replacement of pulmonary valve",
         "No Change",
         "2025-04-02T07:21:28.487Z"
        ],
        [
         "33460",
         "CARD",
         "Valvectomy, tricuspid valve, with cardiopulmonary bypass",
         "No Change",
         "2025-04-02T07:21:28.487Z"
        ],
        [
         "33463",
         "CARD",
         "Valvuloplasty, tricuspid valve; without ring insertion ",
         "No Change",
         "2025-04-02T07:21:28.487Z"
        ],
        [
         "33464",
         "CARD",
         "Valvuloplasty, tricuspid valve; with ring insertion",
         "No Change",
         "2025-04-02T07:21:28.487Z"
        ],
        [
         "33465",
         "CARD",
         "Replacement, tricuspid valve, with cardiopulmonary bypass ",
         "No Change",
         "2025-04-02T07:21:28.487Z"
        ],
        [
         "33468",
         "CARD",
         "Tricuspid valve repositioning and plication for Ebstein anomaly",
         "No Change",
         "2025-04-02T07:21:28.487Z"
        ],
        [
         "33471",
         "CARD",
         "Valvotomy, pulmonary valve, closed heart; via pulmonary artery",
         "No Change",
         "2025-04-02T07:21:28.487Z"
        ],
        [
         "33474",
         "CARD",
         "Valvotomy, pulmonary valve, open heart, with cardiopulmonary bypass",
         "No Change",
         "2025-04-02T07:21:28.487Z"
        ],
        [
         "33475",
         "CARD",
         "Replacement, pulmonary valve ",
         "No Change",
         "2025-04-02T07:21:28.487Z"
        ],
        [
         "33476",
         "CARD",
         "Right ventricular resection for infundibular stenosis, with or without commissurotomy",
         "No Change",
         "2025-04-02T07:21:28.487Z"
        ],
        [
         "33478",
         "CARD",
         "Outflow tract augmentation (gusset), with or without commissurotomy or infundibular resection",
         "No Change",
         "2025-04-02T07:21:28.487Z"
        ],
        [
         "33496",
         "CARD",
         "Repair of non-structural prosthetic valve dysfunction with cardiopulmonary bypass (separate procedure)",
         "No Change",
         "2025-04-02T07:21:28.487Z"
        ],
        [
         "33542",
         "CARD",
         "Myocardial resection (eg, ventricular aneurysmectomy)",
         "No Change",
         "2025-04-02T07:21:28.487Z"
        ],
        [
         "33545",
         "CARD",
         "Repair of postinfarction ventricular septal defect, with or without myocardial resection ",
         "No Change",
         "2025-04-02T07:21:28.487Z"
        ],
        [
         "33548",
         "CARD",
         "Surgical ventricular restoration procedure, includes prosthetic patch, when performed (eg, ventricular remodeling, SVR, SAVER, Dor procedures)",
         "No Change",
         "2025-04-02T07:21:28.487Z"
        ],
        [
         "33600",
         "CARD",
         "Closure of atrioventricular valve (mitral or tricuspid) by suture or patch",
         "No Change",
         "2025-04-02T07:21:28.487Z"
        ],
        [
         "33602",
         "CARD",
         "Closure of semilunar valve (aortic or pulmonary) by suture or patch",
         "No Change",
         "2025-04-02T07:21:28.487Z"
        ],
        [
         "33608",
         "CARD",
         "Repair of complex cardiac anomaly other than pulmonary atresia with ventricular septal defect by construction or replacement of conduit from right or left ventricle to pulmonary artery ",
         "No Change",
         "2025-04-02T07:21:28.487Z"
        ],
        [
         "33610",
         "CARD",
         "Repair of complex cardiac anomalies (eg, single ventricle with subaortic obstruction) by surgical enlargement of ventricular septal defect",
         "No Change",
         "2025-04-02T07:21:28.487Z"
        ],
        [
         "33611",
         "CARD",
         "Repair of double outlet right ventricle with intraventricular tunnel repair; ",
         "No Change",
         "2025-04-02T07:21:28.487Z"
        ],
        [
         "33612",
         "CARD",
         "Repair of double outlet right ventricle with intraventricular tunnel repair; with repair of right ventricular outflow tract obstruction ",
         "No Change",
         "2025-04-02T07:21:28.487Z"
        ],
        [
         "33615",
         "CARD",
         "Repair of complex cardiac anomalies (eg, tricuspid atresia) by closure of atrial septal defect and anastomosis of atria or vena cava to pulmonary artery (simple Fontan procedure)",
         "No Change",
         "2025-04-02T07:21:28.487Z"
        ],
        [
         "33617",
         "CARD",
         "Repair of complex cardiac anomalies (e.g., single ventricle by modified Fontan)",
         "No Change",
         "2025-04-02T07:21:28.487Z"
        ],
        [
         "33619",
         "CARD",
         "Repair of single ventricle with aortic outflow obstruction and aortic arch hypoplasia (hypoplastic left heart syndrome) (eg, Norwood procedure)",
         "No Change",
         "2025-04-02T07:21:28.487Z"
        ],
        [
         "33641",
         "CARD",
         "Repair atrial septal defect, secundum, with cardiopulmonary bypass, with or without patch ",
         "No Change",
         "2025-04-02T07:21:28.487Z"
        ],
        [
         "33645",
         "CARD",
         "Direct or patch closure, sinus venosus, with or without anomalous pulmonary venous drainage ",
         "No Change",
         "2025-04-02T07:21:28.487Z"
        ],
        [
         "33647",
         "CARD",
         "Repair of atrial septal defect and ventricular septal defect, with direct or patch closure ",
         "No Change",
         "2025-04-02T07:21:28.487Z"
        ],
        [
         "33660",
         "CARD",
         "Repair of incomplete or partial atrioventricular canal (ostium primum atrial septal defect), with or without atrioventricular valve repair ",
         "No Change",
         "2025-04-02T07:21:28.487Z"
        ],
        [
         "33665",
         "CARD",
         "Repair of intermediate or transitional atrioventricular canal, with or without atrioventricular valve repair ",
         "No Change",
         "2025-04-02T07:21:28.487Z"
        ],
        [
         "33670",
         "CARD",
         "Repair of complete atrioventricular canal, with or without prosthetic valve ",
         "No Change",
         "2025-04-02T07:21:28.487Z"
        ],
        [
         "33675",
         "CARD",
         "Closure of multiple ventricular septal defects; ",
         "No Change",
         "2025-04-02T07:21:28.487Z"
        ],
        [
         "33676",
         "CARD",
         "Closure of multiple ventricular septal defects; with pulmonary valvotomy or infundibular resection (acyanotic) ",
         "No Change",
         "2025-04-02T07:21:28.487Z"
        ],
        [
         "33677",
         "CARD",
         "Closure of multiple ventricular septal defects; with removal of pulmonary artery band, with or without gusset ",
         "No Change",
         "2025-04-02T07:21:28.487Z"
        ],
        [
         "33681",
         "CARD",
         "Closure of single ventricular septal defect, with or without patch; ",
         "No Change",
         "2025-04-02T07:21:28.487Z"
        ],
        [
         "33684",
         "CARD",
         "Closure of single ventricular septal defect, with or without patch; with pulmonary valvotomy or infundibular resection (acyanotic) ",
         "No Change",
         "2025-04-02T07:21:28.487Z"
        ],
        [
         "33688",
         "CARD",
         "Closure of single ventricular septal defect, with or without patch; with removal of pulmonary artery band, with or without gusset ",
         "No Change",
         "2025-04-02T07:21:28.487Z"
        ],
        [
         "33692",
         "CARD",
         "Complete repair tetralogy of Fallot without pulmonary atresia;",
         "No Change",
         "2025-04-02T07:21:28.487Z"
        ],
        [
         "33694",
         "CARD",
         "Complete repair tetralogy of Fallot without pulmonary atresia; with transannular patch",
         "No Change",
         "2025-04-02T07:21:28.487Z"
        ],
        [
         "33697",
         "CARD",
         "Complete repair tetralogy of Fallot with pulmonary atresia including construction of conduit from right ventricle to pulmonary artery and closure of ventricular septal defect",
         "No Change",
         "2025-04-02T07:21:28.487Z"
        ],
        [
         "33702",
         "CARD",
         "Repair sinus of Valsalva fistula, with cardiopulmonary bypass; ",
         "No Change",
         "2025-04-02T07:21:28.487Z"
        ],
        [
         "33710",
         "CARD",
         "Repair sinus of Valsalva fistula, with cardiopulmonary bypass; with repair of ventricular septal defect ",
         "No Change",
         "2025-04-02T07:21:28.487Z"
        ],
        [
         "33720",
         "CARD",
         "Repair sinus of Valsalva aneurysm, with cardiopulmonary bypass ",
         "No Change",
         "2025-04-02T07:21:28.487Z"
        ],
        [
         "33732",
         "CARD",
         "Repair of cor triatriatum or supravalvular mitral ring by resection of left atrial membrane",
         "No Change",
         "2025-04-02T07:21:28.487Z"
        ],
        [
         "33735",
         "CARD",
         "Atrial septectomy or septostomy; closed heart (Blalock-Hanlon type operation) ",
         "No Change",
         "2025-04-02T07:21:28.487Z"
        ],
        [
         "33736",
         "CARD",
         "Atrial septectomy or septostomy; open heart with cardiopulmonary bypass ",
         "No Change",
         "2025-04-02T07:21:28.487Z"
        ],
        [
         "33737",
         "CARD",
         "Atrial septectomy or septostomy; open heart, with inflow occlusion ",
         "No Change",
         "2025-04-02T07:21:28.487Z"
        ],
        [
         "33770",
         "CARD",
         "Repair of transposition of the great arteries with ventricular septal defect and subpulmonary stenosis; without surgical enlargement of ventricular septal defect",
         "No Change",
         "2025-04-02T07:21:28.487Z"
        ],
        [
         "33774",
         "CARD",
         "Repair of transposition of the great arteries, atrial baffle procedure (eg, Mustard or Senning type) with cardiopulmonary bypass;",
         "No Change",
         "2025-04-02T07:21:28.487Z"
        ],
        [
         "33776",
         "CARD",
         "Repair of transposition of the great arteries, atrial baffle procedure (eg, Mustard or Senning type) with cardiopulmonary bypass; with closure of ventricular septal defect ",
         "No Change",
         "2025-04-02T07:21:28.487Z"
        ],
        [
         "33780",
         "CARD",
         "Repair of transposition of the great arteries, aortic pulmonary artery reconstruction (eg, Jatene type); with closure of ventricular septal defect ",
         "No Change",
         "2025-04-02T07:21:28.487Z"
        ],
        [
         "33782",
         "CARD",
         "Aortic root translocation with ventricular septal defect and pulmonary stenosis repair (ie, Nikaidoh procedure); without coronary ostium reimplantation ",
         "No Change",
         "2025-04-02T07:21:28.487Z"
        ],
        [
         "33783",
         "CARD",
         "Aortic root translocation with ventricular septal defect and pulmonary stenosis repair (ie, Nikaidoh procedure); with reimplantation of 1 or both coronary ostia ",
         "No Change",
         "2025-04-02T07:21:28.487Z"
        ],
        [
         "33786",
         "CARD",
         "Total repair, truncus arteriosus (Rastelli type operation)",
         "No Change",
         "2025-04-02T07:21:28.487Z"
        ],
        [
         "33813",
         "CARD",
         "Obliteration of aortopulmonary septal defect; without cardiopulmonary bypass ",
         "No Change",
         "2025-04-02T07:21:28.487Z"
        ],
        [
         "33814",
         "CARD",
         "Obliteration of aortopulmonary septal defect; with cardiopulmonary bypass ",
         "No Change",
         "2025-04-02T07:21:28.487Z"
        ],
        [
         "33920",
         "CARD",
         "Repair of pulmonary atresia with ventricular septal defect, by construction or replacement of conduit from right or left ventricle to pulmonary artery",
         "No Change",
         "2025-04-02T07:21:28.487Z"
        ],
        [
         "33975",
         "CARD",
         "Insertion of ventricular assist device; extracorporeal, single ventricle",
         "No change",
         "2025-04-02T07:21:28.487Z"
        ],
        [
         "33976",
         "CARD",
         "Insertion of ventricular assist device; extracorporeal, biventricle",
         "No change",
         "2025-04-02T07:21:28.487Z"
        ],
        [
         "33977",
         "CARD",
         "Removal of ventricular assist device; extracorporeal, single ventricle",
         "No change",
         "2025-04-02T07:21:28.487Z"
        ],
        [
         "33978",
         "CARD",
         "Removal of ventricular assist device; extracorporeal, biventricle",
         "No change",
         "2025-04-02T07:21:28.487Z"
        ],
        [
         "33979",
         "CARD",
         "Insertion of ventricular assist device; implantable intracorporeal, single ventricle",
         "No change",
         "2025-04-02T07:21:28.487Z"
        ],
        [
         "33980",
         "CARD",
         "Removal of ventricular assist device; implantable intracorporeal, single ventricle",
         "No change",
         "2025-04-02T07:21:28.487Z"
        ],
        [
         "0051T",
         "CARD",
         "Implantation of a total replacement heart system (artificial heart) with recipient cardiectomy ",
         "No change",
         "2025-04-02T07:21:28.487Z"
        ],
        [
         "0052T",
         "CARD",
         "Replacement or repair of implantable component or components of total replacement heart system (artificial heart), thoracic unit ",
         "No change",
         "2025-04-02T07:21:28.487Z"
        ],
        [
         "0053T",
         "CARD",
         "Replacement or repair of implantable component or components of total replacement heart system (artificial heart), excluding thoracic unit ",
         "No change",
         "2025-04-02T07:21:28.487Z"
        ],
        [
         "33509",
         "CBGB",
         "Endoscopic harvest of single upper extremity artery segment for coronary artery bypass procedure",
         "No change",
         "2025-04-02T07:21:28.487Z"
        ],
        [
         "33510",
         "CBGB",
         "Coronary artery bypass, vein only; single coronary venous graft",
         "No Change",
         "2025-04-02T07:21:28.487Z"
        ],
        [
         "33511",
         "CBGB",
         "Coronary artery bypass, vein only; 2 coronary venous grafts",
         "No Change",
         "2025-04-02T07:21:28.487Z"
        ],
        [
         "33512",
         "CBGB",
         "Coronary artery bypass, vein only; 3 coronary venous grafts",
         "No Change",
         "2025-04-02T07:21:28.487Z"
        ],
        [
         "33513",
         "CBGB",
         "Coronary artery bypass, vein only; 4 coronary venous grafts",
         "No Change",
         "2025-04-02T07:21:28.487Z"
        ],
        [
         "33514",
         "CBGB",
         "Coronary artery bypass, vein only; 5 coronary venous grafts",
         "No Change",
         "2025-04-02T07:21:28.487Z"
        ],
        [
         "33516",
         "CBGB",
         "Coronary artery bypass, vein only; 6 or more coronary venous grafts",
         "No Change",
         "2025-04-02T07:21:28.487Z"
        ],
        [
         "35600",
         "CBGB",
         "Harvest of upper extremity artery, 1 segment, for coronary artery bypass procedure, open",
         "No change",
         "2025-04-02T07:21:28.487Z"
        ],
        [
         "33533",
         "CBGC",
         "Coronary artery bypass, using arterial graft(s); single arterial graft",
         "No Change",
         "2025-04-02T07:21:28.487Z"
        ],
        [
         "33534",
         "CBGC",
         "Coronary artery bypass, using arterial graft(s); 2 coronary arterial grafts",
         "No Change",
         "2025-04-02T07:21:28.487Z"
        ],
        [
         "33535",
         "CBGC",
         "Coronary artery bypass, using arterial graft(s); 3 coronary arterial grafts",
         "No Change",
         "2025-04-02T07:21:28.487Z"
        ],
        [
         "33536",
         "CBGC",
         "Coronary artery bypass, using arterial graft(s);  4 or more coronary arterial grafts",
         "No Change",
         "2025-04-02T07:21:28.487Z"
        ],
        [
         "35301",
         "CEA",
         "Thromboendarterectomy, including patch graft, if performed; carotid, vertebral, subclavian, by neck incision",
         "No Change",
         "2025-04-02T07:21:28.487Z"
        ],
        [
         "35390",
         "CEA",
         "Reoperation, carotid, thromboendarterectomy, more than 1 month after original operation (List separately in No changeition to code for primary procedure)",
         "No Change",
         "2025-04-02T07:21:28.487Z"
        ],
        [
         "47480",
         "CHOL",
         "Cholecystotomy or cholecystostomy, open, with exploration, drainage, or removal of calculus (separate procedure)",
         "No Change",
         "2025-04-02T07:21:28.487Z"
        ],
        [
         "47562",
         "CHOL",
         "Laparoscopy, surgical; cholecystectomy",
         "No Change",
         "2025-04-02T07:21:28.487Z"
        ],
        [
         "47563",
         "CHOL",
         "Laparoscopy, surgical; cholecystectomy with cholangiography",
         "No Change",
         "2025-04-02T07:21:28.487Z"
        ],
        [
         "47564",
         "CHOL",
         "Laparoscopy, surgical; cholecystectomy with exploration of common duct ",
         "No Change",
         "2025-04-02T07:21:28.487Z"
        ],
        [
         "47570",
         "CHOL",
         "Laparoscopy, surgical; cholecystoenterostomy ",
         "No Change",
         "2025-04-02T07:21:28.487Z"
        ],
        [
         "47600",
         "CHOL",
         "Cholecystectomy;",
         "No Change",
         "2025-04-02T07:21:28.487Z"
        ],
        [
         "47605",
         "CHOL",
         "Cholecystectomy; with cholangiography",
         "No Change",
         "2025-04-02T07:21:28.487Z"
        ],
        [
         "47610",
         "CHOL",
         "Cholecystectomy with exploration of common duct; ",
         "No Change",
         "2025-04-02T07:21:28.487Z"
        ],
        [
         "47612",
         "CHOL",
         "Cholecystectomy with exploration of common duct; with choledochoenterostomy ",
         "No Change",
         "2025-04-02T07:21:28.487Z"
        ],
        [
         "47620",
         "CHOL",
         "Cholecystectomy with exploration of common duct; with transduodenal sphincterotomy or sphincteroplasty, with or without cholangiography ",
         "No Change",
         "2025-04-02T07:21:28.487Z"
        ],
        [
         "47720",
         "CHOL",
         "Cholecystoenterostomy; direct ",
         "No Change",
         "2025-04-02T07:21:28.487Z"
        ],
        [
         "47721",
         "CHOL",
         "Cholecystoenterostomy; with gastroenterostomy ",
         "No Change",
         "2025-04-02T07:21:28.487Z"
        ],
        [
         "47740",
         "CHOL",
         "Cholecystoenterostomy; Roux-en-Y ",
         "No Change",
         "2025-04-02T07:21:28.487Z"
        ],
        [
         "47741",
         "CHOL",
         "Cholecystoenterostomy; Roux-en-Y with gastroenterostomy ",
         "No Change",
         "2025-04-02T07:21:28.487Z"
        ],
        [
         "44025",
         "COLO",
         "Colotomy, for exploration, biopsy(s), or foreign body removal",
         "No Change",
         "2025-04-02T07:21:28.487Z"
        ],
        [
         "44110",
         "COLO",
         "Excision of 1 or more lesions of small or large intestine not requiring anastomosis, exteriorization, or fistulization; single enterotomy",
         "No Change",
         "2025-04-02T07:21:28.487Z"
        ],
        [
         "44111",
         "COLO",
         "Excision of 1 or more lesions of small or large intestine not requiring anastomosis, exteriorization, or fistulization; multiple enterotomies",
         "No Change",
         "2025-04-02T07:21:28.487Z"
        ],
        [
         "44137",
         "COLO",
         "Removal of transplanted intestinal allograft, complete",
         "No Change",
         "2025-04-02T07:21:28.487Z"
        ],
        [
         "44140",
         "COLO",
         "Colectomy, partial; with anastomosis",
         "No Change",
         "2025-04-02T07:21:28.487Z"
        ],
        [
         "44141",
         "COLO",
         "Colectomy, partial; with skin level cecostomy or colostomy",
         "No Change",
         "2025-04-02T07:21:28.487Z"
        ],
        [
         "44143",
         "COLO",
         "Colectomy, partial; with end colostomy and closure of distal segment (Hartmann type procedure)",
         "No Change",
         "2025-04-02T07:21:28.487Z"
        ],
        [
         "44144",
         "COLO",
         "Colectomy, partial; with resection, with colostomy or ileostomy and creation of mucofistula",
         "No Change",
         "2025-04-02T07:21:28.487Z"
        ],
        [
         "44145",
         "COLO",
         "Colectomy, partial; with coloproctostomy (low pelvic anastomosis)",
         "No Change",
         "2025-04-02T07:21:28.487Z"
        ],
        [
         "44146",
         "COLO",
         "Colectomy, partial; with coloproctostomy (low pelvic anastomosis), with colostomy",
         "No Change",
         "2025-04-02T07:21:28.487Z"
        ],
        [
         "44147",
         "COLO",
         "Colectomy, partial; abdominal and transanal approach",
         "No Change",
         "2025-04-02T07:21:28.487Z"
        ],
        [
         "44150",
         "COLO",
         "Colectomy, total, abdominal, without proctectomy; with ileostomy or ileoproctostomy",
         "No Change",
         "2025-04-02T07:21:28.487Z"
        ],
        [
         "44151",
         "COLO",
         "Colectomy, total, abdominal, without proctectomy; with continent ileostomy",
         "No Change",
         "2025-04-02T07:21:28.487Z"
        ],
        [
         "44155",
         "COLO",
         "Colectomy, total, abdominal, with proctectomy; with ileostomy",
         "No Change",
         "2025-04-02T07:21:28.487Z"
        ],
        [
         "44156",
         "COLO",
         "Colectomy, total, abdominal, with proctectomy; with continent ileostomy",
         "No Change",
         "2025-04-02T07:21:28.487Z"
        ],
        [
         "44157",
         "COLO",
         "Colectomy, total, abdominal, with proctectomy; with ileoanal anastomosis, includes loop ileostomy, and rectal mucosectomy, when performed",
         "No Change",
         "2025-04-02T07:21:28.487Z"
        ],
        [
         "44158",
         "COLO",
         "Colectomy, total, abdominal, with proctectomy; with ileoanal anastomosis, creation of ileal reservoir (S or J), includes loop ileostomy, and rectal mucosectomy, when performed",
         "No Change",
         "2025-04-02T07:21:28.487Z"
        ],
        [
         "44160",
         "COLO",
         "Colectomy, partial, with removal of terminal ileum with ileocolostomy",
         "No Change",
         "2025-04-02T07:21:28.487Z"
        ],
        [
         "44188",
         "COLO",
         "Laparoscopy, surgical, colostomy or skin level cecostomy",
         "No Change",
         "2025-04-02T07:21:28.487Z"
        ],
        [
         "44204",
         "COLO",
         "Laparoscopy, surgical; colectomy, partial, with anastomosis",
         "No Change",
         "2025-04-02T07:21:28.487Z"
        ],
        [
         "44205",
         "COLO",
         "Laparoscopy, surgical; colectomy, partial, with removal of terminal ileum with ileocolostomy",
         "No Change",
         "2025-04-02T07:21:28.487Z"
        ],
        [
         "44206",
         "COLO",
         "Laparoscopy, surgical; colectomy, partial, with end colostomy and closure of distal segment (Hartmann type procedure)",
         "No Change",
         "2025-04-02T07:21:28.487Z"
        ],
        [
         "44207",
         "COLO",
         "Laparoscopy, surgical; colectomy, partial, with anastomosis, with coloproctostomy (low pelvic anastomosis)",
         "No Change",
         "2025-04-02T07:21:28.487Z"
        ],
        [
         "44208",
         "COLO",
         "Laparoscopy, surgical; colectomy, partial, with anastomosis, with coloproctostomy (low pelvic anastomosis) with colostomy",
         "No Change",
         "2025-04-02T07:21:28.487Z"
        ],
        [
         "44210",
         "COLO",
         "Laparoscopy, surgical; colectomy, total, abdominal, without proctectomy, with ileostomy or ileoproctostomy",
         "No Change",
         "2025-04-02T07:21:28.487Z"
        ],
        [
         "44211",
         "COLO",
         "Laparoscopy, surgical; colectomy, total, abdominal, with proctectomy, with ileoanal anastomosis, creation of ileal reservoir (S or J), with loop ileostomy, includes rectal mucosectomy, when performed",
         "No Change",
         "2025-04-02T07:21:28.487Z"
        ],
        [
         "44212",
         "COLO",
         "Laparoscopy, surgical; colectomy, total, abdominal, with proctectomy, with ileostomy",
         "No Change",
         "2025-04-02T07:21:28.487Z"
        ],
        [
         "44213",
         "COLO",
         "Laparoscopy, surgical, mobilization (take-down) of splenic flexure performed in conjunction with partial colectomy (List separately in No changeition to primary procedure)",
         "No Change",
         "2025-04-02T07:21:28.487Z"
        ],
        [
         "44227",
         "COLO",
         "Laparoscopy, surgical, closure of enterostomy, large or small intestine, with resection and anastomosis",
         "No Change",
         "2025-04-02T07:21:28.487Z"
        ],
        [
         "44320",
         "COLO",
         "Colostomy or skin level cecostomy;",
         "No Change",
         "2025-04-02T07:21:28.487Z"
        ],
        [
         "44322",
         "COLO",
         "Colostomy or skin level cecostomy; with multiple biopsies (eg, for congenital megacolon) (separate procedure)",
         "No Change",
         "2025-04-02T07:21:28.487Z"
        ],
        [
         "44340",
         "COLO",
         "Revision of colostomy; simple (release of superficial scar) (separate procedure)",
         "No Change",
         "2025-04-02T07:21:28.487Z"
        ],
        [
         "44345",
         "COLO",
         "Revision of colostomy; complicated (reconstruction in-depth) (separate procedure)",
         "No Change",
         "2025-04-02T07:21:28.487Z"
        ],
        [
         "44346",
         "COLO",
         "Revision of colostomy; with repair of paracolostomy hernia (separate procedure)",
         "No Change",
         "2025-04-02T07:21:28.487Z"
        ],
        [
         "44604",
         "COLO",
         "Suture of large intestine (colorrhaphy) for perforated ulcer, diverticulum, wound, injury or rupture (single or multiple perforations); without colostomy",
         "No Change",
         "2025-04-02T07:21:28.487Z"
        ],
        [
         "44605",
         "COLO",
         "Suture of large intestine (colorrhaphy) for perforated ulcer, diverticulum, wound, injury or rupture (single or multiple perforations); with colostomy",
         "No Change",
         "2025-04-02T07:21:28.487Z"
        ],
        [
         "44620",
         "COLO",
         "Closure of enterostomy, large or small intestine",
         "No Change",
         "2025-04-02T07:21:28.487Z"
        ],
        [
         "44625",
         "COLO",
         "Closure of enterostomy, large or small intestine; with resection and anastomosis other than colorectal",
         "No Change",
         "2025-04-02T07:21:28.487Z"
        ],
        [
         "44626",
         "COLO",
         "Closure of enterostomy, large or small intestine; with resection and colorectal anastomosis (eg, closure of Hartmann type procedure)",
         "No Change",
         "2025-04-02T07:21:28.487Z"
        ],
        [
         "61105",
         "CRAN",
         "Twist drill hole for subdural or ventricular puncture",
         "No Change",
         "2025-04-02T07:21:28.487Z"
        ],
        [
         "61107",
         "CRAN",
         "Twist drill hole(s) for subdural, intracerebral, or ventricular puncture; for implanting ventricular catheter, pressure recording device, or other intracerebral monitoring device",
         "No Change",
         "2025-04-02T07:21:28.487Z"
        ],
        [
         "61108",
         "CRAN",
         "Twist drill hole(s) for subdural, intracerebral, or ventricular puncture; for evacuation and/or drainage of subdural hematoma",
         "No Change",
         "2025-04-02T07:21:28.487Z"
        ],
        [
         "61120",
         "CRAN",
         "Burr hole(s) for ventricular puncture (including injection of gas, contrast media, dye, or radioactive material)",
         "No Change",
         "2025-04-02T07:21:28.487Z"
        ],
        [
         "61140",
         "CRAN",
         "Burr hole(s) or trephine; with biopsy of brain or intracranial lesion",
         "No Change",
         "2025-04-02T07:21:28.487Z"
        ],
        [
         "61150",
         "CRAN",
         "Burr hole(s) or trephine; with drainage of brain abscess or cyst",
         "No Change",
         "2025-04-02T07:21:28.487Z"
        ],
        [
         "61151",
         "CRAN",
         "Burr hole(s) or trephine; with subsequent tapping (aspiration) of intracranial abscess or cyst",
         "No Change",
         "2025-04-02T07:21:28.487Z"
        ],
        [
         "61154",
         "CRAN",
         "Burr hole(s) with evacuation and/or drainage of hematoma, extradural or subdural",
         "No Change",
         "2025-04-02T07:21:28.487Z"
        ],
        [
         "61156",
         "CRAN",
         "Burr hole(s); with aspiration of hematoma or cyst, intracerebral",
         "No Change",
         "2025-04-02T07:21:28.487Z"
        ],
        [
         "61210",
         "CRAN",
         "Burr hole(s); for implanting ventricular catheter, reservoir, EEG electrode(s), pressure recording device, or other cerebral monitoring device (separate procedure)",
         "No Change",
         "2025-04-02T07:21:28.487Z"
        ],
        [
         "61250",
         "CRAN",
         "Burr hole(s) or trephine, supratentorial, exploratory, not followed by other surgery",
         "No Change",
         "2025-04-02T07:21:28.487Z"
        ],
        [
         "61253",
         "CRAN",
         "Burr hole(s) or trephine, infratentorial, unilateral or bilateral",
         "No Change",
         "2025-04-02T07:21:28.487Z"
        ],
        [
         "61304",
         "CRAN",
         "Craniectomy or craniotomy, exploratory; supratentorial",
         "No Change",
         "2025-04-02T07:21:28.487Z"
        ],
        [
         "61305",
         "CRAN",
         "Craniectomy or craniotomy, exploratory; infratentorial (posterior fossa)",
         "No Change",
         "2025-04-02T07:21:28.487Z"
        ],
        [
         "61312",
         "CRAN",
         "Craniectomy or craniotomy for evacuation of hematoma, supratentorial; extradural or subdural",
         "No Change",
         "2025-04-02T07:21:28.487Z"
        ],
        [
         "61313",
         "CRAN",
         "Craniectomy or craniotomy for evacuation of hematoma, supratentorial; intracerebral",
         "No Change",
         "2025-04-02T07:21:28.487Z"
        ],
        [
         "61314",
         "CRAN",
         "Craniectomy or craniotomy for evacuation of hematoma, infratentorial; extradural or subdural",
         "No Change",
         "2025-04-02T07:21:28.487Z"
        ],
        [
         "61315",
         "CRAN",
         "Craniectomy or craniotomy for evacuation of hematoma, infratentorial; intracerebellar",
         "No Change",
         "2025-04-02T07:21:28.487Z"
        ],
        [
         "61320",
         "CRAN",
         "Craniectomy or craniotomy, drainage of intracranial abscess; supratentorial",
         "No Change",
         "2025-04-02T07:21:28.487Z"
        ],
        [
         "61321",
         "CRAN",
         "Craniectomy or craniotomy, drainage of intracranial abscess; infratentorial",
         "No Change",
         "2025-04-02T07:21:28.487Z"
        ],
        [
         "61322",
         "CRAN",
         "Craniectomy or craniotomy, decompressive, with or without duraplasty, for treatment of intracranial hypertension, without evacuation of associated intraparenchymal hematoma; without lobectomy",
         "No Change",
         "2025-04-02T07:21:28.487Z"
        ],
        [
         "61323",
         "CRAN",
         "Craniectomy or craniotomy, decompressive, with or without duraplasty, for treatment of intracranial hypertension, without evacuation of associated intraparenchymal hematoma; with lobectomy",
         "No Change",
         "2025-04-02T07:21:28.487Z"
        ],
        [
         "61330",
         "CRAN",
         "Decompression of orbit only, transcranial approach",
         "No Change",
         "2025-04-02T07:21:28.487Z"
        ],
        [
         "61333",
         "CRAN",
         "Exploration of orbit (transcranial approach); with removal of lesion",
         "No Change",
         "2025-04-02T07:21:28.487Z"
        ],
        [
         "61340",
         "CRAN",
         "Subtemporal cranial decompression (pseudotumor cerebri, slit ventricle syndrome)",
         "No Change",
         "2025-04-02T07:21:28.487Z"
        ],
        [
         "61343",
         "CRAN",
         "Craniectomy, suboccipital with cervical laminectomy for decompression of medulla and spinal cord, with or without dural graft (eg, Arnold-Chiari malformation)",
         "No Change",
         "2025-04-02T07:21:28.487Z"
        ],
        [
         "61345",
         "CRAN",
         "Other cranial decompression, posterior fossa",
         "No Change",
         "2025-04-02T07:21:28.487Z"
        ],
        [
         "61458",
         "CRAN",
         "Craniectomy, suboccipital; for exploration or decompression of cranial nerves",
         "No Change",
         "2025-04-02T07:21:28.487Z"
        ],
        [
         "61460",
         "CRAN",
         "for section of 1 or more cranial nerves",
         "No Change",
         "2025-04-02T07:21:28.487Z"
        ],
        [
         "61510",
         "CRAN",
         "Craniectomy, trephination, bone flap craniotomy; for excision of brain tumor, supratentorial, except meningioma",
         "No Change",
         "2025-04-02T07:21:28.487Z"
        ],
        [
         "61512",
         "CRAN",
         "Craniectomy, trephination, bone flap craniotomy; for excision of meningioma, supratentorial",
         "No Change",
         "2025-04-02T07:21:28.487Z"
        ],
        [
         "61514",
         "CRAN",
         "Craniectomy, trephination, bone flap craniotomy; for excision of brain abscess, supratentorial",
         "No Change",
         "2025-04-02T07:21:28.487Z"
        ],
        [
         "61516",
         "CRAN",
         "Craniectomy, trephination, bone flap craniotomy; for excision or fenestration of cyst, supratentorial",
         "No Change",
         "2025-04-02T07:21:28.487Z"
        ],
        [
         "61518",
         "CRAN",
         "Craniectomy for excision of brain tumor, infratentorial or posterior fossa; except meningioma, cerebellopontine angle tumor, or midline tumor at base of skull",
         "No Change",
         "2025-04-02T07:21:28.487Z"
        ],
        [
         "61519",
         "CRAN",
         "Craniectomy for excision of brain tumor, infratentorial or posterior fossa; meningioma",
         "No Change",
         "2025-04-02T07:21:28.487Z"
        ],
        [
         "61520",
         "CRAN",
         "Craniectomy for excision of brain tumor, infratentorial or posterior fossa; cerebellopontine angle tumor",
         "No Change",
         "2025-04-02T07:21:28.487Z"
        ],
        [
         "61521",
         "CRAN",
         "Craniectomy for excision of brain tumor, infratentorial or posterior fossa; midline tumor at base of skull",
         "No Change",
         "2025-04-02T07:21:28.487Z"
        ],
        [
         "61522",
         "CRAN",
         "Craniectomy, infratentorial or posterior fossa; for excision of brain abscess",
         "No Change",
         "2025-04-02T07:21:28.487Z"
        ],
        [
         "61524",
         "CRAN",
         "Craniectomy, infratentorial or posterior fossa; for excision or fenestration of cyst",
         "No Change",
         "2025-04-02T07:21:28.487Z"
        ],
        [
         "61526",
         "CRAN",
         "Craniectomy, bone flap craniotomy, transtemporal (mastoid) for excision of cerebellopontine angle tumor;",
         "No Change",
         "2025-04-02T07:21:28.487Z"
        ],
        [
         "61530",
         "CRAN",
         "Craniectomy, bone flap craniotomy, transtemporal (mastoid) for excision of cerebellopontine angle tumor; combined with middle/posterior fossa craniotomy/craniectomy",
         "No Change",
         "2025-04-02T07:21:28.487Z"
        ],
        [
         "61531",
         "CRAN",
         "Subdural implantation of strip electrodes through 1 or more burr or trephine hole(s) for long-term seizure monitoring",
         "No Change",
         "2025-04-02T07:21:28.487Z"
        ],
        [
         "61533",
         "CRAN",
         "Craniotomy with elevation of bone flap; for subdural implantation of an electrode array, for long-term seizure monitoring",
         "No Change",
         "2025-04-02T07:21:28.487Z"
        ],
        [
         "61534",
         "CRAN",
         "Craniotomy with elevation of bone flap; for excision of epileptogenic focus without electrocorticography during surgery",
         "No Change",
         "2025-04-02T07:21:28.487Z"
        ],
        [
         "61535",
         "CRAN",
         "Craniotomy with elevation of bone flap; for removal of epidural or subdural electrode array, without excision of cerebral tissue (separate procedure)",
         "No Change",
         "2025-04-02T07:21:28.487Z"
        ],
        [
         "61536",
         "CRAN",
         "Craniotomy with elevation of bone flap; for excision of cerebral epileptogenic focus, with electrocorticography during surgery (includes removal of electrode array)",
         "No Change",
         "2025-04-02T07:21:28.487Z"
        ],
        [
         "61537",
         "CRAN",
         "Craniotomy with elevation of bone flap; for lobectomy, temporal lobe, without electrocorticography during surgery",
         "No Change",
         "2025-04-02T07:21:28.487Z"
        ],
        [
         "61538",
         "CRAN",
         "Craniotomy with elevation of bone flap; for lobectomy, temporal lobe, with electrocorticography during surgery",
         "No Change",
         "2025-04-02T07:21:28.487Z"
        ],
        [
         "61539",
         "CRAN",
         "Craniotomy with elevation of bone flap; for lobectomy, other than temporal lobe, partial or total, with electrocorticography during surgery",
         "No Change",
         "2025-04-02T07:21:28.487Z"
        ],
        [
         "61540",
         "CRAN",
         "Craniotomy with elevation of bone flap; for lobectomy, other than temporal lobe, partial or total, without electrocorticography during surgery",
         "No Change",
         "2025-04-02T07:21:28.487Z"
        ],
        [
         "61541",
         "CRAN",
         "Craniotomy with elevation of bone flap; for transection of corpus callosum",
         "No Change",
         "2025-04-02T07:21:28.487Z"
        ],
        [
         "61543",
         "CRAN",
         "Craniotomy with elevation of bone flap; for partial or subtotal (functional) hemispherectomy",
         "No Change",
         "2025-04-02T07:21:28.487Z"
        ],
        [
         "61544",
         "CRAN",
         "Craniotomy with elevation of bone flap; for excision or coagulation of choroid plexus",
         "No Change",
         "2025-04-02T07:21:28.487Z"
        ],
        [
         "61545",
         "CRAN",
         "Craniotomy with elevation of bone flap; for excision of craniopharyngioma",
         "No Change",
         "2025-04-02T07:21:28.487Z"
        ],
        [
         "61546",
         "CRAN",
         "Craniotomy for hypophysectomy or excision of pituitary tumor, intracranial approach",
         "No Change",
         "2025-04-02T07:21:28.487Z"
        ],
        [
         "61548",
         "CRAN",
         "Hypophysectomy or excision of pituitary tumor, transnasal or transseptal approach, nonstereotactic",
         "No Change",
         "2025-04-02T07:21:28.487Z"
        ],
        [
         "61566",
         "CRAN",
         "Craniotomy with elevation of bone flap; for selective amygdalohippocampectomy",
         "No Change",
         "2025-04-02T07:21:28.487Z"
        ],
        [
         "61567",
         "CRAN",
         "Craniotomy with elevation of bone flap; for multiple subpial transections, with electrocorticography during surgery",
         "No Change",
         "2025-04-02T07:21:28.487Z"
        ],
        [
         "61570",
         "CRAN",
         "Craniectomy or craniotomy; with excision of foreign body from brain",
         "No Change",
         "2025-04-02T07:21:28.487Z"
        ],
        [
         "61571",
         "CRAN",
         "Craniectomy or craniotomy; with treatment of penetrating wound of brain",
         "No Change",
         "2025-04-02T07:21:28.487Z"
        ],
        [
         "61575",
         "CRAN",
         "Transoral approach to skull base, brain stem or upper spinal cord for biopsy, decompression or excision of lesion;",
         "No Change",
         "2025-04-02T07:21:28.487Z"
        ],
        [
         "61576",
         "CRAN",
         "Transoral approach to skull base, brain stem or upper spinal cord for biopsy, decompression or excision of lesion; requiring splitting of tongue and/or mandible (including tracheostomy)",
         "No Change",
         "2025-04-02T07:21:28.487Z"
        ],
        [
         "61580",
         "CRAN",
         "Craniofacial approach to anterior cranial fossa; extradural, including lateral rhinotomy, ethmoidectomy, sphenoidectomy, without maxillectomy or orbital exenteration",
         "No Change",
         "2025-04-02T07:21:28.487Z"
        ],
        [
         "61581",
         "CRAN",
         "Craniofacial approach to anterior cranial fossa; extradural, including lateral rhinotomy, orbital exenteration, ethmoidectomy, sphenoidectomy and/or maxillectomy",
         "No Change",
         "2025-04-02T07:21:28.487Z"
        ],
        [
         "61582",
         "CRAN",
         "Craniofacial approach to anterior cranial fossa; extradural, including unilateral or bifrontal craniotomy, elevation of frontal lobe(s), osteotomy of base of anterior cranial fossa",
         "No Change",
         "2025-04-02T07:21:28.487Z"
        ],
        [
         "61583",
         "CRAN",
         "Craniofacial approach to anterior cranial fossa; intradural, including unilateral or bifrontal craniotomy, elevation or resection of frontal lobe, osteotomy of base of anterior cranial fossa",
         "No Change",
         "2025-04-02T07:21:28.487Z"
        ],
        [
         "61584",
         "CRAN",
         "Orbitocranial approach to anterior cranial fossa, extradural, including supraorbital ridge osteotomy and elevation of frontal and/or temporal lobe(s); without orbital exenteration",
         "No Change",
         "2025-04-02T07:21:28.487Z"
        ],
        [
         "61585",
         "CRAN",
         "Orbitocranial approach to anterior cranial fossa, extradural, including supraorbital ridge osteotomy and elevation of frontal and/or temporal lobe(s); with orbital exenteration",
         "No Change",
         "2025-04-02T07:21:28.487Z"
        ],
        [
         "61586",
         "CRAN",
         "Bicoronal, transzygomatic and/or LeFort I osteotomy approach to anterior cranial fossa with or without internal fixation, without bone graft",
         "No Change",
         "2025-04-02T07:21:28.487Z"
        ],
        [
         "61590",
         "CRAN",
         "Infratemporal pre-auricular approach to middle cranial fossa (parapharyngeal space, infratemporal and midline skull base, nasopharynx), with or without disarticulation of the mandible, including parotidectomy, craniotomy, decompression and/or mobilization",
         "No Change",
         "2025-04-02T07:21:28.487Z"
        ],
        [
         "61591",
         "CRAN",
         "Infratemporal post-auricular approach to middle cranial fossa (internal auditory meatus, petrous apex, tentorium, cavernous sinus, parasellar area, infratemporal fossa) including mastoidectomy, resection of sigmoid sinus, with or without decompression and",
         "No Change",
         "2025-04-02T07:21:28.487Z"
        ],
        [
         "61592",
         "CRAN",
         "Orbitocranial zygomatic approach to middle cranial fossa (cavernous sinus and carotid artery, clivus, basilar artery or petrous apex) including osteotomy of zygoma, craniotomy, extra- or intradural elevation of temporal lobe",
         "No Change",
         "2025-04-02T07:21:28.487Z"
        ],
        [
         "61595",
         "CRAN",
         "Transtemporal approach to posterior cranial fossa, jugular foramen or midline skull base, including mastoidectomy, decompression of sigmoid sinus and/or facial nerve, with or without mobilization",
         "No Change",
         "2025-04-02T07:21:28.487Z"
        ],
        [
         "61598",
         "CRAN",
         "Transpetrosal approach to posterior cranial fossa, clivus or foramen magnum, including ligation of superior petrosal sinus and/or sigmoid sinus",
         "No Change",
         "2025-04-02T07:21:28.487Z"
        ],
        [
         "61600",
         "CRAN",
         "Resection or excision of neoplastic, vascular or infectious lesion of base of anterior cranial fossa; extradural",
         "No Change",
         "2025-04-02T07:21:28.487Z"
        ],
        [
         "61601",
         "CRAN",
         "Resection or excision of neoplastic, vascular or infectious lesion of base of anterior cranial fossa; intradural, including dural repair, with or without graft",
         "No Change",
         "2025-04-02T07:21:28.487Z"
        ],
        [
         "61605",
         "CRAN",
         "Resection or excision of neoplastic, vascular or infectious lesion of infratemporal fossa, parapharyngeal space, petrous apex; extradural",
         "No Change",
         "2025-04-02T07:21:28.487Z"
        ],
        [
         "61606",
         "CRAN",
         "Resection or excision of neoplastic, vascular or infectious lesion of infratemporal fossa, parapharyngeal space, petrous apex; intradural, including dural repair, with or without graft",
         "No Change",
         "2025-04-02T07:21:28.487Z"
        ],
        [
         "61607",
         "CRAN",
         "Resection or excision of neoplastic, vascular or infectious lesion of parasellar area, cavernous sinus, clivus or midline skull base; extradural",
         "No Change",
         "2025-04-02T07:21:28.487Z"
        ],
        [
         "61608",
         "CRAN",
         "Resection or excision of neoplastic, vascular or infectious lesion of parasellar area, cavernous sinus, clivus or midline skull base; intradural, including dural repair, with or without graft",
         "No Change",
         "2025-04-02T07:21:28.487Z"
        ],
        [
         "61615",
         "CRAN",
         "Resection or excision of neoplastic, vascular or infectious lesion of base of posterior cranial fossa, jugular foramen, foramen magnum, or C1-C3 vertebral bodies; extradural",
         "No Change",
         "2025-04-02T07:21:28.487Z"
        ],
        [
         "61616",
         "CRAN",
         "Resection or excision of neoplastic, vascular or infectious lesion of base of posterior cranial fossa, jugular foramen, foramen magnum, or C1-C3 vertebral bodies; intradural, including dural repair, with or without graft",
         "No Change",
         "2025-04-02T07:21:28.487Z"
        ],
        [
         "61618",
         "CRAN",
         "Secondary repair of dura for cerebrospinal fluid leak, anterior, middle or posterior cranial fossa following surgery of the skull base; by free tissue graft (eg, pericranium, fascia, tensor fascia lata, adipose tissue, homologous or synthetic grafts)",
         "No Change",
         "2025-04-02T07:21:28.487Z"
        ],
        [
         "61619",
         "CRAN",
         "Secondary repair of dura for cerebrospinal fluid leak, anterior, middle or posterior cranial fossa following surgery of the skull base; by local or regionalized vascularized pedicle flap or myocutaneous flap (including galea, temporalis, frontalis or occi",
         "No Change",
         "2025-04-02T07:21:28.487Z"
        ],
        [
         "61680",
         "CRAN",
         "Surgery of intracranial arteriovenous malformation; supratentorial, simple",
         "No Change",
         "2025-04-02T07:21:28.487Z"
        ],
        [
         "61682",
         "CRAN",
         "Surgery of intracranial arteriovenous malformation; supratentorial, complex",
         "No Change",
         "2025-04-02T07:21:28.487Z"
        ],
        [
         "61684",
         "CRAN",
         "Surgery of intracranial arteriovenous malformation; infratentorial, simple",
         "No Change",
         "2025-04-02T07:21:28.487Z"
        ],
        [
         "61686",
         "CRAN",
         "Surgery of intracranial arteriovenous malformation; infratentorial, complex",
         "No Change",
         "2025-04-02T07:21:28.487Z"
        ],
        [
         "61690",
         "CRAN",
         "Surgery of intracranial arteriovenous malformation; dural, simple",
         "No Change",
         "2025-04-02T07:21:28.487Z"
        ],
        [
         "61692",
         "CRAN",
         "Surgery of intracranial arteriovenous malformation; dural, complex",
         "No Change",
         "2025-04-02T07:21:28.487Z"
        ],
        [
         "61697",
         "CRAN",
         "Surgery of complex intracranial aneurysm, intracranial approach; carotid circulation",
         "No Change",
         "2025-04-02T07:21:28.487Z"
        ],
        [
         "61698",
         "CRAN",
         "Surgery of complex intracranial aneurysm, intracranial approach; vertebrobasilar circulation",
         "No Change",
         "2025-04-02T07:21:28.487Z"
        ],
        [
         "61700",
         "CRAN",
         "Surgery of simple intracranial aneurysm, intracranial approach; carotid circulation",
         "No Change",
         "2025-04-02T07:21:28.487Z"
        ],
        [
         "61702",
         "CRAN",
         "Surgery of simple intracranial aneurysm, intracranial approach; vertebrobasilar circulation",
         "No Change",
         "2025-04-02T07:21:28.487Z"
        ],
        [
         "61703",
         "CRAN",
         "Surgery of intracranial aneurysm, cervical approach by application of occluding clamp to cervical carotid artery (Selverstone-Crutchfield type)",
         "No Change",
         "2025-04-02T07:21:28.487Z"
        ],
        [
         "61705",
         "CRAN",
         "Surgery of aneurysm, vascular malformation or carotid-cavernous fistula; by intracranial and cervical occlusion of carotid artery",
         "No Change",
         "2025-04-02T07:21:28.487Z"
        ],
        [
         "61708",
         "CRAN",
         "Surgery of aneurysm, vascular malformation or carotid-cavernous fistula; by intracranial electrothrombosis",
         "No Change",
         "2025-04-02T07:21:28.487Z"
        ],
        [
         "61710",
         "CRAN",
         "Surgery of aneurysm, vascular malformation or carotid-cavernous fistula; by intra-arterial embolization, injection procedure, or balloon catheter",
         "No Change",
         "2025-04-02T07:21:28.487Z"
        ],
        [
         "61711",
         "CRAN",
         "Anastomosis, arterial, extracranial-intracranial (eg, middle cerebral/cortical) arteries",
         "No Change",
         "2025-04-02T07:21:28.487Z"
        ],
        [
         "61720",
         "CRAN",
         "Creation of lesion by stereotactic method, including burr hole(s) and localizing and recording techniques, single or multiple stages; globus pallidus or thalamus",
         "No Change",
         "2025-04-02T07:21:28.487Z"
        ],
        [
         "61735",
         "CRAN",
         "Creation of lesion by stereotactic method, including burr hole(s) and localizing and recording techniques, single or multiple stages; subcortical structure(s) other than globus pallidus or thalamus",
         "No Change",
         "2025-04-02T07:21:28.487Z"
        ],
        [
         "61736",
         "CRAN",
         "Single-trajectory laser interstitial thermal therapy (LITT) of 1 simple intracranial lesion, including burr hole, with magnetic resonance imaging guidance",
         "No change",
         "2025-04-02T07:21:28.487Z"
        ],
        [
         "61737",
         "CRAN",
         "Multiple-trajectory laser interstitial thermal therapy (LITT) of complex intracranial lesion, including burr hole",
         "No change",
         "2025-04-02T07:21:28.487Z"
        ],
        [
         "61750",
         "CRAN",
         "Stereotactic biopsy, aspiration, or excision, including burr hole(s), for intracranial lesion",
         "No Change",
         "2025-04-02T07:21:28.487Z"
        ],
        [
         "61751",
         "CRAN",
         "Stereotactic biopsy, aspiration, or excision, including burr hole(s), for intracranial lesion; with computed tomography and/or magnetic resonance guidance",
         "No Change",
         "2025-04-02T07:21:28.487Z"
        ],
        [
         "61760",
         "CRAN",
         "Stereotactic implantation of depth electrodes into the cerebrum for long-term seizure monitoring",
         "No Change",
         "2025-04-02T07:21:28.487Z"
        ],
        [
         "61770",
         "CRAN",
         "Stereotactic localization, including burr hole(s), with insertion of catheter(s) or probe(s) for placement of radiation source",
         "No Change",
         "2025-04-02T07:21:28.487Z"
        ],
        [
         "61850",
         "CRAN",
         "Twist drill or burr hole(s) for implantation of neurostimulator electrodes, cortical",
         "No Change",
         "2025-04-02T07:21:28.487Z"
        ],
        [
         "61860",
         "CRAN",
         "Craniectomy or craniotomy for implantation of neurostimulator electrodes, cerebral, cortical",
         "No Change",
         "2025-04-02T07:21:28.487Z"
        ],
        [
         "61863",
         "CRAN",
         "Twist drill, burr hole, craniotomy, or craniectomy with stereotactic implantation of neurostimulator electrode array in subcortical site (eg, thalamus, globus pallidus, subthalamic nucleus, periventricular, periaqueductal gray), without use of intraoperative microelectrode recording; first array",
         "No Change",
         "2025-04-02T07:21:28.487Z"
        ],
        [
         "61867",
         "CRAN",
         "Twist drill, burr hole, craniotomy, or craniectomy with stereotactic implantation of neurostimulator electrode array in subcortical site (eg, thalamus, globus pallidus, subthalamic nucleus, periventricular, periaqueductal gray), with use of intraoperative microelectrode recording; first array",
         "No Change",
         "2025-04-02T07:21:28.487Z"
        ],
        [
         "61870",
         "CRAN",
         "Craniectomy for implantation of neurostimulator electrodes, cerebellar; cortical",
         "No Change",
         "2025-04-02T07:21:28.487Z"
        ],
        [
         "61880",
         "CRAN",
         "Revision or removal of intracranial neurostimulator electrodes",
         "No Change",
         "2025-04-02T07:21:28.487Z"
        ],
        [
         "62000",
         "CRAN",
         "Elevation of depressed skull fracture; simple, extradural",
         "No Change",
         "2025-04-02T07:21:28.487Z"
        ],
        [
         "62005",
         "CRAN",
         "Elevation of depressed skull fracture; compound or comminuted, extradural",
         "No Change",
         "2025-04-02T07:21:28.487Z"
        ],
        [
         "62010",
         "CRAN",
         "Elevation of depressed skull fracture; with repair of dura and/or debridement of brain",
         "No Change",
         "2025-04-02T07:21:28.487Z"
        ],
        [
         "62100",
         "CRAN",
         "Craniotomy for repair of dural/cerebrospinal fluid leak, including surgery for rhinorrhea/otorrhea",
         "No Change",
         "2025-04-02T07:21:28.487Z"
        ],
        [
         "62120",
         "CRAN",
         "Repair of encephalocele, skull vault, including cranioplasty",
         "No Change",
         "2025-04-02T07:21:28.487Z"
        ],
        [
         "62121",
         "CRAN",
         "Craniotomy for repair of encephalocele, skull base",
         "No Change",
         "2025-04-02T07:21:28.487Z"
        ],
        [
         "62161",
         "CRAN",
         "Neuroendoscopy, intracranial; with dissection of adhesions, fenestration of septum pellucidum or intraventricular cysts (including placement, replacement, or removal of ventricular catheter)",
         "No Change",
         "2025-04-02T07:21:28.487Z"
        ],
        [
         "62163",
         "CRAN",
         "Neuroendoscopy, intracranial; with retrieval of foreign body",
         "No Change",
         "2025-04-02T07:21:28.487Z"
        ],
        [
         "62164",
         "CRAN",
         "Neuroendoscopy, intracranial; with excision of brain tumor, including placement of external ventricular catheter for drainage",
         "No Change",
         "2025-04-02T07:21:28.487Z"
        ],
        [
         "62165",
         "CRAN",
         "Neuroendoscopy, intracranial; with excision of pituitary tumor, transnasal or trans-sphenoidal approach",
         "No Change",
         "2025-04-02T07:21:28.487Z"
        ],
        [
         "62200",
         "CRAN",
         "Ventriculocisternostomy, third ventricle;",
         "No Change",
         "2025-04-02T07:21:28.487Z"
        ],
        [
         "62201",
         "CRAN",
         "Ventriculocisternostomy, third ventricle; stereotactic, neuroendoscopic method",
         "No Change",
         "2025-04-02T07:21:28.487Z"
        ],
        [
         "59100",
         "CSEC",
         "Hysterotomy, abdominal (e.g., for hydatidiform mole, abortion)",
         "No Change",
         "2025-04-02T07:21:28.487Z"
        ],
        [
         "59510",
         "CSEC",
         "Routine obstetric care including antepartum care, cesarean delivery, and postpartum care",
         "No Change",
         "2025-04-02T07:21:28.487Z"
        ],
        [
         "59514",
         "CSEC",
         "Cesarean delivery only;",
         "No Change",
         "2025-04-02T07:21:28.487Z"
        ],
        [
         "59515",
         "CSEC",
         "Cesarean delivery only; including postpartum care",
         "No Change",
         "2025-04-02T07:21:28.487Z"
        ],
        [
         "59618",
         "CSEC",
         "Routine obstetric care including antepartum care, cesarean delivery, and postpartum care, following attempted vaginal delivery after previous cesarean delivery",
         "No Change",
         "2025-04-02T07:21:28.487Z"
        ],
        [
         "59620",
         "CSEC",
         "Cesarean delivery only, following attempted vaginal delivery after previous cesarean delivery;",
         "No Change",
         "2025-04-02T07:21:28.487Z"
        ],
        [
         "59622",
         "CSEC",
         "Cesarean delivery only, following attempted vaginal delivery after previous cesarean delivery; including postpartum care",
         "No Change",
         "2025-04-02T07:21:28.487Z"
        ],
        [
         "59857",
         "CSEC",
         "Induced abortion, by 1 or more vaginal suppositories (e.g., prostaglandin) with or without cervical dilation (e.g., laminaria), including hospital admission and visits, delivery of fetus and secundines; with hysterotomy (failed medical evacuation)",
         "No Change",
         "2025-04-02T07:21:28.487Z"
        ],
        [
         "22532",
         "FUSN",
         "Arthrodesis, lateral extracavitary technique, including minimal discectomy to prepare interspace (other than for decompression); thoracic",
         "No Change",
         "2025-04-02T07:21:28.487Z"
        ],
        [
         "22533",
         "FUSN",
         "Arthrodesis, lateral extracavitary technique, including minimal discectomy to prepare interspace (other than for decompression); lumbar",
         "No Change",
         "2025-04-02T07:21:28.487Z"
        ],
        [
         "22548",
         "FUSN",
         "Arthrodesis, anterior transoral or extraoral technique, clivus-C1-C2 (atlas-axis), with or without excision of odontoid process",
         "No Change",
         "2025-04-02T07:21:28.487Z"
        ],
        [
         "22551",
         "FUSN",
         "Arthrodesis, anterior interbody, including disc space preparation, discectomy, osteophytectomy and decompression of spinal cord and/or nerve roots; cervical below C2",
         "No Change",
         "2025-04-02T07:21:28.487Z"
        ],
        [
         "22554",
         "FUSN",
         "Arthrodesis, anterior interbody technique, including minimal discectomy to prepare interspace (other than for decompression); cervical below C2",
         "No Change",
         "2025-04-02T07:21:28.487Z"
        ],
        [
         "22556",
         "FUSN",
         "Arthrodesis, anterior interbody technique, including minimal discectomy to prepare interspace (other than for decompression); thoracic",
         "No Change",
         "2025-04-02T07:21:28.487Z"
        ],
        [
         "22558",
         "FUSN",
         "Arthrodesis, anterior interbody technique, including minimal discectomy to prepare interspace (other than for decompression); lumbar",
         "No Change",
         "2025-04-02T07:21:28.487Z"
        ],
        [
         "22586",
         "FUSN",
         "Arthrodesis, pre-sacral interbody technique, including disc space preparation, discectomy, with posterior instrumentation, with image guidance, includes bone graft when performed, L5-S1 interspace",
         "No Change",
         "2025-04-02T07:21:28.487Z"
        ],
        [
         "22590",
         "FUSN",
         "Arthrodesis, posterior technique, craniocervical (occiput-C2)",
         "No Change",
         "2025-04-02T07:21:28.487Z"
        ],
        [
         "22595",
         "FUSN",
         "Arthrodesis, posterior technique, atlas-axis (C1-C2)",
         "No Change",
         "2025-04-02T07:21:28.487Z"
        ],
        [
         "22600",
         "FUSN",
         "Arthrodesis, posterior or posterolateral technique, single level; cervical below C2 segment",
         "No Change",
         "2025-04-02T07:21:28.487Z"
        ],
        [
         "22610",
         "FUSN",
         "Arthrodesis, posterior or posterolateral technique, single level; thoracic (with lateral transverse technique, when performed)",
         "No Change",
         "2025-04-02T07:21:28.487Z"
        ],
        [
         "22612",
         "FUSN",
         "Arthrodesis, posterior or posterolateral technique, single level; lumbar (with lateral transverse technique, when performed)",
         "No Change",
         "2025-04-02T07:21:28.487Z"
        ],
        [
         "22630",
         "FUSN",
         "Arthrodesis, posterior interbody technique, including laminectomy and/or discectomy to prepare interspace (other than for decompression), single interspace; lumbar",
         "No Change",
         "2025-04-02T07:21:28.487Z"
        ],
        [
         "22633",
         "FUSN",
         "Arthrodesis, combined posterior or posterolateral technique with posterior interbody technique including laminectomy and/or discectomy sufficient to prepare interspace (other than for decompression), single interspace and segment; lumbar",
         "No Change",
         "2025-04-02T07:21:28.487Z"
        ],
        [
         "22800",
         "FUSN",
         "Arthrodesis, posterior, for spinal deformity, with or without cast; up to 6 vertebral segments",
         "No Change",
         "2025-04-02T07:21:28.487Z"
        ],
        [
         "22802",
         "FUSN",
         "Arthrodesis, posterior, for spinal deformity, with or without cast; 7 to 12 vertebral segments",
         "No Change",
         "2025-04-02T07:21:28.487Z"
        ],
        [
         "22804",
         "FUSN",
         "Arthrodesis, posterior, for spinal deformity, with or without cast; 13 or more vertebral segments",
         "No Change",
         "2025-04-02T07:21:28.487Z"
        ],
        [
         "22808",
         "FUSN",
         "Arthrodesis, anterior, for spinal deformity, with or without cast; 2 to 3 vertebral segments",
         "No Change",
         "2025-04-02T07:21:28.487Z"
        ],
        [
         "22810",
         "FUSN",
         "Arthrodesis, anterior, for spinal deformity, with or without cast; 4 to 7 vertebral segments",
         "No Change",
         "2025-04-02T07:21:28.487Z"
        ],
        [
         "22812",
         "FUSN",
         "Arthrodesis, anterior, for spinal deformity, with or without cast; 8 or more vertebral segments",
         "No Change",
         "2025-04-02T07:21:28.487Z"
        ],
        [
         "27280",
         "FUSN",
         "Arthrodesis, open, sacroiliac joint, including obtaining bone graft, including instrumentation, when performed",
         "No Change",
         "2025-04-02T07:21:28.487Z"
        ],
        [
         "23615",
         "FX",
         "Open treatment of proximal humeral (surgical or anatomical neck) fracture, includes internal fixation, when performed, includes repair of tuberosity(s), when performed;",
         "No Change",
         "2025-04-02T07:21:28.487Z"
        ],
        [
         "23616",
         "FX",
         "Open treatment of proximal humeral (surgical or anatomical neck) fracture, includes internal fixation, when performed, includes repair of tuberosity(s), when performed; with proximal humeral prosthetic replacement",
         "No Change",
         "2025-04-02T07:21:28.487Z"
        ],
        [
         "23630",
         "FX",
         "Open treatment of greater humeral tuberosity fracture, includes internal fixation, when performed",
         "No Change",
         "2025-04-02T07:21:28.487Z"
        ],
        [
         "23670",
         "FX",
         "Open treatment of shoulder dislocation, with fracture of greater humeral tuberosity, includes internal fixation, when performed",
         "No Change",
         "2025-04-02T07:21:28.487Z"
        ],
        [
         "23680",
         "FX",
         "Open treatment of shoulder dislocation, with surgical or anatomical neck fracture, includes internal fixation, when performed",
         "No Change",
         "2025-04-02T07:21:28.487Z"
        ],
        [
         "24515",
         "FX",
         "Open treatment of humeral shaft fracture with plate/screws, with or without cerclage",
         "No Change",
         "2025-04-02T07:21:28.487Z"
        ],
        [
         "24516",
         "FX",
         "Treatment of humeral shaft fracture, with insertion of intramedullary implant, with or without cerclage and/or locking screws",
         "No Change",
         "2025-04-02T07:21:28.487Z"
        ],
        [
         "24545",
         "FX",
         "Open treatment of humeral supracondylar or transcondylar fracture, includes internal fixation, when performed; without intercondylar extension",
         "No Change",
         "2025-04-02T07:21:28.487Z"
        ],
        [
         "24546",
         "FX",
         "Open treatment of humeral supracondylar or transcondylar fracture, includes internal fixation, when performed; with intercondylar extension",
         "No Change",
         "2025-04-02T07:21:28.487Z"
        ],
        [
         "24575",
         "FX",
         "Open treatment of humeral epicondylar fracture, medial or lateral, includes internal fixation, when performed",
         "No Change",
         "2025-04-02T07:21:28.487Z"
        ],
        [
         "24579",
         "FX",
         "Open treatment of humeral condylar fracture, medial or lateral, includes internal fixation, when performed",
         "No Change",
         "2025-04-02T07:21:28.487Z"
        ],
        [
         "24586",
         "FX",
         "Open treatment of periarticular fracture and/or dislocation of the elbow (fracture distal humerus and proximal ulna and/or proximal radius);",
         "No Change",
         "2025-04-02T07:21:28.487Z"
        ],
        [
         "24587",
         "FX",
         "Open treatment of periarticular fracture and/or dislocation of the elbow (fracture distal humerus and proximal ulna and/or proximal radius); with implant arthroplasty",
         "No Change",
         "2025-04-02T07:21:28.487Z"
        ],
        [
         "24635",
         "FX",
         "Open treatment of Monteggia type of fracture dislocation at elbow (fracture proximal end of ulna with dislocation of radial head), includes internal fixation, when performed",
         "No Change",
         "2025-04-02T07:21:28.487Z"
        ],
        [
         "24665",
         "FX",
         "Open treatment of radial head or neck fracture, includes internal fixation or radial head excision, when performed;",
         "No Change",
         "2025-04-02T07:21:28.487Z"
        ],
        [
         "24666",
         "FX",
         "Open treatment of radial head or neck fracture, includes internal fixation or radial head excision, when performed; with radial head prosthetic replacement",
         "No Change",
         "2025-04-02T07:21:28.487Z"
        ],
        [
         "24685",
         "FX",
         "Open treatment of ulnar fracture, proximal end (eg, olecranon or coronoid process[es]), includes internal fixation, when performed",
         "No Change",
         "2025-04-02T07:21:28.487Z"
        ],
        [
         "25337",
         "FX",
         "Reconstruction for stabilization of unstable distal ulna or distal radioulnar joint, secondary by soft tissue stabilization (eg, tendon transfer, tendon graft or weave, or tenodesis) with or without open reduction of distal radioulnar joint",
         "No Change",
         "2025-04-02T07:21:28.487Z"
        ],
        [
         "25515",
         "FX",
         "Open treatment of radial shaft fracture, includes internal fixation, when performed",
         "No Change",
         "2025-04-02T07:21:28.487Z"
        ],
        [
         "25525",
         "FX",
         "Open treatment of radial shaft fracture, includes internal fixation, when performed, and open treatment of distal radioulnar joint dislocation (Galeazzi fracture/ dislocation), includes percutaneous skeletal fixation when performed",
         "No Change",
         "2025-04-02T07:21:28.487Z"
        ],
        [
         "25526",
         "FX",
         "Open treatment of radial shaft fracture, includes internal fixation, when performed, and open treatment of distal radioulnar joint dislocation (Galeazzi fracture/ dislocation), includes internal fixation, when performed, includes repair of triangular fibrocartilage complex",
         "No Change",
         "2025-04-02T07:21:28.487Z"
        ],
        [
         "25545",
         "FX",
         "Open treatment of ulnar shaft fracture, includes internal fixation, when performed",
         "No Change",
         "2025-04-02T07:21:28.487Z"
        ],
        [
         "25574",
         "FX",
         "Open treatment of radial AND ulnar shaft fractures, with internal fixation, when performed; of radius OR ulna",
         "No Change",
         "2025-04-02T07:21:28.487Z"
        ],
        [
         "25575",
         "FX",
         "Open treatment of radial AND ulnar shaft fractures, with internal fixation, when performed; of radius AND ulna",
         "No Change",
         "2025-04-02T07:21:28.487Z"
        ],
        [
         "25607",
         "FX",
         "Open treatment of distal radial extra-articular fracture or epiphyseal separation, with internal fixation",
         "No Change",
         "2025-04-02T07:21:28.487Z"
        ],
        [
         "25608",
         "FX",
         "Open treatment of distal radial intra-articular fracture or epiphyseal separation; with internal fixation of 2 fragments",
         "No Change",
         "2025-04-02T07:21:28.487Z"
        ],
        [
         "25609",
         "FX",
         "Open treatment of distal radial intra-articular fracture or epiphyseal separation; with internal fixation of 3 or more fragments",
         "No Change",
         "2025-04-02T07:21:28.487Z"
        ],
        [
         "25652",
         "FX",
         "Open treatment of ulnar styloid fracture",
         "No Change",
         "2025-04-02T07:21:28.487Z"
        ],
        [
         "27177",
         "FX",
         "Open treatment of slipped femoral epiphysis; single or multiple pinning or bone graft (includes obtaining graft)",
         "No Change",
         "2025-04-02T07:21:28.487Z"
        ],
        [
         "27178",
         "FX",
         "Open treatment of slipped femoral epiphysis; closed manipulation with single or multiple pinning",
         "No Change",
         "2025-04-02T07:21:28.487Z"
        ],
        [
         "27179",
         "FX",
         "Open treatment of slipped femoral epiphysis; osteoplasty of femoral neck (Heyman type procedure)",
         "No Change",
         "2025-04-02T07:21:28.487Z"
        ],
        [
         "27181",
         "FX",
         "Open treatment of slipped femoral epiphysis; osteotomy and internal fixation",
         "No Change",
         "2025-04-02T07:21:28.487Z"
        ],
        [
         "27244",
         "FX",
         "Treatment of intertrochanteric, peritrochanteric, or subtrochanteric femoral fracture; with plate/screw type implant, with or without cerclage",
         "No Change",
         "2025-04-02T07:21:28.487Z"
        ],
        [
         "27245",
         "FX",
         "Treatment of intertrochanteric, peritrochanteric, or subtrochanteric femoral fracture; with intramedullary implant, with or without interlocking screws and/or cerclage",
         "No Change",
         "2025-04-02T07:21:28.487Z"
        ],
        [
         "27248",
         "FX",
         "Open treatment of greater trochanteric fracture, includes internal fixation, when performed",
         "No Change",
         "2025-04-02T07:21:28.487Z"
        ],
        [
         "27254",
         "FX",
         "Open treatment of hip dislocation, traumatic, with acetabular wall and femoral head fracture, with or without internal or external fixation",
         "No Change",
         "2025-04-02T07:21:28.487Z"
        ],
        [
         "27269",
         "FX",
         "Open treatment of femoral fracture, proximal end, head, includes internal fixation, when performed",
         "No Change",
         "2025-04-02T07:21:28.487Z"
        ],
        [
         "27506",
         "FX",
         "Open treatment of femoral shaft fracture, with or without external fixation, with insertion of intramedullary implant, with or without cerclage and/or locking screws",
         "No Change",
         "2025-04-02T07:21:28.487Z"
        ],
        [
         "27507",
         "FX",
         "Open treatment of femoral shaft fracture with plate/screws, with or without cerclage",
         "No Change",
         "2025-04-02T07:21:28.487Z"
        ],
        [
         "27511",
         "FX",
         "Open treatment of femoral supracondylar or transcondylar fracture without intercondylar extension, includes internal fixation, when performed",
         "No Change",
         "2025-04-02T07:21:28.487Z"
        ],
        [
         "27513",
         "FX",
         "Open treatment of femoral supracondylar or transcondylar fracture with intercondylar extension, includes internal fixation, when performed",
         "No Change",
         "2025-04-02T07:21:28.487Z"
        ],
        [
         "27514",
         "FX",
         "Open treatment of femoral fracture, distal end, medial or lateral condyle, includes internal fixation, when performed",
         "No Change",
         "2025-04-02T07:21:28.487Z"
        ],
        [
         "27519",
         "FX",
         "Open treatment of distal femoral epiphyseal separation, includes internal fixation, when performed",
         "No Change",
         "2025-04-02T07:21:28.487Z"
        ],
        [
         "27535",
         "FX",
         "Open treatment of tibial fracture, proximal (plateau); unicondylar, includes internal fixation, when performed",
         "No Change",
         "2025-04-02T07:21:28.487Z"
        ],
        [
         "27536",
         "FX",
         "Open treatment of tibial fracture, proximal (plateau); bicondylar, with or without internal fixation",
         "No Change",
         "2025-04-02T07:21:28.487Z"
        ],
        [
         "27540",
         "FX",
         "Open treatment of intercondylar spine(s) and/or tuberosity fracture(s) of the knee, includes internal fixation, when performed",
         "No Change",
         "2025-04-02T07:21:28.487Z"
        ],
        [
         "27758",
         "FX",
         "Open treatment of tibial shaft fracture (with or without fibular fracture), with plate/screws, with or without cerclage",
         "No Change",
         "2025-04-02T07:21:28.487Z"
        ],
        [
         "27759",
         "FX",
         "Treatment of tibial shaft fracture (with or without fibular fracture) by intramedullary implant, with or without interlocking screws and/or cerclage",
         "No Change",
         "2025-04-02T07:21:28.487Z"
        ],
        [
         "27766",
         "FX",
         "Open treatment of medial malleolus fracture, includes internal fixation, when performed",
         "No Change",
         "2025-04-02T07:21:28.487Z"
        ],
        [
         "27769",
         "FX",
         "Open treatment of posterior malleolus fracture, includes internal fixation, when performed",
         "No Change",
         "2025-04-02T07:21:28.487Z"
        ],
        [
         "27784",
         "FX",
         "Open treatment of proximal fibula or shaft fracture, includes internal fixation, when performed",
         "No Change",
         "2025-04-02T07:21:28.487Z"
        ],
        [
         "27792",
         "FX",
         "Open treatment of distal fibular fracture (lateral malleolus), includes internal fixation, when performed",
         "No Change",
         "2025-04-02T07:21:28.487Z"
        ],
        [
         "27814",
         "FX",
         "Open treatment of bimalleolar ankle fracture (eg, lateral and medial malleoli, or lateral and posterior malleoli, or medial and posterior malleoli), includes internal fixation, when performed",
         "No Change",
         "2025-04-02T07:21:28.487Z"
        ],
        [
         "27822",
         "FX",
         "Open treatment of trimalleolar ankle fracture, includes internal fixation, when performed, medial and/or lateral malleolus; without fixation of posterior lip",
         "No Change",
         "2025-04-02T07:21:28.487Z"
        ],
        [
         "27823",
         "FX",
         "Open treatment of trimalleolar ankle fracture, includes internal fixation, when performed, medial and/or lateral malleolus; with fixation of posterior lip",
         "No Change",
         "2025-04-02T07:21:28.487Z"
        ],
        [
         "27826",
         "FX",
         "Open treatment of fracture of weight bearing articular surface/portion of distal tibia (eg, pilon or tibial plafond), with internal fixation, when performed; of fibula only",
         "No Change",
         "2025-04-02T07:21:28.487Z"
        ],
        [
         "27827",
         "FX",
         "Open treatment of fracture of weight bearing articular surface/portion of distal tibia (eg, pilon or tibial plafond), with internal fixation, when performed; of tibia only",
         "No Change",
         "2025-04-02T07:21:28.487Z"
        ],
        [
         "27828",
         "FX",
         "Open treatment of fracture of weight bearing articular surface/portion of distal tibia (eg, pilon or tibial plafond), with internal fixation, when performed; of both tibia and fibula",
         "No Change",
         "2025-04-02T07:21:28.487Z"
        ],
        [
         "27829",
         "FX",
         "Open treatment of distal tibiofibular joint (syndesmosis) disruption, includes internal fixation, when performed",
         "No Change",
         "2025-04-02T07:21:28.487Z"
        ],
        [
         "43117",
         "GAST",
         "Partial esophagectomy, distal two-thirds, with thoracotomy and separate abdominal incision, with or without proximal gastrectomy; with thoracic esophagogastrostomy, with or without pyloroplasty (Ivor Lewis)",
         "No Change",
         "2025-04-02T07:21:28.487Z"
        ],
        [
         "43118",
         "GAST",
         "Partial esophagectomy, distal two-thirds, with thoracotomy and separate abdominal incision, with or without proximal gastrectomy; with colon interposition or small intestine reconstruction, including intestine mobilization, preparation, and anastomosis(es)",
         "No Change",
         "2025-04-02T07:21:28.487Z"
        ],
        [
         "43121",
         "GAST",
         "Partial esophagectomy, distal two-thirds, with thoracotomy only, with or without proximal gastrectomy, with thoracic esophagogastrostomy, with or without pyloroplasty",
         "No Change",
         "2025-04-02T07:21:28.487Z"
        ],
        [
         "43122",
         "GAST",
         "Partial esophagectomy, thoracoabdominal or abdominal approach, with or without proximal gastrectomy; with esophagogastrostomy, with or without pyloroplasty",
         "No Change",
         "2025-04-02T07:21:28.487Z"
        ],
        [
         "43286",
         "GAST",
         "Esophagectomy, total or near total, with laparoscopic mobilization of the abdominal and mediastinal esophagus and proximal gastrectomy, with laparoscopic pyloric drainage procedure if performed, with open cervical pharyngogastrostomy or esophagogastrostomy (ie, laparoscopic transhiatal esophagectomy)",
         "No Change",
         "2025-04-02T07:21:28.487Z"
        ],
        [
         "43287",
         "GAST",
         "Esophagectomy, distal two-thirds, with laparoscopic mobilization of the abdominal and lower mediastinal esophagus and proximal gastrectomy, with laparoscopic pyloric drainage procedure if performed, with separate thoracoscopic mobilization of the middle and upper mediastinal esophagus and thoracic esophagogastrostomy (ie, laparoscopic thoracoscopic esophagectomy, Ivor Lewis esophagectomy)",
         "No Change",
         "2025-04-02T07:21:28.487Z"
        ],
        [
         "43288",
         "GAST",
         "Esophagectomy, total or near total, with thoracoscopic mobilization of the upper, middle, and lower mediastinal esophagus, with separate laparoscopic proximal gastrectomy, with laparoscopic pyloric drainage procedure if performed, with open cervical pharyngogastrostomy or esophagogastrostomy (ie, thoracoscopic, laparoscopic and cervical incision esophagectomy, McKeown esophagectomy, tri-incisional esophagectomy)",
         "No Change",
         "2025-04-02T07:21:28.487Z"
        ],
        [
         "43320",
         "GAST",
         "Esophagogastrostomy (cardioplasty), with or without vagotomy and pyloroplasty, transabdominal or transthoracic approach",
         "No Change",
         "2025-04-02T07:21:28.487Z"
        ],
        [
         "43360",
         "GAST",
         "Gastrointestinal reconstruction for previous esophagectomy, for obstructing esophageal lesion or fistula, or for previous esophageal exclusion; with stomach, with or without pyloroplasty",
         "No Change",
         "2025-04-02T07:21:28.487Z"
        ],
        [
         "43500",
         "GAST",
         "Gastrotomy; with exploration or foreign body removal",
         "No Change",
         "2025-04-02T07:21:28.487Z"
        ],
        [
         "43501",
         "GAST",
         "Gastrotomy; with suture repair of bleeding ulcer",
         "No Change",
         "2025-04-02T07:21:28.487Z"
        ],
        [
         "43502",
         "GAST",
         "Gastrotomy; with suture repair of pre-existing esophagogastric laceration (eg, Mallory-Weiss)",
         "No Change",
         "2025-04-02T07:21:28.487Z"
        ],
        [
         "43520",
         "GAST",
         "Pyloromyotomy, cutting of pyloric muscle (Fredet-Ramstedt type operation)",
         "No Change",
         "2025-04-02T07:21:28.487Z"
        ],
        [
         "43605",
         "GAST",
         "Biopsy of stomach, by laparotomy",
         "No Change",
         "2025-04-02T07:21:28.487Z"
        ],
        [
         "43610",
         "GAST",
         "Excision, local; ulcer or benign tumor of stomach",
         "No Change",
         "2025-04-02T07:21:28.487Z"
        ],
        [
         "43611",
         "GAST",
         "Excision, local; malignant tumor of stomach",
         "No Change",
         "2025-04-02T07:21:28.487Z"
        ],
        [
         "43620",
         "GAST",
         "Gastrectomy, total; with esophagoenterostomy",
         "No Change",
         "2025-04-02T07:21:28.487Z"
        ],
        [
         "43621",
         "GAST",
         "Gastrectomy, total; with Roux-en-Y reconstruction",
         "No Change",
         "2025-04-02T07:21:28.487Z"
        ],
        [
         "43622",
         "GAST",
         "Gastrectomy, total; with formation of intestinal pouch, any type",
         "No Change",
         "2025-04-02T07:21:28.487Z"
        ],
        [
         "43631",
         "GAST",
         "Gastrectomy, partial, distal; with gastroduodenostomy",
         "No Change",
         "2025-04-02T07:21:28.487Z"
        ],
        [
         "43632",
         "GAST",
         "Gastrectomy, partial, distal; with gastrojejunostomy",
         "No Change",
         "2025-04-02T07:21:28.487Z"
        ],
        [
         "43633",
         "GAST",
         "Gastrectomy, partial, distal; with Roux-en-Y reconstruction",
         "No Change",
         "2025-04-02T07:21:28.487Z"
        ],
        [
         "43634",
         "GAST",
         "Gastrectomy, partial, distal; with formation of intestinal pouch",
         "No Change",
         "2025-04-02T07:21:28.487Z"
        ],
        [
         "43640",
         "GAST",
         "Vagotomy including pyloroplasty, with or without gastrostomy; truncal or selective",
         "No Change",
         "2025-04-02T07:21:28.487Z"
        ],
        [
         "43641",
         "GAST",
         "Vagotomy including pyloroplasty, with or without gastrostomy; parietal cell (highly selective)",
         "No Change",
         "2025-04-02T07:21:28.487Z"
        ],
        [
         "43644",
         "GAST",
         "Laparoscopy, surgical, gastric restrictive procedure; with gastric bypass and Roux-en-Y gastroenterostomy (roux limb 150 cm or less)",
         "No Change",
         "2025-04-02T07:21:28.487Z"
        ],
        [
         "43645",
         "GAST",
         "Laparoscopy, surgical, gastric restrictive procedure; with gastric bypass and small intestine reconstruction to limit absorption",
         "No Change",
         "2025-04-02T07:21:28.487Z"
        ],
        [
         "43770",
         "GAST",
         "Laparoscopy, surgical, gastric restrictive procedure; placement of adjustable gastric restrictive device (eg, gastric band and subcutaneous port components)",
         "No Change",
         "2025-04-02T07:21:28.487Z"
        ],
        [
         "43771",
         "GAST",
         "Laparoscopy, surgical, gastric restrictive procedure; revision of adjustable gastric restrictive device component only",
         "No Change",
         "2025-04-02T07:21:28.487Z"
        ],
        [
         "43772",
         "GAST",
         "Laparoscopy, surgical, gastric restrictive procedure; removal of adjustable gastric restrictive device component only",
         "No Change",
         "2025-04-02T07:21:28.487Z"
        ],
        [
         "43773",
         "GAST",
         "Laparoscopy, surgical, gastric restrictive procedure; removal and replacement of adjustable gastric restrictive device component only",
         "No Change",
         "2025-04-02T07:21:28.487Z"
        ],
        [
         "43774",
         "GAST",
         "Laparoscopy, surgical, gastric restrictive procedure; removal of adjustable gastric restrictive device and subcutaneous port components",
         "No Change",
         "2025-04-02T07:21:28.487Z"
        ],
        [
         "43775",
         "GAST",
         "Laparoscopy, surgical, gastric restrictive procedure; longitudinal gastrectomy (ie, sleeve gastrectomy)",
         "No Change",
         "2025-04-02T07:21:28.487Z"
        ],
        [
         "43800",
         "GAST",
         "Pyloroplasty",
         "No Change",
         "2025-04-02T07:21:28.487Z"
        ],
        [
         "43810",
         "GAST",
         "Gastroduodenostomy",
         "No Change",
         "2025-04-02T07:21:28.487Z"
        ],
        [
         "43820",
         "GAST",
         "Gastrojejunostomy; without vagotomy",
         "No Change",
         "2025-04-02T07:21:28.487Z"
        ],
        [
         "43825",
         "GAST",
         "Gastrojejunostomy; with vagotomy, any type",
         "No Change",
         "2025-04-02T07:21:28.487Z"
        ],
        [
         "43840",
         "GAST",
         "Gastrorrhaphy, suture of perforated duodenal or gastric ulcer, wound, or injury",
         "No Change",
         "2025-04-02T07:21:28.487Z"
        ],
        [
         "43842",
         "GAST",
         "Gastric restrictive procedure, without gastric bypass, for morbid obesity; vertical-banded gastroplasty",
         "No Change",
         "2025-04-02T07:21:28.487Z"
        ],
        [
         "43843",
         "GAST",
         "Gastric restrictive procedure, without gastric bypass, for morbid obesity; other than vertical-banded gastroplasty",
         "No Change",
         "2025-04-02T07:21:28.487Z"
        ],
        [
         "43845",
         "GAST",
         "Gastric restrictive procedure with partial gastrectomy, pylorus-preserving duodenoileostomy and ileoileostomy (50 to 100 cm common channel) to limit absorption (biliopancreatic diversion with duodenal switch)",
         "No Change",
         "2025-04-02T07:21:28.487Z"
        ],
        [
         "43847",
         "GAST",
         "Gastric restrictive procedure, with gastric bypass for morbid obesity; with small intestine reconstruction to limit absorption",
         "No Change",
         "2025-04-02T07:21:28.487Z"
        ],
        [
         "43848",
         "GAST",
         "Revision, open, of gastric restrictive procedure for morbid obesity, other than adjustable gastric restrictive device (separate procedure)",
         "No Change",
         "2025-04-02T07:21:28.487Z"
        ],
        [
         "43860",
         "GAST",
         "Revision of gastrojejunal anastomosis (gastrojejunostomy) with reconstruction, with or without partial gastrectomy or intestine resection; without vagotomy",
         "No Change",
         "2025-04-02T07:21:28.487Z"
        ],
        [
         "43865",
         "GAST",
         "Revision of gastrojejunal anastomosis (gastrojejunostomy) with reconstruction, with or without partial gastrectomy or intestine resection; with vagotomy",
         "No Change",
         "2025-04-02T07:21:28.487Z"
        ],
        [
         "43870",
         "GAST",
         "Closure of gastrostomy, surgical",
         "No Change",
         "2025-04-02T07:21:28.487Z"
        ],
        [
         "43880",
         "GAST",
         "Closure of gastrocolic fistula",
         "No Change",
         "2025-04-02T07:21:28.487Z"
        ],
        [
         "43886",
         "GAST",
         "Gastric restrictive procedure, open; revision of subcutaneous port component only",
         "No Change",
         "2025-04-02T07:21:28.487Z"
        ],
        [
         "43887",
         "GAST",
         "Gastric restrictive procedure, open; removal of subcutaneous port component only",
         "No Change",
         "2025-04-02T07:21:28.487Z"
        ],
        [
         "43888",
         "GAST",
         "Gastric restrictive procedure, open; removal and replacement of subcutaneous port component only",
         "No Change",
         "2025-04-02T07:21:28.487Z"
        ],
        [
         "11008",
         "HER",
         "Removal of prosthetic material or mesh, abdominal wall for infection (eg, for chronic or recurrent mesh infection or necrotizing soft tissue infection) (List separately in No changeition to code for primary procedure)",
         "No Change",
         "2025-04-02T07:21:28.487Z"
        ],
        [
         "49491",
         "HER",
         "Repair, initial inguinal hernia, preterm infant (younger than 37 weeks gestation at birth), performed from birth up to 50 weeks postconception age, with or without hydrocelectomy; reducible",
         "No Change",
         "2025-04-02T07:21:28.487Z"
        ],
        [
         "49492",
         "HER",
         "Repair, initial inguinal hernia, preterm infant (younger than 37 weeks gestation at birth), performed from birth up to 50 weeks postconception age, with or without hydrocelectomy; incarcerated or strangulated",
         "No Change",
         "2025-04-02T07:21:28.487Z"
        ],
        [
         "49495",
         "HER",
         "Repair, initial inguinal hernia, full term infant younger than age 6 months, or preterm infant older than 50 weeks postconception age and younger than age 6 months at the time of surgery, with or without hydrocelectomy; reducible",
         "No Change",
         "2025-04-02T07:21:28.487Z"
        ],
        [
         "49496",
         "HER",
         "Repair, initial inguinal hernia, full term infant younger than age 6 months, or preterm infant older than 50 weeks postconception age and younger than age 6 months at the time of surgery, with or without hydrocelectomy; incarcerated or strangulated",
         "No Change",
         "2025-04-02T07:21:28.487Z"
        ],
        [
         "49500",
         "HER",
         "Repair initial inguinal hernia, age 6 months to younger than 5 years, with or without hydrocelectomy; reducible",
         "No Change",
         "2025-04-02T07:21:28.487Z"
        ],
        [
         "49501",
         "HER",
         "Repair initial inguinal hernia, age 6 months to younger than 5 years, with or without hydrocelectomy; incarcerated or strangulated",
         "No Change",
         "2025-04-02T07:21:28.487Z"
        ],
        [
         "49505",
         "HER",
         "Repair initial inguinal hernia, age 5 years or older; reducible",
         "No Change",
         "2025-04-02T07:21:28.487Z"
        ],
        [
         "49507",
         "HER",
         "Repair initial inguinal hernia, age 5 years or older; incarcerated or strangulated",
         "No Change",
         "2025-04-02T07:21:28.487Z"
        ],
        [
         "49520",
         "HER",
         "Repair recurrent inguinal hernia, any age; reducible",
         "No Change",
         "2025-04-02T07:21:28.487Z"
        ],
        [
         "49521",
         "HER",
         "Repair recurrent inguinal hernia, any age; incarcerated or strangulated",
         "No Change",
         "2025-04-02T07:21:28.487Z"
        ],
        [
         "49525",
         "HER",
         "Repair inguinal hernia, sliding, any age",
         "No Change",
         "2025-04-02T07:21:28.487Z"
        ],
        [
         "49550",
         "HER",
         "Repair initial femoral hernia, any age; reducible",
         "No Change",
         "2025-04-02T07:21:28.487Z"
        ],
        [
         "49553",
         "HER",
         "Repair initial femoral hernia, any age; incarcerated or strangulated",
         "No Change",
         "2025-04-02T07:21:28.487Z"
        ],
        [
         "49555",
         "HER",
         "Repair recurrent femoral hernia; reducible",
         "No Change",
         "2025-04-02T07:21:28.487Z"
        ],
        [
         "49557",
         "HER",
         "Repair recurrent femoral hernia; incarcerated or strangulated",
         "No Change",
         "2025-04-02T07:21:28.487Z"
        ],
        [
         "49591",
         "HER",
         "Repair of anterior abdominal hernia(s) (ie, epigastric, incisional, ventral, umbilical, spigelian), any approach (ie, open, laparoscopic, robotic), initial, including mesh or other prosthesis when performed, total length of defect(s); less than 3 cm, reducible",
         "No Change",
         "2025-04-02T07:21:28.487Z"
        ],
        [
         "49592",
         "HER",
         "Repair of anterior abdominal hernia(s) (ie, epigastric, incisional, ventral, umbilical, spigelian), any approach (ie, open, laparoscopic, robotic), initial, including mesh or other prosthesis when performed, total length of defect(s); less than 3 cm, incarcerated",
         "No Change",
         "2025-04-02T07:21:28.487Z"
        ],
        [
         "49593",
         "HER",
         "Repair of anterior abdominal hernia(s) (ie, epigastric, incisional, ventral, umbilical, spigelian), any approach (ie, open, laparoscopic, robotic), initial, including mesh or other prosthesis when performed, total length of defect(s); 3 cm to 10 cm, reducible",
         "No Change",
         "2025-04-02T07:21:28.487Z"
        ],
        [
         "49594",
         "HER",
         "Repair of anterior abdominal hernia(s) (ie, epigastric, incisional, ventral, umbilical, spigelian), any approach (ie, open, laparoscopic, robotic), initial, including mesh or other prosthesis when performed, total length of defect(s); 3 cm to 10 cm, incarcerated",
         "No Change",
         "2025-04-02T07:21:28.487Z"
        ],
        [
         "49595",
         "HER",
         "Repair of anterior abdominal hernia(s) (ie, epigastric, incisional, ventral, umbilical, spigelian), any approach (ie, open, laparoscopic, robotic), initial, including mesh or other prosthesis when performed, total length of defect(s); greater than 10 cm, reducible",
         "No Change",
         "2025-04-02T07:21:28.487Z"
        ],
        [
         "49596",
         "HER",
         "Repair of anterior abdominal hernia(s) (ie, epigastric, incisional, ventral, umbilical, spigelian), any approach (ie, open, laparoscopic, robotic), initial, including mesh or other prosthesis when performed, total length of defect(s); greater than 10 cm, incarcerated",
         "No Change",
         "2025-04-02T07:21:28.487Z"
        ],
        [
         "49600",
         "HER",
         "Repair of small omphalocele, with primary closure",
         "No Change",
         "2025-04-02T07:21:28.487Z"
        ],
        [
         "49605",
         "HER",
         "Repair of large omphalocele or gastroschisis; with or without prosthesis",
         "No Change",
         "2025-04-02T07:21:28.487Z"
        ],
        [
         "49606",
         "HER",
         "Repair of large omphalocele or gastroschisis; with removal of prosthesis, final reduction and closure, in operating room",
         "No Change",
         "2025-04-02T07:21:28.487Z"
        ],
        [
         "49610",
         "HER",
         "Repair of omphalocele (Gross type operation); first stage",
         "No Change",
         "2025-04-02T07:21:28.487Z"
        ],
        [
         "49611",
         "HER",
         "Repair of omphalocele (Gross type operation); second stage",
         "No Change",
         "2025-04-02T07:21:28.487Z"
        ],
        [
         "49613",
         "HER",
         "Repair of anterior abdominal hernia(s) (ie, epigastric, incisional, ventral, umbilical, spigelian), any approach (ie, open, laparoscopic, robotic), recurrent, including mesh or other prosthesis when performed, total length of defect(s); less than 3 cm, reducible",
         "No Change",
         "2025-04-02T07:21:28.487Z"
        ],
        [
         "49614",
         "HER",
         "Repair of anterior abdominal hernia(s) (ie, epigastric, incisional, ventral, umbilical, spigelian), any approach (ie, open, laparoscopic, robotic), recurrent, including mesh or other prosthesis when performed, total length of defect(s); less than 3 cm, incarcerated",
         "No Change",
         "2025-04-02T07:21:28.487Z"
        ],
        [
         "49615",
         "HER",
         "Repair of anterior abdominal hernia(s) (ie, epigastric, incisional, ventral, umbilical, spigelian), any approach (ie, open, laparoscopic, robotic), recurrent, including mesh or other prosthesis when performed, total length of defect(s); 3 cm to 10 cm, reducible",
         "No Change",
         "2025-04-02T07:21:28.487Z"
        ],
        [
         "49616",
         "HER",
         "Repair of anterior abdominal hernia(s) (ie, epigastric, incisional, ventral, umbilical, spigelian), any approach (ie, open, laparoscopic, robotic), recurrent, including mesh or other prosthesis when performed, total length of defect(s); 3 cm to 10 cm, incarcerated",
         "No Change",
         "2025-04-02T07:21:28.487Z"
        ],
        [
         "49617",
         "HER",
         "Repair of anterior abdominal hernia(s) (ie, epigastric, incisional, ventral, umbilical, spigelian), any approach (ie, open, laparoscopic, robotic), recurrent, including mesh or other prosthesis when performed, total length of defect(s); greater than 10 cm, reducible",
         "No Change",
         "2025-04-02T07:21:28.487Z"
        ],
        [
         "49618",
         "HER",
         "Repair of anterior abdominal hernia(s) (ie, epigastric, incisional, ventral, umbilical, spigelian), any approach (ie, open, laparoscopic, robotic), recurrent, including mesh or other prosthesis when performed, total length of defect(s); greater than 10 cm, incarcerated",
         "No Change",
         "2025-04-02T07:21:28.487Z"
        ],
        [
         "49621",
         "HER",
         "Repair of parastomal hernia, any approach (ie, open, laparoscopic, robotic), initial or recurrent, including implantation of mesh or other prosthesis, when performed; reducible",
         "No Change",
         "2025-04-02T07:21:28.487Z"
        ],
        [
         "49622",
         "HER",
         "Repair of parastomal hernia, any approach (ie, open, laparoscopic, robotic), initial or recurrent, including implantation of mesh or other prosthesis, when performed; incarcerated or strangulated",
         "No Change",
         "2025-04-02T07:21:28.487Z"
        ],
        [
         "49650",
         "HER",
         "Laparoscopy, surgical; repair initial inguinal hernia",
         "No Change",
         "2025-04-02T07:21:28.487Z"
        ],
        [
         "49651",
         "HER",
         "Laparoscopy, surgical; repair recurrent inguinal hernia",
         "No Change",
         "2025-04-02T07:21:28.487Z"
        ],
        [
         "49659",
         "HER",
         "Unlisted laparoscopy procedure, hernioplasty, herniorrhaphy, herniotomy",
         "No Change",
         "2025-04-02T07:21:28.487Z"
        ],
        [
         "27125",
         "HPRO",
         "Hemiarthroplasty, hip, partial (eg, femoral stem prosthesis, bipolar arthroplasty)",
         "No Change",
         "2025-04-02T07:21:28.487Z"
        ],
        [
         "27130",
         "HPRO",
         "Arthroplasty, acetabular and proximal femoral prosthetic replacement (total hip arthroplasty), with or without autograft or allograft",
         "No Change",
         "2025-04-02T07:21:28.487Z"
        ],
        [
         "27132",
         "HPRO",
         "Conversion of previous hip surgery to total hip arthroplasty, with or without autograft or allograft",
         "No Change",
         "2025-04-02T07:21:28.487Z"
        ],
        [
         "27134",
         "HPRO",
         "Revision of total hip arthroplasty; both components, with or without autograft or allograft ",
         "No Change",
         "2025-04-02T07:21:28.487Z"
        ],
        [
         "27137",
         "HPRO",
         "Revision of total hip arthroplasty; acetabular component only, with or without autograft or allograft ",
         "No Change",
         "2025-04-02T07:21:28.487Z"
        ],
        [
         "27138",
         "HPRO",
         "Revision of total hip arthroplasty; femoral component only, with or without allograft",
         "No Change",
         "2025-04-02T07:21:28.487Z"
        ],
        [
         "27236",
         "HPRO",
         "Open treatment of femoral fracture, proximal end, neck, internal fixation or prosthetic replacement",
         "No Change",
         "2025-04-02T07:21:28.487Z"
        ],
        [
         "33935",
         "HTP",
         "Heart-lung transplant with recipient cardiectomy-pneumonectomy",
         "No Change",
         "2025-04-02T07:21:28.487Z"
        ],
        [
         "33945",
         "HTP",
         "Heart transplant, with or without recipient cardiectomy  ",
         "No Change",
         "2025-04-02T07:21:28.487Z"
        ],
        [
         "58150",
         "HYST",
         "Total abdominal hysterectomy (corpus and cervix), with or without removal of tube(s), with or without removal of ovary(s)",
         "No Change",
         "2025-04-02T07:21:28.487Z"
        ],
        [
         "58152",
         "HYST",
         "Total abdominal hysterectomy (corpus and cervix), with or without removal of tube(s), with or without removal of ovary(s); with colpo-urethrocystopexy (eg, Marshall-Marchetti-Krantz, Burch)",
         "No Change",
         "2025-04-02T07:21:28.487Z"
        ],
        [
         "58180",
         "HYST",
         "Supracervical abdominal hysterectomy (subtotal hysterectomy), with or without removal of tube(s), with or without removal of ovary(s)",
         "No Change",
         "2025-04-02T07:21:28.487Z"
        ],
        [
         "58200",
         "HYST",
         "Total abdominal hysterectomy, including partial vaginectomy, with para-aortic and pelvic lymph node sampling, with or without removal of tube(s), with or without removal of ovary(s)",
         "No Change",
         "2025-04-02T07:21:28.487Z"
        ],
        [
         "58210",
         "HYST",
         "Radical abdominal hysterectomy, with bilateral total pelvic lymphadenectomy and para-aortic lymph node sampling (biopsy), with or without removal of tube(s), with or without removal of ovary(s)",
         "No Change",
         "2025-04-02T07:21:28.487Z"
        ],
        [
         "58240",
         "HYST",
         "Pelvic exenteration for gynecologic malignancy, with total abdominal hysterectomy or cervicectomy, with or without removal of tube(s), with or without removal of ovary(s), with removal of bladder and ureteral transplantations, and/or abdominoperineal resection of rectum and colon and colostomy, or any combination thereof",
         "No Change",
         "2025-04-02T07:21:28.487Z"
        ],
        [
         "58541",
         "HYST",
         "Laparoscopy, surgical, supracervical hysterectomy, for uterus 250 g or less;",
         "No Change",
         "2025-04-02T07:21:28.487Z"
        ],
        [
         "58542",
         "HYST",
         "Laparoscopy, surgical, supracervical hysterectomy, for uterus 250 g or less; with removal of tube(s) and/or ovary(s)",
         "No Change",
         "2025-04-02T07:21:28.487Z"
        ],
        [
         "58543",
         "HYST",
         "Laparoscopy, surgical, supracervical hysterectomy, for uterus greater than 250 g;",
         "No Change",
         "2025-04-02T07:21:28.487Z"
        ],
        [
         "58544",
         "HYST",
         "Laparoscopy, surgical, supracervical hysterectomy, for uterus greater than 250 g; with removal of tube(s) and/or ovary(s)",
         "No Change",
         "2025-04-02T07:21:28.487Z"
        ],
        [
         "58548",
         "HYST",
         "Laparoscopy, surgical, with radical hysterectomy, with bilateral total pelvic lymphadenectomy and para-aortic lymph node sampling (biopsy), with removal of tube(s) and ovary(s), if performed",
         "No Change",
         "2025-04-02T07:21:28.487Z"
        ],
        [
         "58550",
         "HYST",
         "Laparoscopy, surgical, with vaginal hysterectomy, for uterus 250 g or less",
         "No Change",
         "2025-04-02T07:21:28.487Z"
        ],
        [
         "58552",
         "HYST",
         "Laparoscopy, surgical, with vaginal hysterectomy, for uterus 250 g or less; with removal of tubes(s) and /or ovary(s)",
         "No Change",
         "2025-04-02T07:21:28.487Z"
        ],
        [
         "58553",
         "HYST",
         "Laparoscopy, surgical, with vaginal hysterectomy, for uterus greater than 250 g",
         "No Change",
         "2025-04-02T07:21:28.487Z"
        ],
        [
         "58554",
         "HYST",
         "Laparoscopy, surgical, with vaginal hysterectomy, for uterus greater than 250 g; with removal of tube(s) and/or ovary(s)",
         "No Change",
         "2025-04-02T07:21:28.487Z"
        ],
        [
         "58570",
         "HYST",
         "Laparoscopy, surgical, with total hysterectomy, for uterus 250 g or less;",
         "No Change",
         "2025-04-02T07:21:28.487Z"
        ],
        [
         "58571",
         "HYST",
         "Laparoscopy, surgical, with total hysterectomy, for uterus 250 g or less; with removal of tube(s) and/or ovary(s)",
         "No Change",
         "2025-04-02T07:21:28.487Z"
        ],
        [
         "58572",
         "HYST",
         "Laparoscopy, surgical, with total hysterectomy, for uterus greater than 250 g;",
         "No Change",
         "2025-04-02T07:21:28.487Z"
        ],
        [
         "58573",
         "HYST",
         "Laparoscopy, surgical, with total hysterectomy, for uterus greater than 250 g; with removal of tube(s) and/or ovary(s)",
         "No Change",
         "2025-04-02T07:21:28.487Z"
        ],
        [
         "58575",
         "HYST",
         "Laparaoscopy, surgical, total hysterectomy for resection of malignancy (tumor debulking), with omentectomy including salpingo-oopherectomy, unilateral or bilateral, when performed",
         "No Change",
         "2025-04-02T07:21:28.487Z"
        ],
        [
         "58951",
         "HYST",
         "Resection (initial) of ovarian, tubal or primary peritoneal malignancy with bilateral salpingo-oophorectomy and omentectomy; with total abdominal hysterectomy, pelvic and limited para-aortic lymphadenectomy",
         "No Change",
         "2025-04-02T07:21:28.487Z"
        ],
        [
         "58953",
         "HYST",
         "Bilateral salpingo-oophorectomy with omentectomy, total abdominal hysterectomy and radical dissection for debulking",
         "No Change",
         "2025-04-02T07:21:28.487Z"
        ],
        [
         "58954",
         "HYST",
         "Bilateral salpingo-oophorectomy with omentectomy, total abdominal hysterectomy and radical dissection for debulking; with pelvic lymphadenectomy and limited para-aortic lymphadenectomy",
         "No Change",
         "2025-04-02T07:21:28.487Z"
        ],
        [
         "58956",
         "HYST",
         "Bilateral salpingo-oophorectomy with total omentectomy, total abdominal hysterectomy for malignancy",
         "No Change",
         "2025-04-02T07:21:28.487Z"
        ],
        [
         "59525",
         "HYST",
         "Subtotal or total hysterectomy after cesarean delivery",
         "No Change",
         "2025-04-02T07:21:28.487Z"
        ],
        [
         "27438",
         "KPRO",
         "Arthroplasty, patella; with prosthesis",
         "No Change",
         "2025-04-02T07:21:28.487Z"
        ],
        [
         "27440",
         "KPRO",
         "Arthroplasty, knee, tibial plateau",
         "No Change",
         "2025-04-02T07:21:28.487Z"
        ],
        [
         "27441",
         "KPRO",
         "Arthroplasty, knee, tibial plateau; with debridement and partial synovectomy",
         "No Change",
         "2025-04-02T07:21:28.487Z"
        ],
        [
         "27442",
         "KPRO",
         "Arthroplasty, femoral condyles or tibial plateau(s), knee",
         "No Change",
         "2025-04-02T07:21:28.487Z"
        ],
        [
         "27443",
         "KPRO",
         "Arthroplasty, femoral condyles or tibial plateau(s), knee; with debridement and partial synovectomy",
         "No Change",
         "2025-04-02T07:21:28.487Z"
        ],
        [
         "27445",
         "KPRO",
         "Arthroplasty, knee, hinge prosthesis (eg, Walldius type)",
         "No Change",
         "2025-04-02T07:21:28.487Z"
        ],
        [
         "27446",
         "KPRO",
         "Arthroplasty, knee, condyle and plateau; medial OR lateral compartment",
         "No Change",
         "2025-04-02T07:21:28.487Z"
        ],
        [
         "27447",
         "KPRO",
         "Arthroplasty, knee, condyle and plateau; medial AND lateral compartments with or without patella resurfacing (total knee arthroplasty)",
         "No Change",
         "2025-04-02T07:21:28.487Z"
        ],
        [
         "27486",
         "KPRO",
         "Revision of total knee athroplasty, with or without allograft, one component",
         "No Change",
         "2025-04-02T07:21:28.487Z"
        ],
        [
         "27487",
         "KPRO",
         "Revision of total knee arthroplasty, with or without allograft; femoral and entire tibial component",
         "No Change",
         "2025-04-02T07:21:28.487Z"
        ],
        [
         "50340",
         "KTP",
         "Recipient nephrectomy (separate procedure)  ",
         "No Change",
         "2025-04-02T07:21:28.487Z"
        ],
        [
         "50360",
         "KTP",
         "Renal allotransplantation, implantation of graft; without recipient nephrectomy ",
         "No Change",
         "2025-04-02T07:21:28.487Z"
        ],
        [
         "50365",
         "KTP",
         "Renal allotransplantation, implantation of graft; with recipient nephrectomy ",
         "No Change",
         "2025-04-02T07:21:28.487Z"
        ],
        [
         "50380",
         "KTP",
         "Renal autotransplantation, reimplantation of kidney ",
         "No Change",
         "2025-04-02T07:21:28.487Z"
        ],
        [
         "22220",
         "LAM",
         "Osteotomy of spine, including discectomy, anterior approach, single vertebral segment; cervical",
         "No Change",
         "2025-04-02T07:21:28.487Z"
        ],
        [
         "22222",
         "LAM",
         "Osteotomy of spine, including discectomy, anterior approach, single vertebral segment; thoracic",
         "No Change",
         "2025-04-02T07:21:28.487Z"
        ],
        [
         "22224",
         "LAM",
         "Osteotomy of spine, including discectomy, anterior approach, single vertebral segment; lumbar",
         "No Change",
         "2025-04-02T07:21:28.487Z"
        ],
        [
         "22856",
         "LAM",
         "Total disc arthroplasty (artificial disc), anterior approach, including discectomy with end plate preparation (includes osteophytectomy for nerve root or spinal cord decompression and microdissection); single interspace, cervical",
         "No Change",
         "2025-04-02T07:21:28.487Z"
        ],
        [
         "22857",
         "LAM",
         "Total disc arthroplasty (artificial disc), anterior approach, including discectomy to prepare interspace (other than for decompression), single interspace, lumbar",
         "No Change",
         "2025-04-02T07:21:28.487Z"
        ],
        [
         "22861",
         "LAM",
         "Revision including replacement of total disc arthroplasty (artificial disc), anterior approach, single interspace; cervical",
         "No Change",
         "2025-04-02T07:21:28.487Z"
        ],
        [
         "22862",
         "LAM",
         "Revision including replacement of total disc arthroplasty (artificial disc), anterior approach, single interspace; lumbar",
         "No Change",
         "2025-04-02T07:21:28.487Z"
        ],
        [
         "22867",
         "LAM",
         "Insertion of interlaminar/interspinous process stabilization/distraction device, without fusion, including image guidance when performed, with open decompression, lumbar; single level ",
         "No Change",
         "2025-04-02T07:21:28.487Z"
        ],
        [
         "62287",
         "LAM",
         "Decompression procedure, percutaneous, of nucleus pulposus of intervertebral disc, any method utilizing needle based technique to remove disc material under fluoroscopic imaging or other form of indirect visualization, with the use of an endoscope, with discography and/or epidural injection(s) at the treated level(s), when performed, single or multiple levels, lumbar",
         "No Change",
         "2025-04-02T07:21:28.487Z"
        ],
        [
         "62351",
         "LAM",
         "Implantation, revision or repositioning of tunneled intrathecal or epidural catheter, for long-term medication administration via an external pump or implantable reservoir/infusion pump; with laminectomy",
         "No Change",
         "2025-04-02T07:21:28.487Z"
        ],
        [
         "62380",
         "LAM",
         "Endoscopic decompression of spinal cord, nerve root(s), including laminectomy, partial facetectomy, foraminotomy, discectomy and/or excision of herniated intervertebral disc, 1 interpace, lumbar",
         "No Change",
         "2025-04-02T07:21:28.487Z"
        ],
        [
         "63001",
         "LAM",
         "Laminectomy with exploration and/or decompression of spinal cord and/or cauda equina, without facetectomy, foraminotomy or discectomy (eg, spinal stenosis), 1 or 2 vertebral segments; cervical",
         "No Change",
         "2025-04-02T07:21:28.487Z"
        ],
        [
         "63003",
         "LAM",
         "Laminectomy with exploration and/or decompression of spinal cord and/or cauda equina, without facetectomy, foraminotomy or discectomy (eg, spinal stenosis), 1 or 2 vertebral segments; thoracic",
         "No Change",
         "2025-04-02T07:21:28.487Z"
        ],
        [
         "63005",
         "LAM",
         "Laminectomy with exploration and/or decompression of spinal cord and/or cauda equina, without facetectomy, foraminotomy or discectomy (eg, spinal stenosis), 1 or 2 vertebral segments; lumbar, except for spondylolisthesis",
         "No Change",
         "2025-04-02T07:21:28.487Z"
        ],
        [
         "63011",
         "LAM",
         "Laminectomy with exploration and/or decompression of spinal cord and/or cauda equina, without facetectomy, foraminotomy or discectomy (eg, spinal stenosis), 1 or 2 vertebral segments; sacral",
         "No Change",
         "2025-04-02T07:21:28.487Z"
        ],
        [
         "63012",
         "LAM",
         "Laminectomy with removal of abnormal facets and/or pars inter-articularis with decompression of cauda equina and nerve roots for spondylolisthesis, lumbar (Gill type procedure)",
         "No Change",
         "2025-04-02T07:21:28.487Z"
        ],
        [
         "63015",
         "LAM",
         "Laminectomy with exploration and/or decompression of spinal cord and/or cauda equina, without facetectomy, foraminotomy or discectomy (eg, spinal stenosis), more than 2 vertebral segments; cervical",
         "No Change",
         "2025-04-02T07:21:28.487Z"
        ],
        [
         "63016",
         "LAM",
         "Laminectomy with exploration and/or decompression of spinal cord and/or cauda equina, without facetectomy, foraminotomy or discectomy (eg, spinal stenosis), more than 2 vertebral segments; thoracic",
         "No Change",
         "2025-04-02T07:21:28.487Z"
        ],
        [
         "63017",
         "LAM",
         "Laminectomy with exploration and/or decompression of spinal cord and/or cauda equina, without facetectomy, foraminotomy or discectomy (eg, spinal stenosis), more than 2 vertebral segments; lumbar",
         "No Change",
         "2025-04-02T07:21:28.487Z"
        ],
        [
         "63020",
         "LAM",
         "Laminotomy (hemilaminectomy), with decompression of nerve root(s), including partial facetectomy, foraminotomy and/or excision of herniated intervertebral disc; 1 interspace, cervical",
         "No Change",
         "2025-04-02T07:21:28.487Z"
        ],
        [
         "63030",
         "LAM",
         "Laminotomy (hemilaminectomy), with decompression of nerve root(s), including partial facetectomy, foraminotomy and/or excision of herniated intervertebral disc; 1 interspace, lumbar",
         "No Change",
         "2025-04-02T07:21:28.487Z"
        ],
        [
         "63035",
         "LAM",
         "Laminotomy (hemilaminectomy), with decompression of nerve root(s), including partial facetectomy, foraminotomy and/or excision of herniated intervertebral disc; each No changeitional interspace, cervical or lumbar (List separately in No changeition to code for primary procedure)",
         "No Change",
         "2025-04-02T07:21:28.487Z"
        ],
        [
         "63040",
         "LAM",
         "Laminotomy (hemilaminectomy), with decompression of nerve root(s), including partial facetectomy, foraminotomy and/or excision of herniated intervertebral disc, reexploration, single interspace; cervical",
         "No Change",
         "2025-04-02T07:21:28.487Z"
        ],
        [
         "63042",
         "LAM",
         "Laminotomy (hemilaminectomy), with decompression of nerve root(s), including partial facetectomy, foraminotomy and/or excision of herniated intervertebral disc, reexploration, single interspace; lumbar",
         "No Change",
         "2025-04-02T07:21:28.487Z"
        ],
        [
         "63045",
         "LAM",
         "Laminectomy, facetectomy and foraminotomy (unilateral or bilateral with decompression of spinal cord, cauda equina and/or nerve root[s], [eg, spinal or lateral recess stenosis]), single vertebral segment; cervical",
         "No Change",
         "2025-04-02T07:21:28.487Z"
        ],
        [
         "63046",
         "LAM",
         "Laminectomy, facetectomy and foraminotomy (unilateral or bilateral with decompression of spinal cord, cauda equina and/or nerve root[s], [eg, spinal or lateral recess stenosis]), single vertebral segment; thoracic",
         "No Change",
         "2025-04-02T07:21:28.487Z"
        ],
        [
         "63047",
         "LAM",
         "Laminectomy, facetectomy and foraminotomy (unilateral or bilateral with decompression of spinal cord, cauda equina and/or nerve root[s], [eg, spinal or lateral recess stenosis]), single vertebral segment; lumbar",
         "No Change",
         "2025-04-02T07:21:28.487Z"
        ],
        [
         "63048",
         "LAM",
         "Laminectomy, facetectomy and foraminotomy (unilateral or bilateral with decompression of spinal cord, cauda equina and/or nerve root[s], [eg, spinal or lateral recess stenosis]), single vertebral segment; each No changeitional segment, cervical, thoracic, or lumbar (List separately in No changeition to code for primary procedure)",
         "No Change",
         "2025-04-02T07:21:28.487Z"
        ],
        [
         "63050",
         "LAM",
         "Laminoplasty, cervical, with decompression of the spinal cord, 2 or more vertebral segments;",
         "No Change",
         "2025-04-02T07:21:28.487Z"
        ],
        [
         "63051",
         "LAM",
         "Laminoplasty, cervical, with decompression of the spinal cord, 2 or more vertebral segments; with reconstruction of the posterior bony elements (including the application of bridging bone graft and non-segmental fixation devices [eg, wire, suture, mini-plates], when performed)",
         "No Change",
         "2025-04-02T07:21:28.487Z"
        ],
        [
         "63055",
         "LAM",
         "Transpedicular approach with decompression of spinal cord, equina and/or nerve root(s) (eg, herniated intervertebral disc), single segment; thoracic",
         "No Change",
         "2025-04-02T07:21:28.487Z"
        ],
        [
         "63056",
         "LAM",
         "lumbar (including transfacet, or lateral extraforaminal approach) (eg, far lateral herniated intervertebral disc",
         "No Change",
         "2025-04-02T07:21:28.487Z"
        ],
        [
         "63064",
         "LAM",
         "Costovertebral approach with decompression of spinal cord or nerve root(s), (eg, herniated intervertebral disc), thoracic; single segment",
         "No Change",
         "2025-04-02T07:21:28.487Z"
        ],
        [
         "63075",
         "LAM",
         "Discectomy, anterior, with decompression of spinal cord and/or nerve root(s), including osteophytectomy; cervical, single interspace",
         "No Change",
         "2025-04-02T07:21:28.487Z"
        ],
        [
         "63077",
         "LAM",
         "Discectomy, anterior, with decompression of spinal cord and/or nerve root(s), including osteophytectomy; thoracic, single interspace",
         "No Change",
         "2025-04-02T07:21:28.487Z"
        ],
        [
         "63081",
         "LAM",
         "Vertebral corpectomy (vertebral body resection), partial or complete, anterior approach with decompression of spinal cord and/or nerve root(s); cervical, single segment",
         "No Change",
         "2025-04-02T07:21:28.487Z"
        ],
        [
         "63082",
         "LAM",
         "Vertebral corpectomy (vertebral body resection), partial or complete, anterior approach with decompression of spinal cord and/or nerve root(s); cervical, each No changeitional segment (List separately in No changeition to code for primary procedure)",
         "No Change",
         "2025-04-02T07:21:28.487Z"
        ],
        [
         "63085",
         "LAM",
         "Vertebral corpectomy (vertebral body resection), partial or complete, transthoracic approach with decompression of spinal cord and/or nerve root(s); thoracic, single segment",
         "No Change",
         "2025-04-02T07:21:28.487Z"
        ],
        [
         "63086",
         "LAM",
         "Vertebral corpectomy (vertebral body resection), partial or complete, transthoracic approach with decompression of spinal cord and/or nerve root(s); thoracic, each No changeitional segment (List separately in No changeition to code for primary procedure)",
         "No Change",
         "2025-04-02T07:21:28.487Z"
        ],
        [
         "63087",
         "LAM",
         "Vertebral corpectomy (vertebral body resection), partial or complete, combined thoracolumbar approach with decompression of spinal cord, cauda equina or nerve root(s), lower thoracic or lumbar; single segment",
         "No Change",
         "2025-04-02T07:21:28.487Z"
        ],
        [
         "63088",
         "LAM",
         "Vertebral corpectomy (vertebral body resection), partial or complete, combined thoracolumbar approach with decompression of spinal cord, cauda equina or nerve root(s), lower thoracic or lumbar; each No changeitional segment (List separately in No changeition to code for primary procedure)",
         "No Change",
         "2025-04-02T07:21:28.487Z"
        ],
        [
         "63090",
         "LAM",
         "Vertebral corpectomy (vertebral body resection), partial or complete, transperitoneal or retroperitoneal approach with decompression of spinal cord, cauda equina or nerve root(s), lower thoracic, lumbar, or sacral; single segment",
         "No Change",
         "2025-04-02T07:21:28.487Z"
        ],
        [
         "63091",
         "LAM",
         "Vertebral corpectomy (vertebral body resection), partial or complete, transperitoneal or retroperitoneal approach with decompression of spinal cord, cauda equina or nerve root(s), lower thoracic, lumbar, or sacral; each No changeitional segment (List separately in No changeition to code for primary procedure)",
         "No Change",
         "2025-04-02T07:21:28.487Z"
        ],
        [
         "63101",
         "LAM",
         "Vertebral corpectomy (vertebral body resection), partial or complete, lateral extracavitary approach with decompression of spinal cord and/or nerve root(s) (eg, for tumor or retropulsed bone fragments); thoracic, single segment",
         "No Change",
         "2025-04-02T07:21:28.487Z"
        ],
        [
         "63102",
         "LAM",
         "Vertebral corpectomy (vertebral body resection), partial or complete, lateral extracavitary approach with decompression of spinal cord and/or nerve root(s) (eg, for tumor or retropulsed bone fragments); lumbar, single segment",
         "No Change",
         "2025-04-02T07:21:28.487Z"
        ],
        [
         "63103",
         "LAM",
         "Vertebral corpectomy (vertebral body resection), partial or complete, lateral extracavitary approach with decompression of spinal cord and/or nerve root(s) (eg, for tumor or retropulsed bone fragments); thoracic or lumbar, each No changeitional segment (List separately in No changeition to code for primary procedure)",
         "No Change",
         "2025-04-02T07:21:28.487Z"
        ],
        [
         "63170",
         "LAM",
         "Laminectomy with myelotomy (eg, Bischof or DREZ type), cervical, thoracic, or thoracolumbar",
         "No Change",
         "2025-04-02T07:21:28.487Z"
        ],
        [
         "63172",
         "LAM",
         "Laminectomy with drainage of intramedullary cyst/syrinx; to subarachnoid space",
         "No Change",
         "2025-04-02T07:21:28.487Z"
        ],
        [
         "63173",
         "LAM",
         "Laminectomy with drainage of intramedullary cyst/syrinx; to peritoneal or pleural space",
         "No Change",
         "2025-04-02T07:21:28.487Z"
        ],
        [
         "63180",
         "LAM",
         "Laminectomy and section of dentate ligaments, with or without dural graft, cervical; 1 or 2 segments",
         "No Change",
         "2025-04-02T07:21:28.487Z"
        ],
        [
         "63182",
         "LAM",
         "Laminectomy and section of dentate ligaments, with or without dural graft, cervical; more than 2 segments",
         "No Change",
         "2025-04-02T07:21:28.487Z"
        ],
        [
         "63185",
         "LAM",
         "Laminectomy with rhizotomy; 1 or 2 segments",
         "No Change",
         "2025-04-02T07:21:28.487Z"
        ],
        [
         "63190",
         "LAM",
         "Laminectomy with rhizotomy; more than 2 segments",
         "No Change",
         "2025-04-02T07:21:28.487Z"
        ],
        [
         "63191",
         "LAM",
         "Laminectomy with section of spinal accessory nerve",
         "No Change",
         "2025-04-02T07:21:28.487Z"
        ],
        [
         "63197",
         "LAM",
         "Laminectomy with cordotomy, with section of both spinothalamic tracts, 1 stage; thoracic",
         "No Change",
         "2025-04-02T07:21:28.487Z"
        ],
        [
         "63200",
         "LAM",
         "Laminectomy, with release of tethered spinal cord, lumbar",
         "No Change",
         "2025-04-02T07:21:28.487Z"
        ],
        [
         "63250",
         "LAM",
         "Laminectomy for excision or occlusion of arteriovenous malformation of spinal cord; cervical",
         "No change",
         "2025-04-02T07:21:28.487Z"
        ],
        [
         "63251",
         "LAM",
         "Laminectomy for excision or occlusion of arteriovenous malformation of spinal cord; thoracic",
         "No change",
         "2025-04-02T07:21:28.487Z"
        ],
        [
         "63252",
         "LAM",
         "Laminectomy for excision or occlusion of arteriovenous malformation of spinal cord; thoracolumbar",
         "No change",
         "2025-04-02T07:21:28.487Z"
        ],
        [
         "63265",
         "LAM",
         "Laminectomy for excision or evacuation of intraspinal lesion other than neoplasm, extradural; cervical",
         "No change",
         "2025-04-02T07:21:28.487Z"
        ],
        [
         "63266",
         "LAM",
         "Laminectomy for excision or evacuation of intraspinal lesion other than neoplasm, extradural; thoracic",
         "No change",
         "2025-04-02T07:21:28.487Z"
        ],
        [
         "63267",
         "LAM",
         "Laminectomy for excision or evacuation of intraspinal lesion other than neoplasm, extradural; lumbar",
         "No change",
         "2025-04-02T07:21:28.487Z"
        ],
        [
         "63268",
         "LAM",
         "Laminectomy for excision or evacuation of intraspinal lesion other than neoplasm, extradural; sacral",
         "No change",
         "2025-04-02T07:21:28.487Z"
        ],
        [
         "63270",
         "LAM",
         "Laminectomy for excision of intraspinal lesion other than neoplasm, intradural; cervical",
         "No change",
         "2025-04-02T07:21:28.487Z"
        ],
        [
         "63271",
         "LAM",
         "Laminectomy for excision of intraspinal lesion other than neoplasm, intradural; thoracic",
         "No change",
         "2025-04-02T07:21:28.487Z"
        ],
        [
         "63272",
         "LAM",
         "Laminectomy for excision of intraspinal lesion other than neoplasm, intradural; lumbar",
         "No change",
         "2025-04-02T07:21:28.487Z"
        ],
        [
         "63273",
         "LAM",
         "Laminectomy for excision of intraspinal lesion other than neoplasm, intradural; sacral",
         "No change",
         "2025-04-02T07:21:28.487Z"
        ],
        [
         "63275",
         "LAM",
         "Laminectomy for biopsy/excision of intraspinal neoplasm; extradural, cervical",
         "No change",
         "2025-04-02T07:21:28.487Z"
        ],
        [
         "63276",
         "LAM",
         "Laminectomy for biopsy/excision of intraspinal neoplasm; extradural, thoracic",
         "No change",
         "2025-04-02T07:21:28.487Z"
        ],
        [
         "63277",
         "LAM",
         "Laminectomy for biopsy/excision of intraspinal neoplasm; extradural, lumbar",
         "No change",
         "2025-04-02T07:21:28.487Z"
        ],
        [
         "63278",
         "LAM",
         "Laminectomy for biopsy/excision of intraspinal neoplasm; extradural, sacral",
         "No change",
         "2025-04-02T07:21:28.487Z"
        ],
        [
         "63280",
         "LAM",
         "Laminectomy for biopsy/excision of intraspinal neoplasm; intradural, extramedullary, cervical",
         "No change",
         "2025-04-02T07:21:28.487Z"
        ],
        [
         "63281",
         "LAM",
         "Laminectomy for biopsy/excision of intraspinal neoplasm; intradural, extramedullary, thoracic",
         "No change",
         "2025-04-02T07:21:28.487Z"
        ],
        [
         "63282",
         "LAM",
         "Laminectomy for biopsy/excision of intraspinal neoplasm; intradural, extramedullary, lumbar",
         "No change",
         "2025-04-02T07:21:28.487Z"
        ],
        [
         "63283",
         "LAM",
         "Laminectomy for biopsy/excision of intraspinal neoplasm; intradural, sacral",
         "No change",
         "2025-04-02T07:21:28.487Z"
        ],
        [
         "63285",
         "LAM",
         "Laminectomy for biopsy/excision of intraspinal neoplasm; intradural, intramedullary, cervical",
         "No change",
         "2025-04-02T07:21:28.487Z"
        ],
        [
         "63286",
         "LAM",
         "Laminectomy for biopsy/excision of intraspinal neoplasm; intradural, intramedullary, thoracic",
         "No change",
         "2025-04-02T07:21:28.487Z"
        ],
        [
         "63287",
         "LAM",
         "Laminectomy for biopsy/excision of intraspinal neoplasm; intradural, intramedullary, thoracolumbar",
         "No change",
         "2025-04-02T07:21:28.487Z"
        ],
        [
         "63290",
         "LAM",
         "Laminectomy for biopsy/excision of intraspinal neoplasm; combined extradural-intradural lesion, any level",
         "No change",
         "2025-04-02T07:21:28.487Z"
        ],
        [
         "63709",
         "LAM",
         "Repair of dural/cerebrospinal fluid leak or pseudomeningocele, with laminectomy",
         "No change",
         "2025-04-02T07:21:28.487Z"
        ],
        [
         "63740",
         "LAM",
         "Creation of shunt, lumbar, subarachnoid-peritoneal, -pleural, or other; including laminectomy",
         "No change",
         "2025-04-02T07:21:28.487Z"
        ],
        [
         "0202T",
         "LAM",
         "Posterior vertebral joint(s) arthroplasty (eg, facet joint[s] replacement), including facetectomy, laminectomy, foraminotomy, and vertebral column fixation, injection of bone cement, when performed, including fluoroscopy, single level, lumbar spine",
         "No Change",
         "2025-04-02T07:21:28.487Z"
        ],
        [
         "0219T",
         "LAM",
         "Placement of a posterior intrafacet implant(s), unilateral or bilateral, including imaging and placement of bone graft(s) or synthetic device(s), single level; cervical",
         "No Change",
         "2025-04-02T07:21:28.487Z"
        ],
        [
         "0220T",
         "LAM",
         "Placement of a posterior intrafacet implant(s), unilateral or bilateral, including imaging and placement of bone graft(s) or synthetic device(s), single level; thoracic",
         "No Change",
         "2025-04-02T07:21:28.487Z"
        ],
        [
         "0221T",
         "LAM",
         "Placement of a posterior intrafacet implant(s), unilateral or bilateral, including imaging and placement of bone graft(s) or synthetic device(s), single level; lumbar",
         "No Change",
         "2025-04-02T07:21:28.487Z"
        ],
        [
         "47135",
         "LTP",
         "Liver allotransplantation; orthotopic, partial or whole, from cadaver or living donor, any age ",
         "No Change",
         "2025-04-02T07:21:28.487Z"
        ],
        [
         "31300",
         "NECK",
         "Laryngotomy (thyrotomy, laryngofissure); with removal of tumor or laryngocele, cordectomy ",
         "No Change",
         "2025-04-02T07:21:28.487Z"
        ],
        [
         "31360",
         "NECK",
         "Laryngectomy; total, without radical neck dissection  ",
         "No Change",
         "2025-04-02T07:21:28.487Z"
        ],
        [
         "31365",
         "NECK",
         "Laryngectomy; total, with radical neck dissection  ",
         "No Change",
         "2025-04-02T07:21:28.487Z"
        ],
        [
         "31367",
         "NECK",
         "Laryngectomy; subtotal supraglottic, without radical neck dissection  ",
         "No Change",
         "2025-04-02T07:21:28.487Z"
        ],
        [
         "31368",
         "NECK",
         "Laryngectomy; subtotal supraglottic, with radical neck dissection  ",
         "No Change",
         "2025-04-02T07:21:28.487Z"
        ],
        [
         "31370",
         "NECK",
         "Partial laryngectomy (hemilaryngectomy); horizontal  ",
         "No Change",
         "2025-04-02T07:21:28.487Z"
        ],
        [
         "31375",
         "NECK",
         "Partial laryngectomy (hemilaryngectomy); laterovertical",
         "No Change",
         "2025-04-02T07:21:28.487Z"
        ],
        [
         "31380",
         "NECK",
         "Partial laryngectomy (hemilaryngectomy); anterovertical  ",
         "No Change",
         "2025-04-02T07:21:28.487Z"
        ],
        [
         "31382",
         "NECK",
         "Partial laryngectomy (hemilaryngectomy); antero-latero-vertical  ",
         "No Change",
         "2025-04-02T07:21:28.487Z"
        ],
        [
         "31390",
         "NECK",
         "Pharyngolaryngectomy, with radical neck dissection; without reconstruction  ",
         "No Change",
         "2025-04-02T07:21:28.487Z"
        ],
        [
         "31395",
         "NECK",
         "Pharyngolaryngectomy, with radical neck dissection; with reconstruction  ",
         "No Change",
         "2025-04-02T07:21:28.487Z"
        ],
        [
         "31400",
         "NECK",
         "Arytenoidectomy or arytenoidopexy, external approach  ",
         "No Change",
         "2025-04-02T07:21:28.487Z"
        ],
        [
         "31420",
         "NECK",
         "Epiglottidectomy ",
         "No Change",
         "2025-04-02T07:21:28.487Z"
        ],
        [
         "31551",
         "NECK",
         "Laryngoplasty; for laryngeal stenosis, with graft, without indwelling stent placement, younger than 12 years of age",
         "No Change",
         "2025-04-02T07:21:28.487Z"
        ],
        [
         "31552",
         "NECK",
         "Laryngoplasty; for laryngeal stenosis, with graft, without indwelling stent placement, age 12 years or older ",
         "No Change",
         "2025-04-02T07:21:28.487Z"
        ],
        [
         "31553",
         "NECK",
         "Laryngoplasty; for laryngeal stenosis, with graft, with indwelling stent placement, younger than 12 years of age ",
         "No Change",
         "2025-04-02T07:21:28.487Z"
        ],
        [
         "31554",
         "NECK",
         "Laryngoplasty; for laryngeal stenosis, with graft, with indwelling stent placement, age 12 years or older",
         "No Change",
         "2025-04-02T07:21:28.487Z"
        ],
        [
         "31560",
         "NECK",
         "Laryngoscopy, direct, operative, with arytenoidectomy;  ",
         "No Change",
         "2025-04-02T07:21:28.487Z"
        ],
        [
         "31561",
         "NECK",
         "Laryngoscopy, direct, operative, with arytenoidectomy; with operating microscope or telescope ",
         "No Change",
         "2025-04-02T07:21:28.487Z"
        ],
        [
         "31580",
         "NECK",
         "Laryngoplasty; for laryngeal web, with indwelling keel or stent insertion",
         "No Change",
         "2025-04-02T07:21:28.487Z"
        ],
        [
         "31584",
         "NECK",
         "Laryngoplasty; with open reduction and fixation of (eg, plating) fracture, includes tracheostomy, if performed",
         "No Change",
         "2025-04-02T07:21:28.487Z"
        ],
        [
         "31587",
         "NECK",
         "Laryngoplasty, cricoid split, without graft placement",
         "No Change",
         "2025-04-02T07:21:28.487Z"
        ],
        [
         "31590",
         "NECK",
         "Laryngeal reinnervation by neuromuscular pedicle",
         "No Change",
         "2025-04-02T07:21:28.487Z"
        ],
        [
         "31591",
         "NECK",
         "Laryngoplasty, medialization, unilateral ",
         "No Change",
         "2025-04-02T07:21:28.487Z"
        ],
        [
         "31592",
         "NECK",
         "Cricotracheal resection",
         "No Change",
         "2025-04-02T07:21:28.487Z"
        ],
        [
         "31599",
         "NECK",
         "Unlisted procedure, larynx  ",
         "No Change",
         "2025-04-02T07:21:28.487Z"
        ],
        [
         "38308",
         "NECK",
         "Lymphangiotomy or other operations on lymphatic channels  ",
         "No Change",
         "2025-04-02T07:21:28.487Z"
        ],
        [
         "38542",
         "NECK",
         "Dissection, deep jugular node(s)  ",
         "No Change",
         "2025-04-02T07:21:28.487Z"
        ],
        [
         "38720",
         "NECK",
         "Cervical lymphadenectomy (complete)  ",
         "No Change",
         "2025-04-02T07:21:28.487Z"
        ],
        [
         "38724",
         "NECK",
         "Cervical lymphadenectomy (modified radical neck dissection)  ",
         "No Change",
         "2025-04-02T07:21:28.487Z"
        ],
        [
         "41135",
         "NECK",
         "Glossectomy; partial, with unilateral radical neck dissection  ",
         "No Change",
         "2025-04-02T07:21:28.487Z"
        ],
        [
         "41140",
         "NECK",
         "Glossectomy; complete or total, with or without tracheostomy, without radical neck dissection  ",
         "No Change",
         "2025-04-02T07:21:28.487Z"
        ],
        [
         "41145",
         "NECK",
         "Glossectomy; complete or total, with or without tracheostomy, with unilateral radical neck dissection  ",
         "No Change",
         "2025-04-02T07:21:28.487Z"
        ],
        [
         "41155",
         "NECK",
         "Glossectomy; composite procedure with resection floor of mouth, mandibular resection, and radical neck dissection (Commando type) ",
         "No Change",
         "2025-04-02T07:21:28.487Z"
        ],
        [
         "42420",
         "NECK",
         "Excision of parotid tumor or parotid gland; total, with dissection and preservation of facial nerve  ",
         "No Change",
         "2025-04-02T07:21:28.487Z"
        ],
        [
         "42425",
         "NECK",
         "Excision of parotid tumor or parotid gland; total, en bloc removal with sacrifice of facial nerve  ",
         "No Change",
         "2025-04-02T07:21:28.487Z"
        ],
        [
         "42426",
         "NECK",
         "Excision of parotid tumor or parotid gland; total, with unilateral radical neck dissection  ",
         "No Change",
         "2025-04-02T07:21:28.487Z"
        ],
        [
         "60280",
         "NECK",
         "Excision of thyroglossal duct cyst or sinus",
         "No Change",
         "2025-04-02T07:21:28.487Z"
        ],
        [
         "60281",
         "NECK",
         "Excision of thyroglossal duct cyst or sinus; recurrent",
         "No Change",
         "2025-04-02T07:21:28.487Z"
        ],
        [
         "69150",
         "NECK",
         "Radical excision external auditory canal lesion; without neck dissection  ",
         "No Change",
         "2025-04-02T07:21:28.487Z"
        ],
        [
         "69155",
         "NECK",
         "Radical excision external auditory canal lesion; with neck dissection  ",
         "No Change",
         "2025-04-02T07:21:28.487Z"
        ],
        [
         "60000",
         "NECK",
         "Incision and drainage of thyroglossal duct cyst, infected",
         "Moved from THYR",
         "2025-04-02T07:21:28.487Z"
        ],
        [
         "50010",
         "NEPH",
         "Renal exploration, not necessitating other specific procedures  ",
         "No Change",
         "2025-04-02T07:21:28.487Z"
        ],
        [
         "50020",
         "NEPH",
         "Drainage of perirenal or renal abscess, open  ",
         "No Change",
         "2025-04-02T07:21:28.487Z"
        ],
        [
         "50040",
         "NEPH",
         "Nephrostomy, nephrotomy with drainage  ",
         "No Change",
         "2025-04-02T07:21:28.487Z"
        ],
        [
         "50045",
         "NEPH",
         "Nephrotomy, with exploration  ",
         "No Change",
         "2025-04-02T07:21:28.487Z"
        ],
        [
         "50060",
         "NEPH",
         "Nephrolithotomy; removal of calculus  ",
         "No Change",
         "2025-04-02T07:21:28.487Z"
        ],
        [
         "50065",
         "NEPH",
         "Nephrolithotomy; secondary surgical operation for calculus  ",
         "No Change",
         "2025-04-02T07:21:28.487Z"
        ],
        [
         "50070",
         "NEPH",
         "Nephrolithotomy; complicated by congenital kidney abnormality  ",
         "No Change",
         "2025-04-02T07:21:28.487Z"
        ],
        [
         "50075",
         "NEPH",
         "Nephrolithotomy; removal of large staghorn calculus filling renal pelvis and calyces (including anatrophic pyelolithotomy)  ",
         "No Change",
         "2025-04-02T07:21:28.487Z"
        ],
        [
         "50120",
         "NEPH",
         "Pyelotomy; with exploration  ",
         "No Change",
         "2025-04-02T07:21:28.487Z"
        ],
        [
         "50125",
         "NEPH",
         "Pyelotomy; with drainage, pyelostomy  ",
         "No Change",
         "2025-04-02T07:21:28.487Z"
        ],
        [
         "50130",
         "NEPH",
         "Pyelotomy; with removal of calculus (pyelolithotomy, pelviolithotomy, including coagulum pyelolithotomy)  ",
         "No Change",
         "2025-04-02T07:21:28.487Z"
        ],
        [
         "50135",
         "NEPH",
         "Pyelotomy; complicated (e.g., secondary operation, congenital kidney abnormality)  ",
         "No Change",
         "2025-04-02T07:21:28.487Z"
        ],
        [
         "50205",
         "NEPH",
         "Renal biopsy; by surgical exposure of kidney ",
         "No Change",
         "2025-04-02T07:21:28.487Z"
        ],
        [
         "50220",
         "NEPH",
         "Nephrectomy, including partial ureterectomy, any open approach including rib resection;  ",
         "No Change",
         "2025-04-02T07:21:28.487Z"
        ],
        [
         "50225",
         "NEPH",
         "Nephrectomy, including partial ureterectomy, any open approach including rib resection; complicated because of previous surgery on same kidney  ",
         "No Change",
         "2025-04-02T07:21:28.487Z"
        ],
        [
         "50230",
         "NEPH",
         "Nephrectomy, including partial ureterectomy, any open approach including rib resection; radical, with regional lymphadenectomy and/or vena caval thrombectomy  ",
         "No Change",
         "2025-04-02T07:21:28.487Z"
        ],
        [
         "50234",
         "NEPH",
         "Nephrectomy with total ureterectomy and bladder cuff; through same incision  ",
         "No Change",
         "2025-04-02T07:21:28.487Z"
        ],
        [
         "50236",
         "NEPH",
         "Nephrectomy with total ureterectomy and bladder cuff; through separate incision  ",
         "No Change",
         "2025-04-02T07:21:28.487Z"
        ],
        [
         "50240",
         "NEPH",
         "Nephrectomy, partial  ",
         "No Change",
         "2025-04-02T07:21:28.487Z"
        ],
        [
         "50250",
         "NEPH",
         "Ablation, open, 1 or more renal mass lesion(s), cryosurgical, including intraoperative ultrasound guidance and monitoring, if performed ",
         "No Change",
         "2025-04-02T07:21:28.487Z"
        ],
        [
         "50280",
         "NEPH",
         "Excision or unroofing of cyst(s) of kidney ",
         "No Change",
         "2025-04-02T07:21:28.487Z"
        ],
        [
         "50290",
         "NEPH",
         "Excision of perinephric cyst  ",
         "No Change",
         "2025-04-02T07:21:28.487Z"
        ],
        [
         "50320",
         "NEPH",
         "Donor nephrectomy (including cold preservation); open, from living donor  ",
         "No Change",
         "2025-04-02T07:21:28.487Z"
        ],
        [
         "50400",
         "NEPH",
         "Pyeloplasty (Foley Y-pyeloplasty), plastic operation on renal pelvis, with or without plastic operation on ureter, nephropexy, nephrostomy, pyelostomy, or ureteral splinting; simple ",
         "No Change",
         "2025-04-02T07:21:28.487Z"
        ],
        [
         "50405",
         "NEPH",
         "Pyeloplasty (Foley Y-pyeloplasty), plastic operation on renal pelvis, with or without plastic operation on ureter, nephropexy, nephrostomy, pyelostomy, or ureteral splinting; complicated (congenital kidney abnormality, secondary pyeloplasty, solitary kidney, calycoplasty) ",
         "No Change",
         "2025-04-02T07:21:28.487Z"
        ],
        [
         "50541",
         "NEPH",
         "Laparoscopy, surgical; ablation of renal cysts ",
         "No Change",
         "2025-04-02T07:21:28.487Z"
        ],
        [
         "50542",
         "NEPH",
         "Laparoscopy, surgical; ablation of renal mass lesion(s), including intraoperative ultrasound guidance and monitoring, when performed ",
         "No Change",
         "2025-04-02T07:21:28.487Z"
        ],
        [
         "50543",
         "NEPH",
         "Laparoscopy, surgical; partial nephrectomy  ",
         "No Change",
         "2025-04-02T07:21:28.487Z"
        ],
        [
         "50545",
         "NEPH",
         "Laparoscopy, surgical; radical nephrectomy (includes removal of Gerota's fascia and surrounding fatty tissue, removal of regional lymph nodes, and adrenalectomy)  ",
         "No Change",
         "2025-04-02T07:21:28.487Z"
        ],
        [
         "50546",
         "NEPH",
         "Laparoscopy, surgical; nephrectomy, including partial ureterectomy  ",
         "No Change",
         "2025-04-02T07:21:28.487Z"
        ],
        [
         "50547",
         "NEPH",
         "Laparoscopy, surgical; donor nephrectomy (including cold preservation), from living donor  ",
         "No Change",
         "2025-04-02T07:21:28.487Z"
        ],
        [
         "50548",
         "NEPH",
         "Laparoscopy, surgical; nephrectomy with total ureterectomy  ",
         "No Change",
         "2025-04-02T07:21:28.487Z"
        ],
        [
         "50549",
         "NEPH",
         "Unlisted laparoscopic nephrectomy",
         "No Change",
         "2025-04-02T07:21:28.487Z"
        ],
        [
         "58660",
         "OVRY",
         "Laparoscopy, surgical; with lysis of adhesions (salpingolysis, ovariolysis) (separate procedure) ",
         "No Change",
         "2025-04-02T07:21:28.487Z"
        ],
        [
         "58661",
         "OVRY",
         "Laparoscopy, surgical; with removal of adnexal structures (partial or total oophorectomy and/or salpingectomy)  ",
         "No Change",
         "2025-04-02T07:21:28.487Z"
        ],
        [
         "58662",
         "OVRY",
         "Laparoscopy, surgical; with fulguration or excision of lesions of the ovary, pelvic viscera, or peritoneal surface by any method ",
         "No Change",
         "2025-04-02T07:21:28.487Z"
        ],
        [
         "58679",
         "OVRY",
         "Unlisted laparoscopy procedure, oviduct, ovary  ",
         "No Change",
         "2025-04-02T07:21:28.487Z"
        ],
        [
         "58720",
         "OVRY",
         "Salpingo-oophorectomy, complete or partial, unilateral or bilateral (separate procedure)  ",
         "No Change",
         "2025-04-02T07:21:28.487Z"
        ],
        [
         "58740",
         "OVRY",
         "Lysis of adhesions (salpingolysis, ovariolysis) ",
         "No Change",
         "2025-04-02T07:21:28.487Z"
        ],
        [
         "58800",
         "OVRY",
         "Drainage of ovarian cyst(s), unilateral or bilateral (separate procedure); vaginal approach  ",
         "No Change",
         "2025-04-02T07:21:28.487Z"
        ],
        [
         "58805",
         "OVRY",
         "Drainage of ovarian cyst(s), unilateral or bilateral (separate procedure); abdominal approach  ",
         "No Change",
         "2025-04-02T07:21:28.487Z"
        ],
        [
         "58820",
         "OVRY",
         "Drainage of ovarian abscess; vaginal approach, open  ",
         "No Change",
         "2025-04-02T07:21:28.487Z"
        ],
        [
         "58822",
         "OVRY",
         "Drainage of ovarian abscess; abdominal approach  ",
         "No Change",
         "2025-04-02T07:21:28.487Z"
        ],
        [
         "58825",
         "OVRY",
         "Transposition, ovary(s)  ",
         "No Change",
         "2025-04-02T07:21:28.487Z"
        ],
        [
         "58900",
         "OVRY",
         "Biopsy of ovary, unilateral or bilateral (separate procedure)  ",
         "No Change",
         "2025-04-02T07:21:28.487Z"
        ],
        [
         "58920",
         "OVRY",
         "Wedge resection or bisection of ovary, unilateral or bilateral  ",
         "No Change",
         "2025-04-02T07:21:28.487Z"
        ],
        [
         "58925",
         "OVRY",
         "Ovarian cystectomy, unilateral or bilateral  ",
         "No Change",
         "2025-04-02T07:21:28.487Z"
        ],
        [
         "58940",
         "OVRY",
         "Oophorectomy, partial or total, unilateral or bilateral;",
         "No Change",
         "2025-04-02T07:21:28.487Z"
        ],
        [
         "58943",
         "OVRY",
         "Oophorectomy, partial or total, unilateral or bilateral; for ovarian, tubal or primary peritoneal malignancy, with para-aortic and pelvic lymph node biopsies, peritoneal washings, peritoneal biopsies, diaphragmatic assessments, with or without salpingectomy(s), with or without omentectomy  ",
         "No Change",
         "2025-04-02T07:21:28.487Z"
        ],
        [
         "58950",
         "OVRY",
         "Resection (initial) of ovarian, tubal or primary peritoneal malignancy with bilateral salpingo-oophorectomy and omentectomy;  ",
         "No Change",
         "2025-04-02T07:21:28.487Z"
        ],
        [
         "58952",
         "OVRY",
         "Resection (initial) of ovarian, tubal or primary peritoneal malignancy with bilateral salpingo-oophorectomy and omentectomy; with radical dissection for debulking (i.e., radical excision or destruction, intra-abdominal or retroperitoneal tumors)  ",
         "No Change",
         "2025-04-02T07:21:28.487Z"
        ],
        [
         "58970",
         "OVRY",
         "Follicle puncture for oocyte retrieval, any method  ",
         "No Change",
         "2025-04-02T07:21:28.487Z"
        ],
        [
         "33202",
         "PACE",
         "Insertion of epicardial electrode(s); open incision (e.g., thoracotomy, median sternotomy, subxiphoid approach)",
         "No Change",
         "2025-04-02T07:21:28.487Z"
        ],
        [
         "33203",
         "PACE",
         "Insertion of epicardial electrode(s); endoscopic approach (e.g., thoracoscopy, pericardioscopy)",
         "No Change",
         "2025-04-02T07:21:28.487Z"
        ],
        [
         "33206",
         "PACE",
         "Insertion of new or replacement of permanent pacemaker with transvenous electrode(s); atrial ",
         "No Change",
         "2025-04-02T07:21:28.487Z"
        ],
        [
         "33207",
         "PACE",
         "Insertion of new or replacement of permanent pacemaker with transvenous electrode(s); ventricular ",
         "No Change",
         "2025-04-02T07:21:28.487Z"
        ],
        [
         "33208",
         "PACE",
         "Insertion of new or replacement of permanent pacemaker with transvenous electrode(s); atrial and ventricular ",
         "No Change",
         "2025-04-02T07:21:28.487Z"
        ],
        [
         "33212",
         "PACE",
         "Insertion of pacemaker pulse generator only; with existing single lead ",
         "No Change",
         "2025-04-02T07:21:28.487Z"
        ],
        [
         "33213",
         "PACE",
         "Insertion of pacemaker pulse generator only; with existing dual leads ",
         "No Change",
         "2025-04-02T07:21:28.487Z"
        ],
        [
         "33214",
         "PACE",
         "Upgrade of implanted pacemaker system, conversion of single chamber system to dual chamber system (includes removal of previously placed pulse generator, testing of existing lead, insertion of new lead, insertion of new pulse generator) ",
         "No Change",
         "2025-04-02T07:21:28.487Z"
        ],
        [
         "33215",
         "PACE",
         "Repositioning of previously implanted transvenous pacemaker or implantable defibrillator (right atrial or right ventricular) electrode",
         "No Change",
         "2025-04-02T07:21:28.487Z"
        ],
        [
         "33216",
         "PACE",
         "Insertion of a single transvenous electrode, permanent pacemaker or implantable defibrillator ",
         "No Change",
         "2025-04-02T07:21:28.487Z"
        ],
        [
         "33217",
         "PACE",
         "Insertion of 2 transvenous electrodes, permanent pacemaker or implantable defibrillator ",
         "No Change",
         "2025-04-02T07:21:28.487Z"
        ],
        [
         "33218",
         "PACE",
         "Repair of single transvenous electrode, permanent pacemaker or implantable defibrillator ",
         "No Change",
         "2025-04-02T07:21:28.487Z"
        ],
        [
         "33220",
         "PACE",
         "Repair of 2 transvenous electrodes for permanent pacemaker or implantable defibrillator ",
         "No Change",
         "2025-04-02T07:21:28.487Z"
        ],
        [
         "33221",
         "PACE",
         "Insertion of pacemaker pulse generator only; with existing multiple leads ",
         "No Change",
         "2025-04-02T07:21:28.487Z"
        ],
        [
         "33222",
         "PACE",
         "Relocation of skin pocket for pacemaker ",
         "No Change",
         "2025-04-02T07:21:28.487Z"
        ],
        [
         "33223",
         "PACE",
         "Relocation of skin pocket for implantable defibrillator ",
         "No Change",
         "2025-04-02T07:21:28.487Z"
        ],
        [
         "33224",
         "PACE",
         "Insertion of pacing electrode, cardiac venous system, for left ventricular pacing, with attachment to previously placed pacemaker or implantable defibrillator pulse generator (including revision of pocket, removal, insertion, and/or replacement of existing generator)",
         "No Change",
         "2025-04-02T07:21:28.487Z"
        ],
        [
         "33225",
         "PACE",
         "Insertion of pacing electrode, cardiac venous system, for left ventricular pacing, at time of insertion of implantable defibrillator or pacemaker pulse generator (e.g., for upgrade to dual chamber system) (List separately in No changeition to code for primary procedure)",
         "No Change",
         "2025-04-02T07:21:28.487Z"
        ],
        [
         "33226",
         "PACE",
         "Repositioning of previously implanted cardiac venous system (left ventricular) electrode (including removal, insertion and/or replacement of existing generator)",
         "No Change",
         "2025-04-02T07:21:28.487Z"
        ],
        [
         "33227",
         "PACE",
         "Removal of permanent pacemaker pulse generator with replacement of pacemaker pulse generator; single lead system ",
         "No Change",
         "2025-04-02T07:21:28.487Z"
        ],
        [
         "33228",
         "PACE",
         "Removal of permanent pacemaker pulse generator with replacement of pacemaker pulse generator; dual lead system ",
         "No Change",
         "2025-04-02T07:21:28.487Z"
        ],
        [
         "33229",
         "PACE",
         "Removal of permanent pacemaker pulse generator with replacement of pacemaker pulse generator; multiple lead system ",
         "No Change",
         "2025-04-02T07:21:28.487Z"
        ],
        [
         "33230",
         "PACE",
         "Insertion of implantable defibrillator pulse generator only; with existing dual leads ",
         "No Change",
         "2025-04-02T07:21:28.487Z"
        ],
        [
         "33231",
         "PACE",
         "Insertion of implantable defibrillator pulse generator only; with existing multiple leads ",
         "No Change",
         "2025-04-02T07:21:28.487Z"
        ],
        [
         "33233",
         "PACE",
         "Removal of permanent pacemaker pulse generator only ",
         "No Change",
         "2025-04-02T07:21:28.487Z"
        ],
        [
         "33234",
         "PACE",
         "Removal of transvenous pacemaker electrode(s); single lead system, atrial or ventricular ",
         "No Change",
         "2025-04-02T07:21:28.487Z"
        ],
        [
         "33235",
         "PACE",
         "Removal of transvenous pacemaker electrode(s); dual lead system ",
         "No Change",
         "2025-04-02T07:21:28.487Z"
        ],
        [
         "33236",
         "PACE",
         "Removal of permanent epicardial pacemaker and electrodes by thoracotomy; single lead system, atrial or ventricular",
         "No Change",
         "2025-04-02T07:21:28.487Z"
        ],
        [
         "33237",
         "PACE",
         "Removal of permanent epicardial pacemaker and electrodes by thoracotomy; dual lead system",
         "No Change",
         "2025-04-02T07:21:28.487Z"
        ],
        [
         "33238",
         "PACE",
         "Removal of permanent transvenous electrode(s) by thoracotomy",
         "No Change",
         "2025-04-02T07:21:28.487Z"
        ],
        [
         "33240",
         "PACE",
         "Insertion of implantable defibrillator pulse generator only; with existing single lead ",
         "No Change",
         "2025-04-02T07:21:28.487Z"
        ],
        [
         "33241",
         "PACE",
         "Removal of implantable defibrillator pulse generator only ",
         "No Change",
         "2025-04-02T07:21:28.487Z"
        ],
        [
         "33243",
         "PACE",
         "Removal of single or dual chamber implantable defibrillator electrode(s); by thoracotomy",
         "No Change",
         "2025-04-02T07:21:28.487Z"
        ],
        [
         "33244",
         "PACE",
         "Removal of implantable defibrillator pulse generator with replacement of implantable defibrillator pulse generator; by transvenous extraction ",
         "No Change",
         "2025-04-02T07:21:28.487Z"
        ],
        [
         "33249",
         "PACE",
         "Insertion or replacement of permanent implantable defibrillator system, with transvenous lead(s), single or dual chamber ",
         "No Change",
         "2025-04-02T07:21:28.487Z"
        ],
        [
         "33262",
         "PACE",
         "Removal of implantable defibrillator pulse generator with replacement of implantable defibrillator pulse generator; single lead system ",
         "No Change",
         "2025-04-02T07:21:28.487Z"
        ],
        [
         "33263",
         "PACE",
         "Removal of implantable defibrillator pulse generator with replacement of implantable defibrillator pulse generator; dual lead system ",
         "No Change",
         "2025-04-02T07:21:28.487Z"
        ],
        [
         "33264",
         "PACE",
         "Removal of implantable defibrillator pulse generator with replacement of implantable defibrillator pulse generator; multiple lead system ",
         "No Change",
         "2025-04-02T07:21:28.487Z"
        ],
        [
         "33270",
         "PACE",
         "Insertion or replacement of permanent subcutaneous implantable defibrillator system, with subcutaneous electrode, including defibrillation threshold evaluation, induction of arrhythmia, evaluation of sensing for arrhythmia termination, and programming or reprogramming of sensing or therapeutic parameters, when performed",
         "No Change",
         "2025-04-02T07:21:28.487Z"
        ],
        [
         "33271",
         "PACE",
         "Insertion of subcutaneous implantable defibrillator electrode",
         "No Change",
         "2025-04-02T07:21:28.487Z"
        ],
        [
         "33272",
         "PACE",
         "Removal of subcutaneous implantable defibrillator electrode",
         "No Change",
         "2025-04-02T07:21:28.487Z"
        ],
        [
         "33273",
         "PACE",
         "Repositioning of previously implanted subcutaneous implantable defibrillator electrode",
         "No Change",
         "2025-04-02T07:21:28.487Z"
        ],
        [
         "0571T",
         "PACE",
         "Insertion or replacement of implantable cardioverter-defibrillation system with substernal electrode(s), including all imaging guidance and electrophysiological evaluation (includes defibrillation threshold evaluation, induction of arrhythmia, evaluation of sensing for arrhythmia termination, and programming or reprogramming of sensing or therapeutic parameters), when performed",
         "No change",
         "2025-04-02T07:21:28.487Z"
        ],
        [
         "0572T",
         "PACE",
         "Insertion of substernal implantable defibrillation electrode ",
         "No change",
         "2025-04-02T07:21:28.487Z"
        ],
        [
         "0573T",
         "PACE",
         "Removal of substernal implantable defibrillation electrode",
         "No change",
         "2025-04-02T07:21:28.487Z"
        ],
        [
         "0574T",
         "PACE",
         "Repositioning of previously implanted substernal implantable defibrillator-pacing electrode",
         "No change",
         "2025-04-02T07:21:28.487Z"
        ],
        [
         "55705",
         "PRST",
         "Biopsy, prostate; incisional, any approach",
         "No Change",
         "2025-04-02T07:21:28.487Z"
        ],
        [
         "55810",
         "PRST",
         "Prostatectomy, perineal radical",
         "No Change",
         "2025-04-02T07:21:28.487Z"
        ],
        [
         "55812",
         "PRST",
         "Prostatectomy, perineal radical; with lymph node biopsy(s) (limited pelvic lymphadenectomy)",
         "No Change",
         "2025-04-02T07:21:28.487Z"
        ],
        [
         "55815",
         "PRST",
         "Prostatectomy, perineal radical; with bilateral pelvic lymphadenectomy, including external iliac, hypogastric and obturator nodes",
         "No Change",
         "2025-04-02T07:21:28.487Z"
        ],
        [
         "55821",
         "PRST",
         "Prostatectomy (including control of postoperative bleeding, vasectomy, meatotomy, urethral calibration and/or dilation, and internal urethrotomy); suprapubic, subtotal, 1 or 2 stages",
         "No Change",
         "2025-04-02T07:21:28.487Z"
        ],
        [
         "55831",
         "PRST",
         "Prostatectomy (including control of postoperative bleeding, vasectomy, meatotomy, urethral calibration and/or dilation, and internal urethrotomy); retropubic, subtotal",
         "No Change",
         "2025-04-02T07:21:28.487Z"
        ],
        [
         "55840",
         "PRST",
         "Prostatectomy, retropubic radical, with or without nerve sparing;",
         "No Change",
         "2025-04-02T07:21:28.487Z"
        ],
        [
         "55842",
         "PRST",
         "Prostatectomy, retropubic radical, with or without nerve sparing; with lymph node biopsy(s) (limited pelvic lymphadenectomy)",
         "No Change",
         "2025-04-02T07:21:28.487Z"
        ],
        [
         "55845",
         "PRST",
         "Prostatectomy, retropubic radical, with or without nerve sparing; with bilateral pelvic lymphadenectomy, including external iliac, hypogastric, and obturator nodes",
         "No Change",
         "2025-04-02T07:21:28.487Z"
        ],
        [
         "55866",
         "PRST",
         "Laparoscopy, surgical prostatectomy, retropubic radical, including nerve sparing, includes robotic assistance, when performed",
         "No Change",
         "2025-04-02T07:21:28.487Z"
        ],
        [
         "55867",
         "PRST",
         "Laparoscopy, surgical prostatectomy, simple subtotal (including control of postoperative bleeding, vasectomy, meatotomy, urethral calibration and/or dilation, and internal urethrotomy), includes robotic assistance, when performed",
         "Added",
         "2025-04-02T07:21:28.487Z"
        ],
        [
         "33889",
         "PVBY",
         "Open subclavian to carotid artery transposition performed in conjunction with endovascular repair of descending thoracic aorta, by neck incision, unilateral",
         "No Change",
         "2025-04-02T07:21:28.487Z"
        ],
        [
         "35501",
         "PVBY",
         "Bypass graft, with vein; common carotid-ipsilateral internal carotid",
         "No Change",
         "2025-04-02T07:21:28.487Z"
        ],
        [
         "35506",
         "PVBY",
         "Bypass graft, with vein; carotid-subclavian or subcalvian-carotid",
         "No Change",
         "2025-04-02T07:21:28.487Z"
        ],
        [
         "35508",
         "PVBY",
         "Bypass graft, with vein; carotid-vertebral",
         "No Change",
         "2025-04-02T07:21:28.487Z"
        ],
        [
         "35509",
         "PVBY",
         "Bypass graft, with vein; carotid-contralateral carotid",
         "No Change",
         "2025-04-02T07:21:28.487Z"
        ],
        [
         "35510",
         "PVBY",
         "Bypass graft, with vein; carotid-brachial",
         "No Change",
         "2025-04-02T07:21:28.487Z"
        ],
        [
         "35511",
         "PVBY",
         "Bypass graft, with vein; subclavian-subclavian",
         "No Change",
         "2025-04-02T07:21:28.487Z"
        ],
        [
         "35512",
         "PVBY",
         "Bypass graft subclavian-brachial",
         "No Change",
         "2025-04-02T07:21:28.487Z"
        ],
        [
         "35515",
         "PVBY",
         "Bypass graft subclavian-vertebral",
         "No Change",
         "2025-04-02T07:21:28.487Z"
        ],
        [
         "35516",
         "PVBY",
         "Bypass graft, with vein; subclavian-axillary",
         "No Change",
         "2025-04-02T07:21:28.487Z"
        ],
        [
         "35518",
         "PVBY",
         "Bypass graft, with vein; axillary-axillary",
         "No Change",
         "2025-04-02T07:21:28.487Z"
        ],
        [
         "35521",
         "PVBY",
         "Bypass graft, with vein; axillary-femoral",
         "No Change",
         "2025-04-02T07:21:28.487Z"
        ],
        [
         "35522",
         "PVBY",
         "Bypass graft, with vein; axillary-brachial",
         "No Change",
         "2025-04-02T07:21:28.487Z"
        ],
        [
         "35523",
         "PVBY",
         "Bypass graft, with vein; brachial-ulnar or -radial",
         "No Change",
         "2025-04-02T07:21:28.487Z"
        ],
        [
         "35525",
         "PVBY",
         "Bypass graft, with vein; brachial-brachial",
         "No Change",
         "2025-04-02T07:21:28.487Z"
        ],
        [
         "35533",
         "PVBY",
         "Bypass graft, with vein; axillary-femoral-femoral",
         "No Change",
         "2025-04-02T07:21:28.487Z"
        ],
        [
         "35556",
         "PVBY",
         "Bypass graft, with vein; femoral-popliteal",
         "No Change",
         "2025-04-02T07:21:28.487Z"
        ],
        [
         "35558",
         "PVBY",
         "Bypass graft, with vein; femoral-femoral",
         "No Change",
         "2025-04-02T07:21:28.487Z"
        ],
        [
         "35566",
         "PVBY",
         "Bypass graft, with vein; femoral-anterior tibial, posterior tibial, peroneal artery or other distal vessels",
         "No Change",
         "2025-04-02T07:21:28.487Z"
        ],
        [
         "35570",
         "PVBY",
         "Bypass graft, with vein; tibial-tibial, peroneal-tibial, or tibial/peroneal trunk-tibial",
         "No Change",
         "2025-04-02T07:21:28.487Z"
        ],
        [
         "35571",
         "PVBY",
         "Bypass graft, with vein; popliteal-tibial, -peroneal artery or other distal vessels",
         "No Change",
         "2025-04-02T07:21:28.487Z"
        ],
        [
         "35583",
         "PVBY",
         "In-situ vein bypass; femoral-popliteal",
         "No Change",
         "2025-04-02T07:21:28.487Z"
        ],
        [
         "35585",
         "PVBY",
         "In-situ vein bypass; femoral-anterior tibial, posterior tibial, or peroneal artery",
         "No Change",
         "2025-04-02T07:21:28.487Z"
        ],
        [
         "35587",
         "PVBY",
         "In-situ vein bypass; popliteal-tibial, peroneal",
         "No Change",
         "2025-04-02T07:21:28.487Z"
        ],
        [
         "35616",
         "PVBY",
         "Bypass graft, with other than vein; subclavian-axillary",
         "No Change",
         "2025-04-02T07:21:28.487Z"
        ],
        [
         "35621",
         "PVBY",
         "Bypass graft, with other than vein; axillary-femoral",
         "No Change",
         "2025-04-02T07:21:28.487Z"
        ],
        [
         "35623",
         "PVBY",
         "Bypass graft, with other than vein; axillary-popliteal or -tibial",
         "No Change",
         "2025-04-02T07:21:28.487Z"
        ],
        [
         "35650",
         "PVBY",
         "Bypass graft, with other than vein; axillary-axillary",
         "No Change",
         "2025-04-02T07:21:28.487Z"
        ],
        [
         "35654",
         "PVBY",
         "Bypass graft, with other than vein; axillary-femoral-femoral",
         "No Change",
         "2025-04-02T07:21:28.487Z"
        ],
        [
         "35656",
         "PVBY",
         "Bypass graft, with other than vein; femoral-popliteal",
         "No Change",
         "2025-04-02T07:21:28.487Z"
        ],
        [
         "35661",
         "PVBY",
         "Bypass graft, with other than vein; femoral-femoral",
         "No Change",
         "2025-04-02T07:21:28.487Z"
        ],
        [
         "35666",
         "PVBY",
         "Bypass graft, with other than vein; femoral-anterior tibial, posterior tibial, or peroneal artery",
         "No Change",
         "2025-04-02T07:21:28.487Z"
        ],
        [
         "35671",
         "PVBY",
         "Bypass graft, with other than vein; popliteal-tibial or -peroneal artery",
         "No Change",
         "2025-04-02T07:21:28.487Z"
        ],
        [
         "35686",
         "PVBY",
         "Creation of distal arteriovenous fistula during lower extremity bypass surgery (non-hemodialysis) ",
         "No Change",
         "2025-04-02T07:21:28.487Z"
        ],
        [
         "45110",
         "REC",
         "Proctectomy; complete, combined abdominoperineal, with colostomy",
         "No Change",
         "2025-04-02T07:21:28.487Z"
        ],
        [
         "45111",
         "REC",
         "Proctectomy; partial resection of rectum, transabdominal approach",
         "No Change",
         "2025-04-02T07:21:28.487Z"
        ],
        [
         "45112",
         "REC",
         "Proctectomy, combined abdominoperineal, pull-through procedure (eg, colo-anal anastomosis)",
         "No Change",
         "2025-04-02T07:21:28.487Z"
        ],
        [
         "45113",
         "REC",
         "Proctectomy, partial, with rectal mucosectomy, ileoanal anastomosis, creation of ileal reservoir (S or J), with or without loop ileostomy",
         "No Change",
         "2025-04-02T07:21:28.487Z"
        ],
        [
         "45114",
         "REC",
         "Proctectomy, partial, with anastomosis; abdominal and transsacral approach",
         "No Change",
         "2025-04-02T07:21:28.487Z"
        ],
        [
         "45116",
         "REC",
         "Proctectomy, partial, with anastomosis; transsacral approach only (Kraske type)",
         "No Change",
         "2025-04-02T07:21:28.487Z"
        ],
        [
         "45119",
         "REC",
         "Proctectomy, combined abdominoperineal pull-through procedure (eg, colo-anal anastomosis), with creation of colonic reservoir (eg, J-pouch), with diverting enterostomy when performed",
         "No Change",
         "2025-04-02T07:21:28.487Z"
        ],
        [
         "45120",
         "REC",
         "Proctectomy, complete (for congenital megacolon), abdominal and perineal approach; with pull-through procedure and anastomosis (eg, Swenson, Duhamel, or Soave type operation)",
         "No Change",
         "2025-04-02T07:21:28.487Z"
        ],
        [
         "45121",
         "REC",
         "Proctectomy, complete (for congenital megacolon), abdominal and perineal approach; with subtotal or total colectomy, with multiple biopsies",
         "No Change",
         "2025-04-02T07:21:28.487Z"
        ],
        [
         "45126",
         "REC",
         "Pelvic exenteration for colorectal malignancy, with proctectomy (with or without colostomy), with removal of bladder and ureteral transplantations, and/or hysterectomy, or cervicectomy, with or without removal of tube(s), with or without removal of ovary(s), or any combination thereof",
         "No Change",
         "2025-04-02T07:21:28.487Z"
        ],
        [
         "45395",
         "REC",
         "Laparoscopy, surgical; proctectomy, complete, combined abdominoperineal, with colostomy",
         "No Change",
         "2025-04-02T07:21:28.487Z"
        ],
        [
         "45397",
         "REC",
         "Laparoscopy, surgical; proctectomy, combined abdominoperineal pull-through procedure (eg, colo-anal anastomosis), with creation of colonic reservoir (eg, J-pouch), with diverting enterostomy, when performed",
         "No Change",
         "2025-04-02T07:21:28.487Z"
        ],
        [
         "45540",
         "REC",
         "Proctopexy (eg, for prolapse); abdominal approach (open)",
         "Added",
         "2025-04-02T07:21:28.487Z"
        ],
        [
         "45541",
         "REC",
         "Proctopexy (eg, for prolapse); perineal approach (open)",
         "Added",
         "2025-04-02T07:21:28.487Z"
        ],
        [
         "45550",
         "REC",
         "Proctopexy (eg, for prolapse); with sigmoid resection, abdominal approach (open)",
         "Added",
         "2025-04-02T07:21:28.487Z"
        ],
        [
         "45562",
         "REC",
         "Exploration, repair, and presacral drainage for rectal injury",
         "No Change",
         "2025-04-02T07:21:28.487Z"
        ],
        [
         "45563",
         "REC",
         "Exploration, repair, and presacral drainage for rectal injury; with colostomy",
         "No Change",
         "2025-04-02T07:21:28.487Z"
        ],
        [
         "57307",
         "REC",
         "Closure of rectovaginal fistula; abdominal approach, with concomitant colostomy",
         "No Change",
         "2025-04-02T07:21:28.487Z"
        ],
        [
         "43846",
         "SB",
         "Gastric restrictive procedure, with gastric bypass for morbid obesity; with short limb (150 cm or less) Roux-en-Y gastroenterostomy",
         "Moved from GAST",
         "2025-04-02T07:21:28.487Z"
        ],
        [
         "43496",
         "SB",
         "Free jejunum transfer with microvascular anastomosis",
         "No Change",
         "2025-04-02T07:21:28.487Z"
        ],
        [
         "44010",
         "SB",
         "Duodenotomy, for exploration, biopsy(s), or foreign body removal",
         "No Change",
         "2025-04-02T07:21:28.487Z"
        ],
        [
         "44020",
         "SB",
         "Enterotomy, small intestine, other than duodenum; for exploration, biopsy(s), or foreign body removal",
         "No Change",
         "2025-04-02T07:21:28.487Z"
        ],
        [
         "44021",
         "SB",
         "Enterotomy, small intestine, other than duodenum; for decompression (eg, Baker tube)",
         "No Change",
         "2025-04-02T07:21:28.487Z"
        ],
        [
         "44120",
         "SB",
         "Enterectomy, resection of small intestine; single resection and anastomosis",
         "No Change",
         "2025-04-02T07:21:28.487Z"
        ],
        [
         "44125",
         "SB",
         "Enterectomy, resection of small intestine; with enterostomy",
         "No Change",
         "2025-04-02T07:21:28.487Z"
        ],
        [
         "44126",
         "SB",
         "Enterectomy, resection of small intestine for congenital atresia, single resection and anastomosis of proximal segment of intestine; without tapering",
         "No Change",
         "2025-04-02T07:21:28.487Z"
        ],
        [
         "44127",
         "SB",
         "Enterectomy, resection of small intestine for congenital atresia, single resection and anastomosis of proximal segment of intestine; with tapering",
         "No Change",
         "2025-04-02T07:21:28.487Z"
        ],
        [
         "44130",
         "SB",
         "Enteroenterostomy, anastomosis of intestine, with or without cutaneous enterostomy (separate procedure)",
         "No Change",
         "2025-04-02T07:21:28.487Z"
        ],
        [
         "44186",
         "SB",
         "Laparoscopy, surgical; jejunostomy (eg, for decompression or feeding)",
         "No Change",
         "2025-04-02T07:21:28.487Z"
        ],
        [
         "44187",
         "SB",
         "Laparoscopy, surgical; ileostomy or jejunostomy, non-tube",
         "No Change",
         "2025-04-02T07:21:28.487Z"
        ],
        [
         "44202",
         "SB",
         "Laparoscopy, surgical; enterectomy, resection of small intestine, single resection and anastomosis",
         "No Change",
         "2025-04-02T07:21:28.487Z"
        ],
        [
         "44300",
         "SB",
         "Placement, enterostomy or cecostomy, tube open (eg, for feeding or decompression) (separate procedure)",
         "No Change",
         "2025-04-02T07:21:28.487Z"
        ],
        [
         "44310",
         "SB",
         "Ileostomy or jejunostomy, non-tube",
         "No Change",
         "2025-04-02T07:21:28.487Z"
        ],
        [
         "44312",
         "SB",
         "Revision of ileostomy; simple (release of superficial scar) (separate procedure)",
         "No Change",
         "2025-04-02T07:21:28.487Z"
        ],
        [
         "44314",
         "SB",
         "Revision of ileostomy; complicated (reconstruction in-depth) (separate procedure)",
         "No Change",
         "2025-04-02T07:21:28.487Z"
        ],
        [
         "44316",
         "SB",
         "Continent ileostomy (Kock procedure) (separate procedure)",
         "No Change",
         "2025-04-02T07:21:28.487Z"
        ],
        [
         "44602",
         "SB",
         "Suture of small intestine (enterorrhaphy) for perforated ulcer, diverticulum, wound, injury or rupture; single perforation",
         "No Change",
         "2025-04-02T07:21:28.487Z"
        ],
        [
         "44603",
         "SB",
         "Suture of small intestine (enterorrhaphy) for perforated ulcer, diverticulum, wound, injury or rupture; multiple perforations",
         "No Change",
         "2025-04-02T07:21:28.487Z"
        ],
        [
         "44615",
         "SB",
         "Intestinal stricturoplasty (enterotomy and enterorrhaphy) with or without dilation, for intestinal obstruction",
         "No Change",
         "2025-04-02T07:21:28.487Z"
        ],
        [
         "44640",
         "SB",
         "Closure of intestinal cutaneous fistula",
         "No Change",
         "2025-04-02T07:21:28.487Z"
        ],
        [
         "44650",
         "SB",
         "Closure of enteroenteric or enterocolic fistula",
         "No Change",
         "2025-04-02T07:21:28.487Z"
        ],
        [
         "44800",
         "SB",
         "Excision of Meckel's diverticulum (diverticulectomy) or omphalomesenteric duct",
         "No Change",
         "2025-04-02T07:21:28.487Z"
        ],
        [
         "45136",
         "SB",
         "Excision of ileoanal reservoir with ileostomy",
         "No Change",
         "2025-04-02T07:21:28.487Z"
        ],
        [
         "38100",
         "SPLE",
         "Splenectomy; total (separate procedure)",
         "No Change",
         "2025-04-02T07:21:28.487Z"
        ],
        [
         "38101",
         "SPLE",
         "Splenectomy; partial (separate procedure)",
         "No Change",
         "2025-04-02T07:21:28.487Z"
        ],
        [
         "38102",
         "SPLE",
         "Splenectomy; total, en bloc for extensive disease, in conjunction with other procedure (List in No changeition to code for primary procedure)",
         "No Change",
         "2025-04-02T07:21:28.487Z"
        ],
        [
         "38115",
         "SPLE",
         "Repair of ruptured spleen (splenorrhaphy) with or without partial splenectomy",
         "No Change",
         "2025-04-02T07:21:28.487Z"
        ],
        [
         "38120",
         "SPLE",
         "Laparoscopy, surgical, splenectomy",
         "No Change",
         "2025-04-02T07:21:28.487Z"
        ],
        [
         "20101",
         "THOR",
         "Exploration of penetrating wound (separate procedure); chest",
         "No Change",
         "2025-04-02T07:21:28.487Z"
        ],
        [
         "21603",
         "THOR",
         "Excision of chest wall tumor involving rib(s), with plastic reconstruction; with mediastinal lymphadenectomy",
         "No change",
         "2025-04-02T07:21:28.487Z"
        ],
        [
         "31770",
         "THOR",
         "Bronchoplasty; graft repair",
         "No Change",
         "2025-04-02T07:21:28.487Z"
        ],
        [
         "31775",
         "THOR",
         "Bronchoplasty; excision stenosis and anastomosis",
         "No Change",
         "2025-04-02T07:21:28.487Z"
        ],
        [
         "32096",
         "THOR",
         "Thoracotomy, with diagnostic biopsy(ies) of lung infiltrate(s) (eg, wedge, incisional), unilateral",
         "No Change",
         "2025-04-02T07:21:28.487Z"
        ],
        [
         "32097",
         "THOR",
         "Thoracotomy, with diagnostic biopsy(ies) of lung nodule(s) or mass(es) (eg, wedge, incisional), unilateral",
         "No Change",
         "2025-04-02T07:21:28.487Z"
        ],
        [
         "32100",
         "THOR",
         "Thoracotomy; with exploration",
         "No Change",
         "2025-04-02T07:21:28.487Z"
        ],
        [
         "32110",
         "THOR",
         "Thoracotomy; with control of traumatic hemorrhage and/or repair of lung tear",
         "No Change",
         "2025-04-02T07:21:28.487Z"
        ],
        [
         "32120",
         "THOR",
         "Thoracotomy; for postoperative complications",
         "No Change",
         "2025-04-02T07:21:28.487Z"
        ],
        [
         "32124",
         "THOR",
         "Thoracotomy; with open intrapleural pneumonolysis",
         "No Change",
         "2025-04-02T07:21:28.487Z"
        ],
        [
         "32140",
         "THOR",
         "Thoracotomy; with cyst(s) removal, includes pleural procedure when performed",
         "No Change",
         "2025-04-02T07:21:28.487Z"
        ],
        [
         "32141",
         "THOR",
         "Thoracotomy; with resection-plication of bullae, includes any pleural procedure when performed",
         "No Change",
         "2025-04-02T07:21:28.487Z"
        ],
        [
         "32151",
         "THOR",
         "Thoracotomy; with removal of intrapulmonary foreign body",
         "No Change",
         "2025-04-02T07:21:28.487Z"
        ],
        [
         "32200",
         "THOR",
         "Pneumonostomy, with open drainage of abscess or cyst",
         "No Change",
         "2025-04-02T07:21:28.487Z"
        ],
        [
         "32215",
         "THOR",
         "Pleural scarification for repeat pneumothorax",
         "No Change",
         "2025-04-02T07:21:28.487Z"
        ],
        [
         "32220",
         "THOR",
         "Decortication, pulmonary (separate procedure); total",
         "No Change",
         "2025-04-02T07:21:28.487Z"
        ],
        [
         "32225",
         "THOR",
         "Decortication, pulmonary (separate procedure); partial",
         "No Change",
         "2025-04-02T07:21:28.487Z"
        ],
        [
         "32310",
         "THOR",
         "Pleurectomy, parietal (separate procedure)",
         "No Change",
         "2025-04-02T07:21:28.487Z"
        ],
        [
         "32320",
         "THOR",
         "Decortication and parietal pleurectomy",
         "No Change",
         "2025-04-02T07:21:28.487Z"
        ],
        [
         "32440",
         "THOR",
         "Removal of lung, pneumonectomy;",
         "No Change",
         "2025-04-02T07:21:28.487Z"
        ],
        [
         "32442",
         "THOR",
         "Removal of lung, pneumonectomy; with resection of segment of trachea followed by broncho-tracheal anastomosis (sleeve pneumonectomy)",
         "No Change",
         "2025-04-02T07:21:28.487Z"
        ],
        [
         "32445",
         "THOR",
         "Removal of lung, pneumonectomy; extrapleural",
         "No Change",
         "2025-04-02T07:21:28.487Z"
        ],
        [
         "32480",
         "THOR",
         "Removal of lung, other than pneumonectomy; single lobe (lobectomy)",
         "No Change",
         "2025-04-02T07:21:28.487Z"
        ],
        [
         "32482",
         "THOR",
         "Removal of lung, other than pneumonectomy; 2 lobes (bilobectomy)",
         "No Change",
         "2025-04-02T07:21:28.487Z"
        ],
        [
         "32484",
         "THOR",
         "Removal of lung, other than pneumonectomy; single segment (segmentectomy)",
         "No Change",
         "2025-04-02T07:21:28.487Z"
        ],
        [
         "32486",
         "THOR",
         "Removal of lung, other than pneumonectomy; with circumferential resection of segment of bronchus followed by broncho-bronchial anastomosis (sleeve lobectomy)",
         "No Change",
         "2025-04-02T07:21:28.487Z"
        ],
        [
         "32488",
         "THOR",
         "Removal of lung, other than pneumonectomy; with all remaining lung following previous removal of a portion of lung (completion pneumonectomy)",
         "No Change",
         "2025-04-02T07:21:28.487Z"
        ],
        [
         "32491",
         "THOR",
         "Removal of lung, other than pneumonectomy; with resection-plication of emphysematous lung(s) (bullous or non-bullous) for lung volume reduction, sternal split or transthoracic approach, includes any pleural procedure, when performed",
         "No Change",
         "2025-04-02T07:21:28.487Z"
        ],
        [
         "32501",
         "THOR",
         "Resection and repair of portion of bronchus (bronchoplasty) when performed at time of lobectomy or segmentectomy (List separately in No changeition to code for primary procedure)",
         "No Change",
         "2025-04-02T07:21:28.487Z"
        ],
        [
         "32503",
         "THOR",
         "Resection of apical lung tumor (eg, Pancoast tumor), including chest wall resection, rib(s) resection(s), neurovascular dissection, when performed; without chest wall reconstruction(s)",
         "No Change",
         "2025-04-02T07:21:28.487Z"
        ],
        [
         "32504",
         "THOR",
         "Resection of apical lung tumor (eg, Pancoast tumor), including chest wall resection, rib(s) resection(s), neurovascular dissection, when performed; with chest wall reconstruction",
         "No Change",
         "2025-04-02T07:21:28.487Z"
        ],
        [
         "32505",
         "THOR",
         "Thoracotomy; with therapeutic wedge resection (eg, mass, nodule), initial",
         "No Change",
         "2025-04-02T07:21:28.487Z"
        ],
        [
         "32506",
         "THOR",
         "Thoracotomy; with therapeutic wedge resection (eg, mass or nodule), each No changeitional resection, ipsilateral (List separately in No changeition to code for primary procedure)",
         "No Change",
         "2025-04-02T07:21:28.487Z"
        ],
        [
         "32507",
         "THOR",
         "Thoracotomy; with diagnostic wedge resection followed by anatomic lung resection (List separately in No changeition to code for primary procedure)",
         "No Change",
         "2025-04-02T07:21:28.487Z"
        ],
        [
         "32540",
         "THOR",
         "Extrapleural enucleation of empyema (empyemectomy)",
         "No Change",
         "2025-04-02T07:21:28.487Z"
        ],
        [
         "32553",
         "THOR",
         "Placement of interstitial device(s) for radiation therapy guidance (eg, fiducial markers, dosimeter), percutaneous, intrathoracic, single or multiple",
         "No Change",
         "2025-04-02T07:21:28.487Z"
        ],
        [
         "32607",
         "THOR",
         "Thoracoscopy; with diagnostic biopsy(ies) of lung infiltrate(s) (eg, wedge, incisional), unilateral",
         "No Change",
         "2025-04-02T07:21:28.487Z"
        ],
        [
         "32608",
         "THOR",
         "Thoracoscopy; with diagnostic biopsy(ies) of lung nodule(s) or mass(es) (eg, wedge, incisional), unilateral",
         "No Change",
         "2025-04-02T07:21:28.487Z"
        ],
        [
         "32609",
         "THOR",
         "Thoracoscopy; with biopsy(ies) of pleura",
         "No Change",
         "2025-04-02T07:21:28.487Z"
        ],
        [
         "32651",
         "THOR",
         "Thoracoscopy, surgical; with partial pulmonary decortication",
         "No Change",
         "2025-04-02T07:21:28.487Z"
        ],
        [
         "32652",
         "THOR",
         "Thoracoscopy, surgical; with total pulmonary decortication, including intrapleural pneumonolysis",
         "No Change",
         "2025-04-02T07:21:28.487Z"
        ],
        [
         "32655",
         "THOR",
         "Thoracoscopy, surgical; with resection-plication of bullae, includes any pleural procedure when performed",
         "No Change",
         "2025-04-02T07:21:28.487Z"
        ],
        [
         "32662",
         "THOR",
         "Thoracoscopy, surgical; with excision of mediastinal cyst, tumor, or mass",
         "No Change",
         "2025-04-02T07:21:28.487Z"
        ],
        [
         "32663",
         "THOR",
         "Thoracoscopy, surgical; with lobectomy (single lobe)",
         "No Change",
         "2025-04-02T07:21:28.487Z"
        ],
        [
         "32666",
         "THOR",
         "Thoracoscopy, surgical; with therapeutic wedge resection (eg, mass, nodule), initial unilateral",
         "No Change",
         "2025-04-02T07:21:28.487Z"
        ],
        [
         "32667",
         "THOR",
         "Thoracoscopy, surgical; with therapeutic wedge resection (eg, mass or nodule), each No changeitional resection, ipsilateral (List separately in No changeition to code for primary procedure)",
         "No Change",
         "2025-04-02T07:21:28.487Z"
        ],
        [
         "32668",
         "THOR",
         "Thoracoscopy, surgical; with diagnostic wedge resection followed by anatomic lung resection (List separately in No changeition to code for primary procedure)",
         "No Change",
         "2025-04-02T07:21:28.487Z"
        ],
        [
         "32669",
         "THOR",
         "Thoracoscopy, surgical; with removal of a single lung segment (segmentectomy)",
         "No Change",
         "2025-04-02T07:21:28.487Z"
        ],
        [
         "32670",
         "THOR",
         "Thoracoscopy, surgical; with removal of two lobes (bilobectomy)",
         "No Change",
         "2025-04-02T07:21:28.487Z"
        ],
        [
         "32671",
         "THOR",
         "Thoracoscopy, surgical; with removal of lung (pneumonectomy)",
         "No Change",
         "2025-04-02T07:21:28.487Z"
        ],
        [
         "32672",
         "THOR",
         "Thoracoscopy, surgical; with resection-plication for emphysematous lung (bullous or non-bullous) for lung volume reduction (LVRS), unilateral includes any pleural procedure, when performed",
         "No Change",
         "2025-04-02T07:21:28.487Z"
        ],
        [
         "32800",
         "THOR",
         "Repair lung hernia through chest wall",
         "No Change",
         "2025-04-02T07:21:28.487Z"
        ],
        [
         "32815",
         "THOR",
         "Open closure of major bronchial fistula",
         "No Change",
         "2025-04-02T07:21:28.487Z"
        ],
        [
         "32905",
         "THOR",
         "Thoracoplasty, Schede type or extrapleural (all stages);",
         "No Change",
         "2025-04-02T07:21:28.487Z"
        ],
        [
         "32906",
         "THOR",
         "Thoracoplasty, Schede type or extrapleural (all stages); with closure of bronchopleural fistula",
         "No Change",
         "2025-04-02T07:21:28.487Z"
        ],
        [
         "32940",
         "THOR",
         "Pneumonolysis, extraperiosteal, including filling or packing procedures",
         "No Change",
         "2025-04-02T07:21:28.487Z"
        ],
        [
         "32960",
         "THOR",
         "Pneumothorax, therapeutic, intrapleural injection of air",
         "No Change",
         "2025-04-02T07:21:28.487Z"
        ],
        [
         "39000",
         "THOR",
         "Mediastinotomy with exploration, drainage, removal of foreign body, or biopsy; cervical approach",
         "No Change",
         "2025-04-02T07:21:28.487Z"
        ],
        [
         "39010",
         "THOR",
         "Mediastinotomy with exploration, drainage, removal of foreign body, or biopsy; transthoracic approach, including either transthoracic or median sternotomy",
         "No Change",
         "2025-04-02T07:21:28.487Z"
        ],
        [
         "39200",
         "THOR",
         "Resection of mediastinal cyst",
         "No Change",
         "2025-04-02T07:21:28.487Z"
        ],
        [
         "39220",
         "THOR",
         "Resection of mediastinal tumor",
         "No Change",
         "2025-04-02T07:21:28.487Z"
        ],
        [
         "39501",
         "THOR",
         "Repair, laceration of diaphragm, any approach",
         "No Change",
         "2025-04-02T07:21:28.487Z"
        ],
        [
         "39545",
         "THOR",
         "Imbrication of diaphragm for eventration, transthoracic or transabdominal, paralytic or nonparalytic",
         "No Change",
         "2025-04-02T07:21:28.487Z"
        ],
        [
         "39560",
         "THOR",
         "Resection, diaphragm; with simple repair (eg, primary suture)",
         "No Change",
         "2025-04-02T07:21:28.487Z"
        ],
        [
         "39561",
         "THOR",
         "Resection, diaphragm; with complex repair (eg, prosthetic material, local muscle flap)",
         "No Change",
         "2025-04-02T07:21:28.487Z"
        ],
        [
         "64746",
         "THOR",
         "Transection or avulsion of; phrenic nerve",
         "No Change",
         "2025-04-02T07:21:28.487Z"
        ],
        [
         "60200",
         "THYR",
         "Excision of cyst or adenoma of thyroid, or transection of isthmus",
         "No Change",
         "2025-04-02T07:21:28.487Z"
        ],
        [
         "60210",
         "THYR",
         "Partial thyroid lobectomy, unilateral; with or without isthmusectomy",
         "No Change",
         "2025-04-02T07:21:28.487Z"
        ],
        [
         "60212",
         "THYR",
         "Partial thyroid lobectomy, unilateral; with contralateral subtotal lobectomy, including isthmusectomy",
         "No Change",
         "2025-04-02T07:21:28.487Z"
        ],
        [
         "60220",
         "THYR",
         "Total thyroid lobectomy, unilateral; with or without isthmusectomy",
         "No Change",
         "2025-04-02T07:21:28.487Z"
        ],
        [
         "60225",
         "THYR",
         "Total thyroid lobectomy, unilateral; with contralateral subtotal lobectomy, including isthmusectomy",
         "No Change",
         "2025-04-02T07:21:28.487Z"
        ],
        [
         "60240",
         "THYR",
         "Thyroidectomy, total or complete",
         "No Change",
         "2025-04-02T07:21:28.487Z"
        ],
        [
         "60252",
         "THYR",
         "Thyroidectomy, total or subtotal for malignancy; with limited neck dissection",
         "No Change",
         "2025-04-02T07:21:28.487Z"
        ],
        [
         "60254",
         "THYR",
         "Thyroidectomy, total or subtotal for malignancy; with radical neck dissection",
         "No Change",
         "2025-04-02T07:21:28.487Z"
        ],
        [
         "60260",
         "THYR",
         "Thyroidectomy, removal of all remaining thyroid tissue following previous removal of a portion of thyroid",
         "No Change",
         "2025-04-02T07:21:28.487Z"
        ],
        [
         "60270",
         "THYR",
         "Thyroidectomy, including substernal thyroid; sternal split or transthoracic approach",
         "No Change",
         "2025-04-02T07:21:28.487Z"
        ],
        [
         "60271",
         "THYR",
         "Thyroidectomy, including substernal thyroid; cervical approach",
         "No Change",
         "2025-04-02T07:21:28.487Z"
        ],
        [
         "60500",
         "THYR",
         "Parathyroidectomy or exploration of parathyroid(s)",
         "No Change",
         "2025-04-02T07:21:28.487Z"
        ],
        [
         "60502",
         "THYR",
         "Parathyroidectomy or exploration of parathyroid(s); re-exploration",
         "No Change",
         "2025-04-02T07:21:28.487Z"
        ],
        [
         "60505",
         "THYR",
         "Parathyroidectomy or exploration of parathyroid(s); with mediastinal exploration, sternal split or transthoracic approach",
         "No Change",
         "2025-04-02T07:21:28.487Z"
        ],
        [
         "60512",
         "THYR",
         "Parathyroid autotransplantation (List separately in No changeition to code for primary procedure)",
         "No Change",
         "2025-04-02T07:21:28.487Z"
        ],
        [
         "51925",
         "VHYS",
         "Closure of vesicouterine fistula; with hysterectomy",
         "No Change",
         "2025-04-02T07:21:28.487Z"
        ],
        [
         "58260",
         "VHYS",
         "Vaginal hysterectomy, for uterus 250 g or less",
         "No Change",
         "2025-04-02T07:21:28.487Z"
        ],
        [
         "58262",
         "VHYS",
         "Vaginal hysterectomy, for uterus 250 g or less; with removal of tube(s), and/or ovary(s)",
         "No Change",
         "2025-04-02T07:21:28.487Z"
        ],
        [
         "58263",
         "VHYS",
         "Vaginal hysterectomy, for uterus 250 g or less; with removal of tube(s), and/or ovary(s), with repair of enterocele",
         "No Change",
         "2025-04-02T07:21:28.487Z"
        ],
        [
         "58267",
         "VHYS",
         "Vaginal hysterectomy, for uterus 250 g or less; with colpo-urethrocystopexy (Marshall-Marchetti-Krantz type, Pereyra type) with or without endoscopic control",
         "No Change",
         "2025-04-02T07:21:28.487Z"
        ],
        [
         "58270",
         "VHYS",
         "Vaginal hysterectomy, for uterus 250 g or less; with repair of enterocele",
         "No Change",
         "2025-04-02T07:21:28.487Z"
        ],
        [
         "58275",
         "VHYS",
         "Vaginal hysterectomy, for uterus 250 g or less;",
         "No Change",
         "2025-04-02T07:21:28.487Z"
        ],
        [
         "58280",
         "VHYS",
         "Vaginal hysterectomy, with total or partial vaginectomy; with repair of enterocele",
         "No Change",
         "2025-04-02T07:21:28.487Z"
        ],
        [
         "58285",
         "VHYS",
         "Vaginal hysterectomy, radical (Schauta type operation)",
         "No Change",
         "2025-04-02T07:21:28.487Z"
        ],
        [
         "58290",
         "VHYS",
         "Vaginal hysterectomy, for uterus greater than 250 g",
         "No Change",
         "2025-04-02T07:21:28.487Z"
        ],
        [
         "58291",
         "VHYS",
         "Vaginal hysterectomy, for uterus greater than 250 g; with removal of tube(s) and/or ovary(s)",
         "No Change",
         "2025-04-02T07:21:28.487Z"
        ],
        [
         "58292",
         "VHYS",
         "Vaginal hysterectomy, for uterus greater than 250 g; with removal of tube(s) and/or ovary(s), with repair of enterocele",
         "No Change",
         "2025-04-02T07:21:28.487Z"
        ],
        [
         "58293",
         "VHYS",
         "Vaginal hysterectomy, for uterus greater than 250 g; with colpo-urethrocystopexy (Marshall-Marchetti-Krantz type, Pereyra type) with or without endoscopic control",
         "No Change",
         "2025-04-02T07:21:28.487Z"
        ],
        [
         "58294",
         "VHYS",
         "Vaginal hysterectomy, for uterus greater than 250 g; with repair of enterocele",
         "No Change",
         "2025-04-02T07:21:28.487Z"
        ],
        [
         "62160",
         "VSHN",
         "Neuroendoscopy, intracranial, for placement or replacement of ventricular catheter and attachment to shunt system or external drainage (List separately in No changeition to code for primary procedure)",
         "No Change",
         "2025-04-02T07:21:28.487Z"
        ],
        [
         "62180",
         "VSHN",
         "Ventriculocisternostomy (Torkildsen type operation)",
         "No Change",
         "2025-04-02T07:21:28.487Z"
        ],
        [
         "62190",
         "VSHN",
         "Creation of shunt; subarachnoid/subdural-atrial, -jugular, -auricular",
         "No Change",
         "2025-04-02T07:21:28.487Z"
        ],
        [
         "62192",
         "VSHN",
         "Creation of shunt; subarachnoid/subdural-peritoneal, -pleural, other terminus",
         "No Change",
         "2025-04-02T07:21:28.487Z"
        ],
        [
         "62194",
         "VSHN",
         "Replacement or irrigation, subarachnoid/subdural catheter",
         "No Change",
         "2025-04-02T07:21:28.487Z"
        ],
        [
         "62220",
         "VSHN",
         "Creation of shunt; ventriculo-atrial, -jugular, -auricular",
         "No Change",
         "2025-04-02T07:21:28.487Z"
        ],
        [
         "62223",
         "VSHN",
         "Creation of shunt; ventriculo-peritoneal, -pleural, other terminus",
         "No Change",
         "2025-04-02T07:21:28.487Z"
        ],
        [
         "62225",
         "VSHN",
         "Replacement or irrigation, ventricular catheter",
         "No Change",
         "2025-04-02T07:21:28.487Z"
        ],
        [
         "62230",
         "VSHN",
         "Replacement or revision of cerebrospinal fluid shunt, obstructed valve, or distal catheter in shunt system",
         "No Change",
         "2025-04-02T07:21:28.487Z"
        ],
        [
         "62256",
         "VSHN",
         "Removal of complete cerebrospinal fluid shunt system; without replacement",
         "No Change",
         "2025-04-02T07:21:28.487Z"
        ],
        [
         "62258",
         "VSHN",
         "Removal of complete cerebrospinal fluid shunt system; with replacement by similar or other shunt at same operation",
         "No Change",
         "2025-04-02T07:21:28.487Z"
        ],
        [
         "20102",
         "XLAP",
         "Exploration of penetrating wound (separate procedure); abdomen/flank/back",
         "No Change",
         "2025-04-02T07:21:28.487Z"
        ],
        [
         "35840",
         "XLAP",
         "Exploration for postoperative hemorrhage, thrombosis or infection; abdomen",
         "No Change",
         "2025-04-02T07:21:28.487Z"
        ],
        [
         "39503",
         "XLAP",
         "Repair, neonatal diaphragmatic hernia, with or without chest tube insertion and with or without creation of ventral hernia",
         "No Change",
         "2025-04-02T07:21:28.487Z"
        ],
        [
         "39540",
         "XLAP",
         "Repair, diaphragmatic hernia (other than neonatal), traumatic; acute",
         "No Change",
         "2025-04-02T07:21:28.487Z"
        ],
        [
         "39541",
         "XLAP",
         "Repair, diaphragmatic hernia (other than neonatal), traumatic; chronic",
         "No Change",
         "2025-04-02T07:21:28.487Z"
        ],
        [
         "43332",
         "XLAP",
         "Repair, paraesophageal hiatal hernia (including fundoplication), via laparotomy, except neonatal; without implantation of mesh or other prosthesis",
         "No Change",
         "2025-04-02T07:21:28.487Z"
        ],
        [
         "43333",
         "XLAP",
         "Repair, paraesophageal hiatal hernia (including fundoplication), via laparotomy, except neonatal; with implantation of mesh or other prosthesis",
         "No Change",
         "2025-04-02T07:21:28.487Z"
        ],
        [
         "44005",
         "XLAP",
         "Enterolysis (freeing of intestinal adhesions) (separate procedure)",
         "No Change",
         "2025-04-02T07:21:28.487Z"
        ],
        [
         "44180",
         "XLAP",
         "Laparoscopy, surgical, enterolysis (freeing of intestinal adhesion) (separate procedure)",
         "No Change",
         "2025-04-02T07:21:28.487Z"
        ],
        [
         "44700",
         "XLAP",
         "Exclusion of small intestine from pelvis by mesh or other prosthesis, or native tissue (eg, bladder or omentum)",
         "No Change",
         "2025-04-02T07:21:28.487Z"
        ],
        [
         "44820",
         "XLAP",
         "Excision of lesion of mesentery (separate procedure)",
         "No Change",
         "2025-04-02T07:21:28.487Z"
        ],
        [
         "44850",
         "XLAP",
         "Suture of mesentery (separate procedure)",
         "No Change",
         "2025-04-02T07:21:28.487Z"
        ],
        [
         "49000",
         "XLAP",
         "Exploratory laparotomy, exploratory celiotomy with or without biopsy(s) (separate procedure)",
         "No Change",
         "2025-04-02T07:21:28.487Z"
        ],
        [
         "49002",
         "XLAP",
         "Reopening of recent laparotomy",
         "No Change",
         "2025-04-02T07:21:28.487Z"
        ],
        [
         "49010",
         "XLAP",
         "Exploration, retroperitoneal area with or without biopsy(s) (separate procedure)",
         "No Change",
         "2025-04-02T07:21:28.487Z"
        ],
        [
         "49013",
         "XLAP",
         "Preperitoneal pelvic packing for hemorrhage associated with pelvic trauma, including local exploration",
         "No change",
         "2025-04-02T07:21:28.487Z"
        ],
        [
         "49014",
         "XLAP",
         "Re-exploration of pelvic wound with removal of preperitoneal pelvic packing, including repacking, when performed",
         "No change",
         "2025-04-02T07:21:28.487Z"
        ],
        [
         "49020",
         "XLAP",
         "Drainage of peritoneal abscess or localized peritonitis, exclusive of appendiceal abscess, open",
         "No Change",
         "2025-04-02T07:21:28.487Z"
        ],
        [
         "49040",
         "XLAP",
         "Drainage of subdiaphragmatic or subphrenic abscess, open",
         "No Change",
         "2025-04-02T07:21:28.487Z"
        ],
        [
         "49060",
         "XLAP",
         "Drainage of retroperitoneal abscess, open",
         "No Change",
         "2025-04-02T07:21:28.487Z"
        ],
        [
         "49203",
         "XLAP",
         "Excision or destruction, open, intra-abdominal tumors, cysts or endometriomas, 1 or more peritoneal, mesenteric, or retroperitoneal primary or secondary tumors; largest tumor 5 cm diameter or less",
         "No Change",
         "2025-04-02T07:21:28.487Z"
        ],
        [
         "49204",
         "XLAP",
         "Excision or destruction, open, intra-abdominal tumors, cysts or endometriomas, 1 or more peritoneal, mesenteric, or retroperitoneal primary or secondary tumors; largest tumor 5.1-10.0 cm diameter",
         "No Change",
         "2025-04-02T07:21:28.487Z"
        ],
        [
         "49205",
         "XLAP",
         "Excision or destruction, open, intra-abdominal tumors, cysts or endometriomas, 1 or more peritoneal, mesenteric, or retroperitoneal primary or secondary tumors; largest tumor greater than 10.0 cm diameter",
         "No Change",
         "2025-04-02T07:21:28.487Z"
        ],
        [
         "49215",
         "XLAP",
         "Excision of presacral or sacrococcygeal tumor",
         "No Change",
         "2025-04-02T07:21:28.487Z"
        ],
        [
         "49220",
         "XLAP",
         "Staging laparotomy for Hodgkin's disease or lymphoma (includes splenectomy, needle or open biopsies of both liver lobes, possibly also removal of abdominal nodes, abdominal node and/or bone marrow biopsies, ovarian repositioning)",
         "No Change",
         "2025-04-02T07:21:28.487Z"
        ],
        [
         "49250",
         "XLAP",
         "Umbilectomy, omphalectomy, excision of umbilicus (separate procedure)",
         "No Change",
         "2025-04-02T07:21:28.487Z"
        ],
        [
         "49255",
         "XLAP",
         "Omentectomy, epiploectomy, resection of omentum (separate procedure)",
         "No Change",
         "2025-04-02T07:21:28.487Z"
        ],
        [
         "49320",
         "XLAP",
         "Laparoscopy, abdomen, peritoneum, and omentum, diagnostic, with or without collection of specimen(s) by brushing or washing (separate procedure)",
         "No Change",
         "2025-04-02T07:21:28.487Z"
        ],
        [
         "49321",
         "XLAP",
         "Laparoscopy, surgical; with biopsy (single or multiple) ",
         "No Change",
         "2025-04-02T07:21:28.487Z"
        ],
        [
         "49324",
         "XLAP",
         "Laparoscopy, surgical; with insertion of tunneled intraperitoneal catheter",
         "No Change",
         "2025-04-02T07:21:28.487Z"
        ],
        [
         "49325",
         "XLAP",
         "Laparoscopy, surgical; with revision of previously placed intraperitoneal cannula or catheter, with removal of intraluminal obstructive material if performed",
         "No Change",
         "2025-04-02T07:21:28.487Z"
        ],
        [
         "49326",
         "XLAP",
         "Laparoscopy, surgical; with omentopexy (omental tacking procedure) (List separately in No changeition to code for primary procedure)",
         "No Change",
         "2025-04-02T07:21:28.487Z"
        ],
        [
         "49402",
         "XLAP",
         "Removal of peritoneal foreign body from peritoneal cavity",
         "No Change",
         "2025-04-02T07:21:28.487Z"
        ],
        [
         "49412",
         "XLAP",
         "Placement of interstitial device(s) for radiation therapy guidance (eg, fiducial markers, dosimeter), open, intra-abdominal, intrapelvic, and/or retroperitoneum, including image guidance, if performed, single or multiple (List separately in No changeition to code for primary procedure)",
         "No Change",
         "2025-04-02T07:21:28.487Z"
        ],
        [
         "49419",
         "XLAP",
         "Insertion of tunneled intraperitoneal catheter, with subcutaneous port (ie, totally implantable)",
         "No Change",
         "2025-04-02T07:21:28.487Z"
        ],
        [
         "49421",
         "XLAP",
         "Insertion of tunneled intraperitoneal catheter for dialysis, open",
         "No Change",
         "2025-04-02T07:21:28.487Z"
        ],
        [
         "49425",
         "XLAP",
         "Insertion of peritoneal-venous shunt",
         "No Change",
         "2025-04-02T07:21:28.487Z"
        ],
        [
         "49426",
         "XLAP",
         "Revision of peritoneal-venous shunt",
         "No Change",
         "2025-04-02T07:21:28.487Z"
        ],
        [
         "49900",
         "XLAP",
         "Suture, secondary, of abdominal wall for evisceration or dehiscence",
         "No Change",
         "2025-04-02T07:21:28.487Z"
        ],
        [
         "49905",
         "XLAP",
         "Omental flap, intra-abdominal (List separately in No changeition to code for primary procedure)",
         "No Change",
         "2025-04-02T07:21:28.487Z"
        ],
        [
         "49906",
         "XLAP",
         "Free omental flap with microvascular anastomosis",
         "No Change",
         "2025-04-02T07:21:28.487Z"
        ],
        [
         "58960",
         "XLAP",
         "Laparotomy, for staging or restaging of ovarian, tubal, or primary peritoneal malignancy (second look), with or without omentectomy, peritoneal washing, biopsy of abdominal and pelvic peritoneum, diaphragmatic assessment with pelvic and limited para-aortic lymphadenectomy",
         "No Change",
         "2025-04-02T07:21:28.487Z"
        ]
       ],
       "datasetInfos": [],
       "dbfsResultPath": null,
       "isJsonSchema": true,
       "metadata": {
        "createTempViewForImplicitDf": true,
        "dataframeName": "_sqldf",
        "executionCount": 2
       },
       "overflow": false,
       "plotOptions": {
        "customPlotOptions": {},
        "displayType": "table",
        "pivotAggregation": null,
        "pivotColumns": null,
        "xColumns": null,
        "yColumns": null
       },
       "removedWidgets": [],
       "schema": [
        {
         "metadata": "{}",
         "name": "cpt_codes",
         "type": "\"string\""
        },
        {
         "metadata": "{}",
         "name": "procedure_code_category",
         "type": "\"string\""
        },
        {
         "metadata": "{}",
         "name": "procedure_code_descriptions",
         "type": "\"string\""
        },
        {
         "metadata": "{}",
         "name": "code_status",
         "type": "\"string\""
        },
        {
         "metadata": "{}",
         "name": "refreshed_at",
         "type": "\"timestamp\""
        }
       ],
       "type": "table"
      }
     },
     "output_type": "display_data"
    }
   ],
   "source": [
    "%sql \n",
    "select * from gold.dim_cpt_code"
   ]
  }
 ],
 "metadata": {
  "application/vnd.databricks.v1+notebook": {
   "computePreferences": null,
   "dashboards": [],
   "environmentMetadata": null,
   "inputWidgetPreferences": null,
   "language": "python",
   "notebookMetadata": {
    "mostRecentlyExecutedCommandWithImplicitDF": {
     "commandId": 4371474748801173,
     "dataframes": [
      "_sqldf"
     ]
    }
   },
   "notebookName": "dim_cpt_code",
   "widgets": {}
  },
  "language_info": {
   "name": "python"
  }
 },
 "nbformat": 4,
 "nbformat_minor": 0
}