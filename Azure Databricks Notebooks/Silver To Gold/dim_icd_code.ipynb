{
 "cells": [
  {
   "cell_type": "code",
   "execution_count": 0,
   "metadata": {
    "application/vnd.databricks.v1+cell": {
     "cellMetadata": {
      "byteLimit": 2048000,
      "implicitDf": true,
      "rowLimit": 10000
     },
     "inputWidgets": {},
     "nuid": "32956a6a-01b0-49cc-8157-e5e03fc6f234",
     "showTitle": false,
     "tableResultSettingsMap": {},
     "title": ""
    }
   },
   "outputs": [
    {
     "output_type": "display_data",
     "data": {
      "text/html": [
       "<style scoped>\n",
       "  .table-result-container {\n",
       "    max-height: 300px;\n",
       "    overflow: auto;\n",
       "  }\n",
       "  table, th, td {\n",
       "    border: 1px solid black;\n",
       "    border-collapse: collapse;\n",
       "  }\n",
       "  th, td {\n",
       "    padding: 5px;\n",
       "  }\n",
       "  th {\n",
       "    text-align: left;\n",
       "  }\n",
       "</style><div class='table-result-container'><table class='table-result'><thead style='background-color: white'><tr></tr></thead><tbody></tbody></table></div>"
      ]
     },
     "metadata": {
      "application/vnd.databricks.v1+output": {
       "addedWidgets": {},
       "aggData": [],
       "aggError": "",
       "aggOverflow": false,
       "aggSchema": [],
       "aggSeriesLimitReached": false,
       "aggType": "",
       "arguments": {},
       "columnCustomDisplayInfos": {},
       "data": [],
       "datasetInfos": [],
       "dbfsResultPath": null,
       "isJsonSchema": true,
       "metadata": {
        "dataframeName": null
       },
       "overflow": false,
       "plotOptions": {
        "customPlotOptions": {},
        "displayType": "table",
        "pivotAggregation": null,
        "pivotColumns": null,
        "xColumns": null,
        "yColumns": null
       },
       "removedWidgets": [],
       "schema": [],
       "type": "table"
      }
     },
     "output_type": "display_data"
    }
   ],
   "source": [
    "%sql\n",
    "CREATE TABLE IF NOT EXISTS gold.dim_icd (\n",
    "    icd_code STRING,\n",
    "    icd_code_type STRING,\n",
    "    code_description STRING,\n",
    "    refreshed_at TIMESTAMP\n",
    ")"
   ]
  },
  {
   "cell_type": "code",
   "execution_count": 0,
   "metadata": {
    "application/vnd.databricks.v1+cell": {
     "cellMetadata": {
      "byteLimit": 2048000,
      "implicitDf": true,
      "rowLimit": 10000
     },
     "inputWidgets": {},
     "nuid": "2a0267d3-5e85-4333-a816-8aa342eb59d7",
     "showTitle": false,
     "tableResultSettingsMap": {},
     "title": ""
    }
   },
   "outputs": [
    {
     "output_type": "display_data",
     "data": {
      "text/html": [
       "<style scoped>\n",
       "  .table-result-container {\n",
       "    max-height: 300px;\n",
       "    overflow: auto;\n",
       "  }\n",
       "  table, th, td {\n",
       "    border: 1px solid black;\n",
       "    border-collapse: collapse;\n",
       "  }\n",
       "  th, td {\n",
       "    padding: 5px;\n",
       "  }\n",
       "  th {\n",
       "    text-align: left;\n",
       "  }\n",
       "</style><div class='table-result-container'><table class='table-result'><thead style='background-color: white'><tr></tr></thead><tbody></tbody></table></div>"
      ]
     },
     "metadata": {
      "application/vnd.databricks.v1+output": {
       "addedWidgets": {},
       "aggData": [],
       "aggError": "",
       "aggOverflow": false,
       "aggSchema": [],
       "aggSeriesLimitReached": false,
       "aggType": "",
       "arguments": {},
       "columnCustomDisplayInfos": {},
       "data": [],
       "datasetInfos": [],
       "dbfsResultPath": null,
       "isJsonSchema": true,
       "metadata": {
        "dataframeName": null
       },
       "overflow": false,
       "plotOptions": {
        "customPlotOptions": {},
        "displayType": "table",
        "pivotAggregation": null,
        "pivotColumns": null,
        "xColumns": null,
        "yColumns": null
       },
       "removedWidgets": [],
       "schema": [],
       "type": "table"
      }
     },
     "output_type": "display_data"
    }
   ],
   "source": [
    "%sql\n",
    "truncate table gold.dim_icd"
   ]
  },
  {
   "cell_type": "code",
   "execution_count": 0,
   "metadata": {
    "application/vnd.databricks.v1+cell": {
     "cellMetadata": {
      "byteLimit": 2048000,
      "implicitDf": true,
      "rowLimit": 10000
     },
     "inputWidgets": {},
     "nuid": "87e8ebb1-5ab0-4c48-b1ad-1682292727c3",
     "showTitle": false,
     "tableResultSettingsMap": {},
     "title": ""
    }
   },
   "outputs": [
    {
     "output_type": "display_data",
     "data": {
      "text/html": [
       "<style scoped>\n",
       "  .table-result-container {\n",
       "    max-height: 300px;\n",
       "    overflow: auto;\n",
       "  }\n",
       "  table, th, td {\n",
       "    border: 1px solid black;\n",
       "    border-collapse: collapse;\n",
       "  }\n",
       "  th, td {\n",
       "    padding: 5px;\n",
       "  }\n",
       "  th {\n",
       "    text-align: left;\n",
       "  }\n",
       "</style><div class='table-result-container'><table class='table-result'><thead style='background-color: white'><tr><th>icd_code</th><th>icd_code_type</th><th>code_description</th><th>refreshed_at</th></tr></thead><tbody><tr><td>A06.4</td><td>ICD-10</td><td>Amoebic liver abscess</td><td>2025-04-02T07:22:23.188Z</td></tr><tr><td>A06.1</td><td>ICD-10</td><td>Chronic intestinal amoebiasis</td><td>2025-04-02T07:22:23.188Z</td></tr><tr><td>A06.5</td><td>ICD-10</td><td>Amoebic lung abscess</td><td>2025-04-02T07:22:23.188Z</td></tr><tr><td>A06.8</td><td>ICD-10</td><td>Amoebic infection of other sites</td><td>2025-04-02T07:22:23.188Z</td></tr><tr><td>A06.7</td><td>ICD-10</td><td>Cutaneous amoebiasis</td><td>2025-04-02T07:22:23.188Z</td></tr><tr><td>A05.3</td><td>ICD-10</td><td>Foodborne Vibrio parahaemolyticus intoxication</td><td>2025-04-02T07:22:23.188Z</td></tr><tr><td>A05.9</td><td>ICD-10</td><td>Bacterial foodborne intoxication, unspecified</td><td>2025-04-02T07:22:23.188Z</td></tr><tr><td>A06.2</td><td>ICD-10</td><td>Amoebic nondysenteric colitis</td><td>2025-04-02T07:22:23.188Z</td></tr><tr><td>A05.4</td><td>ICD-10</td><td>Foodborne Bacillus cereus intoxication</td><td>2025-04-02T07:22:23.188Z</td></tr><tr><td>A05.1</td><td>ICD-10</td><td>Botulism</td><td>2025-04-02T07:22:23.188Z</td></tr><tr><td>A06.0</td><td>ICD-10</td><td>Acute amoebic dysentery</td><td>2025-04-02T07:22:23.188Z</td></tr><tr><td>A06.6</td><td>ICD-10</td><td>Amoebic brain abscess</td><td>2025-04-02T07:22:23.188Z</td></tr><tr><td>A05.2</td><td>ICD-10</td><td>Foodborne Clostridium perfringens [Clostridium welchii] intoxication</td><td>2025-04-02T07:22:23.188Z</td></tr><tr><td>A06.3</td><td>ICD-10</td><td>Amoeboma of intestine</td><td>2025-04-02T07:22:23.188Z</td></tr><tr><td>A05.8</td><td>ICD-10</td><td>Other specified bacterial foodborne intoxications</td><td>2025-04-02T07:22:23.188Z</td></tr><tr><td>A08.0</td><td>ICD-10</td><td>Rotaviral enteritis</td><td>2025-04-02T07:22:23.188Z</td></tr><tr><td>A07.1</td><td>ICD-10</td><td>Giardiasis [lambliasis]</td><td>2025-04-02T07:22:23.188Z</td></tr><tr><td>A09.0</td><td>ICD-10</td><td>Other and unspecified gastroenteritis and colitis of infectious origin</td><td>2025-04-02T07:22:23.188Z</td></tr><tr><td>A08.3</td><td>ICD-10</td><td>Other viral enteritis</td><td>2025-04-02T07:22:23.188Z</td></tr><tr><td>A07.0</td><td>ICD-10</td><td>Balantidiasis</td><td>2025-04-02T07:22:23.188Z</td></tr><tr><td>A08.4</td><td>ICD-10</td><td>Viral intestinal infection, unspecified</td><td>2025-04-02T07:22:23.188Z</td></tr><tr><td>A08.5</td><td>ICD-10</td><td>Other specified intestinal infections</td><td>2025-04-02T07:22:23.188Z</td></tr><tr><td>A07.2</td><td>ICD-10</td><td>Cryptosporidiosis</td><td>2025-04-02T07:22:23.188Z</td></tr><tr><td>A08.2</td><td>ICD-10</td><td>Adenoviral enteritis</td><td>2025-04-02T07:22:23.188Z</td></tr><tr><td>A07.8</td><td>ICD-10</td><td>Other specified protozoal intestinal diseases</td><td>2025-04-02T07:22:23.188Z</td></tr><tr><td>A06.9</td><td>ICD-10</td><td>Amoebiasis, unspecified</td><td>2025-04-02T07:22:23.188Z</td></tr><tr><td>A08.1</td><td>ICD-10</td><td>Acute gastroenteropathy due to Norovirus</td><td>2025-04-02T07:22:23.188Z</td></tr><tr><td>A07.9</td><td>ICD-10</td><td>Protozoal intestinal disease, unspecified</td><td>2025-04-02T07:22:23.188Z</td></tr><tr><td>A07.3</td><td>ICD-10</td><td>Isosporiasis</td><td>2025-04-02T07:22:23.188Z</td></tr><tr><td>A09.9</td><td>ICD-10</td><td>Gastroenteritis and colitis of unspecified origin</td><td>2025-04-02T07:22:23.188Z</td></tr><tr><td>A03.2</td><td>ICD-10</td><td>Shigellosis due to Shigella boydii</td><td>2025-04-02T07:22:23.188Z</td></tr><tr><td>A05.0</td><td>ICD-10</td><td>Foodborne staphylococcal intoxication</td><td>2025-04-02T07:22:23.188Z</td></tr><tr><td>A03.8</td><td>ICD-10</td><td>Other shigellosis</td><td>2025-04-02T07:22:23.188Z</td></tr><tr><td>A04.5</td><td>ICD-10</td><td>Campylobacter enteritis</td><td>2025-04-02T07:22:23.188Z</td></tr><tr><td>A04.9</td><td>ICD-10</td><td>Bacterial intestinal infection, unspecified</td><td>2025-04-02T07:22:23.188Z</td></tr><tr><td>A04.4</td><td>ICD-10</td><td>Other intestinal Escherichia coli infections</td><td>2025-04-02T07:22:23.188Z</td></tr><tr><td>A04.0</td><td>ICD-10</td><td>Enteropathogenic Escherichia coli infection</td><td>2025-04-02T07:22:23.188Z</td></tr><tr><td>A03.3</td><td>ICD-10</td><td>Shigellosis due to Shigella sonnei</td><td>2025-04-02T07:22:23.188Z</td></tr><tr><td>A04.7</td><td>ICD-10</td><td>Enterocolitis due to Clostridium difficile</td><td>2025-04-02T07:22:23.188Z</td></tr><tr><td>A03.9</td><td>ICD-10</td><td>Shigellosis, unspecified</td><td>2025-04-02T07:22:23.188Z</td></tr><tr><td>A04.1</td><td>ICD-10</td><td>Enterotoxigenic Escherichia coli infection</td><td>2025-04-02T07:22:23.188Z</td></tr><tr><td>A04.6</td><td>ICD-10</td><td>Enteritis due to Yersinia enterocolitica</td><td>2025-04-02T07:22:23.188Z</td></tr><tr><td>A04.8</td><td>ICD-10</td><td>Other specified bacterial intestinal infections</td><td>2025-04-02T07:22:23.188Z</td></tr><tr><td>A04.3</td><td>ICD-10</td><td>Enterohaemorrhagic Escherichia coli infection</td><td>2025-04-02T07:22:23.188Z</td></tr><tr><td>A04.2</td><td>ICD-10</td><td>Enteroinvasive Escherichia coli infection</td><td>2025-04-02T07:22:23.188Z</td></tr><tr><td>A00.9</td><td>ICD-10</td><td>Cholera, unspecified</td><td>2025-04-02T07:22:23.188Z</td></tr><tr><td>A01.2</td><td>ICD-10</td><td>Paratyphoid fever B</td><td>2025-04-02T07:22:23.188Z</td></tr><tr><td>A00.1</td><td>ICD-10</td><td>Cholera due to Vibrio cholerae 01, biovar eltor</td><td>2025-04-02T07:22:23.188Z</td></tr><tr><td>A02.9</td><td>ICD-10</td><td>Salmonella infection, unspecified</td><td>2025-04-02T07:22:23.188Z</td></tr><tr><td>A01.0</td><td>ICD-10</td><td>Typhoid fever</td><td>2025-04-02T07:22:23.188Z</td></tr><tr><td>A02.1</td><td>ICD-10</td><td>Salmonella sepsis</td><td>2025-04-02T07:22:23.188Z</td></tr><tr><td>A01.3</td><td>ICD-10</td><td>Paratyphoid fever C</td><td>2025-04-02T07:22:23.188Z</td></tr><tr><td>A03.0</td><td>ICD-10</td><td>Shigellosis due to Shigella dysenteriae</td><td>2025-04-02T07:22:23.188Z</td></tr><tr><td>A03.1</td><td>ICD-10</td><td>Shigellosis due to Shigella flexneri</td><td>2025-04-02T07:22:23.188Z</td></tr><tr><td>A02.0</td><td>ICD-10</td><td>Salmonella enteritis</td><td>2025-04-02T07:22:23.188Z</td></tr><tr><td>A02.2</td><td>ICD-10</td><td>Localized salmonella infections</td><td>2025-04-02T07:22:23.188Z</td></tr><tr><td>A02.8</td><td>ICD-10</td><td>Other specified salmonella infections</td><td>2025-04-02T07:22:23.188Z</td></tr><tr><td>A00.0</td><td>ICD-10</td><td>Cholera due to Vibrio cholerae 01, biovar cholerae</td><td>2025-04-02T07:22:23.188Z</td></tr><tr><td>A01.4</td><td>ICD-10</td><td>Paratyphoid fever, unspecified</td><td>2025-04-02T07:22:23.188Z</td></tr><tr><td>A01.1</td><td>ICD-10</td><td>Paratyphoid fever A</td><td>2025-04-02T07:22:23.188Z</td></tr></tbody></table></div>"
      ]
     },
     "metadata": {
      "application/vnd.databricks.v1+output": {
       "addedWidgets": {},
       "aggData": [],
       "aggError": "",
       "aggOverflow": false,
       "aggSchema": [],
       "aggSeriesLimitReached": false,
       "aggType": "",
       "arguments": {},
       "columnCustomDisplayInfos": {},
       "data": [
        [
         "A06.4",
         "ICD-10",
         "Amoebic liver abscess",
         "2025-04-02T07:22:23.188Z"
        ],
        [
         "A06.1",
         "ICD-10",
         "Chronic intestinal amoebiasis",
         "2025-04-02T07:22:23.188Z"
        ],
        [
         "A06.5",
         "ICD-10",
         "Amoebic lung abscess",
         "2025-04-02T07:22:23.188Z"
        ],
        [
         "A06.8",
         "ICD-10",
         "Amoebic infection of other sites",
         "2025-04-02T07:22:23.188Z"
        ],
        [
         "A06.7",
         "ICD-10",
         "Cutaneous amoebiasis",
         "2025-04-02T07:22:23.188Z"
        ],
        [
         "A05.3",
         "ICD-10",
         "Foodborne Vibrio parahaemolyticus intoxication",
         "2025-04-02T07:22:23.188Z"
        ],
        [
         "A05.9",
         "ICD-10",
         "Bacterial foodborne intoxication, unspecified",
         "2025-04-02T07:22:23.188Z"
        ],
        [
         "A06.2",
         "ICD-10",
         "Amoebic nondysenteric colitis",
         "2025-04-02T07:22:23.188Z"
        ],
        [
         "A05.4",
         "ICD-10",
         "Foodborne Bacillus cereus intoxication",
         "2025-04-02T07:22:23.188Z"
        ],
        [
         "A05.1",
         "ICD-10",
         "Botulism",
         "2025-04-02T07:22:23.188Z"
        ],
        [
         "A06.0",
         "ICD-10",
         "Acute amoebic dysentery",
         "2025-04-02T07:22:23.188Z"
        ],
        [
         "A06.6",
         "ICD-10",
         "Amoebic brain abscess",
         "2025-04-02T07:22:23.188Z"
        ],
        [
         "A05.2",
         "ICD-10",
         "Foodborne Clostridium perfringens [Clostridium welchii] intoxication",
         "2025-04-02T07:22:23.188Z"
        ],
        [
         "A06.3",
         "ICD-10",
         "Amoeboma of intestine",
         "2025-04-02T07:22:23.188Z"
        ],
        [
         "A05.8",
         "ICD-10",
         "Other specified bacterial foodborne intoxications",
         "2025-04-02T07:22:23.188Z"
        ],
        [
         "A08.0",
         "ICD-10",
         "Rotaviral enteritis",
         "2025-04-02T07:22:23.188Z"
        ],
        [
         "A07.1",
         "ICD-10",
         "Giardiasis [lambliasis]",
         "2025-04-02T07:22:23.188Z"
        ],
        [
         "A09.0",
         "ICD-10",
         "Other and unspecified gastroenteritis and colitis of infectious origin",
         "2025-04-02T07:22:23.188Z"
        ],
        [
         "A08.3",
         "ICD-10",
         "Other viral enteritis",
         "2025-04-02T07:22:23.188Z"
        ],
        [
         "A07.0",
         "ICD-10",
         "Balantidiasis",
         "2025-04-02T07:22:23.188Z"
        ],
        [
         "A08.4",
         "ICD-10",
         "Viral intestinal infection, unspecified",
         "2025-04-02T07:22:23.188Z"
        ],
        [
         "A08.5",
         "ICD-10",
         "Other specified intestinal infections",
         "2025-04-02T07:22:23.188Z"
        ],
        [
         "A07.2",
         "ICD-10",
         "Cryptosporidiosis",
         "2025-04-02T07:22:23.188Z"
        ],
        [
         "A08.2",
         "ICD-10",
         "Adenoviral enteritis",
         "2025-04-02T07:22:23.188Z"
        ],
        [
         "A07.8",
         "ICD-10",
         "Other specified protozoal intestinal diseases",
         "2025-04-02T07:22:23.188Z"
        ],
        [
         "A06.9",
         "ICD-10",
         "Amoebiasis, unspecified",
         "2025-04-02T07:22:23.188Z"
        ],
        [
         "A08.1",
         "ICD-10",
         "Acute gastroenteropathy due to Norovirus",
         "2025-04-02T07:22:23.188Z"
        ],
        [
         "A07.9",
         "ICD-10",
         "Protozoal intestinal disease, unspecified",
         "2025-04-02T07:22:23.188Z"
        ],
        [
         "A07.3",
         "ICD-10",
         "Isosporiasis",
         "2025-04-02T07:22:23.188Z"
        ],
        [
         "A09.9",
         "ICD-10",
         "Gastroenteritis and colitis of unspecified origin",
         "2025-04-02T07:22:23.188Z"
        ],
        [
         "A03.2",
         "ICD-10",
         "Shigellosis due to Shigella boydii",
         "2025-04-02T07:22:23.188Z"
        ],
        [
         "A05.0",
         "ICD-10",
         "Foodborne staphylococcal intoxication",
         "2025-04-02T07:22:23.188Z"
        ],
        [
         "A03.8",
         "ICD-10",
         "Other shigellosis",
         "2025-04-02T07:22:23.188Z"
        ],
        [
         "A04.5",
         "ICD-10",
         "Campylobacter enteritis",
         "2025-04-02T07:22:23.188Z"
        ],
        [
         "A04.9",
         "ICD-10",
         "Bacterial intestinal infection, unspecified",
         "2025-04-02T07:22:23.188Z"
        ],
        [
         "A04.4",
         "ICD-10",
         "Other intestinal Escherichia coli infections",
         "2025-04-02T07:22:23.188Z"
        ],
        [
         "A04.0",
         "ICD-10",
         "Enteropathogenic Escherichia coli infection",
         "2025-04-02T07:22:23.188Z"
        ],
        [
         "A03.3",
         "ICD-10",
         "Shigellosis due to Shigella sonnei",
         "2025-04-02T07:22:23.188Z"
        ],
        [
         "A04.7",
         "ICD-10",
         "Enterocolitis due to Clostridium difficile",
         "2025-04-02T07:22:23.188Z"
        ],
        [
         "A03.9",
         "ICD-10",
         "Shigellosis, unspecified",
         "2025-04-02T07:22:23.188Z"
        ],
        [
         "A04.1",
         "ICD-10",
         "Enterotoxigenic Escherichia coli infection",
         "2025-04-02T07:22:23.188Z"
        ],
        [
         "A04.6",
         "ICD-10",
         "Enteritis due to Yersinia enterocolitica",
         "2025-04-02T07:22:23.188Z"
        ],
        [
         "A04.8",
         "ICD-10",
         "Other specified bacterial intestinal infections",
         "2025-04-02T07:22:23.188Z"
        ],
        [
         "A04.3",
         "ICD-10",
         "Enterohaemorrhagic Escherichia coli infection",
         "2025-04-02T07:22:23.188Z"
        ],
        [
         "A04.2",
         "ICD-10",
         "Enteroinvasive Escherichia coli infection",
         "2025-04-02T07:22:23.188Z"
        ],
        [
         "A00.9",
         "ICD-10",
         "Cholera, unspecified",
         "2025-04-02T07:22:23.188Z"
        ],
        [
         "A01.2",
         "ICD-10",
         "Paratyphoid fever B",
         "2025-04-02T07:22:23.188Z"
        ],
        [
         "A00.1",
         "ICD-10",
         "Cholera due to Vibrio cholerae 01, biovar eltor",
         "2025-04-02T07:22:23.188Z"
        ],
        [
         "A02.9",
         "ICD-10",
         "Salmonella infection, unspecified",
         "2025-04-02T07:22:23.188Z"
        ],
        [
         "A01.0",
         "ICD-10",
         "Typhoid fever",
         "2025-04-02T07:22:23.188Z"
        ],
        [
         "A02.1",
         "ICD-10",
         "Salmonella sepsis",
         "2025-04-02T07:22:23.188Z"
        ],
        [
         "A01.3",
         "ICD-10",
         "Paratyphoid fever C",
         "2025-04-02T07:22:23.188Z"
        ],
        [
         "A03.0",
         "ICD-10",
         "Shigellosis due to Shigella dysenteriae",
         "2025-04-02T07:22:23.188Z"
        ],
        [
         "A03.1",
         "ICD-10",
         "Shigellosis due to Shigella flexneri",
         "2025-04-02T07:22:23.188Z"
        ],
        [
         "A02.0",
         "ICD-10",
         "Salmonella enteritis",
         "2025-04-02T07:22:23.188Z"
        ],
        [
         "A02.2",
         "ICD-10",
         "Localized salmonella infections",
         "2025-04-02T07:22:23.188Z"
        ],
        [
         "A02.8",
         "ICD-10",
         "Other specified salmonella infections",
         "2025-04-02T07:22:23.188Z"
        ],
        [
         "A00.0",
         "ICD-10",
         "Cholera due to Vibrio cholerae 01, biovar cholerae",
         "2025-04-02T07:22:23.188Z"
        ],
        [
         "A01.4",
         "ICD-10",
         "Paratyphoid fever, unspecified",
         "2025-04-02T07:22:23.188Z"
        ],
        [
         "A01.1",
         "ICD-10",
         "Paratyphoid fever A",
         "2025-04-02T07:22:23.188Z"
        ]
       ],
       "datasetInfos": [],
       "dbfsResultPath": null,
       "isJsonSchema": true,
       "metadata": {
        "createTempViewForImplicitDf": true,
        "dataframeName": "_sqldf",
        "executionCount": 1
       },
       "overflow": false,
       "plotOptions": {
        "customPlotOptions": {},
        "displayType": "table",
        "pivotAggregation": null,
        "pivotColumns": null,
        "xColumns": null,
        "yColumns": null
       },
       "removedWidgets": [],
       "schema": [
        {
         "metadata": "{}",
         "name": "icd_code",
         "type": "\"string\""
        },
        {
         "metadata": "{}",
         "name": "icd_code_type",
         "type": "\"string\""
        },
        {
         "metadata": "{}",
         "name": "code_description",
         "type": "\"string\""
        },
        {
         "metadata": "{}",
         "name": "refreshed_at",
         "type": "\"timestamp\""
        }
       ],
       "type": "table"
      }
     },
     "output_type": "display_data"
    }
   ],
   "source": [
    "%sql\n",
    "select distinct\n",
    "  icd_code,\n",
    "  icd_code_type,\n",
    "  code_description,\n",
    "  current_timestamp() refreshed_at\n",
    "from\n",
    "  silver.icd_codes\n",
    "where\n",
    "  is_current_flag = true"
   ]
  }
 ],
 "metadata": {
  "application/vnd.databricks.v1+notebook": {
   "computePreferences": null,
   "dashboards": [],
   "environmentMetadata": {
    "base_environment": "",
    "environment_version": "1"
   },
   "inputWidgetPreferences": null,
   "language": "python",
   "notebookMetadata": {
    "mostRecentlyExecutedCommandWithImplicitDF": {
     "commandId": 4371474748801168,
     "dataframes": [
      "_sqldf"
     ]
    },
    "pythonIndentUnit": 2
   },
   "notebookName": "dim_icd_code",
   "widgets": {}
  },
  "language_info": {
   "name": "python"
  }
 },
 "nbformat": 4,
 "nbformat_minor": 0
}