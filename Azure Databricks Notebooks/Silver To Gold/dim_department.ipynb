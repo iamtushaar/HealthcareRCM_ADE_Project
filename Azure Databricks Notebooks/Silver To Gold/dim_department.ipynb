{
 "cells": [
  {
   "cell_type": "code",
   "execution_count": 0,
   "metadata": {
    "application/vnd.databricks.v1+cell": {
     "cellMetadata": {
      "byteLimit": 2048000,
      "implicitDf": true,
      "rowLimit": 10000
     },
     "inputWidgets": {},
     "nuid": "36d4533d-b72e-4b36-8346-90c4d94cf5de",
     "showTitle": false,
     "tableResultSettingsMap": {},
     "title": ""
    }
   },
   "outputs": [
    {
     "output_type": "display_data",
     "data": {
      "text/html": [
       "<style scoped>\n",
       "  .table-result-container {\n",
       "    max-height: 300px;\n",
       "    overflow: auto;\n",
       "  }\n",
       "  table, th, td {\n",
       "    border: 1px solid black;\n",
       "    border-collapse: collapse;\n",
       "  }\n",
       "  th, td {\n",
       "    padding: 5px;\n",
       "  }\n",
       "  th {\n",
       "    text-align: left;\n",
       "  }\n",
       "</style><div class='table-result-container'><table class='table-result'><thead style='background-color: white'><tr></tr></thead><tbody></tbody></table></div>"
      ]
     },
     "metadata": {
      "application/vnd.databricks.v1+output": {
       "addedWidgets": {},
       "aggData": [],
       "aggError": "",
       "aggOverflow": false,
       "aggSchema": [],
       "aggSeriesLimitReached": false,
       "aggType": "",
       "arguments": {},
       "columnCustomDisplayInfos": {},
       "data": [],
       "datasetInfos": [],
       "dbfsResultPath": null,
       "isJsonSchema": true,
       "metadata": {
        "dataframeName": null
       },
       "overflow": false,
       "plotOptions": {
        "customPlotOptions": {},
        "displayType": "table",
        "pivotAggregation": null,
        "pivotColumns": null,
        "xColumns": null,
        "yColumns": null
       },
       "removedWidgets": [],
       "schema": [],
       "type": "table"
      }
     },
     "output_type": "display_data"
    }
   ],
   "source": [
    "%sql\n",
    "CREATE TABLE IF NOT EXISTS gold.dim_department\n",
    "(\n",
    "Dept_Id string,\n",
    "SRC_Dept_Id string,\n",
    "Name string,\n",
    "datasource string\n",
    ")"
   ]
  },
  {
   "cell_type": "code",
   "execution_count": 0,
   "metadata": {
    "application/vnd.databricks.v1+cell": {
     "cellMetadata": {
      "byteLimit": 2048000,
      "implicitDf": true,
      "rowLimit": 10000
     },
     "inputWidgets": {},
     "nuid": "f456ba5c-49a5-493e-8f70-acee7a5ce3bd",
     "showTitle": false,
     "tableResultSettingsMap": {},
     "title": ""
    }
   },
   "outputs": [
    {
     "output_type": "display_data",
     "data": {
      "text/html": [
       "<style scoped>\n",
       "  .table-result-container {\n",
       "    max-height: 300px;\n",
       "    overflow: auto;\n",
       "  }\n",
       "  table, th, td {\n",
       "    border: 1px solid black;\n",
       "    border-collapse: collapse;\n",
       "  }\n",
       "  th, td {\n",
       "    padding: 5px;\n",
       "  }\n",
       "  th {\n",
       "    text-align: left;\n",
       "  }\n",
       "</style><div class='table-result-container'><table class='table-result'><thead style='background-color: white'><tr></tr></thead><tbody></tbody></table></div>"
      ]
     },
     "metadata": {
      "application/vnd.databricks.v1+output": {
       "addedWidgets": {},
       "aggData": [],
       "aggError": "",
       "aggOverflow": false,
       "aggSchema": [],
       "aggSeriesLimitReached": false,
       "aggType": "",
       "arguments": {},
       "columnCustomDisplayInfos": {},
       "data": [],
       "datasetInfos": [],
       "dbfsResultPath": null,
       "isJsonSchema": true,
       "metadata": {
        "dataframeName": null
       },
       "overflow": false,
       "plotOptions": {
        "customPlotOptions": {},
        "displayType": "table",
        "pivotAggregation": null,
        "pivotColumns": null,
        "xColumns": null,
        "yColumns": null
       },
       "removedWidgets": [],
       "schema": [],
       "type": "table"
      }
     },
     "output_type": "display_data"
    }
   ],
   "source": [
    "%sql \n",
    "truncate TABLE gold.dim_department "
   ]
  },
  {
   "cell_type": "code",
   "execution_count": 0,
   "metadata": {
    "application/vnd.databricks.v1+cell": {
     "cellMetadata": {
      "byteLimit": 2048000,
      "implicitDf": true,
      "rowLimit": 10000
     },
     "inputWidgets": {},
     "nuid": "955359e5-b916-4b45-a5ae-a59f182edebb",
     "showTitle": false,
     "tableResultSettingsMap": {},
     "title": ""
    }
   },
   "outputs": [
    {
     "output_type": "display_data",
     "data": {
      "text/html": [
       "<style scoped>\n",
       "  .table-result-container {\n",
       "    max-height: 300px;\n",
       "    overflow: auto;\n",
       "  }\n",
       "  table, th, td {\n",
       "    border: 1px solid black;\n",
       "    border-collapse: collapse;\n",
       "  }\n",
       "  th, td {\n",
       "    padding: 5px;\n",
       "  }\n",
       "  th {\n",
       "    text-align: left;\n",
       "  }\n",
       "</style><div class='table-result-container'><table class='table-result'><thead style='background-color: white'><tr><th>num_affected_rows</th><th>num_inserted_rows</th></tr></thead><tbody><tr><td>40</td><td>40</td></tr></tbody></table></div>"
      ]
     },
     "metadata": {
      "application/vnd.databricks.v1+output": {
       "addedWidgets": {},
       "aggData": [],
       "aggError": "",
       "aggOverflow": false,
       "aggSchema": [],
       "aggSeriesLimitReached": false,
       "aggType": "",
       "arguments": {},
       "columnCustomDisplayInfos": {},
       "data": [
        [
         40,
         40
        ]
       ],
       "datasetInfos": [],
       "dbfsResultPath": null,
       "isJsonSchema": true,
       "metadata": {
        "createTempViewForImplicitDf": true,
        "dataframeName": "_sqldf",
        "executionCount": 1
       },
       "overflow": false,
       "plotOptions": {
        "customPlotOptions": {},
        "displayType": "table",
        "pivotAggregation": null,
        "pivotColumns": null,
        "xColumns": null,
        "yColumns": null
       },
       "removedWidgets": [],
       "schema": [
        {
         "metadata": "{}",
         "name": "num_affected_rows",
         "type": "\"long\""
        },
        {
         "metadata": "{}",
         "name": "num_inserted_rows",
         "type": "\"long\""
        }
       ],
       "type": "table"
      }
     },
     "output_type": "display_data"
    }
   ],
   "source": [
    "%sql\n",
    "insert into gold.dim_department\n",
    "select \n",
    "distinct\n",
    "Dept_Id ,\n",
    "SRC_Dept_Id ,\n",
    "Name ,\n",
    "datasource \n",
    "from silver.departments\n",
    "where is_quarantined=false"
   ]
  },
  {
   "cell_type": "code",
   "execution_count": 0,
   "metadata": {
    "application/vnd.databricks.v1+cell": {
     "cellMetadata": {
      "byteLimit": 2048000,
      "implicitDf": true,
      "rowLimit": 10000
     },
     "inputWidgets": {},
     "nuid": "1f1067a1-f2bd-4b14-bffe-9e8d1cf6f106",
     "showTitle": false,
     "tableResultSettingsMap": {},
     "title": ""
    }
   },
   "outputs": [
    {
     "output_type": "display_data",
     "data": {
      "text/html": [
       "<style scoped>\n",
       "  .table-result-container {\n",
       "    max-height: 300px;\n",
       "    overflow: auto;\n",
       "  }\n",
       "  table, th, td {\n",
       "    border: 1px solid black;\n",
       "    border-collapse: collapse;\n",
       "  }\n",
       "  th, td {\n",
       "    padding: 5px;\n",
       "  }\n",
       "  th {\n",
       "    text-align: left;\n",
       "  }\n",
       "</style><div class='table-result-container'><table class='table-result'><thead style='background-color: white'><tr><th>Dept_Id</th><th>SRC_Dept_Id</th><th>Name</th><th>datasource</th></tr></thead><tbody><tr><td>DEPT013-hos-b</td><td>DEPT013</td><td>Surgery</td><td>hos-b</td></tr><tr><td>DEPT007-hos-b</td><td>DEPT007</td><td>Dermatology</td><td>hos-b</td></tr><tr><td>DEPT018-hos-b</td><td>DEPT018</td><td>Psychiatry</td><td>hos-b</td></tr><tr><td>DEPT020-hos-b</td><td>DEPT020</td><td>Rheumatology</td><td>hos-b</td></tr><tr><td>DEPT011-hos-b</td><td>DEPT011</td><td>Anesthesiology</td><td>hos-b</td></tr><tr><td>DEPT010-hos-b</td><td>DEPT010</td><td>Radiology</td><td>hos-b</td></tr><tr><td>DEPT009-hos-b</td><td>DEPT009</td><td>Urology</td><td>hos-b</td></tr><tr><td>DEPT006-hos-b</td><td>DEPT006</td><td>Orthopedics</td><td>hos-b</td></tr><tr><td>DEPT004-hos-b</td><td>DEPT004</td><td>Oncology</td><td>hos-b</td></tr><tr><td>DEPT017-hos-b</td><td>DEPT017</td><td>Gynecology</td><td>hos-b</td></tr><tr><td>DEPT019-hos-b</td><td>DEPT019</td><td>Endocrinology</td><td>hos-b</td></tr><tr><td>DEPT016-hos-b</td><td>DEPT016</td><td>Ophthalmology</td><td>hos-b</td></tr><tr><td>DEPT015-hos-b</td><td>DEPT015</td><td>Nephrology</td><td>hos-b</td></tr><tr><td>DEPT012-hos-b</td><td>DEPT012</td><td>Pathology</td><td>hos-b</td></tr><tr><td>DEPT002-hos-b</td><td>DEPT002</td><td>Cardiology</td><td>hos-b</td></tr><tr><td>DEPT005-hos-b</td><td>DEPT005</td><td>Pediatrics</td><td>hos-b</td></tr><tr><td>DEPT001-hos-b</td><td>DEPT001</td><td>Emergency</td><td>hos-b</td></tr><tr><td>DEPT008-hos-b</td><td>DEPT008</td><td>Gastroenterology</td><td>hos-b</td></tr><tr><td>DEPT014-hos-b</td><td>DEPT014</td><td>Pulmonology</td><td>hos-b</td></tr><tr><td>DEPT003-hos-b</td><td>DEPT003</td><td>Neurology</td><td>hos-b</td></tr><tr><td>DEPT008-hos-a</td><td>DEPT008</td><td>Gastroenterology</td><td>hos-a</td></tr><tr><td>DEPT017-hos-a</td><td>DEPT017</td><td>Gynecology</td><td>hos-a</td></tr><tr><td>DEPT010-hos-a</td><td>DEPT010</td><td>Radiology</td><td>hos-a</td></tr><tr><td>DEPT002-hos-a</td><td>DEPT002</td><td>Cardiology</td><td>hos-a</td></tr><tr><td>DEPT015-hos-a</td><td>DEPT015</td><td>Nephrology</td><td>hos-a</td></tr><tr><td>DEPT007-hos-a</td><td>DEPT007</td><td>Dermatology</td><td>hos-a</td></tr><tr><td>DEPT012-hos-a</td><td>DEPT012</td><td>Pathology</td><td>hos-a</td></tr><tr><td>DEPT016-hos-a</td><td>DEPT016</td><td>Ophthalmology</td><td>hos-a</td></tr><tr><td>DEPT019-hos-a</td><td>DEPT019</td><td>Endocrinology</td><td>hos-a</td></tr><tr><td>DEPT020-hos-a</td><td>DEPT020</td><td>Rheumatology</td><td>hos-a</td></tr><tr><td>DEPT006-hos-a</td><td>DEPT006</td><td>Orthopedics</td><td>hos-a</td></tr><tr><td>DEPT018-hos-a</td><td>DEPT018</td><td>Psychiatry</td><td>hos-a</td></tr><tr><td>DEPT009-hos-a</td><td>DEPT009</td><td>Urology</td><td>hos-a</td></tr><tr><td>DEPT005-hos-a</td><td>DEPT005</td><td>Pediatrics</td><td>hos-a</td></tr><tr><td>DEPT014-hos-a</td><td>DEPT014</td><td>Pulmonology</td><td>hos-a</td></tr><tr><td>DEPT011-hos-a</td><td>DEPT011</td><td>Anesthesiology</td><td>hos-a</td></tr><tr><td>DEPT004-hos-a</td><td>DEPT004</td><td>Oncology</td><td>hos-a</td></tr><tr><td>DEPT001-hos-a</td><td>DEPT001</td><td>Emergency</td><td>hos-a</td></tr><tr><td>DEPT003-hos-a</td><td>DEPT003</td><td>Neurology</td><td>hos-a</td></tr><tr><td>DEPT013-hos-a</td><td>DEPT013</td><td>Surgery</td><td>hos-a</td></tr></tbody></table></div>"
      ]
     },
     "metadata": {
      "application/vnd.databricks.v1+output": {
       "addedWidgets": {},
       "aggData": [],
       "aggError": "",
       "aggOverflow": false,
       "aggSchema": [],
       "aggSeriesLimitReached": false,
       "aggType": "",
       "arguments": {},
       "columnCustomDisplayInfos": {},
       "data": [
        [
         "DEPT013-hos-b",
         "DEPT013",
         "Surgery",
         "hos-b"
        ],
        [
         "DEPT007-hos-b",
         "DEPT007",
         "Dermatology",
         "hos-b"
        ],
        [
         "DEPT018-hos-b",
         "DEPT018",
         "Psychiatry",
         "hos-b"
        ],
        [
         "DEPT020-hos-b",
         "DEPT020",
         "Rheumatology",
         "hos-b"
        ],
        [
         "DEPT011-hos-b",
         "DEPT011",
         "Anesthesiology",
         "hos-b"
        ],
        [
         "DEPT010-hos-b",
         "DEPT010",
         "Radiology",
         "hos-b"
        ],
        [
         "DEPT009-hos-b",
         "DEPT009",
         "Urology",
         "hos-b"
        ],
        [
         "DEPT006-hos-b",
         "DEPT006",
         "Orthopedics",
         "hos-b"
        ],
        [
         "DEPT004-hos-b",
         "DEPT004",
         "Oncology",
         "hos-b"
        ],
        [
         "DEPT017-hos-b",
         "DEPT017",
         "Gynecology",
         "hos-b"
        ],
        [
         "DEPT019-hos-b",
         "DEPT019",
         "Endocrinology",
         "hos-b"
        ],
        [
         "DEPT016-hos-b",
         "DEPT016",
         "Ophthalmology",
         "hos-b"
        ],
        [
         "DEPT015-hos-b",
         "DEPT015",
         "Nephrology",
         "hos-b"
        ],
        [
         "DEPT012-hos-b",
         "DEPT012",
         "Pathology",
         "hos-b"
        ],
        [
         "DEPT002-hos-b",
         "DEPT002",
         "Cardiology",
         "hos-b"
        ],
        [
         "DEPT005-hos-b",
         "DEPT005",
         "Pediatrics",
         "hos-b"
        ],
        [
         "DEPT001-hos-b",
         "DEPT001",
         "Emergency",
         "hos-b"
        ],
        [
         "DEPT008-hos-b",
         "DEPT008",
         "Gastroenterology",
         "hos-b"
        ],
        [
         "DEPT014-hos-b",
         "DEPT014",
         "Pulmonology",
         "hos-b"
        ],
        [
         "DEPT003-hos-b",
         "DEPT003",
         "Neurology",
         "hos-b"
        ],
        [
         "DEPT008-hos-a",
         "DEPT008",
         "Gastroenterology",
         "hos-a"
        ],
        [
         "DEPT017-hos-a",
         "DEPT017",
         "Gynecology",
         "hos-a"
        ],
        [
         "DEPT010-hos-a",
         "DEPT010",
         "Radiology",
         "hos-a"
        ],
        [
         "DEPT002-hos-a",
         "DEPT002",
         "Cardiology",
         "hos-a"
        ],
        [
         "DEPT015-hos-a",
         "DEPT015",
         "Nephrology",
         "hos-a"
        ],
        [
         "DEPT007-hos-a",
         "DEPT007",
         "Dermatology",
         "hos-a"
        ],
        [
         "DEPT012-hos-a",
         "DEPT012",
         "Pathology",
         "hos-a"
        ],
        [
         "DEPT016-hos-a",
         "DEPT016",
         "Ophthalmology",
         "hos-a"
        ],
        [
         "DEPT019-hos-a",
         "DEPT019",
         "Endocrinology",
         "hos-a"
        ],
        [
         "DEPT020-hos-a",
         "DEPT020",
         "Rheumatology",
         "hos-a"
        ],
        [
         "DEPT006-hos-a",
         "DEPT006",
         "Orthopedics",
         "hos-a"
        ],
        [
         "DEPT018-hos-a",
         "DEPT018",
         "Psychiatry",
         "hos-a"
        ],
        [
         "DEPT009-hos-a",
         "DEPT009",
         "Urology",
         "hos-a"
        ],
        [
         "DEPT005-hos-a",
         "DEPT005",
         "Pediatrics",
         "hos-a"
        ],
        [
         "DEPT014-hos-a",
         "DEPT014",
         "Pulmonology",
         "hos-a"
        ],
        [
         "DEPT011-hos-a",
         "DEPT011",
         "Anesthesiology",
         "hos-a"
        ],
        [
         "DEPT004-hos-a",
         "DEPT004",
         "Oncology",
         "hos-a"
        ],
        [
         "DEPT001-hos-a",
         "DEPT001",
         "Emergency",
         "hos-a"
        ],
        [
         "DEPT003-hos-a",
         "DEPT003",
         "Neurology",
         "hos-a"
        ],
        [
         "DEPT013-hos-a",
         "DEPT013",
         "Surgery",
         "hos-a"
        ]
       ],
       "datasetInfos": [],
       "dbfsResultPath": null,
       "isJsonSchema": true,
       "metadata": {
        "createTempViewForImplicitDf": true,
        "dataframeName": "_sqldf",
        "executionCount": 2
       },
       "overflow": false,
       "plotOptions": {
        "customPlotOptions": {},
        "displayType": "table",
        "pivotAggregation": null,
        "pivotColumns": null,
        "xColumns": null,
        "yColumns": null
       },
       "removedWidgets": [],
       "schema": [
        {
         "metadata": "{}",
         "name": "Dept_Id",
         "type": "\"string\""
        },
        {
         "metadata": "{}",
         "name": "SRC_Dept_Id",
         "type": "\"string\""
        },
        {
         "metadata": "{}",
         "name": "Name",
         "type": "\"string\""
        },
        {
         "metadata": "{}",
         "name": "datasource",
         "type": "\"string\""
        }
       ],
       "type": "table"
      }
     },
     "output_type": "display_data"
    }
   ],
   "source": [
    "%sql \n",
    "select * from gold.dim_department"
   ]
  }
 ],
 "metadata": {
  "application/vnd.databricks.v1+notebook": {
   "computePreferences": null,
   "dashboards": [],
   "environmentMetadata": null,
   "inputWidgetPreferences": null,
   "language": "python",
   "notebookMetadata": {
    "mostRecentlyExecutedCommandWithImplicitDF": {
     "commandId": 4371474748801157,
     "dataframes": [
      "_sqldf"
     ]
    },
    "pythonIndentUnit": 4
   },
   "notebookName": "dim_department",
   "widgets": {}
  },
  "language_info": {
   "name": "python"
  }
 },
 "nbformat": 4,
 "nbformat_minor": 0
}