{
 "cells": [
  {
   "cell_type": "code",
   "execution_count": 0,
   "metadata": {
    "application/vnd.databricks.v1+cell": {
     "cellMetadata": {
      "byteLimit": 2048000,
      "implicitDf": true,
      "rowLimit": 10000
     },
     "inputWidgets": {},
     "nuid": "d66cd5e9-7043-4375-8b55-58f1f7242e0e",
     "showTitle": false,
     "tableResultSettingsMap": {},
     "title": ""
    }
   },
   "outputs": [
    {
     "output_type": "display_data",
     "data": {
      "text/html": [
       "<style scoped>\n",
       "  .table-result-container {\n",
       "    max-height: 300px;\n",
       "    overflow: auto;\n",
       "  }\n",
       "  table, th, td {\n",
       "    border: 1px solid black;\n",
       "    border-collapse: collapse;\n",
       "  }\n",
       "  th, td {\n",
       "    padding: 5px;\n",
       "  }\n",
       "  th {\n",
       "    text-align: left;\n",
       "  }\n",
       "</style><div class='table-result-container'><table class='table-result'><thead style='background-color: white'><tr></tr></thead><tbody></tbody></table></div>"
      ]
     },
     "metadata": {
      "application/vnd.databricks.v1+output": {
       "addedWidgets": {},
       "aggData": [],
       "aggError": "",
       "aggOverflow": false,
       "aggSchema": [],
       "aggSeriesLimitReached": false,
       "aggType": "",
       "arguments": {},
       "columnCustomDisplayInfos": {},
       "data": [],
       "datasetInfos": [],
       "dbfsResultPath": null,
       "isJsonSchema": true,
       "metadata": {
        "dataframeName": null
       },
       "overflow": false,
       "plotOptions": {
        "customPlotOptions": {},
        "displayType": "table",
        "pivotAggregation": null,
        "pivotColumns": null,
        "xColumns": null,
        "yColumns": null
       },
       "removedWidgets": [],
       "schema": [],
       "type": "table"
      }
     },
     "output_type": "display_data"
    }
   ],
   "source": [
    "%sql\n",
    "CREATE TABLE IF NOT EXISTS gold.dim_npi (\n",
    "  npi_id STRING,\n",
    "  first_name STRING,\n",
    "  last_name STRING,\n",
    "  position STRING,\n",
    "  organisation_name STRING,\n",
    "  last_updated STRING,\n",
    "  refreshed_at TIMESTAMP)"
   ]
  },
  {
   "cell_type": "code",
   "execution_count": 0,
   "metadata": {
    "application/vnd.databricks.v1+cell": {
     "cellMetadata": {
      "byteLimit": 2048000,
      "implicitDf": true,
      "rowLimit": 10000
     },
     "inputWidgets": {},
     "nuid": "505fa3e2-7d60-4c9f-a771-e0423f30ae48",
     "showTitle": false,
     "tableResultSettingsMap": {},
     "title": ""
    }
   },
   "outputs": [
    {
     "output_type": "display_data",
     "data": {
      "text/html": [
       "<style scoped>\n",
       "  .table-result-container {\n",
       "    max-height: 300px;\n",
       "    overflow: auto;\n",
       "  }\n",
       "  table, th, td {\n",
       "    border: 1px solid black;\n",
       "    border-collapse: collapse;\n",
       "  }\n",
       "  th, td {\n",
       "    padding: 5px;\n",
       "  }\n",
       "  th {\n",
       "    text-align: left;\n",
       "  }\n",
       "</style><div class='table-result-container'><table class='table-result'><thead style='background-color: white'><tr></tr></thead><tbody></tbody></table></div>"
      ]
     },
     "metadata": {
      "application/vnd.databricks.v1+output": {
       "addedWidgets": {},
       "aggData": [],
       "aggError": "",
       "aggOverflow": false,
       "aggSchema": [],
       "aggSeriesLimitReached": false,
       "aggType": "",
       "arguments": {},
       "columnCustomDisplayInfos": {},
       "data": [],
       "datasetInfos": [],
       "dbfsResultPath": null,
       "isJsonSchema": true,
       "metadata": {
        "dataframeName": null
       },
       "overflow": false,
       "plotOptions": {
        "customPlotOptions": {},
        "displayType": "table",
        "pivotAggregation": null,
        "pivotColumns": null,
        "xColumns": null,
        "yColumns": null
       },
       "removedWidgets": [],
       "schema": [],
       "type": "table"
      }
     },
     "output_type": "display_data"
    }
   ],
   "source": [
    "%sql\n",
    "truncate table gold.dim_npi"
   ]
  },
  {
   "cell_type": "code",
   "execution_count": 0,
   "metadata": {
    "application/vnd.databricks.v1+cell": {
     "cellMetadata": {
      "byteLimit": 2048000,
      "implicitDf": true,
      "rowLimit": 10000
     },
     "inputWidgets": {},
     "nuid": "49ebf793-c3f9-4cf5-8a85-c41b544c2132",
     "showTitle": false,
     "tableResultSettingsMap": {},
     "title": ""
    }
   },
   "outputs": [
    {
     "output_type": "display_data",
     "data": {
      "text/html": [
       "<style scoped>\n",
       "  .table-result-container {\n",
       "    max-height: 300px;\n",
       "    overflow: auto;\n",
       "  }\n",
       "  table, th, td {\n",
       "    border: 1px solid black;\n",
       "    border-collapse: collapse;\n",
       "  }\n",
       "  th, td {\n",
       "    padding: 5px;\n",
       "  }\n",
       "  th {\n",
       "    text-align: left;\n",
       "  }\n",
       "</style><div class='table-result-container'><table class='table-result'><thead style='background-color: white'><tr><th>num_affected_rows</th><th>num_inserted_rows</th></tr></thead><tbody><tr><td>20</td><td>20</td></tr></tbody></table></div>"
      ]
     },
     "metadata": {
      "application/vnd.databricks.v1+output": {
       "addedWidgets": {},
       "aggData": [],
       "aggError": "",
       "aggOverflow": false,
       "aggSchema": [],
       "aggSeriesLimitReached": false,
       "aggType": "",
       "arguments": {},
       "columnCustomDisplayInfos": {},
       "data": [
        [
         20,
         20
        ]
       ],
       "datasetInfos": [],
       "dbfsResultPath": null,
       "isJsonSchema": true,
       "metadata": {
        "createTempViewForImplicitDf": true,
        "dataframeName": "_sqldf",
        "executionCount": 1
       },
       "overflow": false,
       "plotOptions": {
        "customPlotOptions": {},
        "displayType": "table",
        "pivotAggregation": null,
        "pivotColumns": null,
        "xColumns": null,
        "yColumns": null
       },
       "removedWidgets": [],
       "schema": [
        {
         "metadata": "{}",
         "name": "num_affected_rows",
         "type": "\"long\""
        },
        {
         "metadata": "{}",
         "name": "num_inserted_rows",
         "type": "\"long\""
        }
       ],
       "type": "table"
      }
     },
     "output_type": "display_data"
    }
   ],
   "source": [
    "%sql\n",
    "insert into\n",
    "  gold.dim_npi\n",
    "select\n",
    "  npi_id,\n",
    "  first_name,\n",
    "  last_name,\n",
    "  position,\n",
    "  organisation_name,\n",
    "  last_updated,\n",
    "  current_timestamp()\n",
    "from\n",
    "  silver.npi_extract\n",
    "  where is_current_flag = true"
   ]
  },
  {
   "cell_type": "code",
   "execution_count": 0,
   "metadata": {
    "application/vnd.databricks.v1+cell": {
     "cellMetadata": {
      "byteLimit": 2048000,
      "implicitDf": true,
      "rowLimit": 10000
     },
     "inputWidgets": {},
     "nuid": "7d42d616-a512-4f56-bd2c-cb3a9fb1d26b",
     "showTitle": false,
     "tableResultSettingsMap": {},
     "title": ""
    }
   },
   "outputs": [
    {
     "output_type": "display_data",
     "data": {
      "text/html": [
       "<style scoped>\n",
       "  .table-result-container {\n",
       "    max-height: 300px;\n",
       "    overflow: auto;\n",
       "  }\n",
       "  table, th, td {\n",
       "    border: 1px solid black;\n",
       "    border-collapse: collapse;\n",
       "  }\n",
       "  th, td {\n",
       "    padding: 5px;\n",
       "  }\n",
       "  th {\n",
       "    text-align: left;\n",
       "  }\n",
       "</style><div class='table-result-container'><table class='table-result'><thead style='background-color: white'><tr><th>npi_id</th><th>first_name</th><th>last_name</th><th>position</th><th>organisation_name</th><th>last_updated</th><th>refreshed_at</th></tr></thead><tbody><tr><td>1487344586</td><td>MANEESH</td><td>SINGHAL</td><td>CEO/ Medical Director</td><td>1 FAMILY CLINIC INC</td><td>2023-05-11</td><td>2025-04-02T07:22:46.762Z</td></tr><tr><td>1417720848</td><td>DARCY</td><td>JOHNSTON</td><td>Director of Revenue Cycle Managment</td><td>1 METHOD CORP</td><td>2024-11-13</td><td>2025-04-02T07:22:46.762Z</td></tr><tr><td>1619741071</td><td>DARCY</td><td>JOHNSTON</td><td>Director of Revenue Cycle Mgmnt</td><td>1 METHOD CORP</td><td>2024-11-13</td><td>2025-04-02T07:22:46.762Z</td></tr><tr><td>1295509628</td><td>DARCY</td><td>JOHNSTON</td><td>Director of Revenue Cycle Mgmnt</td><td>1 METHOD CORP</td><td>2024-11-13</td><td>2025-04-02T07:22:46.762Z</td></tr><tr><td>1881083566</td><td>CASSIDY</td><td>COUSENS</td><td>Program Administrator</td><td>1 METHOD, LLC</td><td>2015-01-18</td><td>2025-04-02T07:22:46.762Z</td></tr><tr><td>1396505947</td><td>MICHAEL</td><td>YERIKYAN</td><td>OWNER</td><td>1 STOP HOME HEALTH, INC.</td><td>2024-03-20</td><td>2025-04-02T07:22:46.762Z</td></tr><tr><td>1689337768</td><td>MICHAEL</td><td>YERIKYAN</td><td>OWNER</td><td>1 STOP HOSPICE AND PALLIATIVE CARE, INC.</td><td>2021-10-15</td><td>2025-04-02T07:22:46.762Z</td></tr><tr><td>1265620926</td><td>KEVIN</td><td>CHOE</td><td>President</td><td>10 BODY TYPE ACUPUNCTURE CLINIC</td><td>2011-07-12</td><td>2025-04-02T07:22:46.762Z</td></tr><tr><td>1194834028</td><td>BAHRAM</td><td>PARSA</td><td>DIRECTOR</td><td>100 PLAZA CLINICAL LAB INC</td><td>2009-03-27</td><td>2025-04-02T07:22:46.762Z</td></tr><tr><td>1114580677</td><td>JOSHUA</td><td>ALOMIA</td><td>COO</td><td>101 DANCE CENTER LLC</td><td>2024-07-16</td><td>2025-04-02T07:22:46.762Z</td></tr><tr><td>1093157786</td><td>NICHOLAS</td><td>THOMAS</td><td>President</td><td>1010 PHARMACY</td><td>2015-09-08</td><td>2025-04-02T07:22:46.762Z</td></tr><tr><td>1235963950</td><td>DANIEL</td><td>TABELLO</td><td>Managing Member</td><td>10120 S SPRING LA LLC</td><td>2024-08-27</td><td>2025-04-02T07:22:46.762Z</td></tr><tr><td>1043921091</td><td>DAVID</td><td>GARETZ</td><td>CFO</td><td>10425 OPCO LLC</td><td>2022-12-12</td><td>2025-04-02T07:22:46.762Z</td></tr><tr><td>1649791633</td><td>EMMANUEL</td><td>ACHOLONU</td><td>Director</td><td>10TH AVENUE PHARMACY</td><td>2017-06-29</td><td>2025-04-02T07:22:46.762Z</td></tr><tr><td>1114291523</td><td>MARTIN</td><td>WEISS</td><td>Manager</td><td>1100 SOUTH ALVARADO STREET, LLC</td><td>2014-07-20</td><td>2025-04-02T07:22:46.762Z</td></tr><tr><td>1588306344</td><td>ALEXANDER</td><td>CHO</td><td>CEO</td><td>11037 ANZIO HOME, INC.</td><td>2023-03-16</td><td>2025-04-02T07:22:46.762Z</td></tr><tr><td>1164767356</td><td>DERRICK</td><td>FORTUNE</td><td>Counselor</td><td>11821 FOOTHILL BLVD</td><td>2012-11-29</td><td>2025-04-02T07:22:46.762Z</td></tr><tr><td>1497512693</td><td>AVROHOM</td><td>TRESS</td><td>Manager of Bold Quail 3 Operations</td><td>13075 BLACKBIRD STREET OPCO, LLC</td><td>2024-03-04</td><td>2025-04-02T07:22:46.762Z</td></tr><tr><td>1740343433</td><td>TEODORO</td><td>SANTOS</td><td>PHARMACIST</td><td>1663 PHARMACY INC</td><td>2020-08-22</td><td>2025-04-02T07:22:46.762Z</td></tr><tr><td>1548789753</td><td>DEZARAY</td><td>ROEBUCK</td><td>Employment specialist</td><td>1736 FAMILY CRISIS CENTER</td><td>2022-07-21</td><td>2025-04-02T07:22:46.762Z</td></tr></tbody></table></div>"
      ]
     },
     "metadata": {
      "application/vnd.databricks.v1+output": {
       "addedWidgets": {},
       "aggData": [],
       "aggError": "",
       "aggOverflow": false,
       "aggSchema": [],
       "aggSeriesLimitReached": false,
       "aggType": "",
       "arguments": {},
       "columnCustomDisplayInfos": {},
       "data": [
        [
         "1487344586",
         "MANEESH",
         "SINGHAL",
         "CEO/ Medical Director",
         "1 FAMILY CLINIC INC",
         "2023-05-11",
         "2025-04-02T07:22:46.762Z"
        ],
        [
         "1417720848",
         "DARCY",
         "JOHNSTON",
         "Director of Revenue Cycle Managment",
         "1 METHOD CORP",
         "2024-11-13",
         "2025-04-02T07:22:46.762Z"
        ],
        [
         "1619741071",
         "DARCY",
         "JOHNSTON",
         "Director of Revenue Cycle Mgmnt",
         "1 METHOD CORP",
         "2024-11-13",
         "2025-04-02T07:22:46.762Z"
        ],
        [
         "1295509628",
         "DARCY",
         "JOHNSTON",
         "Director of Revenue Cycle Mgmnt",
         "1 METHOD CORP",
         "2024-11-13",
         "2025-04-02T07:22:46.762Z"
        ],
        [
         "1881083566",
         "CASSIDY",
         "COUSENS",
         "Program Administrator",
         "1 METHOD, LLC",
         "2015-01-18",
         "2025-04-02T07:22:46.762Z"
        ],
        [
         "1396505947",
         "MICHAEL",
         "YERIKYAN",
         "OWNER",
         "1 STOP HOME HEALTH, INC.",
         "2024-03-20",
         "2025-04-02T07:22:46.762Z"
        ],
        [
         "1689337768",
         "MICHAEL",
         "YERIKYAN",
         "OWNER",
         "1 STOP HOSPICE AND PALLIATIVE CARE, INC.",
         "2021-10-15",
         "2025-04-02T07:22:46.762Z"
        ],
        [
         "1265620926",
         "KEVIN",
         "CHOE",
         "President",
         "10 BODY TYPE ACUPUNCTURE CLINIC",
         "2011-07-12",
         "2025-04-02T07:22:46.762Z"
        ],
        [
         "1194834028",
         "BAHRAM",
         "PARSA",
         "DIRECTOR",
         "100 PLAZA CLINICAL LAB INC",
         "2009-03-27",
         "2025-04-02T07:22:46.762Z"
        ],
        [
         "1114580677",
         "JOSHUA",
         "ALOMIA",
         "COO",
         "101 DANCE CENTER LLC",
         "2024-07-16",
         "2025-04-02T07:22:46.762Z"
        ],
        [
         "1093157786",
         "NICHOLAS",
         "THOMAS",
         "President",
         "1010 PHARMACY",
         "2015-09-08",
         "2025-04-02T07:22:46.762Z"
        ],
        [
         "1235963950",
         "DANIEL",
         "TABELLO",
         "Managing Member",
         "10120 S SPRING LA LLC",
         "2024-08-27",
         "2025-04-02T07:22:46.762Z"
        ],
        [
         "1043921091",
         "DAVID",
         "GARETZ",
         "CFO",
         "10425 OPCO LLC",
         "2022-12-12",
         "2025-04-02T07:22:46.762Z"
        ],
        [
         "1649791633",
         "EMMANUEL",
         "ACHOLONU",
         "Director",
         "10TH AVENUE PHARMACY",
         "2017-06-29",
         "2025-04-02T07:22:46.762Z"
        ],
        [
         "1114291523",
         "MARTIN",
         "WEISS",
         "Manager",
         "1100 SOUTH ALVARADO STREET, LLC",
         "2014-07-20",
         "2025-04-02T07:22:46.762Z"
        ],
        [
         "1588306344",
         "ALEXANDER",
         "CHO",
         "CEO",
         "11037 ANZIO HOME, INC.",
         "2023-03-16",
         "2025-04-02T07:22:46.762Z"
        ],
        [
         "1164767356",
         "DERRICK",
         "FORTUNE",
         "Counselor",
         "11821 FOOTHILL BLVD",
         "2012-11-29",
         "2025-04-02T07:22:46.762Z"
        ],
        [
         "1497512693",
         "AVROHOM",
         "TRESS",
         "Manager of Bold Quail 3 Operations",
         "13075 BLACKBIRD STREET OPCO, LLC",
         "2024-03-04",
         "2025-04-02T07:22:46.762Z"
        ],
        [
         "1740343433",
         "TEODORO",
         "SANTOS",
         "PHARMACIST",
         "1663 PHARMACY INC",
         "2020-08-22",
         "2025-04-02T07:22:46.762Z"
        ],
        [
         "1548789753",
         "DEZARAY",
         "ROEBUCK",
         "Employment specialist",
         "1736 FAMILY CRISIS CENTER",
         "2022-07-21",
         "2025-04-02T07:22:46.762Z"
        ]
       ],
       "datasetInfos": [],
       "dbfsResultPath": null,
       "isJsonSchema": true,
       "metadata": {
        "createTempViewForImplicitDf": true,
        "dataframeName": "_sqldf",
        "executionCount": 2
       },
       "overflow": false,
       "plotOptions": {
        "customPlotOptions": {},
        "displayType": "table",
        "pivotAggregation": null,
        "pivotColumns": null,
        "xColumns": null,
        "yColumns": null
       },
       "removedWidgets": [],
       "schema": [
        {
         "metadata": "{}",
         "name": "npi_id",
         "type": "\"string\""
        },
        {
         "metadata": "{}",
         "name": "first_name",
         "type": "\"string\""
        },
        {
         "metadata": "{}",
         "name": "last_name",
         "type": "\"string\""
        },
        {
         "metadata": "{}",
         "name": "position",
         "type": "\"string\""
        },
        {
         "metadata": "{}",
         "name": "organisation_name",
         "type": "\"string\""
        },
        {
         "metadata": "{}",
         "name": "last_updated",
         "type": "\"string\""
        },
        {
         "metadata": "{}",
         "name": "refreshed_at",
         "type": "\"timestamp\""
        }
       ],
       "type": "table"
      }
     },
     "output_type": "display_data"
    }
   ],
   "source": [
    "%sql\n",
    "select * from gold.dim_npi"
   ]
  }
 ],
 "metadata": {
  "application/vnd.databricks.v1+notebook": {
   "computePreferences": null,
   "dashboards": [],
   "environmentMetadata": {
    "base_environment": "",
    "environment_version": "1"
   },
   "inputWidgetPreferences": null,
   "language": "python",
   "notebookMetadata": {
    "mostRecentlyExecutedCommandWithImplicitDF": {
     "commandId": 4371474748801164,
     "dataframes": [
      "_sqldf"
     ]
    },
    "pythonIndentUnit": 2
   },
   "notebookName": "dim_npi",
   "widgets": {}
  },
  "language_info": {
   "name": "python"
  }
 },
 "nbformat": 4,
 "nbformat_minor": 0
}