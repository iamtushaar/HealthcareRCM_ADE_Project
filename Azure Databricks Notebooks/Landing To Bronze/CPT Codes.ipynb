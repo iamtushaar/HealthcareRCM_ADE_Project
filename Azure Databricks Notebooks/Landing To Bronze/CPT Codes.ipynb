{
 "cells": [
  {
   "cell_type": "code",
   "execution_count": 0,
   "metadata": {
    "application/vnd.databricks.v1+cell": {
     "cellMetadata": {
      "byteLimit": 2048000,
      "rowLimit": 10000
     },
     "inputWidgets": {},
     "nuid": "a019830a-ce89-4412-a0b2-10c03fb7de79",
     "showTitle": false,
     "tableResultSettingsMap": {},
     "title": ""
    }
   },
   "outputs": [],
   "source": [
    "#import libraries\n",
    "\n",
    "from pyspark.sql import SparkSession, functions as f"
   ]
  },
  {
   "cell_type": "code",
   "execution_count": 0,
   "metadata": {
    "application/vnd.databricks.v1+cell": {
     "cellMetadata": {
      "byteLimit": 2048000,
      "rowLimit": 10000
     },
     "inputWidgets": {},
     "nuid": "8379537d-f189-4357-a242-2be400ce437f",
     "showTitle": false,
     "tableResultSettingsMap": {},
     "title": ""
    }
   },
   "outputs": [],
   "source": [
    "# Read the CSV file\n",
    "cptcodes_df = spark.read.csv(\"/mnt/ProjectsMount/landing/HealthcareRCM/cpt codes/*.csv\", header=True, inferSchema=True)\n",
    "\n",
    "# Replace whitespaces in column names with underscores and convert to lowercase\n",
    "for col in cptcodes_df.columns:\n",
    "    new_col = col.replace(\" \", \"_\").lower()\n",
    "    cptcodes_df = cptcodes_df.withColumnRenamed(col, new_col)\n",
    "\n",
    "# Parquet file creation\n",
    "cptcodes_df.write.format(\"parquet\").mode(\"overwrite\").save(\"/mnt/ProjectsMount/bronze/HealthcareRCM/cpt codes\")"
   ]
  }
 ],
 "metadata": {
  "application/vnd.databricks.v1+notebook": {
   "computePreferences": null,
   "dashboards": [],
   "environmentMetadata": {
    "base_environment": "",
    "environment_version": "2"
   },
   "inputWidgetPreferences": null,
   "language": "python",
   "notebookMetadata": {
    "pythonIndentUnit": 4
   },
   "notebookName": "CPT Codes",
   "widgets": {}
  },
  "language_info": {
   "name": "python"
  }
 },
 "nbformat": 4,
 "nbformat_minor": 0
}