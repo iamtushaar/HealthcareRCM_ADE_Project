{
 "cells": [
  {
   "cell_type": "code",
   "execution_count": 0,
   "metadata": {
    "application/vnd.databricks.v1+cell": {
     "cellMetadata": {
      "byteLimit": 2048000,
      "rowLimit": 10000
     },
     "inputWidgets": {},
     "nuid": "771155d7-2431-41bf-b985-15ec1807acf1",
     "showTitle": false,
     "tableResultSettingsMap": {},
     "title": ""
    }
   },
   "outputs": [],
   "source": [
    "# Databricks notebook source\n",
    "from pyspark.sql import SparkSession, functions as f"
   ]
  },
  {
   "cell_type": "code",
   "execution_count": 0,
   "metadata": {
    "application/vnd.databricks.v1+cell": {
     "cellMetadata": {
      "byteLimit": 2048000,
      "rowLimit": 10000
     },
     "inputWidgets": {},
     "nuid": "c28cb13a-900e-412c-b1e0-a58670c5aca5",
     "showTitle": false,
     "tableResultSettingsMap": {},
     "title": ""
    }
   },
   "outputs": [],
   "source": [
    "claims_df = spark.read.csv(\"/mnt/ProjectsMount/landing/HealthcareRCM/claims/*.csv\", header=True , inferSchema = True)\n",
    "\n",
    "claims_df = claims_df.withColumn(\n",
    "    \"datasource\",\n",
    "    f.when(f.input_file_name().contains(\"hospital1\"), \"hosa\").when(f.input_file_name().contains(\"hospital2\"), \"hosb\")\n",
    "     .otherwise(None)\n",
    ")\n",
    "\n",
    "claims_df.write.format(\"parquet\").mode(\"overwrite\").save(\"/mnt/ProjectsMount/bronze/HealthcareRCM/claims/\")\n",
    "\n",
    "#claims_df.createOrReplaceTempView(\"claims\")"
   ]
  }
 ],
 "metadata": {
  "application/vnd.databricks.v1+notebook": {
   "computePreferences": null,
   "dashboards": [],
   "environmentMetadata": {
    "base_environment": "",
    "environment_version": "2"
   },
   "inputWidgetPreferences": null,
   "language": "python",
   "notebookMetadata": {
    "pythonIndentUnit": 4
   },
   "notebookName": "Claims Data",
   "widgets": {}
  },
  "language_info": {
   "name": "python"
  }
 },
 "nbformat": 4,
 "nbformat_minor": 0
}